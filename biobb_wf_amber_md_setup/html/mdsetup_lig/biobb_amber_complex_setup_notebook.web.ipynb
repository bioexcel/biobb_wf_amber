{
 "cells": [
  {
   "cell_type": "markdown",
   "metadata": {},
   "source": [
    "# Protein-ligand complex MD Setup tutorial using BioExcel Building Blocks (biobb) \n",
    "### --***AmberTools package version***--\n",
    "**Based on the [MDWeb](http://mmb.irbbarcelona.org/MDWeb2/) [Amber FULL MD Setup tutorial](https://mmb.irbbarcelona.org/MDWeb2/help.php?id=workflows#AmberWorkflowFULL)**\n",
    "\n",
    "***\n",
    "This tutorial aims to illustrate the process of **setting up a simulation system** containing a **protein in complex with a ligand**, step by step, using the **BioExcel Building Blocks library (biobb)** wrapping the **AmberTools** utility from the **AMBER package**. The particular example used is the **T4 lysozyme** protein (PDB code [3HTB](https://www.rcsb.org/structure/3HTB)) with two residue modifications ***L99A/M102Q*** complexed with the small ligand **2-propylphenol** (3-letter code [JZ4](https://www.rcsb.org/ligand/JZ4)). \n",
    "***\n",
    "\n",
    "## Settings\n",
    "\n",
    "### Biobb modules used\n",
    "\n",
    " - [biobb_io](https://github.com/bioexcel/biobb_io): Tools to fetch biomolecular data from public databases.\n",
    " - [biobb_amber](https://github.com/bioexcel/biobb_amber): Tools to setup and run Molecular Dynamics simulations with AmberTools.\n",
    " - [biobb_structure_utils](https://github.com/bioexcel/biobb_structure_utils): Tools to modify or extract information from a PDB structure file.\n",
    " - [biobb_analysis](https://github.com/bioexcel/biobb_analysis): Tools to analyse Molecular Dynamics trajectories.\n",
    " - [biobb_chemistry](https://github.com/bioexcel/biobb_chemistry): Tools to to perform chemical conversions.\n",
    " \n",
    "### Auxiliar libraries used\n",
    "\n",
    " - [nb_conda_kernels](https://github.com/Anaconda-Platform/nb_conda_kernels): Enables a Jupyter Notebook or JupyterLab application in one conda environment to access kernels for Python, R, and other languages found in other environments.\n",
    " - [nglview](http://nglviewer.org/#nglview): Jupyter/IPython widget to interactively view molecular structures and trajectories in notebooks.\n",
    " - [ipywidgets](https://github.com/jupyter-widgets/ipywidgets): Interactive HTML widgets for Jupyter notebooks and the IPython kernel.\n",
    " - [plotly](https://plot.ly/python/offline/): Python interactive graphing library integrated in Jupyter notebooks.\n",
    " - [simpletraj](https://github.com/arose/simpletraj): Lightweight coordinate-only trajectory reader based on code from GROMACS, MDAnalysis and VMD.\n",
    "\n",
    "### Conda Installation and Launch\n",
    "\n",
    "```console\n",
    "git clone https://github.com/bioexcel/biobb_wf_md_setup_amber.git\n",
    "cd biobb_wf_md_setup_amber\n",
    "conda env create -f conda_env/environment.yml\n",
    "conda activate biobb_MDsetup_tutorials_amber\n",
    "jupyter-nbextension enable --py --user widgetsnbextension\n",
    "jupyter-nbextension enable --py --user nglview\n",
    "jupyter-notebook biobb_wf_md_setup_amber/notebooks/mdsetup_lig/biobb_amber_complex_setup_notebook.ipynb\n",
    "``` \n",
    "\n",
    "***\n",
    "## Pipeline steps\n",
    " 1. [Input Parameters](#input)\n",
    " 2. [Fetching PDB Structure](#fetch)\n",
    " 3. [Preparing PDB file for AMBER](#pdb4amber)\n",
    " 4. [Create ligand system topology](#ligtop)\n",
    " 5. [Create Protein-Ligand Complex System Topology](#top)\n",
    " 6. [Energetically Minimize the Structure](#minv)\n",
    " 7. [Create Solvent Box and Solvating the System](#box)\n",
    " 8. [Adding Ions](#ions)\n",
    " 9. [Energetically Minimize the System](#min)\n",
    " 10. [Heating the System](#heating)\n",
    " 11. [Equilibrate the System (NVT)](#nvt)\n",
    " 12. [Equilibrate the System (NPT)](#npt)\n",
    " 13. [Free Molecular Dynamics Simulation](#free)\n",
    " 14. [Post-processing and Visualizing Resulting 3D Trajectory](#post)\n",
    " 15. [Output Files](#output)\n",
    " 16. [Questions & Comments](#questions)\n",
    " \n",
    "***\n",
    "<img src=\"https://bioexcel.eu/wp-content/uploads/2019/04/Bioexcell_logo_1080px_transp.png\" alt=\"Bioexcel2 logo\"\n",
    "\ttitle=\"Bioexcel2 logo\" width=\"400\" />\n",
    "***\n"
   ]
  },
  {
   "cell_type": "markdown",
   "metadata": {},
   "source": [
    "<a id=\"input\"></a>\n",
    "## Input parameters\n",
    "**Input parameters** needed:\n",
    " - **pdbCode**: PDB code of the protein structure (e.g. 3HTB)\n",
    " - **ligandCode**: 3-letter code of the ligand (e.g. JZ4)\n",
    " - **mol_charge**: Charge of the ligand (e.g. 0)"
   ]
  },
  {
   "cell_type": "code",
   "execution_count": 1,
   "metadata": {},
   "outputs": [
    {
     "data": {
      "application/vnd.jupyter.widget-view+json": {
       "model_id": "3fa4d935b0a54b92aab9b037f5a4a91b",
       "version_major": 2,
       "version_minor": 0
      },
      "text/plain": []
     },
     "metadata": {},
     "output_type": "display_data"
    }
   ],
   "source": [
    "import nglview\n",
    "import ipywidgets\n",
    "import plotly\n",
    "from plotly import subplots\n",
    "import plotly.graph_objs as go\n",
    "\n",
    "pdbCode = \"3htb\"\n",
    "ligandCode = \"JZ4\"\n",
    "mol_charge = 0"
   ]
  },
  {
   "cell_type": "markdown",
   "metadata": {},
   "source": [
    "<a id=\"fetch\"></a>\n",
    "***\n",
    "## Fetching PDB structure\n",
    "Downloading **PDB structure** with the **protein molecule** from the RCSB PDB database.<br>\n",
    "Alternatively, a **PDB file** can be used as starting structure. <br>\n",
    "Stripping from the **downloaded structure** any **crystallographic water** molecule or **heteroatom**. <br>\n",
    "***\n",
    "**Building Blocks** used:\n",
    " - [pdb](https://biobb-io.readthedocs.io/en/latest/api.html#module-api.pdb) from **biobb_io.api.pdb**\n",
    " - [remove_pdb_water](https://biobb-structure-utils.readthedocs.io/en/latest/utils.html#module-utils.remove_pdb_water) from **biobb_structure_utils.utils.remove_pdb_water**\n",
    " - [remove_ligand](https://biobb-structure-utils.readthedocs.io/en/latest/utils.html#module-utils.remove_ligand) from **biobb_structure_utils.utils.remove_ligand**\n",
    "***"
   ]
  },
  {
   "cell_type": "code",
   "execution_count": 2,
   "metadata": {},
   "outputs": [
    {
     "name": "stderr",
     "output_type": "stream",
     "text": [
      "2021-06-22 14:33:14,463 [MainThread  ] [INFO ]  Downloading: 3htb from: https://www.ebi.ac.uk/pdbe/entry-files/download/pdb3htb.ent\n",
      "/anaconda3/envs/biobb_AMBER_MDsetup_tutorials/lib/python3.7/site-packages/urllib3/connectionpool.py:1020: InsecureRequestWarning: Unverified HTTPS request is being made to host 'www.ebi.ac.uk'. Adding certificate verification is strongly advised. See: https://urllib3.readthedocs.io/en/latest/advanced-usage.html#ssl-warnings\n",
      "  InsecureRequestWarning,\n",
      "2021-06-22 14:33:14,889 [MainThread  ] [INFO ]  Writting pdb to: 3htb.pdb\n"
     ]
    },
    {
     "data": {
      "text/plain": [
       "0"
      ]
     },
     "execution_count": 2,
     "metadata": {},
     "output_type": "execute_result"
    }
   ],
   "source": [
    "# Import module\n",
    "from biobb_io.api.pdb import pdb\n",
    "\n",
    "# Create properties dict and inputs/outputs\n",
    "downloaded_pdb = pdbCode+'.pdb'\n",
    "\n",
    "prop = {\n",
    "    'pdb_code': pdbCode,\n",
    "    'filter': False\n",
    "}\n",
    "\n",
    "#Create and launch bb\n",
    "pdb(output_pdb_path=downloaded_pdb,\n",
    "    properties=prop)"
   ]
  },
  {
   "cell_type": "code",
   "execution_count": 54,
   "metadata": {},
   "outputs": [
    {
     "data": {
      "application/vnd.jupyter.widget-view+json": {
       "model_id": "f2ddf3f92c7041849c0b5d302f64f478",
       "version_major": 2,
       "version_minor": 0
      },
      "text/plain": [
       "NGLWidget()"
      ]
     },
     "metadata": {},
     "output_type": "display_data"
    }
   ],
   "source": [
    "# Show protein\n",
    "view = nglview.show_structure_file(downloaded_pdb)\n",
    "view.clear_representations()\n",
    "view.add_representation(repr_type='cartoon', selection='protein', color='sstruc')\n",
    "view.add_representation(repr_type='ball+stick', radius='0.1', selection='water')\n",
    "view.add_representation(repr_type='ball+stick', radius='0.5', selection='ligand')\n",
    "view.add_representation(repr_type='ball+stick', radius='0.5', selection='ion')\n",
    "view._remote_call('setSize', target='Widget', args=['','600px'])\n",
    "\n",
    "view.render_image()\n",
    "view.download_image(filename='ngl1.png')\n",
    "\n",
    "view"
   ]
  },
  {
   "cell_type": "markdown",
   "metadata": {},
   "source": [
    "<img src='ngl1.png'></img>"
   ]
  },
  {
   "cell_type": "code",
   "execution_count": 4,
   "metadata": {},
   "outputs": [
    {
     "name": "stderr",
     "output_type": "stream",
     "text": [
      "2021-06-22 14:33:16,315 [MainThread  ] [INFO ]  check_structure -i 3htb.pdb -o 3htb.nowat.pdb --force_save water --remove yes\n",
      "\n",
      "2021-06-22 14:33:16,317 [MainThread  ] [INFO ]  Exit code 0\n",
      "\n",
      "2021-06-22 14:33:16,318 [MainThread  ] [INFO ]  ===============================================================================\n",
      "=                   BioBB structure checking utility v3.7.2                   =\n",
      "=                 A. Hospital, P. Andrio, J.L. Gelpi 2018-20                  =\n",
      "===============================================================================\n",
      "\n",
      "Warning: sequence features only available in mmCIF format or with external fasta input\n",
      "Structure 3htb.pdb loaded\n",
      " Title: 2-propylphenol in complex with t4 lysozyme l99a/m102q\n",
      " Experimental method: x-ray diffraction\n",
      " Keywords: hydrolase,glycosidase, bacteriolytic enzyme, antimicrobial\n",
      " Resolution: 1.81 A\n",
      "\n",
      " Num. models: 1\n",
      " Num. chains: 1 (A: Protein)\n",
      " Num. residues:  387\n",
      " Num. residues with ins. codes:  0\n",
      " Num. HETATM residues:  224\n",
      " Num. ligands or modified residues:  4\n",
      " Num. water mol.:  220\n",
      " Num. atoms:  1544\n",
      "Small mol ligands found\n",
      "PO4 A165\n",
      "PO4 A166\n",
      "JZ4 A167\n",
      "BME A168\n",
      "\n",
      "Running water. Options: --remove yes\n",
      "220 Water molecules detected\n",
      "220 Water molecules removed\n",
      "Final Num. models: 1\n",
      "Final Num. chains: 1 (A: Protein)\n",
      "Final Num. residues:  167\n",
      "Final Num. residues with ins. codes:  0\n",
      "Final Num. HETATM residues:  4\n",
      "Final Num. ligands or modified residues:  4\n",
      "Final Num. water mol.:  0\n",
      "Final Num. atoms:  1324\n",
      "Small mol ligands found\n",
      "PO4 A165\n",
      "PO4 A166\n",
      "JZ4 A167\n",
      "BME A168\n",
      "Structure saved on 3htb.nowat.pdb\n",
      "\n"
     ]
    },
    {
     "data": {
      "text/plain": [
       "0"
      ]
     },
     "execution_count": 4,
     "metadata": {},
     "output_type": "execute_result"
    }
   ],
   "source": [
    "# Import module\n",
    "from biobb_structure_utils.utils.remove_pdb_water import remove_pdb_water\n",
    "\n",
    "# Create properties dict and inputs/outputs\n",
    "nowat_pdb = pdbCode+'.nowat.pdb'\n",
    "\n",
    "#Create and launch bb\n",
    "remove_pdb_water(input_pdb_path=downloaded_pdb,\n",
    "    output_pdb_path=nowat_pdb)"
   ]
  },
  {
   "cell_type": "code",
   "execution_count": 5,
   "metadata": {},
   "outputs": [
    {
     "name": "stderr",
     "output_type": "stream",
     "text": [
      "2021-06-22 14:33:16,341 [MainThread  ] [INFO ]  PDB format detected, removing all atoms from residues named PO4\n",
      "2021-06-22 14:33:16,349 [MainThread  ] [INFO ]  PDB format detected, removing all atoms from residues named BME\n"
     ]
    },
    {
     "data": {
      "text/plain": [
       "0"
      ]
     },
     "execution_count": 5,
     "metadata": {},
     "output_type": "execute_result"
    }
   ],
   "source": [
    "# Import module\n",
    "from biobb_structure_utils.utils.remove_ligand import remove_ligand\n",
    "\n",
    "# Removing PO4 ligands:\n",
    "\n",
    "# Create properties dict and inputs/outputs\n",
    "nopo4_pdb = pdbCode+'.noPO4.pdb'\n",
    "\n",
    "prop = {\n",
    "    'ligand' : 'PO4'\n",
    "}\n",
    "\n",
    "#Create and launch bb\n",
    "remove_ligand(input_structure_path=nowat_pdb,\n",
    "    output_structure_path=nopo4_pdb,\n",
    "    properties=prop)\n",
    "\n",
    "# Removing BME ligand:\n",
    "\n",
    "# Create properties dict and inputs/outputs\n",
    "nobme_pdb = pdbCode+'.noBME.pdb'\n",
    "\n",
    "prop = {\n",
    "    'ligand' : 'BME'\n",
    "}\n",
    "\n",
    "#Create and launch bb\n",
    "remove_ligand(input_structure_path=nopo4_pdb,\n",
    "    output_structure_path=nobme_pdb,\n",
    "    properties=prop)"
   ]
  },
  {
   "cell_type": "markdown",
   "metadata": {},
   "source": [
    "## Visualizing 3D structure"
   ]
  },
  {
   "cell_type": "code",
   "execution_count": 55,
   "metadata": {
    "scrolled": true
   },
   "outputs": [
    {
     "data": {
      "application/vnd.jupyter.widget-view+json": {
       "model_id": "012ddbef88304598994ac708c39a17a5",
       "version_major": 2,
       "version_minor": 0
      },
      "text/plain": [
       "NGLWidget()"
      ]
     },
     "metadata": {},
     "output_type": "display_data"
    }
   ],
   "source": [
    "# Show protein\n",
    "view = nglview.show_structure_file(nobme_pdb)\n",
    "view.clear_representations()\n",
    "view.add_representation(repr_type='cartoon', selection='protein', color='sstruc')\n",
    "view.add_representation(repr_type='ball+stick', radius='0.5', selection='hetero')\n",
    "view._remote_call('setSize', target='Widget', args=['','600px'])\n",
    "\n",
    "view.render_image()\n",
    "view.download_image(filename='ngl2.png')\n",
    "\n",
    "view"
   ]
  },
  {
   "cell_type": "markdown",
   "metadata": {},
   "source": [
    "<img src='ngl2.png'></img>"
   ]
  },
  {
   "cell_type": "markdown",
   "metadata": {},
   "source": [
    "<a id=\"pdb4amber\"></a>\n",
    "***\n",
    "## Preparing PDB file for AMBER\n",
    "Before starting a **protein MD setup**, it is always strongly recommended to take a look at the initial structure and try to identify important **properties** and also possible **issues**. These properties and issues can be serious, as for example the definition of **disulfide bridges**, the presence of a **non-standard aminoacids** or **ligands**, or **missing residues**. Other **properties** and **issues** might not be so serious, but they still need to be addressed before starting the **MD setup process**. **Missing hydrogen atoms**, presence of **alternate atomic location indicators** or **inserted residue codes** (see [PDB file format specification](https://www.wwpdb.org/documentation/file-format-content/format33/sect9.html#ATOM)) are examples of these not so crucial characteristics. Please visit the [AMBER tutorial: Building Protein Systems in Explicit Solvent](http://ambermd.org/tutorials/basic/tutorial7/index.php) for more examples. **AmberTools** utilities from **AMBER MD package** contain a tool able to analyse **PDB files** and clean them for further usage, especially with the **AmberTools LEaP program**: the **pdb4amber tool**. The next step of the workflow is running this tool to analyse our **input PDB structure**.<br>\n",
    "\n",
    "For the particular **T4 Lysosyme** example, the most important property that is identified by the **pdb4amber** utility is the presence of **disulfide bridges** in the structure. Those are marked changing the residue names **from CYS to CYX**, which is the code that **AMBER force fields** use to distinguish between cysteines forming or not forming **disulfide bridges**. This will be used in the following step to correctly form a **bond** between these cysteine residues. \n",
    "\n",
    "We invite you to check what the tool does with different, more complex structures (e.g. PDB code [6N3V](https://www.rcsb.org/structure/6N3V)). \n",
    "\n",
    "***\n",
    "**Building Blocks** used:\n",
    " - [pdb4amber](https://biobb-amber.readthedocs.io/en/latest/pdb4amber.html#module-pdb4amber.pdb4amber) from **biobb_amber.pdb4amber.pdb4amber**\n",
    "***"
   ]
  },
  {
   "cell_type": "code",
   "execution_count": 7,
   "metadata": {
    "scrolled": true
   },
   "outputs": [
    {
     "name": "stderr",
     "output_type": "stream",
     "text": [
      "/anaconda3/envs/biobb_AMBER_MDsetup_tutorials/lib/python3.7/site-packages/biobb_common/tools/file_utils.py:354: UserWarning: Warning: ligand is not a recognized property. The most similar property is: out_log\n",
      "  error_property, close_property))\n",
      "2021-06-22 14:33:16,599 [MainThread  ] [INFO ]  Creating bdfb3702-88bc-4dcc-82dd-51082d0619f9 temporary folder\n",
      "2021-06-22 14:33:16,603 [MainThread  ] [INFO ]  Creating command line with instructions and required arguments\n",
      "2021-06-22 14:33:17,750 [MainThread  ] [INFO ]  pdb4amber  -i 3htb.noBME.pdb -o structure.pdb4amber.pdb\n",
      "\n",
      "2021-06-22 14:33:17,752 [MainThread  ] [INFO ]  Exit code 0\n",
      "\n",
      "2021-06-22 14:33:17,754 [MainThread  ] [INFO ]  \n",
      "==================================================\n",
      "Summary of pdb4amber for: 3htb.noBME.pdb\n",
      "===================================================\n",
      "\n",
      "----------Chains\n",
      "The following (original) chains have been found:\n",
      "A\n",
      "\n",
      "---------- Alternate Locations (Original Residues!))\n",
      "\n",
      "The following residues had alternate locations:\n",
      "MET_1\n",
      "THR_21\n",
      "TYR_24\n",
      "ASN_68\n",
      "ASP_72\n",
      "ARG_80\n",
      "ARG_96\n",
      "GLN_102\n",
      "LYS_147\n",
      "ARG_154\n",
      "-----------Non-standard-resnames\n",
      "JZ4\n",
      "\n",
      "---------- Mising heavy atom(s)\n",
      "\n",
      "None\n",
      "The alternate coordinates have been discarded.\n",
      "Only the first occurrence for each atom was kept.\n",
      "\n",
      "2021-06-22 14:33:17,756 [MainThread  ] [INFO ]  Removed: bdfb3702-88bc-4dcc-82dd-51082d0619f9\n"
     ]
    },
    {
     "data": {
      "text/plain": [
       "0"
      ]
     },
     "execution_count": 7,
     "metadata": {},
     "output_type": "execute_result"
    }
   ],
   "source": [
    "# Import module\n",
    "from biobb_amber.pdb4amber.pdb4amber import pdb4amber\n",
    "\n",
    "# Create prop dict and inputs/outputs\n",
    "output_pdb4amber_path = 'structure.pdb4amber.pdb'\n",
    "\n",
    "# Create and launch bb\n",
    "pdb4amber(input_pdb_path=nobme_pdb,\n",
    "            output_pdb_path=output_pdb4amber_path,\n",
    "            properties=prop)"
   ]
  },
  {
   "cell_type": "markdown",
   "metadata": {},
   "source": [
    "<a id=\"ligtop\"></a>\n",
    "***\n",
    "## Create ligand system topology\n",
    "**Building AMBER topology** corresponding to the ligand structure.<br>\n",
    "Force field used in this tutorial step is **amberGAFF**: [General AMBER Force Field](http://ambermd.org/antechamber/gaff.html), designed for rational drug design.<br>\n",
    "- [Step 1](#ligandTopologyStep1): Extract **ligand structure**.\n",
    "- [Step 2](#ligandTopologyStep2): Add **hydrogen atoms** if missing.\n",
    "- [Step 3](#ligandTopologyStep3): **Energetically minimize the system** with the new hydrogen atoms. \n",
    "- [Step 4](#ligandTopologyStep4): Generate **ligand topology** (parameters). \n",
    "***\n",
    "**Building Blocks** used:\n",
    " - [ExtractHeteroAtoms](https://biobb-structure-utils.readthedocs.io/en/latest/utils.html#module-utils.extract_heteroatoms) from **biobb_structure_utils.utils.extract_heteroatoms**\n",
    " - [ReduceAddHydrogens](https://biobb-chemistry.readthedocs.io/en/latest/ambertools.html#module-ambertools.reduce_add_hydrogens) from **biobb_chemistry.ambertools.reduce_add_hydrogens**\n",
    " - [BabelMinimize](https://biobb-chemistry.readthedocs.io/en/latest/babelm.html#module-babelm.babel_minimize) from **biobb_chemistry.babelm.babel_minimize** \n",
    " - [AcpypeParamsAC](https://biobb-chemistry.readthedocs.io/en/latest/acpype.html#module-acpype.acpype_params_ac) from **biobb_chemistry.acpype.acpype_params_ac** \n",
    "***"
   ]
  },
  {
   "cell_type": "markdown",
   "metadata": {},
   "source": [
    "<a id=\"ligandTopologyStep1\"></a>\n",
    "### Step 1: Extract **Ligand structure**"
   ]
  },
  {
   "cell_type": "code",
   "execution_count": 8,
   "metadata": {},
   "outputs": [
    {
     "name": "stderr",
     "output_type": "stream",
     "text": [
      "2021-06-22 14:33:17,826 [MainThread  ] [INFO ]  File JZ4.pdb created\n"
     ]
    },
    {
     "data": {
      "text/plain": [
       "0"
      ]
     },
     "execution_count": 8,
     "metadata": {},
     "output_type": "execute_result"
    }
   ],
   "source": [
    "# Create Ligand system topology, STEP 1\n",
    "# Extracting Ligand JZ4\n",
    "# Import module\n",
    "from biobb_structure_utils.utils.extract_heteroatoms import extract_heteroatoms\n",
    "\n",
    "# Create properties dict and inputs/outputs\n",
    "ligandFile = ligandCode+'.pdb'\n",
    "\n",
    "prop = {\n",
    "     'heteroatoms' : [{\"name\": \"JZ4\"}]\n",
    "}\n",
    "\n",
    "extract_heteroatoms(input_structure_path=output_pdb4amber_path,\n",
    "     output_heteroatom_path=ligandFile,\n",
    "     properties=prop)"
   ]
  },
  {
   "cell_type": "markdown",
   "metadata": {},
   "source": [
    "<a id=\"ligandTopologyStep2\"></a>\n",
    "### Step 2: Add **hydrogen atoms**"
   ]
  },
  {
   "cell_type": "code",
   "execution_count": 9,
   "metadata": {},
   "outputs": [
    {
     "name": "stderr",
     "output_type": "stream",
     "text": [
      "2021-06-22 14:33:17,857 [MainThread  ] [INFO ]  Not using any container\n",
      "2021-06-22 14:33:17,972 [MainThread  ] [INFO ]  reduce -NUClear -OH -ROTNH3 -ALLALT JZ4.pdb > JZ4.reduce.H.pdb\n",
      "\n",
      "2021-06-22 14:33:17,973 [MainThread  ] [INFO ]  Exit code 0\n",
      "\n",
      "2021-06-22 14:33:17,974 [MainThread  ] [INFO ]  reduce: version 3.3 06/02/2016, Copyright 1997-2016, J. Michael Word\n",
      "Processing file: \"JZ4.pdb\"\n",
      "Database of HETATM connections: \"/anaconda3/envs/biobb_AMBER_MDsetup_tutorials//dat/reduce_wwPDB_het_dict.txt\"\n",
      "VDW dot density = 16/A^2\n",
      "Orientation penalty scale = 1 (100%)\n",
      "Eliminate contacts within 3 bonds.\n",
      "Ignore atoms with |occupancy| <= 0.01 during adjustments.\n",
      "Waters ignored if B-Factor >= 40 or |occupancy| < 0.66\n",
      "Aromatic rings in amino acids accept hydrogen bonds.\n",
      "Building or keeping OH & SH Hydrogens.\n",
      "Rotating NH3 Hydrogens.\n",
      "Not processing Met methyls.\n",
      "WARNING: atom H13A from JZ4 will be treated as hydrogen\n",
      "WARNING: atom H14A from JZ4 will be treated as hydrogen\n",
      "WARNING: atom H13A from JZ4 will be treated as hydrogen\n",
      "WARNING: atom H13A from JZ4 will be treated as hydrogen\n",
      "WARNING: atom H14A from JZ4 will be treated as hydrogen\n",
      "WARNING: atom H14A from JZ4 will be treated as hydrogen\n",
      "WARNING: atom H14A from JZ4 will be treated as hydrogen\n",
      "WARNING: atom H14A from JZ4 will be treated as hydrogen\n",
      "WARNING: atom H13A from JZ4 will be treated as hydrogen\n",
      "WARNING: atom H13A from JZ4 will be treated as hydrogen\n",
      "WARNING: atom H14A from JZ4 will be treated as hydrogen\n",
      "WARNING: atom H13A from JZ4 will be treated as hydrogen\n",
      " Singles(size 1): A 164 JZ4 OAB \n",
      " orientation 1: A 164 JZ4 OAB :   rot  120: bump=0.000, HB=0.000, total=0.000\n",
      "Found 0 hydrogens (0 hets)\n",
      "Standardized 0 hydrogens (0 hets)\n",
      "Added 12 hydrogens (12 hets)\n",
      "Removed 0 hydrogens (0 hets)\n",
      "Adjusted 1 group(s)\n",
      "If you publish work which uses reduce, please cite:\n",
      "Word, et. al. (1999) J. Mol. Biol. 285, 1735-1747.\n",
      "For more information see http://kinemage.biochem.duke.edu\n",
      "\n"
     ]
    },
    {
     "data": {
      "text/plain": [
       "0"
      ]
     },
     "execution_count": 9,
     "metadata": {},
     "output_type": "execute_result"
    }
   ],
   "source": [
    "# Create Ligand system topology, STEP 2\n",
    "# Reduce_add_hydrogens: add Hydrogen atoms to a small molecule (using Reduce tool from Ambertools package)\n",
    "# Import module\n",
    "from biobb_chemistry.ambertools.reduce_add_hydrogens import reduce_add_hydrogens\n",
    "\n",
    "# Create prop dict and inputs/outputs\n",
    "output_reduce_h = ligandCode+'.reduce.H.pdb' \n",
    "\n",
    "prop = {\n",
    "    'nuclear' : 'true'\n",
    "}\n",
    "\n",
    "# Create and launch bb\n",
    "reduce_add_hydrogens(input_path=ligandFile,\n",
    "                   output_path=output_reduce_h,\n",
    "                   properties=prop)"
   ]
  },
  {
   "cell_type": "markdown",
   "metadata": {},
   "source": [
    "<a id=\"ligandTopologyStep3\"></a>\n",
    "### Step 3: **Energetically minimize the system** with the new hydrogen atoms. "
   ]
  },
  {
   "cell_type": "code",
   "execution_count": 10,
   "metadata": {},
   "outputs": [
    {
     "name": "stderr",
     "output_type": "stream",
     "text": [
      "2021-06-22 14:33:17,994 [MainThread  ] [INFO ]  Hydrogens  is not correct, assigned default value: False\n",
      "2021-06-22 14:33:17,996 [MainThread  ] [INFO ]  Steps  is not correct, assigned default value: 2500\n",
      "2021-06-22 14:33:17,996 [MainThread  ] [INFO ]  Cut-off  is not correct, assigned default value: False\n",
      "2021-06-22 14:33:17,997 [MainThread  ] [INFO ]  Rvdw  is not correct, assigned default value: 6.0\n",
      "2021-06-22 14:33:17,998 [MainThread  ] [INFO ]  Rele  is not correct, assigned default value: 10.0\n",
      "2021-06-22 14:33:17,999 [MainThread  ] [INFO ]  Frequency  is not correct, assigned default value: 10\n",
      "2021-06-22 14:33:18,000 [MainThread  ] [INFO ]  Not using any container\n",
      "2021-06-22 14:33:18,620 [MainThread  ] [INFO ]  obminimize -c 1e-10 -sd -ff GAFF -ipdb JZ4.reduce.H.pdb -omol2 > JZ4.H.min.mol2\n",
      "\n",
      "2021-06-22 14:33:18,622 [MainThread  ] [INFO ]  Exit code 0\n",
      "\n",
      "2021-06-22 14:33:18,623 [MainThread  ] [INFO ]  \n",
      "A T O M   T Y P E S\n",
      "\n",
      "IDX\tTYPE\tRING\n",
      "1\tc3\tNO\n",
      "2\tca\tAR\n",
      "3\tca\tAR\n",
      "4\tca\tAR\n",
      "5\tca\tAR\n",
      "6\tca\tAR\n",
      "7\tca\tAR\n",
      "8\tc3\tNO\n",
      "9\tc3\tNO\n",
      "10\toh\tNO\n",
      "11\tho\tNO\n",
      "12\thc\tNO\n",
      "13\thc\tNO\n",
      "14\tha\tNO\n",
      "15\tha\tNO\n",
      "16\tha\tNO\n",
      "17\thc\tNO\n",
      "18\thc\tNO\n",
      "19\thc\tNO\n",
      "20\thc\tNO\n",
      "21\thc\tNO\n",
      "22\tha\tNO\n",
      "\n",
      "C H A R G E S\n",
      "\n",
      "IDX\tCHARGE\n",
      "1\t-0.064979\n",
      "2\t-0.061278\n",
      "3\t-0.058294\n",
      "4\t-0.019907\n",
      "5\t0.120013\n",
      "6\t-0.055115\n",
      "7\t-0.005954\n",
      "8\t-0.024481\n",
      "9\t-0.051799\n",
      "10\t-0.506496\n",
      "11\t0.292144\n",
      "12\t0.026577\n",
      "13\t0.031423\n",
      "14\t0.065403\n",
      "15\t0.061871\n",
      "16\t0.061769\n",
      "17\t0.022987\n",
      "18\t0.022987\n",
      "19\t0.022987\n",
      "20\t0.026577\n",
      "21\t0.031423\n",
      "22\t0.062142\n",
      "\n",
      "S E T T I N G   U P   C A L C U L A T I O N S\n",
      "\n",
      "SETTING UP BOND CALCULATIONS...\n",
      "SETTING UP ANGLE CALCULATIONS...\n",
      "SETTING UP TORSION CALCULATIONS...\n",
      "SETTING UP IMPROPER TORSION CALCULATIONS...\n",
      "SETTING UP VAN DER WAALS CALCULATIONS...\n",
      "SETTING UP ELECTROSTATIC CALCULATIONS...\n",
      "\n",
      "S T E E P E S T   D E S C E N T\n",
      "\n",
      "STEPS = 2500\n",
      "\n",
      "STEP n       E(n)         E(n-1)    \n",
      "------------------------------------\n",
      "    0      50.048      ----\n",
      "   10    36.21724    36.73363\n",
      "   20    32.62519    32.90050\n",
      "   30    30.42176    30.60740\n",
      "   40    28.84022    28.98002\n",
      "   50    27.60107    27.71398\n",
      "   60    26.57419    26.66957\n",
      "   70    25.69242    25.77532\n",
      "   80    24.91809    24.99145\n",
      "   90    24.22825    24.29392\n",
      "  100    23.60848    23.66758\n",
      "  110    23.04960    23.10303\n",
      "  120    22.54147    22.59027\n",
      "  130    22.07638    22.12112\n",
      "  140    21.64899    21.69018\n",
      "  150    21.25485    21.29289\n",
      "  160    20.89018    20.92542\n",
      "  170    20.55172    20.58448\n",
      "  180    20.23672    20.26724\n",
      "  190    19.94279    19.97131\n",
      "  200    19.66791    19.69460\n",
      "  210    19.41032    19.43536\n",
      "  220    19.16851    19.19203\n",
      "  230    18.94116    18.96329\n",
      "  240    18.72713    18.74797\n",
      "  250    18.52541    18.54506\n",
      "  260    18.33510    18.35365\n",
      "  270    18.15542    18.17293\n",
      "  280    17.98563    18.00219\n",
      "  290    17.82510    17.84076\n",
      "  300    17.67323    17.68805\n",
      "  310    17.52948    17.54351\n",
      "  320    17.39335    17.40664\n",
      "  330    17.26438    17.27697\n",
      "  340    17.14215    17.15408\n",
      "  350    17.02625    17.03757\n",
      "  360    16.91633    16.92707\n",
      "  370    16.81204    16.82223\n",
      "  380    16.71305    16.72272\n",
      "  390    16.61907    16.62825\n",
      "  400    16.52981    16.53853\n",
      "  410    16.44502    16.45331\n",
      "  420    16.36444    16.37232\n",
      "  430    16.28785    16.29534\n",
      "  440    16.21503    16.22215\n",
      "  450    16.14577    16.15255\n",
      "  460    16.07989    16.08634\n",
      "  470    16.01721    16.02334\n",
      "  480    15.95755    15.96338\n",
      "  490    15.90076    15.90631\n",
      "  500    15.84668    15.85198\n",
      "  510    15.79519    15.80023\n",
      "  520    15.74614    15.75094\n",
      "  530    15.69941    15.70398\n",
      "  540    15.65488    15.65924\n",
      "  550    15.61245    15.61660\n",
      "  560    15.57200    15.57596\n",
      "  570    15.53344    15.53721\n",
      "  580    15.49667    15.50027\n",
      "  590    15.46160    15.46504\n",
      "  600    15.42816    15.43144\n",
      "  610    15.39626    15.39939\n",
      "  620    15.36583    15.36881\n",
      "  630    15.33679    15.33963\n",
      "  640    15.30908    15.31179\n",
      "  650    15.28263    15.28522\n",
      "  660    15.25739    15.25986\n",
      "  670    15.23329    15.23565\n",
      "  680    15.21029    15.21254\n",
      "  690    15.18832    15.19047\n",
      "  700    15.16735    15.16940\n",
      "  710    15.14731    15.14928\n",
      "  720    15.12818    15.13005\n",
      "  730    15.10990    15.11169\n",
      "  740    15.09243    15.09415\n",
      "  750    15.07575    15.07738\n",
      "  760    15.05980    15.06137\n",
      "  770    15.04456    15.04606\n",
      "  780    15.03000    15.03143\n",
      "  790    15.01607    15.01744\n",
      "  800    15.00276    15.00406\n",
      "  810    14.99003    14.99127\n",
      "  820    14.97785    14.97904\n",
      "  830    14.96620    14.96734\n",
      "  840    14.95506    14.95615\n",
      "  850    14.94439    14.94544\n",
      "  860    14.93419    14.93519\n",
      "  870    14.92442    14.92538\n",
      "  880    14.91507    14.91598\n",
      "  890    14.90611    14.90699\n",
      "  900    14.89753    14.89837\n",
      "  910    14.88931    14.89011\n",
      "  920    14.88143    14.88220\n",
      "  930    14.87388    14.87462\n",
      "  940    14.86663    14.86735\n",
      "  950    14.85969    14.86037\n",
      "  960    14.85302    14.85368\n",
      "  970    14.84662    14.84725\n",
      "  980    14.84048    14.84108\n",
      "  990    14.83458    14.83516\n",
      " 1000    14.82891    14.82946\n",
      " 1010    14.82345    14.82399\n",
      " 1020    14.81821    14.81873\n",
      " 1030    14.81316    14.81366\n",
      " 1040    14.80831    14.80878\n",
      " 1050    14.80362    14.80409\n",
      " 1060    14.79911    14.79956\n",
      " 1070    14.79476    14.79519\n",
      " 1080    14.79056    14.79098\n",
      " 1090    14.78650    14.78691\n",
      " 1100    14.78258    14.78297\n",
      " 1110    14.77879    14.77917\n",
      " 1120    14.77512    14.77548\n",
      " 1130    14.77156    14.77191\n",
      " 1140    14.76835    14.76859\n",
      " 1150    14.76655    14.76671\n",
      " 1160    14.76491    14.76508\n",
      " 1170    14.76332    14.76348\n",
      " 1180    14.76177    14.76192\n",
      " 1190    14.76025    14.76040\n",
      " 1200    14.75876    14.75891\n",
      " 1210    14.75731    14.75746\n",
      " 1220    14.75589    14.75603\n",
      " 1230    14.75450    14.75464\n",
      " 1240    14.75315    14.75328\n",
      " 1250    14.75181    14.75195\n",
      " 1260    14.75051    14.75064\n",
      " 1270    14.74924    14.74936\n",
      " 1280    14.74798    14.74811\n",
      " 1290    14.74676    14.74688\n",
      " 1300    14.74556    14.74568\n",
      " 1310    14.74438    14.74449\n",
      " 1320    14.74322    14.74333\n",
      " 1330    14.74208    14.74220\n",
      " 1340    14.74097    14.74108\n",
      " 1350    14.73987    14.73998\n",
      " 1360    14.73880    14.73890\n",
      " 1370    14.73774    14.73784\n",
      " 1380    14.73669    14.73680\n",
      " 1390    14.73567    14.73577\n",
      " 1400    14.73466    14.73476\n",
      " 1410    14.73367    14.73377\n",
      " 1420    14.73269    14.73279\n",
      " 1430    14.73173    14.73182\n",
      " 1440    14.73078    14.73087\n",
      " 1450    14.72984    14.72993\n",
      " 1460    14.72891    14.72901\n",
      " 1470    14.72800    14.72809\n",
      " 1480    14.72710    14.72719\n",
      " 1490    14.72621    14.72630\n",
      " 1500    14.72549    14.72554\n",
      " 1510    14.72504    14.72509\n",
      " 1520    14.72461    14.72466\n",
      " 1530    14.72419    14.72423\n",
      " 1540    14.72377    14.72381\n",
      " 1550    14.72336    14.72340\n",
      " 1560    14.72295    14.72299\n",
      " 1570    14.72255    14.72259\n",
      " 1580    14.72216    14.72220\n",
      " 1590    14.72177    14.72181\n",
      " 1600    14.72138    14.72142\n",
      " 1610    14.72100    14.72104\n",
      " 1620    14.72063    14.72067\n",
      " 1630    14.72026    14.72030\n",
      " 1640    14.71989    14.71993\n",
      " 1650    14.71953    14.71957\n",
      " 1660    14.71918    14.71921\n",
      " 1670    14.71883    14.71886\n",
      " 1680    14.71848    14.71851\n",
      " 1690    14.71813    14.71817\n",
      " 1700    14.71780    14.71783\n",
      " 1710    14.71746    14.71749\n",
      " 1720    14.71713    14.71716\n",
      " 1730    14.71680    14.71683\n",
      " 1740    14.71648    14.71651\n",
      " 1750    14.71616    14.71619\n",
      " 1760    14.71584    14.71587\n",
      " 1770    14.71553    14.71556\n",
      " 1780    14.71522    14.71525\n",
      " 1790    14.71491    14.71495\n",
      " 1800    14.71461    14.71464\n",
      " 1810    14.71431    14.71434\n",
      " 1820    14.71402    14.71405\n",
      " 1830    14.71372    14.71375\n",
      " 1840    14.71344    14.71346\n",
      " 1850    14.71323    14.71324\n",
      " 1860    14.71308    14.71309\n",
      " 1870    14.71293    14.71294\n",
      " 1880    14.71278    14.71280\n",
      " 1890    14.71264    14.71265\n",
      " 1900    14.71250    14.71251\n",
      " 1910    14.71236    14.71237\n",
      " 1920    14.71222    14.71223\n",
      " 1930    14.71208    14.71209\n",
      " 1940    14.71194    14.71196\n",
      " 1950    14.71181    14.71182\n",
      " 1960    14.71168    14.71169\n",
      " 1970    14.71155    14.71156\n",
      " 1980    14.71142    14.71144\n",
      " 1990    14.71130    14.71131\n",
      " 2000    14.71117    14.71119\n",
      " 2010    14.71105    14.71107\n",
      " 2020    14.71093    14.71095\n",
      " 2030    14.71082    14.71083\n",
      " 2040    14.71070    14.71071\n",
      " 2050    14.71058    14.71060\n",
      " 2060    14.71047    14.71048\n",
      " 2070    14.71036    14.71037\n",
      " 2080    14.71025    14.71026\n",
      " 2090    14.71014    14.71015\n",
      " 2100    14.71003    14.71005\n",
      " 2110    14.70993    14.70994\n",
      " 2120    14.70982    14.70983\n",
      " 2130    14.70972    14.70973\n",
      " 2140    14.70962    14.70963\n",
      " 2150    14.70952    14.70953\n",
      " 2160    14.70942    14.70943\n",
      " 2170    14.70933    14.70934\n",
      " 2180    14.70923    14.70924\n",
      " 2190    14.70914    14.70915\n",
      " 2200    14.70904    14.70905\n",
      " 2210    14.70896    14.70896\n",
      " 2220    14.70889    14.70890\n",
      " 2230    14.70884    14.70885\n",
      " 2240    14.70879    14.70880\n",
      " 2250    14.70874    14.70875\n",
      " 2260    14.70869    14.70870\n",
      " 2270    14.70865    14.70865\n",
      " 2280    14.70860    14.70860\n",
      " 2290    14.70855    14.70856\n",
      " 2300    14.70851    14.70851\n",
      " 2310    14.70846    14.70847\n",
      " 2320    14.70842    14.70842\n",
      " 2330    14.70837    14.70838\n",
      " 2340    14.70833    14.70833\n",
      " 2350    14.70829    14.70829\n",
      " 2360    14.70825    14.70825\n",
      " 2370    14.70820    14.70821\n",
      " 2380    14.70816    14.70817\n",
      " 2390    14.70812    14.70813\n",
      " 2400    14.70808    14.70809\n",
      " 2410    14.70805    14.70805\n",
      " 2420    14.70801    14.70801\n",
      " 2430    14.70797    14.70797\n",
      " 2440    14.70793    14.70794\n",
      " 2450    14.70790    14.70790\n",
      " 2460    14.70786    14.70786\n",
      " 2470    14.70783    14.70783\n",
      " 2480    14.70779    14.70779\n",
      " 2490    14.70776    14.70776\n",
      " 2500    14.70772    14.70773\n",
      "Time: 0.563172seconds. Iterations per second: 4440.92\n",
      "\n"
     ]
    },
    {
     "data": {
      "text/plain": [
       "0"
      ]
     },
     "execution_count": 10,
     "metadata": {},
     "output_type": "execute_result"
    }
   ],
   "source": [
    "# Create Ligand system topology, STEP 3\n",
    "# Babel_minimize: Structure energy minimization of a small molecule after being modified adding hydrogen atoms\n",
    "# Import module\n",
    "from biobb_chemistry.babelm.babel_minimize import babel_minimize\n",
    "\n",
    "# Create prop dict and inputs/outputs\n",
    "output_babel_min = ligandCode+'.H.min.mol2'   \n",
    "\n",
    "prop = {\n",
    "    'method' : 'sd',\n",
    "    'criteria' : '1e-10',\n",
    "    'force_field' : 'GAFF'\n",
    "}\n",
    "\n",
    "\n",
    "# Create and launch bb\n",
    "babel_minimize(input_path=output_reduce_h,\n",
    "              output_path=output_babel_min,\n",
    "              properties=prop)"
   ]
  },
  {
   "cell_type": "markdown",
   "metadata": {},
   "source": [
    "### Visualizing 3D structures\n",
    "Visualizing the small molecule generated **PDB structures** using **NGL**:  \n",
    "- **Original Ligand Structure** (Left)\n",
    "- **Ligand Structure with hydrogen atoms added** (with Reduce program) (Center)\n",
    "- **Ligand Structure with hydrogen atoms added** (with Reduce program), **energy minimized** (with Open Babel) (Right) "
   ]
  },
  {
   "cell_type": "code",
   "execution_count": 56,
   "metadata": {
    "scrolled": true
   },
   "outputs": [
    {
     "data": {
      "application/vnd.jupyter.widget-view+json": {
       "model_id": "2ec4536855f94bd28050262461150890",
       "version_major": 2,
       "version_minor": 0
      },
      "text/plain": [
       "HBox(children=(NGLWidget(), NGLWidget(), NGLWidget()))"
      ]
     },
     "metadata": {},
     "output_type": "display_data"
    }
   ],
   "source": [
    "# Show different structures generated (for comparison)\n",
    "\n",
    "view1 = nglview.show_structure_file(ligandFile)\n",
    "view1.add_representation(repr_type='ball+stick')\n",
    "view1._remote_call('setSize', target='Widget', args=['350px','400px'])\n",
    "view1.camera='orthographic'\n",
    "\n",
    "view1.render_image()\n",
    "view1.download_image(filename='ngl3.png')\n",
    "\n",
    "view1\n",
    "view2 = nglview.show_structure_file(output_reduce_h)\n",
    "view2.add_representation(repr_type='ball+stick')\n",
    "view2._remote_call('setSize', target='Widget', args=['350px','400px'])\n",
    "view2.camera='orthographic'\n",
    "\n",
    "view2.render_image()\n",
    "view2.download_image(filename='ngl4.png')\n",
    "\n",
    "view2\n",
    "view3 = nglview.show_structure_file(output_babel_min)\n",
    "view3.add_representation(repr_type='ball+stick')\n",
    "view3._remote_call('setSize', target='Widget', args=['350px','400px'])\n",
    "view3.camera='orthographic'\n",
    "\n",
    "view3.render_image()\n",
    "view3.download_image(filename='ngl5.png')\n",
    "\n",
    "view3\n",
    "ipywidgets.HBox([view1, view2, view3])"
   ]
  },
  {
   "cell_type": "markdown",
   "metadata": {},
   "source": [
    "<img src='ngl3.png' style='float:left;width:33%;' />\n",
    "<img src='ngl4.png' style='float:left;width:33%;' />\n",
    "<img src='ngl5.png' style='float:left;width:33%;' />"
   ]
  },
  {
   "cell_type": "markdown",
   "metadata": {},
   "source": [
    "<a id=\"ligandTopologyStep4\"></a>\n",
    "### Step 4: Generate **ligand topology** (parameters)."
   ]
  },
  {
   "cell_type": "code",
   "execution_count": 12,
   "metadata": {},
   "outputs": [
    {
     "name": "stderr",
     "output_type": "stream",
     "text": [
      "2021-06-22 14:33:18,871 [MainThread  ] [INFO ]  Running acpype, this execution can take a while\n",
      "2021-06-22 14:33:18,872 [MainThread  ] [INFO ]  Not using any container\n",
      "2021-06-22 14:33:21,690 [MainThread  ] [INFO ]  acpype -i /home/gbayarri_local/projects/BioBB/tutorials/biobb_wf_amber_md_setup/biobb_wf_amber_md_setup/notebooks/mdsetup_lig/JZ4.H.min.mol2 -b JZ4params.ZW79gA -n 0\n",
      "\n",
      "2021-06-22 14:33:21,692 [MainThread  ] [INFO ]  Exit code 0\n",
      "\n",
      "2021-06-22 14:33:21,692 [MainThread  ] [INFO ]  ========================================================================================\n",
      "| ACPYPE: AnteChamber PYthon Parser interfacE v. 2019-11-07T23:16:00CET (c) 2021 AWSdS |\n",
      "========================================================================================\n",
      "==> ... charge set to 0\n",
      "==> Executing Antechamber...\n",
      "==> * Antechamber OK *\n",
      "==> * Parmchk OK *\n",
      "==> Executing Tleap...\n",
      "++++++++++start_quote+++++++++++++++++++++++++++++++++++++++++++++++++++++++++++\n",
      "Checking 'JZ4'....\n",
      "Checking parameters for unit 'JZ4'.\n",
      "Checking for bond parameters.\n",
      "Checking for angle parameters.\n",
      "Unit is OK.\n",
      "++++++++++end_quote+++++++++++++++++++++++++++++++++++++++++++++++++++++++++++++\n",
      "==> * Tleap OK *\n",
      "==> Removing temporary files...\n",
      "==> Writing NEW PDB file\n",
      "\n",
      "==> Writing CNS/XPLOR files\n",
      "\n",
      "==> Writing GROMACS files\n",
      "\n",
      "==> Writing GMX dihedrals for GMX 4.5 and higher.\n",
      "\n",
      "==> Writing CHARMM files\n",
      "\n",
      "==> Writing pickle file JZ4params.ZW79gA.pkl\n",
      "Total time of execution: 3s\n",
      "\n",
      "2021-06-22 14:33:21,696 [MainThread  ] [INFO ]  File JZ4params.prmtop succesfully created\n",
      "2021-06-22 14:33:21,698 [MainThread  ] [INFO ]  File JZ4params.frcmod succesfully created\n",
      "2021-06-22 14:33:21,701 [MainThread  ] [INFO ]  File JZ4params.lib succesfully created\n",
      "2021-06-22 14:33:21,703 [MainThread  ] [INFO ]  File JZ4params.inpcrd succesfully created\n",
      "2021-06-22 14:33:21,705 [MainThread  ] [INFO ]  Removed temporary folder: JZ4params.ZW79gA.acpype\n"
     ]
    },
    {
     "data": {
      "text/plain": [
       "0"
      ]
     },
     "execution_count": 12,
     "metadata": {},
     "output_type": "execute_result"
    }
   ],
   "source": [
    "# Create Ligand system topology, STEP 4\n",
    "# Acpype_params_gmx: Generation of topologies for AMBER with ACPype\n",
    "# Import module\n",
    "from biobb_chemistry.acpype.acpype_params_ac import acpype_params_ac\n",
    "\n",
    "# Create prop dict and inputs/outputs\n",
    "output_acpype_inpcrd = ligandCode+'params.inpcrd'\n",
    "output_acpype_frcmod = ligandCode+'params.frcmod'\n",
    "output_acpype_lib = ligandCode+'params.lib'\n",
    "output_acpype_prmtop = ligandCode+'params.prmtop'\n",
    "output_acpype = ligandCode+'params'\n",
    "\n",
    "prop = {\n",
    "    'basename' : output_acpype,\n",
    "    'charge' : mol_charge\n",
    "}\n",
    "\n",
    "# Create and launch bb\n",
    "acpype_params_ac(input_path=output_babel_min, \n",
    "                output_path_inpcrd=output_acpype_inpcrd,\n",
    "                output_path_frcmod=output_acpype_frcmod,\n",
    "                output_path_lib=output_acpype_lib,\n",
    "                output_path_prmtop=output_acpype_prmtop,\n",
    "                properties=prop)"
   ]
  },
  {
   "cell_type": "markdown",
   "metadata": {},
   "source": [
    "<a id=\"top\"></a>\n",
    "***\n",
    "## Create protein-ligand complex system topology\n",
    "**Building AMBER topology** corresponding to the protein-ligand complex structure.<br>\n",
    "\n",
    "*IMPORTANT: the previous pdb4amber building block is changing the proper cysteines residue naming in the PDB file from CYS to CYX so that this step can automatically identify and add the disulfide bonds to the system topology.*<br>\n",
    "\n",
    "The **force field** used in this tutorial is [**ff14SB**](https://doi.org/10.1021/acs.jctc.5b00255) for the **protein**, an evolution of the **ff99SB** force field with improved accuracy of protein side chains and backbone parameters; and the [**gaff**](https://doi.org/10.1002/jcc.20035) force field for the small molecule. **Water** molecules type used in this tutorial is [**tip3p**](https://doi.org/10.1021/jp003020w).<br>\n",
    "Adding **side chain atoms** and **hydrogen atoms** if missing. Forming **disulfide bridges** according to the info added in the previous step. <br>\n",
    "\n",
    "*NOTE: From this point on, the **protein-ligand complex structure and topology** generated can be used in a regular MD setup.*\n",
    "\n",
    "Generating three output files: \n",
    "- **AMBER structure** (PDB file)\n",
    "- **AMBER topology** (AMBER [Parmtop](https://ambermd.org/FileFormats.php#topology) file)\n",
    "- **AMBER coordinates** (AMBER [Coordinate/Restart](https://ambermd.org/FileFormats.php#restart) file) \n",
    "***\n",
    "**Building Blocks** used:\n",
    " - [leap_gen_top](https://biobb-amber.readthedocs.io/en/latest/leap.html#module-leap.leap_gen_top) from **biobb_amber.leap.leap_gen_top**\n",
    "***"
   ]
  },
  {
   "cell_type": "code",
   "execution_count": 13,
   "metadata": {},
   "outputs": [
    {
     "name": "stderr",
     "output_type": "stream",
     "text": [
      "2021-06-22 14:33:21,724 [MainThread  ] [INFO ]  Creating 47a0068a-6a8f-44cf-b009-eb08c11b5da8 temporary folder\n",
      "2021-06-22 14:33:21,725 [MainThread  ] [INFO ]  Creating command line with instructions and required arguments\n",
      "2021-06-22 14:33:22,111 [MainThread  ] [INFO ]  tleap  -f 47a0068a-6a8f-44cf-b009-eb08c11b5da8/leap.in\n",
      "\n",
      "2021-06-22 14:33:22,113 [MainThread  ] [INFO ]  Exit code 0\n",
      "\n",
      "2021-06-22 14:33:22,115 [MainThread  ] [INFO ]  -I: Adding /anaconda3/envs/biobb_AMBER_MDsetup_tutorials/dat/leap/prep to search path.\n",
      "-I: Adding /anaconda3/envs/biobb_AMBER_MDsetup_tutorials/dat/leap/lib to search path.\n",
      "-I: Adding /anaconda3/envs/biobb_AMBER_MDsetup_tutorials/dat/leap/parm to search path.\n",
      "-I: Adding /anaconda3/envs/biobb_AMBER_MDsetup_tutorials/dat/leap/cmd to search path.\n",
      "-f: Source 47a0068a-6a8f-44cf-b009-eb08c11b5da8/leap.in.\n",
      "\n",
      "Welcome to LEaP!\n",
      "(no leaprc in search path)\n",
      "Sourcing: ./47a0068a-6a8f-44cf-b009-eb08c11b5da8/leap.in\n",
      "----- Source: /anaconda3/envs/biobb_AMBER_MDsetup_tutorials/dat/leap/cmd/leaprc.protein.ff14SB\n",
      "----- Source of /anaconda3/envs/biobb_AMBER_MDsetup_tutorials/dat/leap/cmd/leaprc.protein.ff14SB done\n",
      "Log file: ./leap.log\n",
      "Loading parameters: /anaconda3/envs/biobb_AMBER_MDsetup_tutorials/dat/leap/parm/parm10.dat\n",
      "Reading title:\n",
      "PARM99 + frcmod.ff99SB + frcmod.parmbsc0 + OL3 for RNA\n",
      "Loading parameters: /anaconda3/envs/biobb_AMBER_MDsetup_tutorials/dat/leap/parm/frcmod.ff14SB\n",
      "Reading force field modification type file (frcmod)\n",
      "Reading title:\n",
      "ff14SB protein backbone and sidechain parameters\n",
      "Loading library: /anaconda3/envs/biobb_AMBER_MDsetup_tutorials/dat/leap/lib/amino12.lib\n",
      "Loading library: /anaconda3/envs/biobb_AMBER_MDsetup_tutorials/dat/leap/lib/aminoct12.lib\n",
      "Loading library: /anaconda3/envs/biobb_AMBER_MDsetup_tutorials/dat/leap/lib/aminont12.lib\n",
      "----- Source: /anaconda3/envs/biobb_AMBER_MDsetup_tutorials/dat/leap/cmd/leaprc.gaff\n",
      "----- Source of /anaconda3/envs/biobb_AMBER_MDsetup_tutorials/dat/leap/cmd/leaprc.gaff done\n",
      "Log file: ./leap.log\n",
      "Loading parameters: /anaconda3/envs/biobb_AMBER_MDsetup_tutorials/dat/leap/parm/gaff.dat\n",
      "Reading title:\n",
      "AMBER General Force Field for organic molecules (Version 1.81, May 2017)\n",
      "Loading library: ./JZ4params.lib\n",
      "Loading parameters: ./JZ4params.frcmod\n",
      "Reading force field modification type file (frcmod)\n",
      "Reading title:\n",
      "Remark line goes here\n",
      "Loading PDB file: ./structure.pdb4amber.pdb\n",
      "  Added missing heavy atom: .R<CASN 163>.A<OXT 15>\n",
      "  total atoms in file: 1310\n",
      "  Leap added 1326 missing atoms according to residue templates:\n",
      "       1 Heavy\n",
      "       1325 H / lone pairs\n",
      "Writing pdb file: structure.leap.pdb\n",
      "\n",
      "/anaconda3/envs/biobb_AMBER_MDsetup_tutorials/bin/teLeap: Warning!\n",
      " Converting N-terminal residue name to PDB format: NMET -> MET\n",
      "\n",
      "/anaconda3/envs/biobb_AMBER_MDsetup_tutorials/bin/teLeap: Warning!\n",
      " Converting C-terminal residue name to PDB format: CASN -> ASN\n",
      "Checking Unit.\n",
      "\n",
      "/anaconda3/envs/biobb_AMBER_MDsetup_tutorials/bin/teLeap: Warning!\n",
      "The unperturbed charge of the unit (5.999999) is not zero.\n",
      "\n",
      "/anaconda3/envs/biobb_AMBER_MDsetup_tutorials/bin/teLeap: Note.\n",
      "Ignoring the warning from Unit Checking.\n",
      "\n",
      "Building topology.\n",
      "Building atom parameters.\n",
      "Building bond parameters.\n",
      "Building angle parameters.\n",
      "Building proper torsion parameters.\n",
      "Building improper torsion parameters.\n",
      " total 534 improper torsions applied\n",
      "Building H-Bond parameters.\n",
      "Incorporating Non-Bonded adjustments.\n",
      "Not Marking per-residue atom chain types.\n",
      "Marking per-residue atom chain types.\n",
      "  (Residues lacking connect0/connect1 - \n",
      "   these don't have chain types marked:\n",
      "\n",
      "\tres\ttotal affected\n",
      "\n",
      "\tCASN\t1\n",
      "\tJZ4\t1\n",
      "\tNMET\t1\n",
      "  )\n",
      " (no restraints)\n",
      "\tQuit\n",
      "\n",
      "Exiting LEaP: Errors = 0; Warnings = 3; Notes = 1.\n",
      "\n",
      "2021-06-22 14:33:22,116 [MainThread  ] [INFO ]  Removed: 47a0068a-6a8f-44cf-b009-eb08c11b5da8\n",
      "2021-06-22 14:33:22,122 [MainThread  ] [INFO ]  Removed: leap.log\n"
     ]
    },
    {
     "data": {
      "text/plain": [
       "0"
      ]
     },
     "execution_count": 13,
     "metadata": {},
     "output_type": "execute_result"
    }
   ],
   "source": [
    "# Import module\n",
    "from biobb_amber.leap.leap_gen_top import leap_gen_top\n",
    "\n",
    "# Create prop dict and inputs/outputs\n",
    "output_pdb_path = 'structure.leap.pdb'\n",
    "output_top_path = 'structure.leap.top'\n",
    "output_crd_path = 'structure.leap.crd'\n",
    "\n",
    "prop = {\n",
    "    \"forcefield\" : [\"protein.ff14SB\",\"gaff\"]\n",
    "}\n",
    "\n",
    "# Create and launch bb\n",
    "leap_gen_top(input_pdb_path=output_pdb4amber_path,\n",
    "           input_lib_path=output_acpype_lib,\n",
    "           input_frcmod_path=output_acpype_frcmod,\n",
    "           output_pdb_path=output_pdb_path,\n",
    "           output_top_path=output_top_path,\n",
    "           output_crd_path=output_crd_path,\n",
    "           properties=prop)"
   ]
  },
  {
   "cell_type": "markdown",
   "metadata": {},
   "source": [
    "### Visualizing 3D structure\n",
    "Visualizing the **PDB structure** using **NGL**. <br>\n",
    "Try to identify the differences between the structure generated for the **system topology** and the **original one** (e.g. hydrogen atoms). "
   ]
  },
  {
   "cell_type": "code",
   "execution_count": 57,
   "metadata": {
    "scrolled": true
   },
   "outputs": [
    {
     "data": {
      "application/vnd.jupyter.widget-view+json": {
       "model_id": "9f1a2719b6d74d3ca234d1076dba5aef",
       "version_major": 2,
       "version_minor": 0
      },
      "text/plain": [
       "NGLWidget()"
      ]
     },
     "metadata": {},
     "output_type": "display_data"
    }
   ],
   "source": [
    "import nglview\n",
    "import ipywidgets\n",
    "\n",
    "# Show protein\n",
    "view = nglview.show_structure_file(output_pdb_path)\n",
    "view.clear_representations()\n",
    "view.add_representation(repr_type='cartoon', selection='protein', opacity='0.4')\n",
    "view.add_representation(repr_type='ball+stick', selection='protein')\n",
    "view.add_representation(repr_type='ball+stick', radius='0.5', selection='JZ4')\n",
    "view._remote_call('setSize', target='Widget', args=['','600px'])\n",
    "\n",
    "view.render_image()\n",
    "view.download_image(filename='ngl6.png')\n",
    "\n",
    "view"
   ]
  },
  {
   "cell_type": "markdown",
   "metadata": {},
   "source": [
    "<img src='ngl6.png'></img>"
   ]
  },
  {
   "cell_type": "markdown",
   "metadata": {},
   "source": [
    "<a id=\"minv\"></a>\n",
    "## Energetically minimize the structure\n",
    "\n",
    "**Energetically minimize** the **protein-ligand complex structure** (in vacuo) using the **sander tool** from the **AMBER MD package**. This step is **relaxing the structure**, usually **constrained**, especially when coming from an X-ray **crystal structure**. <br/>\n",
    "\n",
    "The **miminization process** is done in two steps:\n",
    "- [Step 1](#minv_1): **Hydrogen** minimization, applying **position restraints** (50 Kcal/mol.$Å^{2}$) to the **protein heavy atoms**.\n",
    "- [Step 2](#minv_2): **System** minimization, with **no restraints**.\n",
    "***\n",
    "**Building Blocks** used:\n",
    " - [sander_mdrun](https://biobb-amber.readthedocs.io/en/latest/sander.html#module-sander.sander_mdrun) from **biobb_amber.sander.sander_mdrun**\n",
    " - [process_minout](https://biobb-amber.readthedocs.io/en/latest/process.html#module-process.process_minout) from **biobb_amber.process.process_minout**\n",
    "***"
   ]
  },
  {
   "cell_type": "markdown",
   "metadata": {},
   "source": [
    "<a id=\"minv_1\"></a>\n",
    "### Step 1: Minimize Hydrogens\n",
    "**Hydrogen** minimization, applying **position restraints** (50 Kcal/mol.$Å^{2}$) to the **protein heavy atoms**."
   ]
  },
  {
   "cell_type": "code",
   "execution_count": 15,
   "metadata": {},
   "outputs": [
    {
     "name": "stderr",
     "output_type": "stream",
     "text": [
      "2021-06-22 14:33:22,291 [MainThread  ] [INFO ]  Creating 552ce4cb-1feb-474b-9c35-2661dd87fec7 temporary folder\n",
      "2021-06-22 14:33:22,293 [MainThread  ] [INFO ]  Creating command line with instructions and required arguments\n",
      "2021-06-22 14:33:46,284 [MainThread  ] [INFO ]  sander -O -i 552ce4cb-1feb-474b-9c35-2661dd87fec7/sander.mdin -p structure.leap.top -c structure.leap.crd -r sander.h_min.rst -o sander.h_min.log -x sander.h_min.x -ref  structure.leap.crd\n",
      "\n",
      "2021-06-22 14:33:46,285 [MainThread  ] [INFO ]  Exit code 0\n",
      "\n",
      "2021-06-22 14:33:46,286 [MainThread  ] [INFO ]  Removed: mdinfo, 552ce4cb-1feb-474b-9c35-2661dd87fec7\n"
     ]
    },
    {
     "data": {
      "text/plain": [
       "0"
      ]
     },
     "execution_count": 15,
     "metadata": {},
     "output_type": "execute_result"
    }
   ],
   "source": [
    "# Import module\n",
    "from biobb_amber.sander.sander_mdrun import sander_mdrun\n",
    "\n",
    "# Create prop dict and inputs/outputs\n",
    "output_h_min_traj_path = 'sander.h_min.x'\n",
    "output_h_min_rst_path = 'sander.h_min.rst'\n",
    "output_h_min_log_path = 'sander.h_min.log'\n",
    "\n",
    "prop = {\n",
    "    'simulation_type' : \"min_vacuo\",\n",
    "    \"mdin\" : { \n",
    "        'maxcyc' : 500,\n",
    "        'ntpr' : 5,\n",
    "        'ntr' : 1,\n",
    "        'restraintmask' : '\\\":*&!@H=\\\"',\n",
    "        'restraint_wt' : 50.0\n",
    "    }\n",
    "}\n",
    "\n",
    "# Create and launch bb\n",
    "sander_mdrun(input_top_path=output_top_path,\n",
    "            input_crd_path=output_crd_path,\n",
    "            input_ref_path=output_crd_path,\n",
    "            output_traj_path=output_h_min_traj_path,\n",
    "            output_rst_path=output_h_min_rst_path,\n",
    "            output_log_path=output_h_min_log_path,\n",
    "            properties=prop)"
   ]
  },
  {
   "cell_type": "markdown",
   "metadata": {},
   "source": [
    "### Checking Energy Minimization results\n",
    "Checking **energy minimization** results. Plotting **potential energy** along time during the **minimization process**."
   ]
  },
  {
   "cell_type": "code",
   "execution_count": 16,
   "metadata": {},
   "outputs": [
    {
     "name": "stderr",
     "output_type": "stream",
     "text": [
      "2021-06-22 14:33:46,306 [MainThread  ] [INFO ]  Creating command line with instructions and required arguments\n",
      "2021-06-22 14:33:46,375 [MainThread  ] [INFO ]  process_minout.perl  sander.h_min.log\n",
      "\n",
      "2021-06-22 14:33:46,376 [MainThread  ] [INFO ]  Exit code 0\n",
      "\n",
      "2021-06-22 14:33:46,377 [MainThread  ] [INFO ]  Processing sander output file (sander.h_min.log)...\n",
      "Processing step 50 of a possible 500...\n",
      "Processing step 100 of a possible 500...\n",
      "Processing step 150 of a possible 500...\n",
      "Processing step 200 of a possible 500...\n",
      "Processing step 250 of a possible 500...\n",
      "Processing step 300 of a possible 500...\n",
      "Processing step 350 of a possible 500...\n",
      "Processing step 400 of a possible 500...\n",
      "Processing step 450 of a possible 500...\n",
      "Processing step 500 of a possible 500...\n",
      "Processing step 500 of a possible 500...\n",
      "Starting output...\n",
      "Outputing summary.NSTEP\n",
      "Outputing summary.ENERGY\n",
      "Outputing summary.RMS\n",
      "Outputing summary.GMAX\n",
      "Outputing summary.NAME\n",
      "Outputing summary.NUMBER\n",
      "Outputing summary.BOND\n",
      "Outputing summary.ANGLE\n",
      "Outputing summary.DIHEDRAL\n",
      "Outputing summary.VDWAALS\n",
      "Outputing summary.EEL\n",
      "Outputing summary.HBOND\n",
      "Outputing summary.VDW14\n",
      "Outputing summary.EEL14\n",
      "Outputing summary.RESTRAINT\n",
      "\n",
      "2021-06-22 14:33:46,381 [MainThread  ] [INFO ]  Removed: [PosixPath('summary.DIHEDRAL'), PosixPath('summary.NUMBER'), PosixPath('summary.TSOLVENT'), PosixPath('summary.BOND'), PosixPath('summary.VDWAALS'), PosixPath('summary.HBOND'), PosixPath('summary.EEL14'), PosixPath('summary.GMAX'), PosixPath('summary.RESTRAINT'), PosixPath('summary.NAME'), PosixPath('summary.EKCMT'), PosixPath('summary.VOLUME'), PosixPath('summary.ESCF'), PosixPath('summary.EEL'), PosixPath('summary.PRES'), PosixPath('summary.TSOLUTE'), PosixPath('summary.NSTEP'), PosixPath('summary.VDW14'), PosixPath('summary.TEMP'), PosixPath('summary.EPTOT'), PosixPath('summary.DENSITY'), PosixPath('summary.EKTOT'), PosixPath('summary.ETOT'), PosixPath('summary.ANGLE'), PosixPath('summary.ENERGY'), PosixPath('summary.RMS')]\n"
     ]
    },
    {
     "data": {
      "text/plain": [
       "0"
      ]
     },
     "execution_count": 16,
     "metadata": {},
     "output_type": "execute_result"
    }
   ],
   "source": [
    "# Import module\n",
    "from biobb_amber.process.process_minout import process_minout\n",
    "\n",
    "# Create prop dict and inputs/outputs\n",
    "output_h_min_dat_path = 'sander.h_min.energy.dat'\n",
    "\n",
    "prop = {\n",
    "    \"terms\" : ['ENERGY']\n",
    "}\n",
    "\n",
    "# Create and launch bb\n",
    "process_minout(input_log_path=output_h_min_log_path,\n",
    "            output_dat_path=output_h_min_dat_path,\n",
    "            properties=prop)  "
   ]
  },
  {
   "cell_type": "code",
   "execution_count": 17,
   "metadata": {
    "scrolled": false
   },
   "outputs": [
    {
     "data": {
      "text/html": [
       "        <script type=\"text/javascript\">\n",
       "        window.PlotlyConfig = {MathJaxConfig: 'local'};\n",
       "        if (window.MathJax) {MathJax.Hub.Config({SVG: {font: \"STIX-Web\"}});}\n",
       "        if (typeof require !== 'undefined') {\n",
       "        require.undef(\"plotly\");\n",
       "        requirejs.config({\n",
       "            paths: {\n",
       "                'plotly': ['https://cdn.plot.ly/plotly-2.1.0.min']\n",
       "            }\n",
       "        });\n",
       "        require(['plotly'], function(Plotly) {\n",
       "            window._Plotly = Plotly;\n",
       "        });\n",
       "        }\n",
       "        </script>\n",
       "        "
      ]
     },
     "metadata": {},
     "output_type": "display_data"
    },
    {
     "data": {
      "application/vnd.plotly.v1+json": {
       "config": {
        "linkText": "Export to plot.ly",
        "plotlyServerURL": "https://plot.ly",
        "showLink": false
       },
       "data": [
        {
         "type": "scatter",
         "x": [
          1,
          5,
          10,
          15,
          20,
          25,
          30,
          35,
          40,
          45,
          50,
          55,
          60,
          65,
          70,
          75,
          80,
          85,
          90,
          95,
          100,
          105,
          110,
          115,
          120,
          125,
          130,
          135,
          140,
          145,
          150,
          155,
          160,
          165,
          170,
          175,
          180,
          185,
          190,
          195,
          200,
          205,
          210,
          215,
          220,
          225,
          230,
          235,
          240,
          245,
          250,
          255,
          260,
          265,
          270,
          275,
          280,
          285,
          290,
          295,
          300,
          305,
          310,
          315,
          320,
          325,
          330,
          335,
          340,
          345,
          350,
          355,
          360,
          365,
          370,
          375,
          380,
          385,
          390,
          395,
          400,
          405,
          410,
          415,
          420,
          425,
          430,
          435,
          440,
          445,
          450,
          455,
          460,
          465,
          470,
          475,
          480,
          485,
          490,
          495,
          500
         ],
         "y": [
          -3483.8,
          -3551.8,
          -3706,
          -3923.3,
          -4167.5,
          -4190.1,
          -4200.6,
          -4216.7,
          -4239.8,
          -4250.4,
          -4319.6,
          -4325.2,
          -4331.2,
          -4338.6,
          -4340.3,
          -4364.7,
          -4368.1,
          -4371.6,
          -4374.8,
          -4377.1,
          -4355.4,
          -4357.7,
          -4359.8,
          -4362.5,
          -4363.3,
          -4345.1,
          -4347.8,
          -4349.1,
          -4350.6,
          -4351.9,
          -4387.2,
          -4388.5,
          -4389.3,
          -4390.4,
          -4391.4,
          -4225.1,
          -4226.1,
          -4227.4,
          -4227.9,
          -4228.8,
          -4281.1,
          -4281.5,
          -4283.1,
          -4283.9,
          -4284.2,
          -4172.1,
          -4173.1,
          -4174.1,
          -4175.1,
          -4176.1,
          -4275.3,
          -4278.1,
          -4285,
          -4288.1,
          -4291,
          -4267.7,
          -4268,
          -4269.6,
          -4271.2,
          -4272.3,
          -4224.3,
          -4224.8,
          -4225.6,
          -4226.5,
          -4228.2,
          -4261.5,
          -4262.1,
          -4263.4,
          -4265,
          -4266.3,
          -4266.5,
          -4267.3,
          -4268.4,
          -4270,
          -4270.7,
          -4227.8,
          -4227.7,
          -4228.7,
          -4229.3,
          -4229.9,
          -4306.3,
          -4307,
          -4307.8,
          -4309.6,
          -4311.2,
          -4284.8,
          -4285.9,
          -4292.2,
          -4298.8,
          -4302.5,
          -4349.9,
          -4350.3,
          -4351.3,
          -4352.2,
          -4352.7,
          -4351.7,
          -4352.2,
          -4353,
          -4354.1,
          -4354.9,
          -4333.1
         ]
        }
       ],
       "layout": {
        "template": {
         "data": {
          "bar": [
           {
            "error_x": {
             "color": "#2a3f5f"
            },
            "error_y": {
             "color": "#2a3f5f"
            },
            "marker": {
             "line": {
              "color": "#E5ECF6",
              "width": 0.5
             },
             "pattern": {
              "fillmode": "overlay",
              "size": 10,
              "solidity": 0.2
             }
            },
            "type": "bar"
           }
          ],
          "barpolar": [
           {
            "marker": {
             "line": {
              "color": "#E5ECF6",
              "width": 0.5
             },
             "pattern": {
              "fillmode": "overlay",
              "size": 10,
              "solidity": 0.2
             }
            },
            "type": "barpolar"
           }
          ],
          "carpet": [
           {
            "aaxis": {
             "endlinecolor": "#2a3f5f",
             "gridcolor": "white",
             "linecolor": "white",
             "minorgridcolor": "white",
             "startlinecolor": "#2a3f5f"
            },
            "baxis": {
             "endlinecolor": "#2a3f5f",
             "gridcolor": "white",
             "linecolor": "white",
             "minorgridcolor": "white",
             "startlinecolor": "#2a3f5f"
            },
            "type": "carpet"
           }
          ],
          "choropleth": [
           {
            "colorbar": {
             "outlinewidth": 0,
             "ticks": ""
            },
            "type": "choropleth"
           }
          ],
          "contour": [
           {
            "colorbar": {
             "outlinewidth": 0,
             "ticks": ""
            },
            "colorscale": [
             [
              0,
              "#0d0887"
             ],
             [
              0.1111111111111111,
              "#46039f"
             ],
             [
              0.2222222222222222,
              "#7201a8"
             ],
             [
              0.3333333333333333,
              "#9c179e"
             ],
             [
              0.4444444444444444,
              "#bd3786"
             ],
             [
              0.5555555555555556,
              "#d8576b"
             ],
             [
              0.6666666666666666,
              "#ed7953"
             ],
             [
              0.7777777777777778,
              "#fb9f3a"
             ],
             [
              0.8888888888888888,
              "#fdca26"
             ],
             [
              1,
              "#f0f921"
             ]
            ],
            "type": "contour"
           }
          ],
          "contourcarpet": [
           {
            "colorbar": {
             "outlinewidth": 0,
             "ticks": ""
            },
            "type": "contourcarpet"
           }
          ],
          "heatmap": [
           {
            "colorbar": {
             "outlinewidth": 0,
             "ticks": ""
            },
            "colorscale": [
             [
              0,
              "#0d0887"
             ],
             [
              0.1111111111111111,
              "#46039f"
             ],
             [
              0.2222222222222222,
              "#7201a8"
             ],
             [
              0.3333333333333333,
              "#9c179e"
             ],
             [
              0.4444444444444444,
              "#bd3786"
             ],
             [
              0.5555555555555556,
              "#d8576b"
             ],
             [
              0.6666666666666666,
              "#ed7953"
             ],
             [
              0.7777777777777778,
              "#fb9f3a"
             ],
             [
              0.8888888888888888,
              "#fdca26"
             ],
             [
              1,
              "#f0f921"
             ]
            ],
            "type": "heatmap"
           }
          ],
          "heatmapgl": [
           {
            "colorbar": {
             "outlinewidth": 0,
             "ticks": ""
            },
            "colorscale": [
             [
              0,
              "#0d0887"
             ],
             [
              0.1111111111111111,
              "#46039f"
             ],
             [
              0.2222222222222222,
              "#7201a8"
             ],
             [
              0.3333333333333333,
              "#9c179e"
             ],
             [
              0.4444444444444444,
              "#bd3786"
             ],
             [
              0.5555555555555556,
              "#d8576b"
             ],
             [
              0.6666666666666666,
              "#ed7953"
             ],
             [
              0.7777777777777778,
              "#fb9f3a"
             ],
             [
              0.8888888888888888,
              "#fdca26"
             ],
             [
              1,
              "#f0f921"
             ]
            ],
            "type": "heatmapgl"
           }
          ],
          "histogram": [
           {
            "marker": {
             "pattern": {
              "fillmode": "overlay",
              "size": 10,
              "solidity": 0.2
             }
            },
            "type": "histogram"
           }
          ],
          "histogram2d": [
           {
            "colorbar": {
             "outlinewidth": 0,
             "ticks": ""
            },
            "colorscale": [
             [
              0,
              "#0d0887"
             ],
             [
              0.1111111111111111,
              "#46039f"
             ],
             [
              0.2222222222222222,
              "#7201a8"
             ],
             [
              0.3333333333333333,
              "#9c179e"
             ],
             [
              0.4444444444444444,
              "#bd3786"
             ],
             [
              0.5555555555555556,
              "#d8576b"
             ],
             [
              0.6666666666666666,
              "#ed7953"
             ],
             [
              0.7777777777777778,
              "#fb9f3a"
             ],
             [
              0.8888888888888888,
              "#fdca26"
             ],
             [
              1,
              "#f0f921"
             ]
            ],
            "type": "histogram2d"
           }
          ],
          "histogram2dcontour": [
           {
            "colorbar": {
             "outlinewidth": 0,
             "ticks": ""
            },
            "colorscale": [
             [
              0,
              "#0d0887"
             ],
             [
              0.1111111111111111,
              "#46039f"
             ],
             [
              0.2222222222222222,
              "#7201a8"
             ],
             [
              0.3333333333333333,
              "#9c179e"
             ],
             [
              0.4444444444444444,
              "#bd3786"
             ],
             [
              0.5555555555555556,
              "#d8576b"
             ],
             [
              0.6666666666666666,
              "#ed7953"
             ],
             [
              0.7777777777777778,
              "#fb9f3a"
             ],
             [
              0.8888888888888888,
              "#fdca26"
             ],
             [
              1,
              "#f0f921"
             ]
            ],
            "type": "histogram2dcontour"
           }
          ],
          "mesh3d": [
           {
            "colorbar": {
             "outlinewidth": 0,
             "ticks": ""
            },
            "type": "mesh3d"
           }
          ],
          "parcoords": [
           {
            "line": {
             "colorbar": {
              "outlinewidth": 0,
              "ticks": ""
             }
            },
            "type": "parcoords"
           }
          ],
          "pie": [
           {
            "automargin": true,
            "type": "pie"
           }
          ],
          "scatter": [
           {
            "marker": {
             "colorbar": {
              "outlinewidth": 0,
              "ticks": ""
             }
            },
            "type": "scatter"
           }
          ],
          "scatter3d": [
           {
            "line": {
             "colorbar": {
              "outlinewidth": 0,
              "ticks": ""
             }
            },
            "marker": {
             "colorbar": {
              "outlinewidth": 0,
              "ticks": ""
             }
            },
            "type": "scatter3d"
           }
          ],
          "scattercarpet": [
           {
            "marker": {
             "colorbar": {
              "outlinewidth": 0,
              "ticks": ""
             }
            },
            "type": "scattercarpet"
           }
          ],
          "scattergeo": [
           {
            "marker": {
             "colorbar": {
              "outlinewidth": 0,
              "ticks": ""
             }
            },
            "type": "scattergeo"
           }
          ],
          "scattergl": [
           {
            "marker": {
             "colorbar": {
              "outlinewidth": 0,
              "ticks": ""
             }
            },
            "type": "scattergl"
           }
          ],
          "scattermapbox": [
           {
            "marker": {
             "colorbar": {
              "outlinewidth": 0,
              "ticks": ""
             }
            },
            "type": "scattermapbox"
           }
          ],
          "scatterpolar": [
           {
            "marker": {
             "colorbar": {
              "outlinewidth": 0,
              "ticks": ""
             }
            },
            "type": "scatterpolar"
           }
          ],
          "scatterpolargl": [
           {
            "marker": {
             "colorbar": {
              "outlinewidth": 0,
              "ticks": ""
             }
            },
            "type": "scatterpolargl"
           }
          ],
          "scatterternary": [
           {
            "marker": {
             "colorbar": {
              "outlinewidth": 0,
              "ticks": ""
             }
            },
            "type": "scatterternary"
           }
          ],
          "surface": [
           {
            "colorbar": {
             "outlinewidth": 0,
             "ticks": ""
            },
            "colorscale": [
             [
              0,
              "#0d0887"
             ],
             [
              0.1111111111111111,
              "#46039f"
             ],
             [
              0.2222222222222222,
              "#7201a8"
             ],
             [
              0.3333333333333333,
              "#9c179e"
             ],
             [
              0.4444444444444444,
              "#bd3786"
             ],
             [
              0.5555555555555556,
              "#d8576b"
             ],
             [
              0.6666666666666666,
              "#ed7953"
             ],
             [
              0.7777777777777778,
              "#fb9f3a"
             ],
             [
              0.8888888888888888,
              "#fdca26"
             ],
             [
              1,
              "#f0f921"
             ]
            ],
            "type": "surface"
           }
          ],
          "table": [
           {
            "cells": {
             "fill": {
              "color": "#EBF0F8"
             },
             "line": {
              "color": "white"
             }
            },
            "header": {
             "fill": {
              "color": "#C8D4E3"
             },
             "line": {
              "color": "white"
             }
            },
            "type": "table"
           }
          ]
         },
         "layout": {
          "annotationdefaults": {
           "arrowcolor": "#2a3f5f",
           "arrowhead": 0,
           "arrowwidth": 1
          },
          "autotypenumbers": "strict",
          "coloraxis": {
           "colorbar": {
            "outlinewidth": 0,
            "ticks": ""
           }
          },
          "colorscale": {
           "diverging": [
            [
             0,
             "#8e0152"
            ],
            [
             0.1,
             "#c51b7d"
            ],
            [
             0.2,
             "#de77ae"
            ],
            [
             0.3,
             "#f1b6da"
            ],
            [
             0.4,
             "#fde0ef"
            ],
            [
             0.5,
             "#f7f7f7"
            ],
            [
             0.6,
             "#e6f5d0"
            ],
            [
             0.7,
             "#b8e186"
            ],
            [
             0.8,
             "#7fbc41"
            ],
            [
             0.9,
             "#4d9221"
            ],
            [
             1,
             "#276419"
            ]
           ],
           "sequential": [
            [
             0,
             "#0d0887"
            ],
            [
             0.1111111111111111,
             "#46039f"
            ],
            [
             0.2222222222222222,
             "#7201a8"
            ],
            [
             0.3333333333333333,
             "#9c179e"
            ],
            [
             0.4444444444444444,
             "#bd3786"
            ],
            [
             0.5555555555555556,
             "#d8576b"
            ],
            [
             0.6666666666666666,
             "#ed7953"
            ],
            [
             0.7777777777777778,
             "#fb9f3a"
            ],
            [
             0.8888888888888888,
             "#fdca26"
            ],
            [
             1,
             "#f0f921"
            ]
           ],
           "sequentialminus": [
            [
             0,
             "#0d0887"
            ],
            [
             0.1111111111111111,
             "#46039f"
            ],
            [
             0.2222222222222222,
             "#7201a8"
            ],
            [
             0.3333333333333333,
             "#9c179e"
            ],
            [
             0.4444444444444444,
             "#bd3786"
            ],
            [
             0.5555555555555556,
             "#d8576b"
            ],
            [
             0.6666666666666666,
             "#ed7953"
            ],
            [
             0.7777777777777778,
             "#fb9f3a"
            ],
            [
             0.8888888888888888,
             "#fdca26"
            ],
            [
             1,
             "#f0f921"
            ]
           ]
          },
          "colorway": [
           "#636efa",
           "#EF553B",
           "#00cc96",
           "#ab63fa",
           "#FFA15A",
           "#19d3f3",
           "#FF6692",
           "#B6E880",
           "#FF97FF",
           "#FECB52"
          ],
          "font": {
           "color": "#2a3f5f"
          },
          "geo": {
           "bgcolor": "white",
           "lakecolor": "white",
           "landcolor": "#E5ECF6",
           "showlakes": true,
           "showland": true,
           "subunitcolor": "white"
          },
          "hoverlabel": {
           "align": "left"
          },
          "hovermode": "closest",
          "mapbox": {
           "style": "light"
          },
          "paper_bgcolor": "white",
          "plot_bgcolor": "#E5ECF6",
          "polar": {
           "angularaxis": {
            "gridcolor": "white",
            "linecolor": "white",
            "ticks": ""
           },
           "bgcolor": "#E5ECF6",
           "radialaxis": {
            "gridcolor": "white",
            "linecolor": "white",
            "ticks": ""
           }
          },
          "scene": {
           "xaxis": {
            "backgroundcolor": "#E5ECF6",
            "gridcolor": "white",
            "gridwidth": 2,
            "linecolor": "white",
            "showbackground": true,
            "ticks": "",
            "zerolinecolor": "white"
           },
           "yaxis": {
            "backgroundcolor": "#E5ECF6",
            "gridcolor": "white",
            "gridwidth": 2,
            "linecolor": "white",
            "showbackground": true,
            "ticks": "",
            "zerolinecolor": "white"
           },
           "zaxis": {
            "backgroundcolor": "#E5ECF6",
            "gridcolor": "white",
            "gridwidth": 2,
            "linecolor": "white",
            "showbackground": true,
            "ticks": "",
            "zerolinecolor": "white"
           }
          },
          "shapedefaults": {
           "line": {
            "color": "#2a3f5f"
           }
          },
          "ternary": {
           "aaxis": {
            "gridcolor": "white",
            "linecolor": "white",
            "ticks": ""
           },
           "baxis": {
            "gridcolor": "white",
            "linecolor": "white",
            "ticks": ""
           },
           "bgcolor": "#E5ECF6",
           "caxis": {
            "gridcolor": "white",
            "linecolor": "white",
            "ticks": ""
           }
          },
          "title": {
           "x": 0.05
          },
          "xaxis": {
           "automargin": true,
           "gridcolor": "white",
           "linecolor": "white",
           "ticks": "",
           "title": {
            "standoff": 15
           },
           "zerolinecolor": "white",
           "zerolinewidth": 2
          },
          "yaxis": {
           "automargin": true,
           "gridcolor": "white",
           "linecolor": "white",
           "ticks": "",
           "title": {
            "standoff": 15
           },
           "zerolinecolor": "white",
           "zerolinewidth": 2
          }
         }
        },
        "title": {
         "text": "Energy Minimization"
        },
        "xaxis": {
         "title": {
          "text": "Energy Minimization Step"
         }
        },
        "yaxis": {
         "title": {
          "text": "Potential Energy kcal/mol"
         }
        }
       }
      },
      "text/html": [
       "<div>                            <div id=\"b0b74a6b-187c-4af6-b306-3f6adc7981a7\" class=\"plotly-graph-div\" style=\"height:525px; width:100%;\"></div>            <script type=\"text/javascript\">                require([\"plotly\"], function(Plotly) {                    window.PLOTLYENV=window.PLOTLYENV || {};                                    if (document.getElementById(\"b0b74a6b-187c-4af6-b306-3f6adc7981a7\")) {                    Plotly.newPlot(                        \"b0b74a6b-187c-4af6-b306-3f6adc7981a7\",                        [{\"type\":\"scatter\",\"x\":[1.0,5.0,10.0,15.0,20.0,25.0,30.0,35.0,40.0,45.0,50.0,55.0,60.0,65.0,70.0,75.0,80.0,85.0,90.0,95.0,100.0,105.0,110.0,115.0,120.0,125.0,130.0,135.0,140.0,145.0,150.0,155.0,160.0,165.0,170.0,175.0,180.0,185.0,190.0,195.0,200.0,205.0,210.0,215.0,220.0,225.0,230.0,235.0,240.0,245.0,250.0,255.0,260.0,265.0,270.0,275.0,280.0,285.0,290.0,295.0,300.0,305.0,310.0,315.0,320.0,325.0,330.0,335.0,340.0,345.0,350.0,355.0,360.0,365.0,370.0,375.0,380.0,385.0,390.0,395.0,400.0,405.0,410.0,415.0,420.0,425.0,430.0,435.0,440.0,445.0,450.0,455.0,460.0,465.0,470.0,475.0,480.0,485.0,490.0,495.0,500.0],\"y\":[-3483.8,-3551.8,-3706.0,-3923.3,-4167.5,-4190.1,-4200.6,-4216.7,-4239.8,-4250.4,-4319.6,-4325.2,-4331.2,-4338.6,-4340.3,-4364.7,-4368.1,-4371.6,-4374.8,-4377.1,-4355.4,-4357.7,-4359.8,-4362.5,-4363.3,-4345.1,-4347.8,-4349.1,-4350.6,-4351.9,-4387.2,-4388.5,-4389.3,-4390.4,-4391.4,-4225.1,-4226.1,-4227.4,-4227.9,-4228.8,-4281.1,-4281.5,-4283.1,-4283.9,-4284.2,-4172.1,-4173.1,-4174.1,-4175.1,-4176.1,-4275.3,-4278.1,-4285.0,-4288.1,-4291.0,-4267.7,-4268.0,-4269.6,-4271.2,-4272.3,-4224.3,-4224.8,-4225.6,-4226.5,-4228.2,-4261.5,-4262.1,-4263.4,-4265.0,-4266.3,-4266.5,-4267.3,-4268.4,-4270.0,-4270.7,-4227.8,-4227.7,-4228.7,-4229.3,-4229.9,-4306.3,-4307.0,-4307.8,-4309.6,-4311.2,-4284.8,-4285.9,-4292.2,-4298.8,-4302.5,-4349.9,-4350.3,-4351.3,-4352.2,-4352.7,-4351.7,-4352.2,-4353.0,-4354.1,-4354.9,-4333.1]}],                        {\"template\":{\"data\":{\"bar\":[{\"error_x\":{\"color\":\"#2a3f5f\"},\"error_y\":{\"color\":\"#2a3f5f\"},\"marker\":{\"line\":{\"color\":\"#E5ECF6\",\"width\":0.5},\"pattern\":{\"fillmode\":\"overlay\",\"size\":10,\"solidity\":0.2}},\"type\":\"bar\"}],\"barpolar\":[{\"marker\":{\"line\":{\"color\":\"#E5ECF6\",\"width\":0.5},\"pattern\":{\"fillmode\":\"overlay\",\"size\":10,\"solidity\":0.2}},\"type\":\"barpolar\"}],\"carpet\":[{\"aaxis\":{\"endlinecolor\":\"#2a3f5f\",\"gridcolor\":\"white\",\"linecolor\":\"white\",\"minorgridcolor\":\"white\",\"startlinecolor\":\"#2a3f5f\"},\"baxis\":{\"endlinecolor\":\"#2a3f5f\",\"gridcolor\":\"white\",\"linecolor\":\"white\",\"minorgridcolor\":\"white\",\"startlinecolor\":\"#2a3f5f\"},\"type\":\"carpet\"}],\"choropleth\":[{\"colorbar\":{\"outlinewidth\":0,\"ticks\":\"\"},\"type\":\"choropleth\"}],\"contour\":[{\"colorbar\":{\"outlinewidth\":0,\"ticks\":\"\"},\"colorscale\":[[0.0,\"#0d0887\"],[0.1111111111111111,\"#46039f\"],[0.2222222222222222,\"#7201a8\"],[0.3333333333333333,\"#9c179e\"],[0.4444444444444444,\"#bd3786\"],[0.5555555555555556,\"#d8576b\"],[0.6666666666666666,\"#ed7953\"],[0.7777777777777778,\"#fb9f3a\"],[0.8888888888888888,\"#fdca26\"],[1.0,\"#f0f921\"]],\"type\":\"contour\"}],\"contourcarpet\":[{\"colorbar\":{\"outlinewidth\":0,\"ticks\":\"\"},\"type\":\"contourcarpet\"}],\"heatmap\":[{\"colorbar\":{\"outlinewidth\":0,\"ticks\":\"\"},\"colorscale\":[[0.0,\"#0d0887\"],[0.1111111111111111,\"#46039f\"],[0.2222222222222222,\"#7201a8\"],[0.3333333333333333,\"#9c179e\"],[0.4444444444444444,\"#bd3786\"],[0.5555555555555556,\"#d8576b\"],[0.6666666666666666,\"#ed7953\"],[0.7777777777777778,\"#fb9f3a\"],[0.8888888888888888,\"#fdca26\"],[1.0,\"#f0f921\"]],\"type\":\"heatmap\"}],\"heatmapgl\":[{\"colorbar\":{\"outlinewidth\":0,\"ticks\":\"\"},\"colorscale\":[[0.0,\"#0d0887\"],[0.1111111111111111,\"#46039f\"],[0.2222222222222222,\"#7201a8\"],[0.3333333333333333,\"#9c179e\"],[0.4444444444444444,\"#bd3786\"],[0.5555555555555556,\"#d8576b\"],[0.6666666666666666,\"#ed7953\"],[0.7777777777777778,\"#fb9f3a\"],[0.8888888888888888,\"#fdca26\"],[1.0,\"#f0f921\"]],\"type\":\"heatmapgl\"}],\"histogram\":[{\"marker\":{\"pattern\":{\"fillmode\":\"overlay\",\"size\":10,\"solidity\":0.2}},\"type\":\"histogram\"}],\"histogram2d\":[{\"colorbar\":{\"outlinewidth\":0,\"ticks\":\"\"},\"colorscale\":[[0.0,\"#0d0887\"],[0.1111111111111111,\"#46039f\"],[0.2222222222222222,\"#7201a8\"],[0.3333333333333333,\"#9c179e\"],[0.4444444444444444,\"#bd3786\"],[0.5555555555555556,\"#d8576b\"],[0.6666666666666666,\"#ed7953\"],[0.7777777777777778,\"#fb9f3a\"],[0.8888888888888888,\"#fdca26\"],[1.0,\"#f0f921\"]],\"type\":\"histogram2d\"}],\"histogram2dcontour\":[{\"colorbar\":{\"outlinewidth\":0,\"ticks\":\"\"},\"colorscale\":[[0.0,\"#0d0887\"],[0.1111111111111111,\"#46039f\"],[0.2222222222222222,\"#7201a8\"],[0.3333333333333333,\"#9c179e\"],[0.4444444444444444,\"#bd3786\"],[0.5555555555555556,\"#d8576b\"],[0.6666666666666666,\"#ed7953\"],[0.7777777777777778,\"#fb9f3a\"],[0.8888888888888888,\"#fdca26\"],[1.0,\"#f0f921\"]],\"type\":\"histogram2dcontour\"}],\"mesh3d\":[{\"colorbar\":{\"outlinewidth\":0,\"ticks\":\"\"},\"type\":\"mesh3d\"}],\"parcoords\":[{\"line\":{\"colorbar\":{\"outlinewidth\":0,\"ticks\":\"\"}},\"type\":\"parcoords\"}],\"pie\":[{\"automargin\":true,\"type\":\"pie\"}],\"scatter\":[{\"marker\":{\"colorbar\":{\"outlinewidth\":0,\"ticks\":\"\"}},\"type\":\"scatter\"}],\"scatter3d\":[{\"line\":{\"colorbar\":{\"outlinewidth\":0,\"ticks\":\"\"}},\"marker\":{\"colorbar\":{\"outlinewidth\":0,\"ticks\":\"\"}},\"type\":\"scatter3d\"}],\"scattercarpet\":[{\"marker\":{\"colorbar\":{\"outlinewidth\":0,\"ticks\":\"\"}},\"type\":\"scattercarpet\"}],\"scattergeo\":[{\"marker\":{\"colorbar\":{\"outlinewidth\":0,\"ticks\":\"\"}},\"type\":\"scattergeo\"}],\"scattergl\":[{\"marker\":{\"colorbar\":{\"outlinewidth\":0,\"ticks\":\"\"}},\"type\":\"scattergl\"}],\"scattermapbox\":[{\"marker\":{\"colorbar\":{\"outlinewidth\":0,\"ticks\":\"\"}},\"type\":\"scattermapbox\"}],\"scatterpolar\":[{\"marker\":{\"colorbar\":{\"outlinewidth\":0,\"ticks\":\"\"}},\"type\":\"scatterpolar\"}],\"scatterpolargl\":[{\"marker\":{\"colorbar\":{\"outlinewidth\":0,\"ticks\":\"\"}},\"type\":\"scatterpolargl\"}],\"scatterternary\":[{\"marker\":{\"colorbar\":{\"outlinewidth\":0,\"ticks\":\"\"}},\"type\":\"scatterternary\"}],\"surface\":[{\"colorbar\":{\"outlinewidth\":0,\"ticks\":\"\"},\"colorscale\":[[0.0,\"#0d0887\"],[0.1111111111111111,\"#46039f\"],[0.2222222222222222,\"#7201a8\"],[0.3333333333333333,\"#9c179e\"],[0.4444444444444444,\"#bd3786\"],[0.5555555555555556,\"#d8576b\"],[0.6666666666666666,\"#ed7953\"],[0.7777777777777778,\"#fb9f3a\"],[0.8888888888888888,\"#fdca26\"],[1.0,\"#f0f921\"]],\"type\":\"surface\"}],\"table\":[{\"cells\":{\"fill\":{\"color\":\"#EBF0F8\"},\"line\":{\"color\":\"white\"}},\"header\":{\"fill\":{\"color\":\"#C8D4E3\"},\"line\":{\"color\":\"white\"}},\"type\":\"table\"}]},\"layout\":{\"annotationdefaults\":{\"arrowcolor\":\"#2a3f5f\",\"arrowhead\":0,\"arrowwidth\":1},\"autotypenumbers\":\"strict\",\"coloraxis\":{\"colorbar\":{\"outlinewidth\":0,\"ticks\":\"\"}},\"colorscale\":{\"diverging\":[[0,\"#8e0152\"],[0.1,\"#c51b7d\"],[0.2,\"#de77ae\"],[0.3,\"#f1b6da\"],[0.4,\"#fde0ef\"],[0.5,\"#f7f7f7\"],[0.6,\"#e6f5d0\"],[0.7,\"#b8e186\"],[0.8,\"#7fbc41\"],[0.9,\"#4d9221\"],[1,\"#276419\"]],\"sequential\":[[0.0,\"#0d0887\"],[0.1111111111111111,\"#46039f\"],[0.2222222222222222,\"#7201a8\"],[0.3333333333333333,\"#9c179e\"],[0.4444444444444444,\"#bd3786\"],[0.5555555555555556,\"#d8576b\"],[0.6666666666666666,\"#ed7953\"],[0.7777777777777778,\"#fb9f3a\"],[0.8888888888888888,\"#fdca26\"],[1.0,\"#f0f921\"]],\"sequentialminus\":[[0.0,\"#0d0887\"],[0.1111111111111111,\"#46039f\"],[0.2222222222222222,\"#7201a8\"],[0.3333333333333333,\"#9c179e\"],[0.4444444444444444,\"#bd3786\"],[0.5555555555555556,\"#d8576b\"],[0.6666666666666666,\"#ed7953\"],[0.7777777777777778,\"#fb9f3a\"],[0.8888888888888888,\"#fdca26\"],[1.0,\"#f0f921\"]]},\"colorway\":[\"#636efa\",\"#EF553B\",\"#00cc96\",\"#ab63fa\",\"#FFA15A\",\"#19d3f3\",\"#FF6692\",\"#B6E880\",\"#FF97FF\",\"#FECB52\"],\"font\":{\"color\":\"#2a3f5f\"},\"geo\":{\"bgcolor\":\"white\",\"lakecolor\":\"white\",\"landcolor\":\"#E5ECF6\",\"showlakes\":true,\"showland\":true,\"subunitcolor\":\"white\"},\"hoverlabel\":{\"align\":\"left\"},\"hovermode\":\"closest\",\"mapbox\":{\"style\":\"light\"},\"paper_bgcolor\":\"white\",\"plot_bgcolor\":\"#E5ECF6\",\"polar\":{\"angularaxis\":{\"gridcolor\":\"white\",\"linecolor\":\"white\",\"ticks\":\"\"},\"bgcolor\":\"#E5ECF6\",\"radialaxis\":{\"gridcolor\":\"white\",\"linecolor\":\"white\",\"ticks\":\"\"}},\"scene\":{\"xaxis\":{\"backgroundcolor\":\"#E5ECF6\",\"gridcolor\":\"white\",\"gridwidth\":2,\"linecolor\":\"white\",\"showbackground\":true,\"ticks\":\"\",\"zerolinecolor\":\"white\"},\"yaxis\":{\"backgroundcolor\":\"#E5ECF6\",\"gridcolor\":\"white\",\"gridwidth\":2,\"linecolor\":\"white\",\"showbackground\":true,\"ticks\":\"\",\"zerolinecolor\":\"white\"},\"zaxis\":{\"backgroundcolor\":\"#E5ECF6\",\"gridcolor\":\"white\",\"gridwidth\":2,\"linecolor\":\"white\",\"showbackground\":true,\"ticks\":\"\",\"zerolinecolor\":\"white\"}},\"shapedefaults\":{\"line\":{\"color\":\"#2a3f5f\"}},\"ternary\":{\"aaxis\":{\"gridcolor\":\"white\",\"linecolor\":\"white\",\"ticks\":\"\"},\"baxis\":{\"gridcolor\":\"white\",\"linecolor\":\"white\",\"ticks\":\"\"},\"bgcolor\":\"#E5ECF6\",\"caxis\":{\"gridcolor\":\"white\",\"linecolor\":\"white\",\"ticks\":\"\"}},\"title\":{\"x\":0.05},\"xaxis\":{\"automargin\":true,\"gridcolor\":\"white\",\"linecolor\":\"white\",\"ticks\":\"\",\"title\":{\"standoff\":15},\"zerolinecolor\":\"white\",\"zerolinewidth\":2},\"yaxis\":{\"automargin\":true,\"gridcolor\":\"white\",\"linecolor\":\"white\",\"ticks\":\"\",\"title\":{\"standoff\":15},\"zerolinecolor\":\"white\",\"zerolinewidth\":2}}},\"title\":{\"text\":\"Energy Minimization\"},\"xaxis\":{\"title\":{\"text\":\"Energy Minimization Step\"}},\"yaxis\":{\"title\":{\"text\":\"Potential Energy kcal/mol\"}}},                        {\"responsive\": true}                    ).then(function(){\n",
       "                            \n",
       "var gd = document.getElementById('b0b74a6b-187c-4af6-b306-3f6adc7981a7');\n",
       "var x = new MutationObserver(function (mutations, observer) {{\n",
       "        var display = window.getComputedStyle(gd).display;\n",
       "        if (!display || display === 'none') {{\n",
       "            console.log([gd, 'removed!']);\n",
       "            Plotly.purge(gd);\n",
       "            observer.disconnect();\n",
       "        }}\n",
       "}});\n",
       "\n",
       "// Listen for the removal of the full notebook cells\n",
       "var notebookContainer = gd.closest('#notebook-container');\n",
       "if (notebookContainer) {{\n",
       "    x.observe(notebookContainer, {childList: true});\n",
       "}}\n",
       "\n",
       "// Listen for the clearing of the current output cell\n",
       "var outputEl = gd.closest('.output');\n",
       "if (outputEl) {{\n",
       "    x.observe(outputEl, {childList: true});\n",
       "}}\n",
       "\n",
       "                        })                };                });            </script>        </div>"
      ]
     },
     "metadata": {},
     "output_type": "display_data"
    }
   ],
   "source": [
    "#Read data from file and filter energy values higher than 1000 Kj/mol^-1\n",
    "with open(output_h_min_dat_path,'r') as energy_file:\n",
    "    x,y = map(\n",
    "        list,\n",
    "        zip(*[\n",
    "            (float(line.split()[0]),float(line.split()[1]))\n",
    "            for line in energy_file \n",
    "            if not line.startswith((\"#\",\"@\")) \n",
    "            if float(line.split()[1]) < 1000 \n",
    "        ])\n",
    "    )\n",
    "\n",
    "plotly.offline.init_notebook_mode(connected=True)\n",
    "\n",
    "fig = {\n",
    "    \"data\": [go.Scatter(x=x, y=y)],\n",
    "    \"layout\": go.Layout(title=\"Energy Minimization\",\n",
    "                        xaxis=dict(title = \"Energy Minimization Step\"),\n",
    "                        yaxis=dict(title = \"Potential Energy kcal/mol\")\n",
    "                       )\n",
    "}\n",
    "\n",
    "plotly.offline.iplot(fig)"
   ]
  },
  {
   "cell_type": "markdown",
   "metadata": {},
   "source": [
    "<a id=\"minv_2\"></a>\n",
    "### Step 2: Minimize the system\n",
    "**System** minimization, with **restraints** only on the **small molecule**, to avoid a possible change in position due to **protein repulsion**."
   ]
  },
  {
   "cell_type": "code",
   "execution_count": 18,
   "metadata": {},
   "outputs": [
    {
     "name": "stderr",
     "output_type": "stream",
     "text": [
      "2021-06-22 14:33:47,029 [MainThread  ] [INFO ]  Creating 7e579700-6ba4-40aa-853c-dafa2ef0f191 temporary folder\n",
      "2021-06-22 14:33:47,031 [MainThread  ] [INFO ]  Creating command line with instructions and required arguments\n",
      "2021-06-22 14:34:10,096 [MainThread  ] [INFO ]  sander -O -i 7e579700-6ba4-40aa-853c-dafa2ef0f191/sander.mdin -p structure.leap.top -c sander.h_min.rst -r sander.n_min.rst -o sander.n_min.log -x sander.n_min.x\n",
      "\n",
      "2021-06-22 14:34:10,097 [MainThread  ] [INFO ]  Exit code 0\n",
      "\n",
      "2021-06-22 14:34:10,098 [MainThread  ] [INFO ]  Removed: mdinfo, 7e579700-6ba4-40aa-853c-dafa2ef0f191\n"
     ]
    },
    {
     "data": {
      "text/plain": [
       "0"
      ]
     },
     "execution_count": 18,
     "metadata": {},
     "output_type": "execute_result"
    }
   ],
   "source": [
    "# Import module\n",
    "from biobb_amber.sander.sander_mdrun import sander_mdrun\n",
    "\n",
    "# Create prop dict and inputs/outputs\n",
    "output_n_min_traj_path = 'sander.n_min.x'\n",
    "output_n_min_rst_path = 'sander.n_min.rst'\n",
    "output_n_min_log_path = 'sander.n_min.log'\n",
    "\n",
    "prop = {\n",
    "    'simulation_type' : \"min_vacuo\",\n",
    "    \"mdin\" : { \n",
    "        'maxcyc' : 500,\n",
    "        'ntpr' : 5,\n",
    "        'restraintmask' : '\\\":' + ligandCode + '\\\"',\n",
    "        'restraint_wt' : 500.0\n",
    "    }\n",
    "}\n",
    "\n",
    "# Create and launch bb\n",
    "sander_mdrun(input_top_path=output_top_path,\n",
    "            input_crd_path=output_h_min_rst_path,\n",
    "            output_traj_path=output_n_min_traj_path,\n",
    "            output_rst_path=output_n_min_rst_path,\n",
    "            output_log_path=output_n_min_log_path,\n",
    "            properties=prop)"
   ]
  },
  {
   "cell_type": "markdown",
   "metadata": {},
   "source": [
    "### Checking Energy Minimization results\n",
    "Checking **energy minimization** results. Plotting **potential energy** by time during the **minimization process**."
   ]
  },
  {
   "cell_type": "code",
   "execution_count": 19,
   "metadata": {},
   "outputs": [
    {
     "name": "stderr",
     "output_type": "stream",
     "text": [
      "2021-06-22 14:34:10,113 [MainThread  ] [INFO ]  Creating command line with instructions and required arguments\n",
      "2021-06-22 14:34:10,155 [MainThread  ] [INFO ]  process_minout.perl  sander.n_min.log\n",
      "\n",
      "2021-06-22 14:34:10,156 [MainThread  ] [INFO ]  Exit code 0\n",
      "\n",
      "2021-06-22 14:34:10,156 [MainThread  ] [INFO ]  Processing sander output file (sander.n_min.log)...\n",
      "Processing step 50 of a possible 500...\n",
      "Processing step 100 of a possible 500...\n",
      "Processing step 150 of a possible 500...\n",
      "Processing step 200 of a possible 500...\n",
      "Processing step 250 of a possible 500...\n",
      "Processing step 300 of a possible 500...\n",
      "Processing step 350 of a possible 500...\n",
      "Processing step 400 of a possible 500...\n",
      "Processing step 450 of a possible 500...\n",
      "Processing step 500 of a possible 500...\n",
      "Processing step 500 of a possible 500...\n",
      "Starting output...\n",
      "Outputing summary.NSTEP\n",
      "Outputing summary.ENERGY\n",
      "Outputing summary.RMS\n",
      "Outputing summary.GMAX\n",
      "Outputing summary.NAME\n",
      "Outputing summary.NUMBER\n",
      "Outputing summary.BOND\n",
      "Outputing summary.ANGLE\n",
      "Outputing summary.DIHEDRAL\n",
      "Outputing summary.VDWAALS\n",
      "Outputing summary.EEL\n",
      "Outputing summary.HBOND\n",
      "Outputing summary.VDW14\n",
      "Outputing summary.EEL14\n",
      "Outputing summary.RESTRAINT\n",
      "\n",
      "2021-06-22 14:34:10,159 [MainThread  ] [INFO ]  Removed: [PosixPath('summary.DIHEDRAL'), PosixPath('summary.NUMBER'), PosixPath('summary.BOND'), PosixPath('summary.VDWAALS'), PosixPath('summary.HBOND'), PosixPath('summary.EEL14'), PosixPath('summary.GMAX'), PosixPath('summary.RESTRAINT'), PosixPath('summary.NAME'), PosixPath('summary.EEL'), PosixPath('summary.NSTEP'), PosixPath('summary.VDW14'), PosixPath('summary.ANGLE'), PosixPath('summary.ENERGY'), PosixPath('summary.RMS')]\n"
     ]
    },
    {
     "data": {
      "text/plain": [
       "0"
      ]
     },
     "execution_count": 19,
     "metadata": {},
     "output_type": "execute_result"
    }
   ],
   "source": [
    "# Import module\n",
    "from biobb_amber.process.process_minout import process_minout\n",
    "\n",
    "# Create prop dict and inputs/outputs\n",
    "output_n_min_dat_path = 'sander.n_min.energy.dat'\n",
    "\n",
    "prop = {\n",
    "    \"terms\" : ['ENERGY']\n",
    "}\n",
    "\n",
    "# Create and launch bb\n",
    "process_minout(input_log_path=output_n_min_log_path,\n",
    "            output_dat_path=output_n_min_dat_path,\n",
    "            properties=prop)"
   ]
  },
  {
   "cell_type": "code",
   "execution_count": 20,
   "metadata": {},
   "outputs": [
    {
     "data": {
      "text/html": [
       "        <script type=\"text/javascript\">\n",
       "        window.PlotlyConfig = {MathJaxConfig: 'local'};\n",
       "        if (window.MathJax) {MathJax.Hub.Config({SVG: {font: \"STIX-Web\"}});}\n",
       "        if (typeof require !== 'undefined') {\n",
       "        require.undef(\"plotly\");\n",
       "        requirejs.config({\n",
       "            paths: {\n",
       "                'plotly': ['https://cdn.plot.ly/plotly-2.1.0.min']\n",
       "            }\n",
       "        });\n",
       "        require(['plotly'], function(Plotly) {\n",
       "            window._Plotly = Plotly;\n",
       "        });\n",
       "        }\n",
       "        </script>\n",
       "        "
      ]
     },
     "metadata": {},
     "output_type": "display_data"
    },
    {
     "data": {
      "application/vnd.plotly.v1+json": {
       "config": {
        "linkText": "Export to plot.ly",
        "plotlyServerURL": "https://plot.ly",
        "showLink": false
       },
       "data": [
        {
         "type": "scatter",
         "x": [
          1,
          5,
          10,
          15,
          20,
          25,
          30,
          35,
          40,
          45,
          50,
          55,
          60,
          65,
          70,
          75,
          80,
          85,
          90,
          95,
          100,
          105,
          110,
          115,
          120,
          125,
          130,
          135,
          140,
          145,
          150,
          155,
          160,
          165,
          170,
          175,
          180,
          185,
          190,
          195,
          200,
          205,
          210,
          215,
          220,
          225,
          230,
          235,
          240,
          245,
          250,
          255,
          260,
          265,
          270,
          275,
          280,
          285,
          290,
          295,
          300,
          305,
          310,
          315,
          320,
          325,
          330,
          335,
          340,
          345,
          350,
          355,
          360,
          365,
          370,
          375,
          380,
          385,
          390,
          395,
          400,
          405,
          410,
          415,
          420,
          425,
          430,
          435,
          440,
          445,
          450,
          455,
          460,
          465,
          470,
          475,
          480,
          485,
          490,
          495,
          500
         ],
         "y": [
          -4483.7,
          -4493.7,
          -4516.5,
          -4560.1,
          -4527.4,
          -4796.1,
          -4819.8,
          -4831.9,
          -4843.9,
          -4855,
          -4809.5,
          -4816.8,
          -4827.1,
          -4834,
          -4842.2,
          -4984.7,
          -4992.5,
          -5002.5,
          -5005.8,
          -5012.1,
          -5173.6,
          -5178.9,
          -5184.9,
          -5190.9,
          -5196.2,
          -5377.9,
          -5383.2,
          -5387.3,
          -5392,
          -5396.5,
          -5507.1,
          -5511.2,
          -5515.1,
          -5519.3,
          -5524.6,
          -5425.4,
          -5429.3,
          -5433,
          -5439,
          -5442.1,
          -5396.1,
          -5398.9,
          -5402.1,
          -5404.6,
          -5407.4,
          -5460,
          -5462.8,
          -5465.5,
          -5468.2,
          -5470.9,
          -5502.8,
          -5507.2,
          -5539.7,
          -5569.6,
          -5581.4,
          -5704,
          -5705.5,
          -5714.3,
          -5724.4,
          -5731.1,
          -5876.2,
          -5877.7,
          -5883.5,
          -5892.2,
          -5898,
          -5929.7,
          -5931.4,
          -5938.4,
          -5947.4,
          -5952.2,
          -5600.8,
          -5601.9,
          -5607.6,
          -5614.4,
          -5618,
          -5898.2,
          -5899.5,
          -5904.2,
          -5910.2,
          -5913.3,
          -5601.2,
          -5602.2,
          -5606.8,
          -5613.1,
          -5616.3,
          -5843.1,
          -5844.4,
          -5849.3,
          -5855.3,
          -5858.2,
          -5417.2,
          -5418.2,
          -5422.1,
          -5427.4,
          -5430,
          -5779,
          -5780.2,
          -5784.3,
          -5789.6,
          -5792.2,
          -5261.8
         ]
        }
       ],
       "layout": {
        "template": {
         "data": {
          "bar": [
           {
            "error_x": {
             "color": "#2a3f5f"
            },
            "error_y": {
             "color": "#2a3f5f"
            },
            "marker": {
             "line": {
              "color": "#E5ECF6",
              "width": 0.5
             },
             "pattern": {
              "fillmode": "overlay",
              "size": 10,
              "solidity": 0.2
             }
            },
            "type": "bar"
           }
          ],
          "barpolar": [
           {
            "marker": {
             "line": {
              "color": "#E5ECF6",
              "width": 0.5
             },
             "pattern": {
              "fillmode": "overlay",
              "size": 10,
              "solidity": 0.2
             }
            },
            "type": "barpolar"
           }
          ],
          "carpet": [
           {
            "aaxis": {
             "endlinecolor": "#2a3f5f",
             "gridcolor": "white",
             "linecolor": "white",
             "minorgridcolor": "white",
             "startlinecolor": "#2a3f5f"
            },
            "baxis": {
             "endlinecolor": "#2a3f5f",
             "gridcolor": "white",
             "linecolor": "white",
             "minorgridcolor": "white",
             "startlinecolor": "#2a3f5f"
            },
            "type": "carpet"
           }
          ],
          "choropleth": [
           {
            "colorbar": {
             "outlinewidth": 0,
             "ticks": ""
            },
            "type": "choropleth"
           }
          ],
          "contour": [
           {
            "colorbar": {
             "outlinewidth": 0,
             "ticks": ""
            },
            "colorscale": [
             [
              0,
              "#0d0887"
             ],
             [
              0.1111111111111111,
              "#46039f"
             ],
             [
              0.2222222222222222,
              "#7201a8"
             ],
             [
              0.3333333333333333,
              "#9c179e"
             ],
             [
              0.4444444444444444,
              "#bd3786"
             ],
             [
              0.5555555555555556,
              "#d8576b"
             ],
             [
              0.6666666666666666,
              "#ed7953"
             ],
             [
              0.7777777777777778,
              "#fb9f3a"
             ],
             [
              0.8888888888888888,
              "#fdca26"
             ],
             [
              1,
              "#f0f921"
             ]
            ],
            "type": "contour"
           }
          ],
          "contourcarpet": [
           {
            "colorbar": {
             "outlinewidth": 0,
             "ticks": ""
            },
            "type": "contourcarpet"
           }
          ],
          "heatmap": [
           {
            "colorbar": {
             "outlinewidth": 0,
             "ticks": ""
            },
            "colorscale": [
             [
              0,
              "#0d0887"
             ],
             [
              0.1111111111111111,
              "#46039f"
             ],
             [
              0.2222222222222222,
              "#7201a8"
             ],
             [
              0.3333333333333333,
              "#9c179e"
             ],
             [
              0.4444444444444444,
              "#bd3786"
             ],
             [
              0.5555555555555556,
              "#d8576b"
             ],
             [
              0.6666666666666666,
              "#ed7953"
             ],
             [
              0.7777777777777778,
              "#fb9f3a"
             ],
             [
              0.8888888888888888,
              "#fdca26"
             ],
             [
              1,
              "#f0f921"
             ]
            ],
            "type": "heatmap"
           }
          ],
          "heatmapgl": [
           {
            "colorbar": {
             "outlinewidth": 0,
             "ticks": ""
            },
            "colorscale": [
             [
              0,
              "#0d0887"
             ],
             [
              0.1111111111111111,
              "#46039f"
             ],
             [
              0.2222222222222222,
              "#7201a8"
             ],
             [
              0.3333333333333333,
              "#9c179e"
             ],
             [
              0.4444444444444444,
              "#bd3786"
             ],
             [
              0.5555555555555556,
              "#d8576b"
             ],
             [
              0.6666666666666666,
              "#ed7953"
             ],
             [
              0.7777777777777778,
              "#fb9f3a"
             ],
             [
              0.8888888888888888,
              "#fdca26"
             ],
             [
              1,
              "#f0f921"
             ]
            ],
            "type": "heatmapgl"
           }
          ],
          "histogram": [
           {
            "marker": {
             "pattern": {
              "fillmode": "overlay",
              "size": 10,
              "solidity": 0.2
             }
            },
            "type": "histogram"
           }
          ],
          "histogram2d": [
           {
            "colorbar": {
             "outlinewidth": 0,
             "ticks": ""
            },
            "colorscale": [
             [
              0,
              "#0d0887"
             ],
             [
              0.1111111111111111,
              "#46039f"
             ],
             [
              0.2222222222222222,
              "#7201a8"
             ],
             [
              0.3333333333333333,
              "#9c179e"
             ],
             [
              0.4444444444444444,
              "#bd3786"
             ],
             [
              0.5555555555555556,
              "#d8576b"
             ],
             [
              0.6666666666666666,
              "#ed7953"
             ],
             [
              0.7777777777777778,
              "#fb9f3a"
             ],
             [
              0.8888888888888888,
              "#fdca26"
             ],
             [
              1,
              "#f0f921"
             ]
            ],
            "type": "histogram2d"
           }
          ],
          "histogram2dcontour": [
           {
            "colorbar": {
             "outlinewidth": 0,
             "ticks": ""
            },
            "colorscale": [
             [
              0,
              "#0d0887"
             ],
             [
              0.1111111111111111,
              "#46039f"
             ],
             [
              0.2222222222222222,
              "#7201a8"
             ],
             [
              0.3333333333333333,
              "#9c179e"
             ],
             [
              0.4444444444444444,
              "#bd3786"
             ],
             [
              0.5555555555555556,
              "#d8576b"
             ],
             [
              0.6666666666666666,
              "#ed7953"
             ],
             [
              0.7777777777777778,
              "#fb9f3a"
             ],
             [
              0.8888888888888888,
              "#fdca26"
             ],
             [
              1,
              "#f0f921"
             ]
            ],
            "type": "histogram2dcontour"
           }
          ],
          "mesh3d": [
           {
            "colorbar": {
             "outlinewidth": 0,
             "ticks": ""
            },
            "type": "mesh3d"
           }
          ],
          "parcoords": [
           {
            "line": {
             "colorbar": {
              "outlinewidth": 0,
              "ticks": ""
             }
            },
            "type": "parcoords"
           }
          ],
          "pie": [
           {
            "automargin": true,
            "type": "pie"
           }
          ],
          "scatter": [
           {
            "marker": {
             "colorbar": {
              "outlinewidth": 0,
              "ticks": ""
             }
            },
            "type": "scatter"
           }
          ],
          "scatter3d": [
           {
            "line": {
             "colorbar": {
              "outlinewidth": 0,
              "ticks": ""
             }
            },
            "marker": {
             "colorbar": {
              "outlinewidth": 0,
              "ticks": ""
             }
            },
            "type": "scatter3d"
           }
          ],
          "scattercarpet": [
           {
            "marker": {
             "colorbar": {
              "outlinewidth": 0,
              "ticks": ""
             }
            },
            "type": "scattercarpet"
           }
          ],
          "scattergeo": [
           {
            "marker": {
             "colorbar": {
              "outlinewidth": 0,
              "ticks": ""
             }
            },
            "type": "scattergeo"
           }
          ],
          "scattergl": [
           {
            "marker": {
             "colorbar": {
              "outlinewidth": 0,
              "ticks": ""
             }
            },
            "type": "scattergl"
           }
          ],
          "scattermapbox": [
           {
            "marker": {
             "colorbar": {
              "outlinewidth": 0,
              "ticks": ""
             }
            },
            "type": "scattermapbox"
           }
          ],
          "scatterpolar": [
           {
            "marker": {
             "colorbar": {
              "outlinewidth": 0,
              "ticks": ""
             }
            },
            "type": "scatterpolar"
           }
          ],
          "scatterpolargl": [
           {
            "marker": {
             "colorbar": {
              "outlinewidth": 0,
              "ticks": ""
             }
            },
            "type": "scatterpolargl"
           }
          ],
          "scatterternary": [
           {
            "marker": {
             "colorbar": {
              "outlinewidth": 0,
              "ticks": ""
             }
            },
            "type": "scatterternary"
           }
          ],
          "surface": [
           {
            "colorbar": {
             "outlinewidth": 0,
             "ticks": ""
            },
            "colorscale": [
             [
              0,
              "#0d0887"
             ],
             [
              0.1111111111111111,
              "#46039f"
             ],
             [
              0.2222222222222222,
              "#7201a8"
             ],
             [
              0.3333333333333333,
              "#9c179e"
             ],
             [
              0.4444444444444444,
              "#bd3786"
             ],
             [
              0.5555555555555556,
              "#d8576b"
             ],
             [
              0.6666666666666666,
              "#ed7953"
             ],
             [
              0.7777777777777778,
              "#fb9f3a"
             ],
             [
              0.8888888888888888,
              "#fdca26"
             ],
             [
              1,
              "#f0f921"
             ]
            ],
            "type": "surface"
           }
          ],
          "table": [
           {
            "cells": {
             "fill": {
              "color": "#EBF0F8"
             },
             "line": {
              "color": "white"
             }
            },
            "header": {
             "fill": {
              "color": "#C8D4E3"
             },
             "line": {
              "color": "white"
             }
            },
            "type": "table"
           }
          ]
         },
         "layout": {
          "annotationdefaults": {
           "arrowcolor": "#2a3f5f",
           "arrowhead": 0,
           "arrowwidth": 1
          },
          "autotypenumbers": "strict",
          "coloraxis": {
           "colorbar": {
            "outlinewidth": 0,
            "ticks": ""
           }
          },
          "colorscale": {
           "diverging": [
            [
             0,
             "#8e0152"
            ],
            [
             0.1,
             "#c51b7d"
            ],
            [
             0.2,
             "#de77ae"
            ],
            [
             0.3,
             "#f1b6da"
            ],
            [
             0.4,
             "#fde0ef"
            ],
            [
             0.5,
             "#f7f7f7"
            ],
            [
             0.6,
             "#e6f5d0"
            ],
            [
             0.7,
             "#b8e186"
            ],
            [
             0.8,
             "#7fbc41"
            ],
            [
             0.9,
             "#4d9221"
            ],
            [
             1,
             "#276419"
            ]
           ],
           "sequential": [
            [
             0,
             "#0d0887"
            ],
            [
             0.1111111111111111,
             "#46039f"
            ],
            [
             0.2222222222222222,
             "#7201a8"
            ],
            [
             0.3333333333333333,
             "#9c179e"
            ],
            [
             0.4444444444444444,
             "#bd3786"
            ],
            [
             0.5555555555555556,
             "#d8576b"
            ],
            [
             0.6666666666666666,
             "#ed7953"
            ],
            [
             0.7777777777777778,
             "#fb9f3a"
            ],
            [
             0.8888888888888888,
             "#fdca26"
            ],
            [
             1,
             "#f0f921"
            ]
           ],
           "sequentialminus": [
            [
             0,
             "#0d0887"
            ],
            [
             0.1111111111111111,
             "#46039f"
            ],
            [
             0.2222222222222222,
             "#7201a8"
            ],
            [
             0.3333333333333333,
             "#9c179e"
            ],
            [
             0.4444444444444444,
             "#bd3786"
            ],
            [
             0.5555555555555556,
             "#d8576b"
            ],
            [
             0.6666666666666666,
             "#ed7953"
            ],
            [
             0.7777777777777778,
             "#fb9f3a"
            ],
            [
             0.8888888888888888,
             "#fdca26"
            ],
            [
             1,
             "#f0f921"
            ]
           ]
          },
          "colorway": [
           "#636efa",
           "#EF553B",
           "#00cc96",
           "#ab63fa",
           "#FFA15A",
           "#19d3f3",
           "#FF6692",
           "#B6E880",
           "#FF97FF",
           "#FECB52"
          ],
          "font": {
           "color": "#2a3f5f"
          },
          "geo": {
           "bgcolor": "white",
           "lakecolor": "white",
           "landcolor": "#E5ECF6",
           "showlakes": true,
           "showland": true,
           "subunitcolor": "white"
          },
          "hoverlabel": {
           "align": "left"
          },
          "hovermode": "closest",
          "mapbox": {
           "style": "light"
          },
          "paper_bgcolor": "white",
          "plot_bgcolor": "#E5ECF6",
          "polar": {
           "angularaxis": {
            "gridcolor": "white",
            "linecolor": "white",
            "ticks": ""
           },
           "bgcolor": "#E5ECF6",
           "radialaxis": {
            "gridcolor": "white",
            "linecolor": "white",
            "ticks": ""
           }
          },
          "scene": {
           "xaxis": {
            "backgroundcolor": "#E5ECF6",
            "gridcolor": "white",
            "gridwidth": 2,
            "linecolor": "white",
            "showbackground": true,
            "ticks": "",
            "zerolinecolor": "white"
           },
           "yaxis": {
            "backgroundcolor": "#E5ECF6",
            "gridcolor": "white",
            "gridwidth": 2,
            "linecolor": "white",
            "showbackground": true,
            "ticks": "",
            "zerolinecolor": "white"
           },
           "zaxis": {
            "backgroundcolor": "#E5ECF6",
            "gridcolor": "white",
            "gridwidth": 2,
            "linecolor": "white",
            "showbackground": true,
            "ticks": "",
            "zerolinecolor": "white"
           }
          },
          "shapedefaults": {
           "line": {
            "color": "#2a3f5f"
           }
          },
          "ternary": {
           "aaxis": {
            "gridcolor": "white",
            "linecolor": "white",
            "ticks": ""
           },
           "baxis": {
            "gridcolor": "white",
            "linecolor": "white",
            "ticks": ""
           },
           "bgcolor": "#E5ECF6",
           "caxis": {
            "gridcolor": "white",
            "linecolor": "white",
            "ticks": ""
           }
          },
          "title": {
           "x": 0.05
          },
          "xaxis": {
           "automargin": true,
           "gridcolor": "white",
           "linecolor": "white",
           "ticks": "",
           "title": {
            "standoff": 15
           },
           "zerolinecolor": "white",
           "zerolinewidth": 2
          },
          "yaxis": {
           "automargin": true,
           "gridcolor": "white",
           "linecolor": "white",
           "ticks": "",
           "title": {
            "standoff": 15
           },
           "zerolinecolor": "white",
           "zerolinewidth": 2
          }
         }
        },
        "title": {
         "text": "Energy Minimization"
        },
        "xaxis": {
         "title": {
          "text": "Energy Minimization Step"
         }
        },
        "yaxis": {
         "title": {
          "text": "Potential Energy kcal/mol"
         }
        }
       }
      },
      "text/html": [
       "<div>                            <div id=\"f092993d-373c-4312-a1d0-570e4dd0259d\" class=\"plotly-graph-div\" style=\"height:525px; width:100%;\"></div>            <script type=\"text/javascript\">                require([\"plotly\"], function(Plotly) {                    window.PLOTLYENV=window.PLOTLYENV || {};                                    if (document.getElementById(\"f092993d-373c-4312-a1d0-570e4dd0259d\")) {                    Plotly.newPlot(                        \"f092993d-373c-4312-a1d0-570e4dd0259d\",                        [{\"type\":\"scatter\",\"x\":[1.0,5.0,10.0,15.0,20.0,25.0,30.0,35.0,40.0,45.0,50.0,55.0,60.0,65.0,70.0,75.0,80.0,85.0,90.0,95.0,100.0,105.0,110.0,115.0,120.0,125.0,130.0,135.0,140.0,145.0,150.0,155.0,160.0,165.0,170.0,175.0,180.0,185.0,190.0,195.0,200.0,205.0,210.0,215.0,220.0,225.0,230.0,235.0,240.0,245.0,250.0,255.0,260.0,265.0,270.0,275.0,280.0,285.0,290.0,295.0,300.0,305.0,310.0,315.0,320.0,325.0,330.0,335.0,340.0,345.0,350.0,355.0,360.0,365.0,370.0,375.0,380.0,385.0,390.0,395.0,400.0,405.0,410.0,415.0,420.0,425.0,430.0,435.0,440.0,445.0,450.0,455.0,460.0,465.0,470.0,475.0,480.0,485.0,490.0,495.0,500.0],\"y\":[-4483.7,-4493.7,-4516.5,-4560.1,-4527.4,-4796.1,-4819.8,-4831.9,-4843.9,-4855.0,-4809.5,-4816.8,-4827.1,-4834.0,-4842.2,-4984.7,-4992.5,-5002.5,-5005.8,-5012.1,-5173.6,-5178.9,-5184.9,-5190.9,-5196.2,-5377.9,-5383.2,-5387.3,-5392.0,-5396.5,-5507.1,-5511.2,-5515.1,-5519.3,-5524.6,-5425.4,-5429.3,-5433.0,-5439.0,-5442.1,-5396.1,-5398.9,-5402.1,-5404.6,-5407.4,-5460.0,-5462.8,-5465.5,-5468.2,-5470.9,-5502.8,-5507.2,-5539.7,-5569.6,-5581.4,-5704.0,-5705.5,-5714.3,-5724.4,-5731.1,-5876.2,-5877.7,-5883.5,-5892.2,-5898.0,-5929.7,-5931.4,-5938.4,-5947.4,-5952.2,-5600.8,-5601.9,-5607.6,-5614.4,-5618.0,-5898.2,-5899.5,-5904.2,-5910.2,-5913.3,-5601.2,-5602.2,-5606.8,-5613.1,-5616.3,-5843.1,-5844.4,-5849.3,-5855.3,-5858.2,-5417.2,-5418.2,-5422.1,-5427.4,-5430.0,-5779.0,-5780.2,-5784.3,-5789.6,-5792.2,-5261.8]}],                        {\"template\":{\"data\":{\"bar\":[{\"error_x\":{\"color\":\"#2a3f5f\"},\"error_y\":{\"color\":\"#2a3f5f\"},\"marker\":{\"line\":{\"color\":\"#E5ECF6\",\"width\":0.5},\"pattern\":{\"fillmode\":\"overlay\",\"size\":10,\"solidity\":0.2}},\"type\":\"bar\"}],\"barpolar\":[{\"marker\":{\"line\":{\"color\":\"#E5ECF6\",\"width\":0.5},\"pattern\":{\"fillmode\":\"overlay\",\"size\":10,\"solidity\":0.2}},\"type\":\"barpolar\"}],\"carpet\":[{\"aaxis\":{\"endlinecolor\":\"#2a3f5f\",\"gridcolor\":\"white\",\"linecolor\":\"white\",\"minorgridcolor\":\"white\",\"startlinecolor\":\"#2a3f5f\"},\"baxis\":{\"endlinecolor\":\"#2a3f5f\",\"gridcolor\":\"white\",\"linecolor\":\"white\",\"minorgridcolor\":\"white\",\"startlinecolor\":\"#2a3f5f\"},\"type\":\"carpet\"}],\"choropleth\":[{\"colorbar\":{\"outlinewidth\":0,\"ticks\":\"\"},\"type\":\"choropleth\"}],\"contour\":[{\"colorbar\":{\"outlinewidth\":0,\"ticks\":\"\"},\"colorscale\":[[0.0,\"#0d0887\"],[0.1111111111111111,\"#46039f\"],[0.2222222222222222,\"#7201a8\"],[0.3333333333333333,\"#9c179e\"],[0.4444444444444444,\"#bd3786\"],[0.5555555555555556,\"#d8576b\"],[0.6666666666666666,\"#ed7953\"],[0.7777777777777778,\"#fb9f3a\"],[0.8888888888888888,\"#fdca26\"],[1.0,\"#f0f921\"]],\"type\":\"contour\"}],\"contourcarpet\":[{\"colorbar\":{\"outlinewidth\":0,\"ticks\":\"\"},\"type\":\"contourcarpet\"}],\"heatmap\":[{\"colorbar\":{\"outlinewidth\":0,\"ticks\":\"\"},\"colorscale\":[[0.0,\"#0d0887\"],[0.1111111111111111,\"#46039f\"],[0.2222222222222222,\"#7201a8\"],[0.3333333333333333,\"#9c179e\"],[0.4444444444444444,\"#bd3786\"],[0.5555555555555556,\"#d8576b\"],[0.6666666666666666,\"#ed7953\"],[0.7777777777777778,\"#fb9f3a\"],[0.8888888888888888,\"#fdca26\"],[1.0,\"#f0f921\"]],\"type\":\"heatmap\"}],\"heatmapgl\":[{\"colorbar\":{\"outlinewidth\":0,\"ticks\":\"\"},\"colorscale\":[[0.0,\"#0d0887\"],[0.1111111111111111,\"#46039f\"],[0.2222222222222222,\"#7201a8\"],[0.3333333333333333,\"#9c179e\"],[0.4444444444444444,\"#bd3786\"],[0.5555555555555556,\"#d8576b\"],[0.6666666666666666,\"#ed7953\"],[0.7777777777777778,\"#fb9f3a\"],[0.8888888888888888,\"#fdca26\"],[1.0,\"#f0f921\"]],\"type\":\"heatmapgl\"}],\"histogram\":[{\"marker\":{\"pattern\":{\"fillmode\":\"overlay\",\"size\":10,\"solidity\":0.2}},\"type\":\"histogram\"}],\"histogram2d\":[{\"colorbar\":{\"outlinewidth\":0,\"ticks\":\"\"},\"colorscale\":[[0.0,\"#0d0887\"],[0.1111111111111111,\"#46039f\"],[0.2222222222222222,\"#7201a8\"],[0.3333333333333333,\"#9c179e\"],[0.4444444444444444,\"#bd3786\"],[0.5555555555555556,\"#d8576b\"],[0.6666666666666666,\"#ed7953\"],[0.7777777777777778,\"#fb9f3a\"],[0.8888888888888888,\"#fdca26\"],[1.0,\"#f0f921\"]],\"type\":\"histogram2d\"}],\"histogram2dcontour\":[{\"colorbar\":{\"outlinewidth\":0,\"ticks\":\"\"},\"colorscale\":[[0.0,\"#0d0887\"],[0.1111111111111111,\"#46039f\"],[0.2222222222222222,\"#7201a8\"],[0.3333333333333333,\"#9c179e\"],[0.4444444444444444,\"#bd3786\"],[0.5555555555555556,\"#d8576b\"],[0.6666666666666666,\"#ed7953\"],[0.7777777777777778,\"#fb9f3a\"],[0.8888888888888888,\"#fdca26\"],[1.0,\"#f0f921\"]],\"type\":\"histogram2dcontour\"}],\"mesh3d\":[{\"colorbar\":{\"outlinewidth\":0,\"ticks\":\"\"},\"type\":\"mesh3d\"}],\"parcoords\":[{\"line\":{\"colorbar\":{\"outlinewidth\":0,\"ticks\":\"\"}},\"type\":\"parcoords\"}],\"pie\":[{\"automargin\":true,\"type\":\"pie\"}],\"scatter\":[{\"marker\":{\"colorbar\":{\"outlinewidth\":0,\"ticks\":\"\"}},\"type\":\"scatter\"}],\"scatter3d\":[{\"line\":{\"colorbar\":{\"outlinewidth\":0,\"ticks\":\"\"}},\"marker\":{\"colorbar\":{\"outlinewidth\":0,\"ticks\":\"\"}},\"type\":\"scatter3d\"}],\"scattercarpet\":[{\"marker\":{\"colorbar\":{\"outlinewidth\":0,\"ticks\":\"\"}},\"type\":\"scattercarpet\"}],\"scattergeo\":[{\"marker\":{\"colorbar\":{\"outlinewidth\":0,\"ticks\":\"\"}},\"type\":\"scattergeo\"}],\"scattergl\":[{\"marker\":{\"colorbar\":{\"outlinewidth\":0,\"ticks\":\"\"}},\"type\":\"scattergl\"}],\"scattermapbox\":[{\"marker\":{\"colorbar\":{\"outlinewidth\":0,\"ticks\":\"\"}},\"type\":\"scattermapbox\"}],\"scatterpolar\":[{\"marker\":{\"colorbar\":{\"outlinewidth\":0,\"ticks\":\"\"}},\"type\":\"scatterpolar\"}],\"scatterpolargl\":[{\"marker\":{\"colorbar\":{\"outlinewidth\":0,\"ticks\":\"\"}},\"type\":\"scatterpolargl\"}],\"scatterternary\":[{\"marker\":{\"colorbar\":{\"outlinewidth\":0,\"ticks\":\"\"}},\"type\":\"scatterternary\"}],\"surface\":[{\"colorbar\":{\"outlinewidth\":0,\"ticks\":\"\"},\"colorscale\":[[0.0,\"#0d0887\"],[0.1111111111111111,\"#46039f\"],[0.2222222222222222,\"#7201a8\"],[0.3333333333333333,\"#9c179e\"],[0.4444444444444444,\"#bd3786\"],[0.5555555555555556,\"#d8576b\"],[0.6666666666666666,\"#ed7953\"],[0.7777777777777778,\"#fb9f3a\"],[0.8888888888888888,\"#fdca26\"],[1.0,\"#f0f921\"]],\"type\":\"surface\"}],\"table\":[{\"cells\":{\"fill\":{\"color\":\"#EBF0F8\"},\"line\":{\"color\":\"white\"}},\"header\":{\"fill\":{\"color\":\"#C8D4E3\"},\"line\":{\"color\":\"white\"}},\"type\":\"table\"}]},\"layout\":{\"annotationdefaults\":{\"arrowcolor\":\"#2a3f5f\",\"arrowhead\":0,\"arrowwidth\":1},\"autotypenumbers\":\"strict\",\"coloraxis\":{\"colorbar\":{\"outlinewidth\":0,\"ticks\":\"\"}},\"colorscale\":{\"diverging\":[[0,\"#8e0152\"],[0.1,\"#c51b7d\"],[0.2,\"#de77ae\"],[0.3,\"#f1b6da\"],[0.4,\"#fde0ef\"],[0.5,\"#f7f7f7\"],[0.6,\"#e6f5d0\"],[0.7,\"#b8e186\"],[0.8,\"#7fbc41\"],[0.9,\"#4d9221\"],[1,\"#276419\"]],\"sequential\":[[0.0,\"#0d0887\"],[0.1111111111111111,\"#46039f\"],[0.2222222222222222,\"#7201a8\"],[0.3333333333333333,\"#9c179e\"],[0.4444444444444444,\"#bd3786\"],[0.5555555555555556,\"#d8576b\"],[0.6666666666666666,\"#ed7953\"],[0.7777777777777778,\"#fb9f3a\"],[0.8888888888888888,\"#fdca26\"],[1.0,\"#f0f921\"]],\"sequentialminus\":[[0.0,\"#0d0887\"],[0.1111111111111111,\"#46039f\"],[0.2222222222222222,\"#7201a8\"],[0.3333333333333333,\"#9c179e\"],[0.4444444444444444,\"#bd3786\"],[0.5555555555555556,\"#d8576b\"],[0.6666666666666666,\"#ed7953\"],[0.7777777777777778,\"#fb9f3a\"],[0.8888888888888888,\"#fdca26\"],[1.0,\"#f0f921\"]]},\"colorway\":[\"#636efa\",\"#EF553B\",\"#00cc96\",\"#ab63fa\",\"#FFA15A\",\"#19d3f3\",\"#FF6692\",\"#B6E880\",\"#FF97FF\",\"#FECB52\"],\"font\":{\"color\":\"#2a3f5f\"},\"geo\":{\"bgcolor\":\"white\",\"lakecolor\":\"white\",\"landcolor\":\"#E5ECF6\",\"showlakes\":true,\"showland\":true,\"subunitcolor\":\"white\"},\"hoverlabel\":{\"align\":\"left\"},\"hovermode\":\"closest\",\"mapbox\":{\"style\":\"light\"},\"paper_bgcolor\":\"white\",\"plot_bgcolor\":\"#E5ECF6\",\"polar\":{\"angularaxis\":{\"gridcolor\":\"white\",\"linecolor\":\"white\",\"ticks\":\"\"},\"bgcolor\":\"#E5ECF6\",\"radialaxis\":{\"gridcolor\":\"white\",\"linecolor\":\"white\",\"ticks\":\"\"}},\"scene\":{\"xaxis\":{\"backgroundcolor\":\"#E5ECF6\",\"gridcolor\":\"white\",\"gridwidth\":2,\"linecolor\":\"white\",\"showbackground\":true,\"ticks\":\"\",\"zerolinecolor\":\"white\"},\"yaxis\":{\"backgroundcolor\":\"#E5ECF6\",\"gridcolor\":\"white\",\"gridwidth\":2,\"linecolor\":\"white\",\"showbackground\":true,\"ticks\":\"\",\"zerolinecolor\":\"white\"},\"zaxis\":{\"backgroundcolor\":\"#E5ECF6\",\"gridcolor\":\"white\",\"gridwidth\":2,\"linecolor\":\"white\",\"showbackground\":true,\"ticks\":\"\",\"zerolinecolor\":\"white\"}},\"shapedefaults\":{\"line\":{\"color\":\"#2a3f5f\"}},\"ternary\":{\"aaxis\":{\"gridcolor\":\"white\",\"linecolor\":\"white\",\"ticks\":\"\"},\"baxis\":{\"gridcolor\":\"white\",\"linecolor\":\"white\",\"ticks\":\"\"},\"bgcolor\":\"#E5ECF6\",\"caxis\":{\"gridcolor\":\"white\",\"linecolor\":\"white\",\"ticks\":\"\"}},\"title\":{\"x\":0.05},\"xaxis\":{\"automargin\":true,\"gridcolor\":\"white\",\"linecolor\":\"white\",\"ticks\":\"\",\"title\":{\"standoff\":15},\"zerolinecolor\":\"white\",\"zerolinewidth\":2},\"yaxis\":{\"automargin\":true,\"gridcolor\":\"white\",\"linecolor\":\"white\",\"ticks\":\"\",\"title\":{\"standoff\":15},\"zerolinecolor\":\"white\",\"zerolinewidth\":2}}},\"title\":{\"text\":\"Energy Minimization\"},\"xaxis\":{\"title\":{\"text\":\"Energy Minimization Step\"}},\"yaxis\":{\"title\":{\"text\":\"Potential Energy kcal/mol\"}}},                        {\"responsive\": true}                    ).then(function(){\n",
       "                            \n",
       "var gd = document.getElementById('f092993d-373c-4312-a1d0-570e4dd0259d');\n",
       "var x = new MutationObserver(function (mutations, observer) {{\n",
       "        var display = window.getComputedStyle(gd).display;\n",
       "        if (!display || display === 'none') {{\n",
       "            console.log([gd, 'removed!']);\n",
       "            Plotly.purge(gd);\n",
       "            observer.disconnect();\n",
       "        }}\n",
       "}});\n",
       "\n",
       "// Listen for the removal of the full notebook cells\n",
       "var notebookContainer = gd.closest('#notebook-container');\n",
       "if (notebookContainer) {{\n",
       "    x.observe(notebookContainer, {childList: true});\n",
       "}}\n",
       "\n",
       "// Listen for the clearing of the current output cell\n",
       "var outputEl = gd.closest('.output');\n",
       "if (outputEl) {{\n",
       "    x.observe(outputEl, {childList: true});\n",
       "}}\n",
       "\n",
       "                        })                };                });            </script>        </div>"
      ]
     },
     "metadata": {},
     "output_type": "display_data"
    }
   ],
   "source": [
    "#Read data from file and filter energy values higher than 1000 Kj/mol^-1\n",
    "with open(output_n_min_dat_path,'r') as energy_file:\n",
    "    x,y = map(\n",
    "        list,\n",
    "        zip(*[\n",
    "            (float(line.split()[0]),float(line.split()[1]))\n",
    "            for line in energy_file \n",
    "            if not line.startswith((\"#\",\"@\")) \n",
    "            if float(line.split()[1]) < 1000 \n",
    "        ])\n",
    "    )\n",
    "\n",
    "plotly.offline.init_notebook_mode(connected=True)\n",
    "\n",
    "fig = {\n",
    "    \"data\": [go.Scatter(x=x, y=y)],\n",
    "    \"layout\": go.Layout(title=\"Energy Minimization\",\n",
    "                        xaxis=dict(title = \"Energy Minimization Step\"),\n",
    "                        yaxis=dict(title = \"Potential Energy kcal/mol\")\n",
    "                       )\n",
    "}\n",
    "\n",
    "plotly.offline.iplot(fig)"
   ]
  },
  {
   "cell_type": "markdown",
   "metadata": {},
   "source": [
    "<a id=\"box\"></a>\n",
    "***\n",
    "## Create solvent box and solvating the system\n",
    "Define the unit cell for the **protein structure MD system** to fill it with water molecules.<br>\n",
    "A **truncated octahedron box** is used to define the unit cell, with a **distance from the protein to the box edge of 9.0 Angstroms**. <br>\n",
    "The solvent type used is the default **TIP3P** water model, a generic 3-point solvent model.\n",
    "***\n",
    "**Building Blocks** used:\n",
    " - [amber_to_pdb](https://biobb-amber.readthedocs.io/en/latest/ambpdb.html#module-ambpdb.amber_to_pdb) from **biobb_amber.ambpdb.amber_to_pdb**\n",
    " - [leap_solvate](https://biobb-amber.readthedocs.io/en/latest/leap.html#module-leap.leap_solvate) from **biobb_amber.leap.leap_solvate** \n",
    "***"
   ]
  },
  {
   "cell_type": "markdown",
   "metadata": {},
   "source": [
    "### Getting minimized structure\n",
    "Getting the result of the **energetic minimization** and converting it to **PDB format** to be then used as input for the **water box generation**. <br/>This is achieved by converting from **AMBER topology + coordinates** files to a **PDB file** using the **ambpdb** tool from the **AMBER MD package**."
   ]
  },
  {
   "cell_type": "code",
   "execution_count": 21,
   "metadata": {},
   "outputs": [
    {
     "name": "stderr",
     "output_type": "stream",
     "text": [
      "2021-06-22 14:34:10,210 [MainThread  ] [INFO ]  Creating command line with instructions and required arguments\n",
      "2021-06-22 14:34:10,244 [MainThread  ] [INFO ]  ambpdb  -p structure.leap.top -c sander.h_min.rst >  structure.ambpdb.pdb\n",
      "\n",
      "2021-06-22 14:34:10,245 [MainThread  ] [INFO ]  Exit code 0\n",
      "\n"
     ]
    },
    {
     "data": {
      "text/plain": [
       "0"
      ]
     },
     "execution_count": 21,
     "metadata": {},
     "output_type": "execute_result"
    }
   ],
   "source": [
    "# Import module\n",
    "from biobb_amber.ambpdb.amber_to_pdb import amber_to_pdb\n",
    "\n",
    "# Create prop dict and inputs/outputs\n",
    "output_ambpdb_path = 'structure.ambpdb.pdb'\n",
    "\n",
    "# Create and launch bb\n",
    "amber_to_pdb(input_top_path=output_top_path,\n",
    "            input_crd_path=output_h_min_rst_path,\n",
    "            output_pdb_path=output_ambpdb_path)"
   ]
  },
  {
   "cell_type": "markdown",
   "metadata": {},
   "source": [
    "### Create water box\n",
    "Define the **unit cell** for the **protein-ligand complex structure MD system** and fill it with **water molecules**.<br/>"
   ]
  },
  {
   "cell_type": "code",
   "execution_count": 22,
   "metadata": {},
   "outputs": [
    {
     "name": "stderr",
     "output_type": "stream",
     "text": [
      "2021-06-22 14:34:10,262 [MainThread  ] [INFO ]  Creating 2074c37b-6879-488a-8b34-027ffb15d8e9 temporary folder\n",
      "2021-06-22 14:34:10,263 [MainThread  ] [INFO ]  Creating command line with instructions and required arguments\n",
      "2021-06-22 14:34:11,240 [MainThread  ] [INFO ]  tleap  -f 2074c37b-6879-488a-8b34-027ffb15d8e9/leap.in\n",
      "\n",
      "2021-06-22 14:34:11,242 [MainThread  ] [INFO ]  Exit code 0\n",
      "\n",
      "2021-06-22 14:34:11,243 [MainThread  ] [INFO ]  -I: Adding /anaconda3/envs/biobb_AMBER_MDsetup_tutorials/dat/leap/prep to search path.\n",
      "-I: Adding /anaconda3/envs/biobb_AMBER_MDsetup_tutorials/dat/leap/lib to search path.\n",
      "-I: Adding /anaconda3/envs/biobb_AMBER_MDsetup_tutorials/dat/leap/parm to search path.\n",
      "-I: Adding /anaconda3/envs/biobb_AMBER_MDsetup_tutorials/dat/leap/cmd to search path.\n",
      "-f: Source 2074c37b-6879-488a-8b34-027ffb15d8e9/leap.in.\n",
      "\n",
      "Welcome to LEaP!\n",
      "(no leaprc in search path)\n",
      "Sourcing: ./2074c37b-6879-488a-8b34-027ffb15d8e9/leap.in\n",
      "----- Source: /anaconda3/envs/biobb_AMBER_MDsetup_tutorials/dat/leap/cmd/leaprc.protein.ff14SB\n",
      "----- Source of /anaconda3/envs/biobb_AMBER_MDsetup_tutorials/dat/leap/cmd/leaprc.protein.ff14SB done\n",
      "Log file: ./leap.log\n",
      "Loading parameters: /anaconda3/envs/biobb_AMBER_MDsetup_tutorials/dat/leap/parm/parm10.dat\n",
      "Reading title:\n",
      "PARM99 + frcmod.ff99SB + frcmod.parmbsc0 + OL3 for RNA\n",
      "Loading parameters: /anaconda3/envs/biobb_AMBER_MDsetup_tutorials/dat/leap/parm/frcmod.ff14SB\n",
      "Reading force field modification type file (frcmod)\n",
      "Reading title:\n",
      "ff14SB protein backbone and sidechain parameters\n",
      "Loading library: /anaconda3/envs/biobb_AMBER_MDsetup_tutorials/dat/leap/lib/amino12.lib\n",
      "Loading library: /anaconda3/envs/biobb_AMBER_MDsetup_tutorials/dat/leap/lib/aminoct12.lib\n",
      "Loading library: /anaconda3/envs/biobb_AMBER_MDsetup_tutorials/dat/leap/lib/aminont12.lib\n",
      "----- Source: /anaconda3/envs/biobb_AMBER_MDsetup_tutorials/dat/leap/cmd/leaprc.gaff\n",
      "----- Source of /anaconda3/envs/biobb_AMBER_MDsetup_tutorials/dat/leap/cmd/leaprc.gaff done\n",
      "Log file: ./leap.log\n",
      "Loading parameters: /anaconda3/envs/biobb_AMBER_MDsetup_tutorials/dat/leap/parm/gaff.dat\n",
      "Reading title:\n",
      "AMBER General Force Field for organic molecules (Version 1.81, May 2017)\n",
      "Loading parameters: /anaconda3/envs/biobb_AMBER_MDsetup_tutorials/dat/leap/parm/frcmod.ionsjc_tip3p\n",
      "Reading force field modification type file (frcmod)\n",
      "Reading title:\n",
      "Monovalent ion parameters for Ewald and TIP3P water from Joung & Cheatham JPCB (2008)\n",
      "----- Source: /anaconda3/envs/biobb_AMBER_MDsetup_tutorials/dat/leap/cmd/leaprc.water.tip3p\n",
      "----- Source of /anaconda3/envs/biobb_AMBER_MDsetup_tutorials/dat/leap/cmd/leaprc.water.tip3p done\n",
      "Loading library: /anaconda3/envs/biobb_AMBER_MDsetup_tutorials/dat/leap/lib/atomic_ions.lib\n",
      "Loading library: /anaconda3/envs/biobb_AMBER_MDsetup_tutorials/dat/leap/lib/solvents.lib\n",
      "Loading parameters: /anaconda3/envs/biobb_AMBER_MDsetup_tutorials/dat/leap/parm/frcmod.tip3p\n",
      "Reading force field modification type file (frcmod)\n",
      "Reading title:\n",
      "This is the additional/replacement parameter set for TIP3P water\n",
      "Loading parameters: /anaconda3/envs/biobb_AMBER_MDsetup_tutorials/dat/leap/parm/frcmod.ions1lm_126_tip3p\n",
      "Reading force field modification type file (frcmod)\n",
      "Reading title:\n",
      "Li/Merz ion parameters of monovalent ions for TIP3P water model (12-6 normal usage set)\n",
      "Loading parameters: /anaconda3/envs/biobb_AMBER_MDsetup_tutorials/dat/leap/parm/frcmod.ionsjc_tip3p\n",
      "Reading force field modification type file (frcmod)\n",
      "Reading title:\n",
      "Monovalent ion parameters for Ewald and TIP3P water from Joung & Cheatham JPCB (2008)\n",
      "Loading parameters: /anaconda3/envs/biobb_AMBER_MDsetup_tutorials/dat/leap/parm/frcmod.ions234lm_126_tip3p\n",
      "Reading force field modification type file (frcmod)\n",
      "Reading title:\n",
      "Li/Merz ion parameters of divalent to tetravalent ions for TIP3P water model (12-6 normal usage set)\n",
      "Loading library: ./JZ4params.lib\n",
      "Loading parameters: ./JZ4params.frcmod\n",
      "Reading force field modification type file (frcmod)\n",
      "Reading title:\n",
      "Remark line goes here\n",
      "Loading PDB file: ./structure.ambpdb.pdb\n",
      "  total atoms in file: 2636\n",
      "Scaling up box by a factor of 1.185578 to meet diagonal cut criterion\n",
      "  Solute vdw bounding box:              37.464 39.384 60.640\n",
      "  Total bounding box for atom centers:  81.980 81.980 81.980\n",
      "      (box expansion for 'iso' is  88.2%)\n",
      "  Solvent unit box:                     18.774 18.774 18.774\n",
      "  Volume: 285691.372 A^3 (oct)\n",
      "  Total mass 153246.106 amu,  Density 0.891 g/cc\n",
      "  Added 7471 residues.\n",
      "Writing pdb file: structure.solv.pdb\n",
      "   printing CRYST1 record to PDB file with box info\n",
      "\n",
      "/anaconda3/envs/biobb_AMBER_MDsetup_tutorials/bin/teLeap: Warning!\n",
      " Converting N-terminal residue name to PDB format: NMET -> MET\n",
      "\n",
      "/anaconda3/envs/biobb_AMBER_MDsetup_tutorials/bin/teLeap: Warning!\n",
      " Converting C-terminal residue name to PDB format: CASN -> ASN\n",
      "Checking Unit.\n",
      "\n",
      "/anaconda3/envs/biobb_AMBER_MDsetup_tutorials/bin/teLeap: Warning!\n",
      "The unperturbed charge of the unit (5.999999) is not zero.\n",
      "\n",
      "/anaconda3/envs/biobb_AMBER_MDsetup_tutorials/bin/teLeap: Note.\n",
      "Ignoring the warning from Unit Checking.\n",
      "\n",
      "Building topology.\n",
      "Building atom parameters.\n",
      "Building bond parameters.\n",
      "Building angle parameters.\n",
      "Building proper torsion parameters.\n",
      "Building improper torsion parameters.\n",
      " total 534 improper torsions applied\n",
      "Building H-Bond parameters.\n",
      "Incorporating Non-Bonded adjustments.\n",
      "Not Marking per-residue atom chain types.\n",
      "Marking per-residue atom chain types.\n",
      "  (Residues lacking connect0/connect1 - \n",
      "   these don't have chain types marked:\n",
      "\n",
      "\tres\ttotal affected\n",
      "\n",
      "\tCASN\t1\n",
      "\tJZ4\t1\n",
      "\tNMET\t1\n",
      "\tWAT\t7471\n",
      "  )\n",
      " (no restraints)\n",
      "\tQuit\n",
      "\n",
      "Exiting LEaP: Errors = 0; Warnings = 3; Notes = 1.\n",
      "\n",
      "2021-06-22 14:34:11,253 [MainThread  ] [INFO ]  Removed: 2074c37b-6879-488a-8b34-027ffb15d8e9\n",
      "2021-06-22 14:34:11,254 [MainThread  ] [INFO ]  Removed: leap.log\n"
     ]
    },
    {
     "data": {
      "text/plain": [
       "0"
      ]
     },
     "execution_count": 22,
     "metadata": {},
     "output_type": "execute_result"
    }
   ],
   "source": [
    "# Import module\n",
    "from biobb_amber.leap.leap_solvate import leap_solvate\n",
    "\n",
    "# Create prop dict and inputs/outputs\n",
    "output_solv_pdb_path = 'structure.solv.pdb'\n",
    "output_solv_top_path = 'structure.solv.parmtop'\n",
    "output_solv_crd_path = 'structure.solv.crd'\n",
    "\n",
    "prop = {\n",
    "    \"forcefield\" : [\"protein.ff14SB\",\"gaff\"],\n",
    "    \"water_type\": \"TIP3PBOX\",\n",
    "    \"distance_to_molecule\": \"9.0\",   \n",
    "    \"box_type\": \"truncated_octahedron\"\n",
    "}\n",
    "\n",
    "# Create and launch bb\n",
    "leap_solvate(input_pdb_path=output_ambpdb_path,\n",
    "             input_lib_path=output_acpype_lib,\n",
    "             input_frcmod_path=output_acpype_frcmod,\n",
    "             output_pdb_path=output_solv_pdb_path,\n",
    "             output_top_path=output_solv_top_path,\n",
    "             output_crd_path=output_solv_crd_path,\n",
    "             properties=prop)"
   ]
  },
  {
   "cell_type": "markdown",
   "metadata": {},
   "source": [
    "<a id=\"ions\"></a>\n",
    "## Adding ions\n",
    "\n",
    "**Neutralizing** the system and adding an additional **ionic concentration** using the **leap tool** from the **AMBER MD package**. <br/>\n",
    "Using **Sodium (Na+)** and **Chloride (Cl-)** counterions and an **additional ionic concentration** of 150mM.\n",
    "***\n",
    "**Building Blocks** used:\n",
    " - [leap_add_ions](https://biobb-amber.readthedocs.io/en/latest/leap.html#module-leap.leap_add_ions) from **biobb_amber.leap.leap_add_ions**\n",
    "***"
   ]
  },
  {
   "cell_type": "code",
   "execution_count": 23,
   "metadata": {},
   "outputs": [
    {
     "name": "stderr",
     "output_type": "stream",
     "text": [
      "2021-06-22 14:34:11,288 [MainThread  ] [INFO ]  Creating 350eea0d-4d40-495e-b8ab-eb8664e6e207 temporary folder\n",
      "2021-06-22 14:34:11,383 [MainThread  ] [INFO ]  Creating command line with instructions and required arguments\n",
      "2021-06-22 14:34:13,439 [MainThread  ] [INFO ]  tleap  -f 350eea0d-4d40-495e-b8ab-eb8664e6e207/leap.in\n",
      "\n",
      "2021-06-22 14:34:13,440 [MainThread  ] [INFO ]  Exit code 0\n",
      "\n",
      "2021-06-22 14:34:13,441 [MainThread  ] [INFO ]  -I: Adding /anaconda3/envs/biobb_AMBER_MDsetup_tutorials/dat/leap/prep to search path.\n",
      "-I: Adding /anaconda3/envs/biobb_AMBER_MDsetup_tutorials/dat/leap/lib to search path.\n",
      "-I: Adding /anaconda3/envs/biobb_AMBER_MDsetup_tutorials/dat/leap/parm to search path.\n",
      "-I: Adding /anaconda3/envs/biobb_AMBER_MDsetup_tutorials/dat/leap/cmd to search path.\n",
      "-f: Source 350eea0d-4d40-495e-b8ab-eb8664e6e207/leap.in.\n",
      "\n",
      "Welcome to LEaP!\n",
      "(no leaprc in search path)\n",
      "Sourcing: ./350eea0d-4d40-495e-b8ab-eb8664e6e207/leap.in\n",
      "----- Source: /anaconda3/envs/biobb_AMBER_MDsetup_tutorials/dat/leap/cmd/leaprc.protein.ff14SB\n",
      "----- Source of /anaconda3/envs/biobb_AMBER_MDsetup_tutorials/dat/leap/cmd/leaprc.protein.ff14SB done\n",
      "Log file: ./leap.log\n",
      "Loading parameters: /anaconda3/envs/biobb_AMBER_MDsetup_tutorials/dat/leap/parm/parm10.dat\n",
      "Reading title:\n",
      "PARM99 + frcmod.ff99SB + frcmod.parmbsc0 + OL3 for RNA\n",
      "Loading parameters: /anaconda3/envs/biobb_AMBER_MDsetup_tutorials/dat/leap/parm/frcmod.ff14SB\n",
      "Reading force field modification type file (frcmod)\n",
      "Reading title:\n",
      "ff14SB protein backbone and sidechain parameters\n",
      "Loading library: /anaconda3/envs/biobb_AMBER_MDsetup_tutorials/dat/leap/lib/amino12.lib\n",
      "Loading library: /anaconda3/envs/biobb_AMBER_MDsetup_tutorials/dat/leap/lib/aminoct12.lib\n",
      "Loading library: /anaconda3/envs/biobb_AMBER_MDsetup_tutorials/dat/leap/lib/aminont12.lib\n",
      "----- Source: /anaconda3/envs/biobb_AMBER_MDsetup_tutorials/dat/leap/cmd/leaprc.gaff\n",
      "----- Source of /anaconda3/envs/biobb_AMBER_MDsetup_tutorials/dat/leap/cmd/leaprc.gaff done\n",
      "Log file: ./leap.log\n",
      "Loading parameters: /anaconda3/envs/biobb_AMBER_MDsetup_tutorials/dat/leap/parm/gaff.dat\n",
      "Reading title:\n",
      "AMBER General Force Field for organic molecules (Version 1.81, May 2017)\n",
      "----- Source: /anaconda3/envs/biobb_AMBER_MDsetup_tutorials/dat/leap/cmd/leaprc.water.tip3p\n",
      "----- Source of /anaconda3/envs/biobb_AMBER_MDsetup_tutorials/dat/leap/cmd/leaprc.water.tip3p done\n",
      "Loading library: /anaconda3/envs/biobb_AMBER_MDsetup_tutorials/dat/leap/lib/atomic_ions.lib\n",
      "Loading library: /anaconda3/envs/biobb_AMBER_MDsetup_tutorials/dat/leap/lib/solvents.lib\n",
      "Loading parameters: /anaconda3/envs/biobb_AMBER_MDsetup_tutorials/dat/leap/parm/frcmod.tip3p\n",
      "Reading force field modification type file (frcmod)\n",
      "Reading title:\n",
      "This is the additional/replacement parameter set for TIP3P water\n",
      "Loading parameters: /anaconda3/envs/biobb_AMBER_MDsetup_tutorials/dat/leap/parm/frcmod.ions1lm_126_tip3p\n",
      "Reading force field modification type file (frcmod)\n",
      "Reading title:\n",
      "Li/Merz ion parameters of monovalent ions for TIP3P water model (12-6 normal usage set)\n",
      "Loading parameters: /anaconda3/envs/biobb_AMBER_MDsetup_tutorials/dat/leap/parm/frcmod.ionsjc_tip3p\n",
      "Reading force field modification type file (frcmod)\n",
      "Reading title:\n",
      "Monovalent ion parameters for Ewald and TIP3P water from Joung & Cheatham JPCB (2008)\n",
      "Loading parameters: /anaconda3/envs/biobb_AMBER_MDsetup_tutorials/dat/leap/parm/frcmod.ions234lm_126_tip3p\n",
      "Reading force field modification type file (frcmod)\n",
      "Reading title:\n",
      "Li/Merz ion parameters of divalent to tetravalent ions for TIP3P water model (12-6 normal usage set)\n",
      "Loading parameters: /anaconda3/envs/biobb_AMBER_MDsetup_tutorials/dat/leap/parm/frcmod.ionsjc_tip3p\n",
      "Reading force field modification type file (frcmod)\n",
      "Reading title:\n",
      "Monovalent ion parameters for Ewald and TIP3P water from Joung & Cheatham JPCB (2008)\n",
      "Loading library: ./JZ4params.lib\n",
      "Loading parameters: ./JZ4params.frcmod\n",
      "Reading force field modification type file (frcmod)\n",
      "Reading title:\n",
      "Remark line goes here\n",
      "Loading PDB file: ./structure.solv.pdb\n",
      "  total atoms in file: 25049\n",
      "6 Cl- ions required to neutralize.\n",
      "Adding 6 counter ions to \"mol\". 7465 solvent molecules will remain.\n",
      "0: Placed Cl- in mol at (7.65, 16.21, -18.24).\n",
      "0: Placed Cl- in mol at (-17.57, 11.01, 14.09).\n",
      "0: Placed Cl- in mol at (-24.22, -3.80, 19.96).\n",
      "0: Placed Cl- in mol at (-11.43, 16.25, 9.67).\n",
      "0: Placed Cl- in mol at (19.99, -17.48, -8.28).\n",
      "0: Placed Cl- in mol at (-0.07, -21.16, 23.20).\n",
      " 0.000001 0 1 0\n",
      "0 Na+ ion required to neutralize.\n",
      "Adding 20 counter ions to \"mol\". 7445 solvent molecules will remain.\n",
      "0: Placed Cl- in mol at (20.67, 9.89, -26.26).\n",
      "0: Placed Cl- in mol at (-18.85, 23.84, -8.06).\n",
      "0: Placed Cl- in mol at (7.42, 26.80, 6.98).\n",
      "0: Placed Cl- in mol at (2.02, 9.29, -29.60).\n",
      "0: Placed Cl- in mol at (4.68, -1.63, 35.32).\n",
      "0: Placed Cl- in mol at (-24.31, -19.07, -6.70).\n",
      "0: Placed Cl- in mol at (15.11, -12.21, 3.77).\n",
      "0: Placed Cl- in mol at (15.24, -6.96, -9.29).\n",
      "0: Placed Cl- in mol at (34.73, -19.31, 5.50).\n",
      "0: Placed Cl- in mol at (-25.33, 17.29, -25.15).\n",
      "0: Placed Cl- in mol at (17.16, -14.59, -0.50).\n",
      "0: Placed Cl- in mol at (-24.37, -1.29, -13.63).\n",
      "0: Placed Cl- in mol at (6.80, -23.84, 31.25).\n",
      "0: Placed Cl- in mol at (-12.82, -7.73, 15.11).\n",
      "0: Placed Cl- in mol at (-28.83, 4.42, 20.25).\n",
      "0: Placed Cl- in mol at (9.94, 33.74, 11.09).\n",
      "0: Placed Cl- in mol at (-29.64, -9.77, 13.26).\n",
      "0: Placed Cl- in mol at (4.10, 6.84, 24.70).\n",
      "0: Placed Cl- in mol at (-30.31, -19.31, 5.50).\n",
      "0: Placed Cl- in mol at (-8.72, 25.37, 12.44).\n",
      "Adding 20 counter ions to \"mol\". 7425 solvent molecules will remain.\n",
      "0: Placed Na+ in mol at (4.61, -24.77, -10.33).\n",
      "0: Placed Na+ in mol at (-7.96, 20.89, 13.26).\n",
      "0: Placed Na+ in mol at (-16.81, -3.09, -21.32).\n",
      "0: Placed Na+ in mol at (19.04, -3.74, 19.85).\n",
      "0: Placed Na+ in mol at (33.03, 13.15, 12.31).\n",
      "0: Placed Na+ in mol at (17.97, 34.89, 9.08).\n",
      "0: Placed Na+ in mol at (-25.72, -3.99, 11.19).\n",
      "0: Placed Na+ in mol at (-32.43, 3.96, 21.47).\n",
      "0: Placed Na+ in mol at (-21.58, 4.89, -33.03).\n",
      "0: Placed Na+ in mol at (-19.29, -2.79, 29.07).\n",
      "0: Placed Na+ in mol at (27.01, 1.24, -21.05).\n",
      "0: Placed Na+ in mol at (0.57, 13.88, -17.98).\n",
      "0: Placed Na+ in mol at (1.44, 26.24, 17.09).\n",
      "0: Placed Na+ in mol at (17.78, -9.65, -15.83).\n",
      "0: Placed Na+ in mol at (19.33, -16.46, -27.27).\n",
      "0: Placed Na+ in mol at (-7.15, 14.08, 20.31).\n",
      "0: Placed Na+ in mol at (12.89, -24.01, 24.89).\n",
      "0: Placed Na+ in mol at (-15.35, 28.72, 26.39).\n",
      "0: Placed Na+ in mol at (-18.92, -15.13, -27.04).\n",
      "0: Placed Na+ in mol at (22.25, -1.45, -17.98).\n",
      "Box dimensions:  74.612300 85.514600 88.139600\n",
      "Writing pdb file: structure.ions.pdb\n",
      "   printing CRYST1 record to PDB file with box info\n",
      "\n",
      "/anaconda3/envs/biobb_AMBER_MDsetup_tutorials/bin/teLeap: Warning!\n",
      " Converting N-terminal residue name to PDB format: NMET -> MET\n",
      "\n",
      "/anaconda3/envs/biobb_AMBER_MDsetup_tutorials/bin/teLeap: Warning!\n",
      " Converting C-terminal residue name to PDB format: CASN -> ASN\n",
      "Checking Unit.\n",
      "Building topology.\n",
      "Building atom parameters.\n",
      "Building bond parameters.\n",
      "Building angle parameters.\n",
      "Building proper torsion parameters.\n",
      "Building improper torsion parameters.\n",
      " total 534 improper torsions applied\n",
      "Building H-Bond parameters.\n",
      "Incorporating Non-Bonded adjustments.\n",
      "Not Marking per-residue atom chain types.\n",
      "Marking per-residue atom chain types.\n",
      "  (Residues lacking connect0/connect1 - \n",
      "   these don't have chain types marked:\n",
      "\n",
      "\tres\ttotal affected\n",
      "\n",
      "\tCASN\t1\n",
      "\tJZ4\t1\n",
      "\tNMET\t1\n",
      "\tWAT\t7425\n",
      "  )\n",
      " (no restraints)\n",
      "\tQuit\n",
      "\n",
      "Exiting LEaP: Errors = 0; Warnings = 2; Notes = 0.\n",
      "\n",
      "2021-06-22 14:34:13,443 [MainThread  ] [INFO ]  Fixing truncated octahedron Box in the topology and coordinates files\n",
      "2021-06-22 14:34:13,511 [MainThread  ] [INFO ]  Removed: 350eea0d-4d40-495e-b8ab-eb8664e6e207\n",
      "2021-06-22 14:34:13,512 [MainThread  ] [INFO ]  Removed: leap.log\n"
     ]
    },
    {
     "data": {
      "text/plain": [
       "0"
      ]
     },
     "execution_count": 23,
     "metadata": {},
     "output_type": "execute_result"
    }
   ],
   "source": [
    "# Import module\n",
    "from biobb_amber.leap.leap_add_ions import leap_add_ions\n",
    "\n",
    "# Create prop dict and inputs/outputs\n",
    "output_ions_pdb_path = 'structure.ions.pdb'\n",
    "output_ions_top_path = 'structure.ions.parmtop'\n",
    "output_ions_crd_path = 'structure.ions.crd'\n",
    "\n",
    "prop = {\n",
    "    \"forcefield\" : [\"protein.ff14SB\",\"gaff\"],\n",
    "    \"neutralise\" : True,\n",
    "    \"positive_ions_type\": \"Na+\",\n",
    "    \"negative_ions_type\": \"Cl-\",\n",
    "    \"ionic_concentration\" : 150, # 150mM\n",
    "    \"box_type\": \"truncated_octahedron\"\n",
    "}\n",
    "\n",
    "# Create and launch bb\n",
    "leap_add_ions(input_pdb_path=output_solv_pdb_path,\n",
    "            input_lib_path=output_acpype_lib,\n",
    "            input_frcmod_path=output_acpype_frcmod,\n",
    "           output_pdb_path=output_ions_pdb_path,\n",
    "           output_top_path=output_ions_top_path,\n",
    "           output_crd_path=output_ions_crd_path,\n",
    "           properties=prop)"
   ]
  },
  {
   "cell_type": "markdown",
   "metadata": {},
   "source": [
    "### Visualizing 3D structure\n",
    "Visualizing the **protein-ligand complex system** with the newly added **solvent box** and **counterions** using **NGL**.<br> Note the **truncated octahedron box** filled with **water molecules** surrounding the **protein structure**, as well as the randomly placed **positive** (Na+, blue) and **negative** (Cl-, gray) **counterions**."
   ]
  },
  {
   "cell_type": "code",
   "execution_count": 58,
   "metadata": {
    "scrolled": true
   },
   "outputs": [
    {
     "data": {
      "application/vnd.jupyter.widget-view+json": {
       "model_id": "f04c053746e841b5a8f7eb6b66b47a5e",
       "version_major": 2,
       "version_minor": 0
      },
      "text/plain": [
       "NGLWidget()"
      ]
     },
     "metadata": {},
     "output_type": "display_data"
    }
   ],
   "source": [
    "# Show protein\n",
    "view = nglview.show_structure_file(output_ions_pdb_path)\n",
    "view.clear_representations()\n",
    "view.add_representation(repr_type='cartoon', selection='protein')\n",
    "view.add_representation(repr_type='ball+stick', selection='solvent')\n",
    "view.add_representation(repr_type='spacefill', selection='Cl- Na+')\n",
    "view._remote_call('setSize', target='Widget', args=['','600px'])\n",
    "\n",
    "view.render_image()\n",
    "view.download_image(filename='ngl7.png')\n",
    "\n",
    "view"
   ]
  },
  {
   "cell_type": "markdown",
   "metadata": {},
   "source": [
    "<img src='ngl7.png'></img>"
   ]
  },
  {
   "cell_type": "markdown",
   "metadata": {},
   "source": [
    "<a id=\"min\"></a>\n",
    "## Energetically minimize the system\n",
    "\n",
    "**Energetically minimize** the **system** (protein structure + ligand + solvent + ions) using the **sander tool** from the **AMBER MD package**. **Restraining heavy atoms** with a force constant of 15 15 Kcal/mol.$Å^{2}$ to their initial positions.\n",
    "\n",
    "- [Step 1](#emStep1): Energetically minimize the **system** through 500 minimization cycles.\n",
    "- [Step 2](#emStep2): Checking **energy minimization** results. Plotting energy by time during the **minimization** process. \n",
    "***\n",
    "**Building Blocks** used:\n",
    " - [sander_mdrun](https://biobb-amber.readthedocs.io/en/latest/sander.html#module-sander.sander_mdrun) from **biobb_amber.sander.sander_mdrun**\n",
    " - [process_minout](https://biobb-amber.readthedocs.io/en/latest/process.html#module-process.process_minout) from **biobb_amber.process.process_minout**\n",
    "***"
   ]
  },
  {
   "cell_type": "markdown",
   "metadata": {},
   "source": [
    "<a id=\"emStep1\"></a>\n",
    "### Step 1: Running Energy Minimization\n",
    "The **minimization** type of the **simulation_type property** contains the main default parameters to run an **energy minimization**:\n",
    "\n",
    "-  imin  = 1 ;    Minimization flag, perform an energy minimization.\n",
    "-  maxcyc = 500;  The maximum number of cycles of minimization.\n",
    "-  ntb = 1;       Periodic boundaries: constant volume.\n",
    "-  ntmin = 2;     Minimization method: steepest descent.\n",
    "\n",
    "\n",
    "In this particular example, the method used to run the **energy minimization** is the default **steepest descent**, with a **maximum number of 500 cycles** and **periodic conditions**."
   ]
  },
  {
   "cell_type": "code",
   "execution_count": 25,
   "metadata": {},
   "outputs": [
    {
     "name": "stderr",
     "output_type": "stream",
     "text": [
      "2021-06-22 14:34:13,736 [MainThread  ] [INFO ]  Creating 7a502ae4-ffcb-462e-800c-38f0dceb6f42 temporary folder\n",
      "2021-06-22 14:34:13,737 [MainThread  ] [INFO ]  Creating command line with instructions and required arguments\n",
      "2021-06-22 14:36:10,064 [MainThread  ] [INFO ]  sander -O -i 7a502ae4-ffcb-462e-800c-38f0dceb6f42/sander.mdin -p structure.ions.parmtop -c structure.ions.crd -r sander.min.rst -o sander.min.log -x sander.min.x -ref  structure.ions.crd\n",
      "\n",
      "2021-06-22 14:36:10,065 [MainThread  ] [INFO ]  Exit code 0\n",
      "\n",
      "2021-06-22 14:36:10,067 [MainThread  ] [INFO ]  Removed: mdinfo, 7a502ae4-ffcb-462e-800c-38f0dceb6f42\n"
     ]
    },
    {
     "data": {
      "text/plain": [
       "0"
      ]
     },
     "execution_count": 25,
     "metadata": {},
     "output_type": "execute_result"
    }
   ],
   "source": [
    "# Import module\n",
    "from biobb_amber.sander.sander_mdrun import sander_mdrun\n",
    "\n",
    "# Create prop dict and inputs/outputs\n",
    "output_min_traj_path = 'sander.min.x'\n",
    "output_min_rst_path = 'sander.min.rst'\n",
    "output_min_log_path = 'sander.min.log'\n",
    "\n",
    "prop = {\n",
    "    \"simulation_type\" : \"minimization\",\n",
    "    \"mdin\" : { \n",
    "        'maxcyc' : 300, # Reducing the number of minimization steps for the sake of time\n",
    "        'ntr' : 1,      # Overwritting restrain parameter\n",
    "        'restraintmask' : '\\\"!:WAT,Cl-,Na+\\\"',      # Restraining solute\n",
    "        'restraint_wt' : 15.0                       # With a force constant of 50 Kcal/mol*A2\n",
    "    }\n",
    "}\n",
    "\n",
    "# Create and launch bb\n",
    "sander_mdrun(input_top_path=output_ions_top_path,\n",
    "            input_crd_path=output_ions_crd_path,\n",
    "            input_ref_path=output_ions_crd_path,\n",
    "            output_traj_path=output_min_traj_path,\n",
    "            output_rst_path=output_min_rst_path,\n",
    "            output_log_path=output_min_log_path,\n",
    "            properties=prop)"
   ]
  },
  {
   "cell_type": "markdown",
   "metadata": {},
   "source": [
    "<a id=\"emStep2\"></a>\n",
    "### Step 2: Checking Energy Minimization results\n",
    "Checking **energy minimization** results. Plotting **potential energy** along time during the **minimization process**."
   ]
  },
  {
   "cell_type": "code",
   "execution_count": 26,
   "metadata": {},
   "outputs": [
    {
     "name": "stderr",
     "output_type": "stream",
     "text": [
      "2021-06-22 14:36:10,081 [MainThread  ] [INFO ]  Creating command line with instructions and required arguments\n",
      "2021-06-22 14:36:10,099 [MainThread  ] [INFO ]  process_minout.perl  sander.min.log\n",
      "\n",
      "2021-06-22 14:36:10,101 [MainThread  ] [INFO ]  Exit code 0\n",
      "\n",
      "2021-06-22 14:36:10,102 [MainThread  ] [INFO ]  Processing sander output file (sander.min.log)...\n",
      "Processing step 150 of a possible 300...\n",
      "Processing step 300 of a possible 300...\n",
      "Processing step 300 of a possible 300...\n",
      "Starting output...\n",
      "Outputing summary.NSTEP\n",
      "Outputing summary.ENERGY\n",
      "Outputing summary.RMS\n",
      "Outputing summary.GMAX\n",
      "Outputing summary.NAME\n",
      "Outputing summary.NUMBER\n",
      "Outputing summary.BOND\n",
      "Outputing summary.ANGLE\n",
      "Outputing summary.DIHEDRAL\n",
      "Outputing summary.VDWAALS\n",
      "Outputing summary.EEL\n",
      "Outputing summary.HBOND\n",
      "Outputing summary.VDW14\n",
      "Outputing summary.EEL14\n",
      "Outputing summary.RESTRAINT\n",
      "\n",
      "2021-06-22 14:36:10,107 [MainThread  ] [INFO ]  Removed: [PosixPath('summary.DIHEDRAL'), PosixPath('summary.NUMBER'), PosixPath('summary.BOND'), PosixPath('summary.VDWAALS'), PosixPath('summary.HBOND'), PosixPath('summary.EEL14'), PosixPath('summary.GMAX'), PosixPath('summary.RESTRAINT'), PosixPath('summary.NAME'), PosixPath('summary.EEL'), PosixPath('summary.NSTEP'), PosixPath('summary.VDW14'), PosixPath('summary.ANGLE'), PosixPath('summary.ENERGY'), PosixPath('summary.RMS')]\n"
     ]
    },
    {
     "data": {
      "text/plain": [
       "0"
      ]
     },
     "execution_count": 26,
     "metadata": {},
     "output_type": "execute_result"
    }
   ],
   "source": [
    "# Import module\n",
    "from biobb_amber.process.process_minout import process_minout\n",
    "\n",
    "# Create prop dict and inputs/outputs\n",
    "output_dat_path = 'sander.min.energy.dat'\n",
    "\n",
    "prop = {\n",
    "    \"terms\" : ['ENERGY']\n",
    "}\n",
    "\n",
    "# Create and launch bb\n",
    "process_minout(input_log_path=output_min_log_path,\n",
    "            output_dat_path=output_dat_path,\n",
    "            properties=prop)"
   ]
  },
  {
   "cell_type": "code",
   "execution_count": 27,
   "metadata": {},
   "outputs": [
    {
     "data": {
      "text/html": [
       "        <script type=\"text/javascript\">\n",
       "        window.PlotlyConfig = {MathJaxConfig: 'local'};\n",
       "        if (window.MathJax) {MathJax.Hub.Config({SVG: {font: \"STIX-Web\"}});}\n",
       "        if (typeof require !== 'undefined') {\n",
       "        require.undef(\"plotly\");\n",
       "        requirejs.config({\n",
       "            paths: {\n",
       "                'plotly': ['https://cdn.plot.ly/plotly-2.1.0.min']\n",
       "            }\n",
       "        });\n",
       "        require(['plotly'], function(Plotly) {\n",
       "            window._Plotly = Plotly;\n",
       "        });\n",
       "        }\n",
       "        </script>\n",
       "        "
      ]
     },
     "metadata": {},
     "output_type": "display_data"
    },
    {
     "data": {
      "application/vnd.plotly.v1+json": {
       "config": {
        "linkText": "Export to plot.ly",
        "plotlyServerURL": "https://plot.ly",
        "showLink": false
       },
       "data": [
        {
         "type": "scatter",
         "x": [
          1,
          50,
          100,
          150,
          200,
          250,
          300
         ],
         "y": [
          -5879.3,
          -85684,
          -91065,
          -93529,
          -94914,
          -95890,
          -96668
         ]
        }
       ],
       "layout": {
        "template": {
         "data": {
          "bar": [
           {
            "error_x": {
             "color": "#2a3f5f"
            },
            "error_y": {
             "color": "#2a3f5f"
            },
            "marker": {
             "line": {
              "color": "#E5ECF6",
              "width": 0.5
             },
             "pattern": {
              "fillmode": "overlay",
              "size": 10,
              "solidity": 0.2
             }
            },
            "type": "bar"
           }
          ],
          "barpolar": [
           {
            "marker": {
             "line": {
              "color": "#E5ECF6",
              "width": 0.5
             },
             "pattern": {
              "fillmode": "overlay",
              "size": 10,
              "solidity": 0.2
             }
            },
            "type": "barpolar"
           }
          ],
          "carpet": [
           {
            "aaxis": {
             "endlinecolor": "#2a3f5f",
             "gridcolor": "white",
             "linecolor": "white",
             "minorgridcolor": "white",
             "startlinecolor": "#2a3f5f"
            },
            "baxis": {
             "endlinecolor": "#2a3f5f",
             "gridcolor": "white",
             "linecolor": "white",
             "minorgridcolor": "white",
             "startlinecolor": "#2a3f5f"
            },
            "type": "carpet"
           }
          ],
          "choropleth": [
           {
            "colorbar": {
             "outlinewidth": 0,
             "ticks": ""
            },
            "type": "choropleth"
           }
          ],
          "contour": [
           {
            "colorbar": {
             "outlinewidth": 0,
             "ticks": ""
            },
            "colorscale": [
             [
              0,
              "#0d0887"
             ],
             [
              0.1111111111111111,
              "#46039f"
             ],
             [
              0.2222222222222222,
              "#7201a8"
             ],
             [
              0.3333333333333333,
              "#9c179e"
             ],
             [
              0.4444444444444444,
              "#bd3786"
             ],
             [
              0.5555555555555556,
              "#d8576b"
             ],
             [
              0.6666666666666666,
              "#ed7953"
             ],
             [
              0.7777777777777778,
              "#fb9f3a"
             ],
             [
              0.8888888888888888,
              "#fdca26"
             ],
             [
              1,
              "#f0f921"
             ]
            ],
            "type": "contour"
           }
          ],
          "contourcarpet": [
           {
            "colorbar": {
             "outlinewidth": 0,
             "ticks": ""
            },
            "type": "contourcarpet"
           }
          ],
          "heatmap": [
           {
            "colorbar": {
             "outlinewidth": 0,
             "ticks": ""
            },
            "colorscale": [
             [
              0,
              "#0d0887"
             ],
             [
              0.1111111111111111,
              "#46039f"
             ],
             [
              0.2222222222222222,
              "#7201a8"
             ],
             [
              0.3333333333333333,
              "#9c179e"
             ],
             [
              0.4444444444444444,
              "#bd3786"
             ],
             [
              0.5555555555555556,
              "#d8576b"
             ],
             [
              0.6666666666666666,
              "#ed7953"
             ],
             [
              0.7777777777777778,
              "#fb9f3a"
             ],
             [
              0.8888888888888888,
              "#fdca26"
             ],
             [
              1,
              "#f0f921"
             ]
            ],
            "type": "heatmap"
           }
          ],
          "heatmapgl": [
           {
            "colorbar": {
             "outlinewidth": 0,
             "ticks": ""
            },
            "colorscale": [
             [
              0,
              "#0d0887"
             ],
             [
              0.1111111111111111,
              "#46039f"
             ],
             [
              0.2222222222222222,
              "#7201a8"
             ],
             [
              0.3333333333333333,
              "#9c179e"
             ],
             [
              0.4444444444444444,
              "#bd3786"
             ],
             [
              0.5555555555555556,
              "#d8576b"
             ],
             [
              0.6666666666666666,
              "#ed7953"
             ],
             [
              0.7777777777777778,
              "#fb9f3a"
             ],
             [
              0.8888888888888888,
              "#fdca26"
             ],
             [
              1,
              "#f0f921"
             ]
            ],
            "type": "heatmapgl"
           }
          ],
          "histogram": [
           {
            "marker": {
             "pattern": {
              "fillmode": "overlay",
              "size": 10,
              "solidity": 0.2
             }
            },
            "type": "histogram"
           }
          ],
          "histogram2d": [
           {
            "colorbar": {
             "outlinewidth": 0,
             "ticks": ""
            },
            "colorscale": [
             [
              0,
              "#0d0887"
             ],
             [
              0.1111111111111111,
              "#46039f"
             ],
             [
              0.2222222222222222,
              "#7201a8"
             ],
             [
              0.3333333333333333,
              "#9c179e"
             ],
             [
              0.4444444444444444,
              "#bd3786"
             ],
             [
              0.5555555555555556,
              "#d8576b"
             ],
             [
              0.6666666666666666,
              "#ed7953"
             ],
             [
              0.7777777777777778,
              "#fb9f3a"
             ],
             [
              0.8888888888888888,
              "#fdca26"
             ],
             [
              1,
              "#f0f921"
             ]
            ],
            "type": "histogram2d"
           }
          ],
          "histogram2dcontour": [
           {
            "colorbar": {
             "outlinewidth": 0,
             "ticks": ""
            },
            "colorscale": [
             [
              0,
              "#0d0887"
             ],
             [
              0.1111111111111111,
              "#46039f"
             ],
             [
              0.2222222222222222,
              "#7201a8"
             ],
             [
              0.3333333333333333,
              "#9c179e"
             ],
             [
              0.4444444444444444,
              "#bd3786"
             ],
             [
              0.5555555555555556,
              "#d8576b"
             ],
             [
              0.6666666666666666,
              "#ed7953"
             ],
             [
              0.7777777777777778,
              "#fb9f3a"
             ],
             [
              0.8888888888888888,
              "#fdca26"
             ],
             [
              1,
              "#f0f921"
             ]
            ],
            "type": "histogram2dcontour"
           }
          ],
          "mesh3d": [
           {
            "colorbar": {
             "outlinewidth": 0,
             "ticks": ""
            },
            "type": "mesh3d"
           }
          ],
          "parcoords": [
           {
            "line": {
             "colorbar": {
              "outlinewidth": 0,
              "ticks": ""
             }
            },
            "type": "parcoords"
           }
          ],
          "pie": [
           {
            "automargin": true,
            "type": "pie"
           }
          ],
          "scatter": [
           {
            "marker": {
             "colorbar": {
              "outlinewidth": 0,
              "ticks": ""
             }
            },
            "type": "scatter"
           }
          ],
          "scatter3d": [
           {
            "line": {
             "colorbar": {
              "outlinewidth": 0,
              "ticks": ""
             }
            },
            "marker": {
             "colorbar": {
              "outlinewidth": 0,
              "ticks": ""
             }
            },
            "type": "scatter3d"
           }
          ],
          "scattercarpet": [
           {
            "marker": {
             "colorbar": {
              "outlinewidth": 0,
              "ticks": ""
             }
            },
            "type": "scattercarpet"
           }
          ],
          "scattergeo": [
           {
            "marker": {
             "colorbar": {
              "outlinewidth": 0,
              "ticks": ""
             }
            },
            "type": "scattergeo"
           }
          ],
          "scattergl": [
           {
            "marker": {
             "colorbar": {
              "outlinewidth": 0,
              "ticks": ""
             }
            },
            "type": "scattergl"
           }
          ],
          "scattermapbox": [
           {
            "marker": {
             "colorbar": {
              "outlinewidth": 0,
              "ticks": ""
             }
            },
            "type": "scattermapbox"
           }
          ],
          "scatterpolar": [
           {
            "marker": {
             "colorbar": {
              "outlinewidth": 0,
              "ticks": ""
             }
            },
            "type": "scatterpolar"
           }
          ],
          "scatterpolargl": [
           {
            "marker": {
             "colorbar": {
              "outlinewidth": 0,
              "ticks": ""
             }
            },
            "type": "scatterpolargl"
           }
          ],
          "scatterternary": [
           {
            "marker": {
             "colorbar": {
              "outlinewidth": 0,
              "ticks": ""
             }
            },
            "type": "scatterternary"
           }
          ],
          "surface": [
           {
            "colorbar": {
             "outlinewidth": 0,
             "ticks": ""
            },
            "colorscale": [
             [
              0,
              "#0d0887"
             ],
             [
              0.1111111111111111,
              "#46039f"
             ],
             [
              0.2222222222222222,
              "#7201a8"
             ],
             [
              0.3333333333333333,
              "#9c179e"
             ],
             [
              0.4444444444444444,
              "#bd3786"
             ],
             [
              0.5555555555555556,
              "#d8576b"
             ],
             [
              0.6666666666666666,
              "#ed7953"
             ],
             [
              0.7777777777777778,
              "#fb9f3a"
             ],
             [
              0.8888888888888888,
              "#fdca26"
             ],
             [
              1,
              "#f0f921"
             ]
            ],
            "type": "surface"
           }
          ],
          "table": [
           {
            "cells": {
             "fill": {
              "color": "#EBF0F8"
             },
             "line": {
              "color": "white"
             }
            },
            "header": {
             "fill": {
              "color": "#C8D4E3"
             },
             "line": {
              "color": "white"
             }
            },
            "type": "table"
           }
          ]
         },
         "layout": {
          "annotationdefaults": {
           "arrowcolor": "#2a3f5f",
           "arrowhead": 0,
           "arrowwidth": 1
          },
          "autotypenumbers": "strict",
          "coloraxis": {
           "colorbar": {
            "outlinewidth": 0,
            "ticks": ""
           }
          },
          "colorscale": {
           "diverging": [
            [
             0,
             "#8e0152"
            ],
            [
             0.1,
             "#c51b7d"
            ],
            [
             0.2,
             "#de77ae"
            ],
            [
             0.3,
             "#f1b6da"
            ],
            [
             0.4,
             "#fde0ef"
            ],
            [
             0.5,
             "#f7f7f7"
            ],
            [
             0.6,
             "#e6f5d0"
            ],
            [
             0.7,
             "#b8e186"
            ],
            [
             0.8,
             "#7fbc41"
            ],
            [
             0.9,
             "#4d9221"
            ],
            [
             1,
             "#276419"
            ]
           ],
           "sequential": [
            [
             0,
             "#0d0887"
            ],
            [
             0.1111111111111111,
             "#46039f"
            ],
            [
             0.2222222222222222,
             "#7201a8"
            ],
            [
             0.3333333333333333,
             "#9c179e"
            ],
            [
             0.4444444444444444,
             "#bd3786"
            ],
            [
             0.5555555555555556,
             "#d8576b"
            ],
            [
             0.6666666666666666,
             "#ed7953"
            ],
            [
             0.7777777777777778,
             "#fb9f3a"
            ],
            [
             0.8888888888888888,
             "#fdca26"
            ],
            [
             1,
             "#f0f921"
            ]
           ],
           "sequentialminus": [
            [
             0,
             "#0d0887"
            ],
            [
             0.1111111111111111,
             "#46039f"
            ],
            [
             0.2222222222222222,
             "#7201a8"
            ],
            [
             0.3333333333333333,
             "#9c179e"
            ],
            [
             0.4444444444444444,
             "#bd3786"
            ],
            [
             0.5555555555555556,
             "#d8576b"
            ],
            [
             0.6666666666666666,
             "#ed7953"
            ],
            [
             0.7777777777777778,
             "#fb9f3a"
            ],
            [
             0.8888888888888888,
             "#fdca26"
            ],
            [
             1,
             "#f0f921"
            ]
           ]
          },
          "colorway": [
           "#636efa",
           "#EF553B",
           "#00cc96",
           "#ab63fa",
           "#FFA15A",
           "#19d3f3",
           "#FF6692",
           "#B6E880",
           "#FF97FF",
           "#FECB52"
          ],
          "font": {
           "color": "#2a3f5f"
          },
          "geo": {
           "bgcolor": "white",
           "lakecolor": "white",
           "landcolor": "#E5ECF6",
           "showlakes": true,
           "showland": true,
           "subunitcolor": "white"
          },
          "hoverlabel": {
           "align": "left"
          },
          "hovermode": "closest",
          "mapbox": {
           "style": "light"
          },
          "paper_bgcolor": "white",
          "plot_bgcolor": "#E5ECF6",
          "polar": {
           "angularaxis": {
            "gridcolor": "white",
            "linecolor": "white",
            "ticks": ""
           },
           "bgcolor": "#E5ECF6",
           "radialaxis": {
            "gridcolor": "white",
            "linecolor": "white",
            "ticks": ""
           }
          },
          "scene": {
           "xaxis": {
            "backgroundcolor": "#E5ECF6",
            "gridcolor": "white",
            "gridwidth": 2,
            "linecolor": "white",
            "showbackground": true,
            "ticks": "",
            "zerolinecolor": "white"
           },
           "yaxis": {
            "backgroundcolor": "#E5ECF6",
            "gridcolor": "white",
            "gridwidth": 2,
            "linecolor": "white",
            "showbackground": true,
            "ticks": "",
            "zerolinecolor": "white"
           },
           "zaxis": {
            "backgroundcolor": "#E5ECF6",
            "gridcolor": "white",
            "gridwidth": 2,
            "linecolor": "white",
            "showbackground": true,
            "ticks": "",
            "zerolinecolor": "white"
           }
          },
          "shapedefaults": {
           "line": {
            "color": "#2a3f5f"
           }
          },
          "ternary": {
           "aaxis": {
            "gridcolor": "white",
            "linecolor": "white",
            "ticks": ""
           },
           "baxis": {
            "gridcolor": "white",
            "linecolor": "white",
            "ticks": ""
           },
           "bgcolor": "#E5ECF6",
           "caxis": {
            "gridcolor": "white",
            "linecolor": "white",
            "ticks": ""
           }
          },
          "title": {
           "x": 0.05
          },
          "xaxis": {
           "automargin": true,
           "gridcolor": "white",
           "linecolor": "white",
           "ticks": "",
           "title": {
            "standoff": 15
           },
           "zerolinecolor": "white",
           "zerolinewidth": 2
          },
          "yaxis": {
           "automargin": true,
           "gridcolor": "white",
           "linecolor": "white",
           "ticks": "",
           "title": {
            "standoff": 15
           },
           "zerolinecolor": "white",
           "zerolinewidth": 2
          }
         }
        },
        "title": {
         "text": "Energy Minimization"
        },
        "xaxis": {
         "title": {
          "text": "Energy Minimization Step"
         }
        },
        "yaxis": {
         "title": {
          "text": "Potential Energy kcal/mol"
         }
        }
       }
      },
      "text/html": [
       "<div>                            <div id=\"663e2abb-bc7a-4b65-8084-a4c1393cd11d\" class=\"plotly-graph-div\" style=\"height:525px; width:100%;\"></div>            <script type=\"text/javascript\">                require([\"plotly\"], function(Plotly) {                    window.PLOTLYENV=window.PLOTLYENV || {};                                    if (document.getElementById(\"663e2abb-bc7a-4b65-8084-a4c1393cd11d\")) {                    Plotly.newPlot(                        \"663e2abb-bc7a-4b65-8084-a4c1393cd11d\",                        [{\"type\":\"scatter\",\"x\":[1.0,50.0,100.0,150.0,200.0,250.0,300.0],\"y\":[-5879.3,-85684.0,-91065.0,-93529.0,-94914.0,-95890.0,-96668.0]}],                        {\"template\":{\"data\":{\"bar\":[{\"error_x\":{\"color\":\"#2a3f5f\"},\"error_y\":{\"color\":\"#2a3f5f\"},\"marker\":{\"line\":{\"color\":\"#E5ECF6\",\"width\":0.5},\"pattern\":{\"fillmode\":\"overlay\",\"size\":10,\"solidity\":0.2}},\"type\":\"bar\"}],\"barpolar\":[{\"marker\":{\"line\":{\"color\":\"#E5ECF6\",\"width\":0.5},\"pattern\":{\"fillmode\":\"overlay\",\"size\":10,\"solidity\":0.2}},\"type\":\"barpolar\"}],\"carpet\":[{\"aaxis\":{\"endlinecolor\":\"#2a3f5f\",\"gridcolor\":\"white\",\"linecolor\":\"white\",\"minorgridcolor\":\"white\",\"startlinecolor\":\"#2a3f5f\"},\"baxis\":{\"endlinecolor\":\"#2a3f5f\",\"gridcolor\":\"white\",\"linecolor\":\"white\",\"minorgridcolor\":\"white\",\"startlinecolor\":\"#2a3f5f\"},\"type\":\"carpet\"}],\"choropleth\":[{\"colorbar\":{\"outlinewidth\":0,\"ticks\":\"\"},\"type\":\"choropleth\"}],\"contour\":[{\"colorbar\":{\"outlinewidth\":0,\"ticks\":\"\"},\"colorscale\":[[0.0,\"#0d0887\"],[0.1111111111111111,\"#46039f\"],[0.2222222222222222,\"#7201a8\"],[0.3333333333333333,\"#9c179e\"],[0.4444444444444444,\"#bd3786\"],[0.5555555555555556,\"#d8576b\"],[0.6666666666666666,\"#ed7953\"],[0.7777777777777778,\"#fb9f3a\"],[0.8888888888888888,\"#fdca26\"],[1.0,\"#f0f921\"]],\"type\":\"contour\"}],\"contourcarpet\":[{\"colorbar\":{\"outlinewidth\":0,\"ticks\":\"\"},\"type\":\"contourcarpet\"}],\"heatmap\":[{\"colorbar\":{\"outlinewidth\":0,\"ticks\":\"\"},\"colorscale\":[[0.0,\"#0d0887\"],[0.1111111111111111,\"#46039f\"],[0.2222222222222222,\"#7201a8\"],[0.3333333333333333,\"#9c179e\"],[0.4444444444444444,\"#bd3786\"],[0.5555555555555556,\"#d8576b\"],[0.6666666666666666,\"#ed7953\"],[0.7777777777777778,\"#fb9f3a\"],[0.8888888888888888,\"#fdca26\"],[1.0,\"#f0f921\"]],\"type\":\"heatmap\"}],\"heatmapgl\":[{\"colorbar\":{\"outlinewidth\":0,\"ticks\":\"\"},\"colorscale\":[[0.0,\"#0d0887\"],[0.1111111111111111,\"#46039f\"],[0.2222222222222222,\"#7201a8\"],[0.3333333333333333,\"#9c179e\"],[0.4444444444444444,\"#bd3786\"],[0.5555555555555556,\"#d8576b\"],[0.6666666666666666,\"#ed7953\"],[0.7777777777777778,\"#fb9f3a\"],[0.8888888888888888,\"#fdca26\"],[1.0,\"#f0f921\"]],\"type\":\"heatmapgl\"}],\"histogram\":[{\"marker\":{\"pattern\":{\"fillmode\":\"overlay\",\"size\":10,\"solidity\":0.2}},\"type\":\"histogram\"}],\"histogram2d\":[{\"colorbar\":{\"outlinewidth\":0,\"ticks\":\"\"},\"colorscale\":[[0.0,\"#0d0887\"],[0.1111111111111111,\"#46039f\"],[0.2222222222222222,\"#7201a8\"],[0.3333333333333333,\"#9c179e\"],[0.4444444444444444,\"#bd3786\"],[0.5555555555555556,\"#d8576b\"],[0.6666666666666666,\"#ed7953\"],[0.7777777777777778,\"#fb9f3a\"],[0.8888888888888888,\"#fdca26\"],[1.0,\"#f0f921\"]],\"type\":\"histogram2d\"}],\"histogram2dcontour\":[{\"colorbar\":{\"outlinewidth\":0,\"ticks\":\"\"},\"colorscale\":[[0.0,\"#0d0887\"],[0.1111111111111111,\"#46039f\"],[0.2222222222222222,\"#7201a8\"],[0.3333333333333333,\"#9c179e\"],[0.4444444444444444,\"#bd3786\"],[0.5555555555555556,\"#d8576b\"],[0.6666666666666666,\"#ed7953\"],[0.7777777777777778,\"#fb9f3a\"],[0.8888888888888888,\"#fdca26\"],[1.0,\"#f0f921\"]],\"type\":\"histogram2dcontour\"}],\"mesh3d\":[{\"colorbar\":{\"outlinewidth\":0,\"ticks\":\"\"},\"type\":\"mesh3d\"}],\"parcoords\":[{\"line\":{\"colorbar\":{\"outlinewidth\":0,\"ticks\":\"\"}},\"type\":\"parcoords\"}],\"pie\":[{\"automargin\":true,\"type\":\"pie\"}],\"scatter\":[{\"marker\":{\"colorbar\":{\"outlinewidth\":0,\"ticks\":\"\"}},\"type\":\"scatter\"}],\"scatter3d\":[{\"line\":{\"colorbar\":{\"outlinewidth\":0,\"ticks\":\"\"}},\"marker\":{\"colorbar\":{\"outlinewidth\":0,\"ticks\":\"\"}},\"type\":\"scatter3d\"}],\"scattercarpet\":[{\"marker\":{\"colorbar\":{\"outlinewidth\":0,\"ticks\":\"\"}},\"type\":\"scattercarpet\"}],\"scattergeo\":[{\"marker\":{\"colorbar\":{\"outlinewidth\":0,\"ticks\":\"\"}},\"type\":\"scattergeo\"}],\"scattergl\":[{\"marker\":{\"colorbar\":{\"outlinewidth\":0,\"ticks\":\"\"}},\"type\":\"scattergl\"}],\"scattermapbox\":[{\"marker\":{\"colorbar\":{\"outlinewidth\":0,\"ticks\":\"\"}},\"type\":\"scattermapbox\"}],\"scatterpolar\":[{\"marker\":{\"colorbar\":{\"outlinewidth\":0,\"ticks\":\"\"}},\"type\":\"scatterpolar\"}],\"scatterpolargl\":[{\"marker\":{\"colorbar\":{\"outlinewidth\":0,\"ticks\":\"\"}},\"type\":\"scatterpolargl\"}],\"scatterternary\":[{\"marker\":{\"colorbar\":{\"outlinewidth\":0,\"ticks\":\"\"}},\"type\":\"scatterternary\"}],\"surface\":[{\"colorbar\":{\"outlinewidth\":0,\"ticks\":\"\"},\"colorscale\":[[0.0,\"#0d0887\"],[0.1111111111111111,\"#46039f\"],[0.2222222222222222,\"#7201a8\"],[0.3333333333333333,\"#9c179e\"],[0.4444444444444444,\"#bd3786\"],[0.5555555555555556,\"#d8576b\"],[0.6666666666666666,\"#ed7953\"],[0.7777777777777778,\"#fb9f3a\"],[0.8888888888888888,\"#fdca26\"],[1.0,\"#f0f921\"]],\"type\":\"surface\"}],\"table\":[{\"cells\":{\"fill\":{\"color\":\"#EBF0F8\"},\"line\":{\"color\":\"white\"}},\"header\":{\"fill\":{\"color\":\"#C8D4E3\"},\"line\":{\"color\":\"white\"}},\"type\":\"table\"}]},\"layout\":{\"annotationdefaults\":{\"arrowcolor\":\"#2a3f5f\",\"arrowhead\":0,\"arrowwidth\":1},\"autotypenumbers\":\"strict\",\"coloraxis\":{\"colorbar\":{\"outlinewidth\":0,\"ticks\":\"\"}},\"colorscale\":{\"diverging\":[[0,\"#8e0152\"],[0.1,\"#c51b7d\"],[0.2,\"#de77ae\"],[0.3,\"#f1b6da\"],[0.4,\"#fde0ef\"],[0.5,\"#f7f7f7\"],[0.6,\"#e6f5d0\"],[0.7,\"#b8e186\"],[0.8,\"#7fbc41\"],[0.9,\"#4d9221\"],[1,\"#276419\"]],\"sequential\":[[0.0,\"#0d0887\"],[0.1111111111111111,\"#46039f\"],[0.2222222222222222,\"#7201a8\"],[0.3333333333333333,\"#9c179e\"],[0.4444444444444444,\"#bd3786\"],[0.5555555555555556,\"#d8576b\"],[0.6666666666666666,\"#ed7953\"],[0.7777777777777778,\"#fb9f3a\"],[0.8888888888888888,\"#fdca26\"],[1.0,\"#f0f921\"]],\"sequentialminus\":[[0.0,\"#0d0887\"],[0.1111111111111111,\"#46039f\"],[0.2222222222222222,\"#7201a8\"],[0.3333333333333333,\"#9c179e\"],[0.4444444444444444,\"#bd3786\"],[0.5555555555555556,\"#d8576b\"],[0.6666666666666666,\"#ed7953\"],[0.7777777777777778,\"#fb9f3a\"],[0.8888888888888888,\"#fdca26\"],[1.0,\"#f0f921\"]]},\"colorway\":[\"#636efa\",\"#EF553B\",\"#00cc96\",\"#ab63fa\",\"#FFA15A\",\"#19d3f3\",\"#FF6692\",\"#B6E880\",\"#FF97FF\",\"#FECB52\"],\"font\":{\"color\":\"#2a3f5f\"},\"geo\":{\"bgcolor\":\"white\",\"lakecolor\":\"white\",\"landcolor\":\"#E5ECF6\",\"showlakes\":true,\"showland\":true,\"subunitcolor\":\"white\"},\"hoverlabel\":{\"align\":\"left\"},\"hovermode\":\"closest\",\"mapbox\":{\"style\":\"light\"},\"paper_bgcolor\":\"white\",\"plot_bgcolor\":\"#E5ECF6\",\"polar\":{\"angularaxis\":{\"gridcolor\":\"white\",\"linecolor\":\"white\",\"ticks\":\"\"},\"bgcolor\":\"#E5ECF6\",\"radialaxis\":{\"gridcolor\":\"white\",\"linecolor\":\"white\",\"ticks\":\"\"}},\"scene\":{\"xaxis\":{\"backgroundcolor\":\"#E5ECF6\",\"gridcolor\":\"white\",\"gridwidth\":2,\"linecolor\":\"white\",\"showbackground\":true,\"ticks\":\"\",\"zerolinecolor\":\"white\"},\"yaxis\":{\"backgroundcolor\":\"#E5ECF6\",\"gridcolor\":\"white\",\"gridwidth\":2,\"linecolor\":\"white\",\"showbackground\":true,\"ticks\":\"\",\"zerolinecolor\":\"white\"},\"zaxis\":{\"backgroundcolor\":\"#E5ECF6\",\"gridcolor\":\"white\",\"gridwidth\":2,\"linecolor\":\"white\",\"showbackground\":true,\"ticks\":\"\",\"zerolinecolor\":\"white\"}},\"shapedefaults\":{\"line\":{\"color\":\"#2a3f5f\"}},\"ternary\":{\"aaxis\":{\"gridcolor\":\"white\",\"linecolor\":\"white\",\"ticks\":\"\"},\"baxis\":{\"gridcolor\":\"white\",\"linecolor\":\"white\",\"ticks\":\"\"},\"bgcolor\":\"#E5ECF6\",\"caxis\":{\"gridcolor\":\"white\",\"linecolor\":\"white\",\"ticks\":\"\"}},\"title\":{\"x\":0.05},\"xaxis\":{\"automargin\":true,\"gridcolor\":\"white\",\"linecolor\":\"white\",\"ticks\":\"\",\"title\":{\"standoff\":15},\"zerolinecolor\":\"white\",\"zerolinewidth\":2},\"yaxis\":{\"automargin\":true,\"gridcolor\":\"white\",\"linecolor\":\"white\",\"ticks\":\"\",\"title\":{\"standoff\":15},\"zerolinecolor\":\"white\",\"zerolinewidth\":2}}},\"title\":{\"text\":\"Energy Minimization\"},\"xaxis\":{\"title\":{\"text\":\"Energy Minimization Step\"}},\"yaxis\":{\"title\":{\"text\":\"Potential Energy kcal/mol\"}}},                        {\"responsive\": true}                    ).then(function(){\n",
       "                            \n",
       "var gd = document.getElementById('663e2abb-bc7a-4b65-8084-a4c1393cd11d');\n",
       "var x = new MutationObserver(function (mutations, observer) {{\n",
       "        var display = window.getComputedStyle(gd).display;\n",
       "        if (!display || display === 'none') {{\n",
       "            console.log([gd, 'removed!']);\n",
       "            Plotly.purge(gd);\n",
       "            observer.disconnect();\n",
       "        }}\n",
       "}});\n",
       "\n",
       "// Listen for the removal of the full notebook cells\n",
       "var notebookContainer = gd.closest('#notebook-container');\n",
       "if (notebookContainer) {{\n",
       "    x.observe(notebookContainer, {childList: true});\n",
       "}}\n",
       "\n",
       "// Listen for the clearing of the current output cell\n",
       "var outputEl = gd.closest('.output');\n",
       "if (outputEl) {{\n",
       "    x.observe(outputEl, {childList: true});\n",
       "}}\n",
       "\n",
       "                        })                };                });            </script>        </div>"
      ]
     },
     "metadata": {},
     "output_type": "display_data"
    }
   ],
   "source": [
    "#Read data from file and filter energy values higher than 1000 Kj/mol^-1\n",
    "with open(output_dat_path,'r') as energy_file:\n",
    "    x,y = map(\n",
    "        list,\n",
    "        zip(*[\n",
    "            (float(line.split()[0]),float(line.split()[1]))\n",
    "            for line in energy_file \n",
    "            if not line.startswith((\"#\",\"@\")) \n",
    "            if float(line.split()[1]) < 1000 \n",
    "        ])\n",
    "    )\n",
    "\n",
    "plotly.offline.init_notebook_mode(connected=True)\n",
    "\n",
    "fig = {\n",
    "    \"data\": [go.Scatter(x=x, y=y)],\n",
    "    \"layout\": go.Layout(title=\"Energy Minimization\",\n",
    "                        xaxis=dict(title = \"Energy Minimization Step\"),\n",
    "                        yaxis=dict(title = \"Potential Energy kcal/mol\")\n",
    "                       )\n",
    "}\n",
    "\n",
    "plotly.offline.iplot(fig)"
   ]
  },
  {
   "cell_type": "markdown",
   "metadata": {},
   "source": [
    "<a id=\"heating\"></a>\n",
    "## Heating the system\n",
    "\n",
    "**Warming up** the **prepared system** using the **sander tool** from the **AMBER MD package**. Going from 0 to the desired **temperature**, in this particular example, 300K. **Solute atoms restrained** (force constant of 10 Kcal/mol). Length 5ps.\n",
    "***\n",
    "- [Step 1](#heatStep1): Warming up the **system** through 500 MD steps.\n",
    "- [Step 2](#heatStep2): Checking results for the **system warming up**. Plotting **temperature** along time during the **heating** process. \n",
    "***\n",
    "**Building Blocks** used:\n",
    " - [sander_mdrun](https://biobb-amber.readthedocs.io/en/latest/sander.html#module-sander.sander_mdrun) from **biobb_amber.sander.sander_mdrun**\n",
    " - [process_mdout](https://biobb-amber.readthedocs.io/en/latest/process.html#module-process.process_mdout) from **biobb_amber.process.process_mdout**\n",
    "***"
   ]
  },
  {
   "cell_type": "markdown",
   "metadata": {},
   "source": [
    "<a id=\"heatStep1\"></a>\n",
    "### Step 1: Warming up the system\n",
    "The **heat** type of the **simulation_type property** contains the main default parameters to run a **system warming up**:\n",
    "\n",
    "-  imin = 0;&nbsp;&nbsp;&nbsp;      Run MD (no minimization)\n",
    "-  ntx = 5;&nbsp;&nbsp;&nbsp;       Read initial coords and vels from restart file\n",
    "-  cut = 10.0;&nbsp;&nbsp;&nbsp;    Cutoff for non bonded interactions in Angstroms\n",
    "-  ntr = 0;&nbsp;&nbsp;&nbsp;       No restrained atoms\n",
    "-  ntc = 2;&nbsp;&nbsp;&nbsp;       SHAKE for constraining length of bonds involving Hydrogen atoms\n",
    "-  ntf = 2;&nbsp;&nbsp;&nbsp;       Bond interactions involving H omitted\n",
    "-  ntt = 3;&nbsp;&nbsp;&nbsp;       Constant temperature using Langevin dynamics\n",
    "-  ig = -1;&nbsp;&nbsp;&nbsp;       Seed for pseudo-random number generator\n",
    "-  ioutfm = 1;&nbsp;&nbsp;&nbsp;    Write trajectory in netcdf format\n",
    "-  iwrap = 1;&nbsp;&nbsp;&nbsp;     Wrap coords into primary box\n",
    "-  nstlim = 5000;&nbsp;&nbsp;&nbsp; Number of MD steps \n",
    "-  dt = 0.002;&nbsp;&nbsp;&nbsp;    Time step (in ps)\n",
    "-  tempi = 0.0;&nbsp;&nbsp;&nbsp;   Initial temperature (0 K)\n",
    "-  temp0 = 300.0;&nbsp;&nbsp;&nbsp; Final temperature (300 K)\n",
    "-  irest = 0;&nbsp;&nbsp;&nbsp;     No restart from previous simulation\n",
    "-  ntb = 1;&nbsp;&nbsp;&nbsp;       Periodic boundary conditions at constant volume\n",
    "-  gamma_ln = 1.0;&nbsp;&nbsp;&nbsp;   Collision frequency for Langevin dynamics (in 1/ps)\n",
    "\n",
    "In this particular example, the **heating** of the system is done in **2500 steps** (5ps) and is going **from 0K to 300K** (note that the number of steps has been reduced in this tutorial, for the sake of time). "
   ]
  },
  {
   "cell_type": "code",
   "execution_count": 28,
   "metadata": {},
   "outputs": [
    {
     "name": "stderr",
     "output_type": "stream",
     "text": [
      "2021-06-22 14:36:10,186 [MainThread  ] [INFO ]  Creating 4dfd3a1c-b371-4152-8ac1-b7a85c976396 temporary folder\n",
      "2021-06-22 14:36:10,189 [MainThread  ] [INFO ]  Creating command line with instructions and required arguments\n",
      "2021-06-22 14:57:48,864 [MainThread  ] [INFO ]  sander -O -i 4dfd3a1c-b371-4152-8ac1-b7a85c976396/sander.mdin -p structure.ions.parmtop -c sander.min.rst -r sander.heat.rst -o sander.heat.log -x sander.heat.netcdf -ref  sander.min.rst\n",
      "\n",
      "2021-06-22 14:57:48,865 [MainThread  ] [INFO ]  Exit code 0\n",
      "\n",
      "2021-06-22 14:57:48,866 [MainThread  ] [INFO ]  Removed: mdinfo, 4dfd3a1c-b371-4152-8ac1-b7a85c976396\n"
     ]
    },
    {
     "data": {
      "text/plain": [
       "0"
      ]
     },
     "execution_count": 28,
     "metadata": {},
     "output_type": "execute_result"
    }
   ],
   "source": [
    "# Import module\n",
    "from biobb_amber.sander.sander_mdrun import sander_mdrun\n",
    "\n",
    "# Create prop dict and inputs/outputs\n",
    "output_heat_traj_path = 'sander.heat.netcdf'\n",
    "output_heat_rst_path = 'sander.heat.rst'\n",
    "output_heat_log_path = 'sander.heat.log'\n",
    "\n",
    "prop = {\n",
    "    \"simulation_type\" : \"heat\",\n",
    "    \"mdin\" : { \n",
    "        'nstlim' : 2500, # Reducing the number of steps for the sake of time (5ps)\n",
    "        'ntr' : 1,     # Overwritting restrain parameter\n",
    "        'restraintmask' : '\\\"!:WAT,Cl-,Na+\\\"',      # Restraining solute\n",
    "        'restraint_wt' : 10.0                       # With a force constant of 10 Kcal/mol*A2\n",
    "    }\n",
    "}\n",
    "\n",
    "# Create and launch bb\n",
    "sander_mdrun(input_top_path=output_ions_top_path,\n",
    "            input_crd_path=output_min_rst_path,\n",
    "            input_ref_path=output_min_rst_path,\n",
    "            output_traj_path=output_heat_traj_path,\n",
    "            output_rst_path=output_heat_rst_path,\n",
    "            output_log_path=output_heat_log_path,\n",
    "            properties=prop)"
   ]
  },
  {
   "cell_type": "markdown",
   "metadata": {},
   "source": [
    "<a id=\"heatStep2\"></a>\n",
    "### Step 2: Checking results from the system warming up\n",
    "Checking **system warming up** output. Plotting **temperature** along time during the **heating process**."
   ]
  },
  {
   "cell_type": "code",
   "execution_count": 29,
   "metadata": {},
   "outputs": [
    {
     "name": "stderr",
     "output_type": "stream",
     "text": [
      "2021-06-22 14:57:48,883 [MainThread  ] [INFO ]  Creating command line with instructions and required arguments\n",
      "2021-06-22 14:57:48,912 [MainThread  ] [INFO ]  process_mdout.perl  sander.heat.log\n",
      "\n",
      "2021-06-22 14:57:48,914 [MainThread  ] [INFO ]  Exit code 0\n",
      "\n",
      "2021-06-22 14:57:48,915 [MainThread  ] [INFO ]  Processing sander output file (sander.heat.log)...\n",
      "Starting output...\n",
      "Outputing summary.TEMP\n",
      "Outputing summary_avg.TEMP\n",
      "Outputing summary_rms.TEMP\n",
      "Outputing summary.TSOLUTE\n",
      "Outputing summary_avg.TSOLUTE\n",
      "Outputing summary_rms.TSOLUTE\n",
      "Outputing summary.TSOLVENT\n",
      "Outputing summary_avg.TSOLVENT\n",
      "Outputing summary_rms.TSOLVENT\n",
      "Outputing summary.PRES\n",
      "Outputing summary_avg.PRES\n",
      "Outputing summary_rms.PRES\n",
      "Outputing summary.EKCMT\n",
      "Outputing summary_avg.EKCMT\n",
      "Outputing summary_rms.EKCMT\n",
      "Outputing summary.ETOT\n",
      "Outputing summary_avg.ETOT\n",
      "Outputing summary_rms.ETOT\n",
      "Outputing summary.EKTOT\n",
      "Outputing summary_avg.EKTOT\n",
      "Outputing summary_rms.EKTOT\n",
      "Outputing summary.EPTOT\n",
      "Outputing summary_avg.EPTOT\n",
      "Outputing summary_rms.EPTOT\n",
      "Outputing summary.DENSITY\n",
      "Outputing summary_avg.DENSITY\n",
      "Outputing summary_rms.DENSITY\n",
      "Outputing summary.VOLUME\n",
      "Outputing summary_avg.VOLUME\n",
      "Outputing summary_rms.VOLUME\n",
      "Outputing summary.ESCF\n",
      "Outputing summary_avg.ESCF\n",
      "Outputing summary_rms.ESCF\n",
      "\n",
      "2021-06-22 14:57:48,919 [MainThread  ] [INFO ]  Removed: [PosixPath('summary_avg.TSOLUTE'), PosixPath('summary_rms.TEMP'), PosixPath('summary.TSOLVENT'), PosixPath('summary_rms.TSOLUTE'), PosixPath('summary_rms.ESCF'), PosixPath('summary_rms.TSOLVENT'), PosixPath('summary_avg.TEMP'), PosixPath('summary_avg.EKTOT'), PosixPath('summary_avg.EKCMT'), PosixPath('summary_rms.ETOT'), PosixPath('summary_rms.EPTOT'), PosixPath('summary_avg.ETOT'), PosixPath('summary_rms.PRES'), PosixPath('summary_avg.TSOLVENT'), PosixPath('summary_rms.EKTOT'), PosixPath('summary_rms.EKCMT'), PosixPath('summary.EKCMT'), PosixPath('summary_rms.VOLUME'), PosixPath('summary.VOLUME'), PosixPath('summary_avg.DENSITY'), PosixPath('summary.ESCF'), PosixPath('summary.PRES'), PosixPath('summary_avg.PRES'), PosixPath('summary.TSOLUTE'), PosixPath('summary_avg.ESCF'), PosixPath('summary_avg.EPTOT'), PosixPath('summary_avg.VOLUME'), PosixPath('summary.TEMP'), PosixPath('summary.EPTOT'), PosixPath('summary.DENSITY'), PosixPath('summary.EKTOT'), PosixPath('summary_rms.DENSITY'), PosixPath('summary.ETOT')]\n"
     ]
    },
    {
     "data": {
      "text/plain": [
       "0"
      ]
     },
     "execution_count": 29,
     "metadata": {},
     "output_type": "execute_result"
    }
   ],
   "source": [
    "# Import module\n",
    "from biobb_amber.process.process_mdout import process_mdout\n",
    "\n",
    "# Create prop dict and inputs/outputs\n",
    "output_dat_heat_path = 'sander.md.temp.dat'\n",
    "\n",
    "prop = {\n",
    "    \"terms\" : ['TEMP']\n",
    "}\n",
    "\n",
    "# Create and launch bb\n",
    "process_mdout(input_log_path=output_heat_log_path,\n",
    "            output_dat_path=output_dat_heat_path,\n",
    "            properties=prop)"
   ]
  },
  {
   "cell_type": "code",
   "execution_count": 30,
   "metadata": {},
   "outputs": [
    {
     "data": {
      "text/html": [
       "        <script type=\"text/javascript\">\n",
       "        window.PlotlyConfig = {MathJaxConfig: 'local'};\n",
       "        if (window.MathJax) {MathJax.Hub.Config({SVG: {font: \"STIX-Web\"}});}\n",
       "        if (typeof require !== 'undefined') {\n",
       "        require.undef(\"plotly\");\n",
       "        requirejs.config({\n",
       "            paths: {\n",
       "                'plotly': ['https://cdn.plot.ly/plotly-2.1.0.min']\n",
       "            }\n",
       "        });\n",
       "        require(['plotly'], function(Plotly) {\n",
       "            window._Plotly = Plotly;\n",
       "        });\n",
       "        }\n",
       "        </script>\n",
       "        "
      ]
     },
     "metadata": {},
     "output_type": "display_data"
    },
    {
     "data": {
      "application/vnd.plotly.v1+json": {
       "config": {
        "linkText": "Export to plot.ly",
        "plotlyServerURL": "https://plot.ly",
        "showLink": false
       },
       "data": [
        {
         "type": "scatter",
         "x": [
          0,
          0.1,
          0.2,
          0.3,
          0.4,
          0.5,
          0.6,
          0.7,
          0.8,
          0.9,
          1,
          1.1,
          1.2,
          1.3,
          1.4,
          1.5,
          1.6,
          1.7,
          1.8,
          1.9,
          2,
          2.1,
          2.2,
          2.3,
          2.4,
          2.5,
          2.6,
          2.7,
          2.8,
          2.9,
          3,
          3.1,
          3.2,
          3.3,
          3.4,
          3.5,
          3.6,
          3.7,
          3.8,
          3.9,
          4,
          4.1,
          4.2,
          4.3,
          4.4,
          4.5,
          4.6,
          4.7,
          4.8,
          4.9,
          5
         ],
         "y": [
          0,
          55.55,
          92.83,
          116.93,
          136.27,
          154.44,
          168.25,
          181.25,
          195.15,
          202.85,
          215.02,
          219.5,
          227.38,
          235.02,
          238.88,
          244.59,
          248.34,
          253.98,
          257.51,
          263.18,
          265.97,
          267.07,
          268.05,
          273.98,
          275.49,
          275.23,
          278.66,
          278.83,
          281.94,
          282.83,
          284.46,
          283.71,
          285.98,
          282.8,
          285.73,
          286.58,
          286.48,
          291.43,
          290.33,
          289.19,
          292.8,
          293.78,
          290.87,
          293.34,
          294.27,
          293.33,
          291.9,
          297.72,
          295.56,
          293.46,
          296.43
         ]
        }
       ],
       "layout": {
        "template": {
         "data": {
          "bar": [
           {
            "error_x": {
             "color": "#2a3f5f"
            },
            "error_y": {
             "color": "#2a3f5f"
            },
            "marker": {
             "line": {
              "color": "#E5ECF6",
              "width": 0.5
             },
             "pattern": {
              "fillmode": "overlay",
              "size": 10,
              "solidity": 0.2
             }
            },
            "type": "bar"
           }
          ],
          "barpolar": [
           {
            "marker": {
             "line": {
              "color": "#E5ECF6",
              "width": 0.5
             },
             "pattern": {
              "fillmode": "overlay",
              "size": 10,
              "solidity": 0.2
             }
            },
            "type": "barpolar"
           }
          ],
          "carpet": [
           {
            "aaxis": {
             "endlinecolor": "#2a3f5f",
             "gridcolor": "white",
             "linecolor": "white",
             "minorgridcolor": "white",
             "startlinecolor": "#2a3f5f"
            },
            "baxis": {
             "endlinecolor": "#2a3f5f",
             "gridcolor": "white",
             "linecolor": "white",
             "minorgridcolor": "white",
             "startlinecolor": "#2a3f5f"
            },
            "type": "carpet"
           }
          ],
          "choropleth": [
           {
            "colorbar": {
             "outlinewidth": 0,
             "ticks": ""
            },
            "type": "choropleth"
           }
          ],
          "contour": [
           {
            "colorbar": {
             "outlinewidth": 0,
             "ticks": ""
            },
            "colorscale": [
             [
              0,
              "#0d0887"
             ],
             [
              0.1111111111111111,
              "#46039f"
             ],
             [
              0.2222222222222222,
              "#7201a8"
             ],
             [
              0.3333333333333333,
              "#9c179e"
             ],
             [
              0.4444444444444444,
              "#bd3786"
             ],
             [
              0.5555555555555556,
              "#d8576b"
             ],
             [
              0.6666666666666666,
              "#ed7953"
             ],
             [
              0.7777777777777778,
              "#fb9f3a"
             ],
             [
              0.8888888888888888,
              "#fdca26"
             ],
             [
              1,
              "#f0f921"
             ]
            ],
            "type": "contour"
           }
          ],
          "contourcarpet": [
           {
            "colorbar": {
             "outlinewidth": 0,
             "ticks": ""
            },
            "type": "contourcarpet"
           }
          ],
          "heatmap": [
           {
            "colorbar": {
             "outlinewidth": 0,
             "ticks": ""
            },
            "colorscale": [
             [
              0,
              "#0d0887"
             ],
             [
              0.1111111111111111,
              "#46039f"
             ],
             [
              0.2222222222222222,
              "#7201a8"
             ],
             [
              0.3333333333333333,
              "#9c179e"
             ],
             [
              0.4444444444444444,
              "#bd3786"
             ],
             [
              0.5555555555555556,
              "#d8576b"
             ],
             [
              0.6666666666666666,
              "#ed7953"
             ],
             [
              0.7777777777777778,
              "#fb9f3a"
             ],
             [
              0.8888888888888888,
              "#fdca26"
             ],
             [
              1,
              "#f0f921"
             ]
            ],
            "type": "heatmap"
           }
          ],
          "heatmapgl": [
           {
            "colorbar": {
             "outlinewidth": 0,
             "ticks": ""
            },
            "colorscale": [
             [
              0,
              "#0d0887"
             ],
             [
              0.1111111111111111,
              "#46039f"
             ],
             [
              0.2222222222222222,
              "#7201a8"
             ],
             [
              0.3333333333333333,
              "#9c179e"
             ],
             [
              0.4444444444444444,
              "#bd3786"
             ],
             [
              0.5555555555555556,
              "#d8576b"
             ],
             [
              0.6666666666666666,
              "#ed7953"
             ],
             [
              0.7777777777777778,
              "#fb9f3a"
             ],
             [
              0.8888888888888888,
              "#fdca26"
             ],
             [
              1,
              "#f0f921"
             ]
            ],
            "type": "heatmapgl"
           }
          ],
          "histogram": [
           {
            "marker": {
             "pattern": {
              "fillmode": "overlay",
              "size": 10,
              "solidity": 0.2
             }
            },
            "type": "histogram"
           }
          ],
          "histogram2d": [
           {
            "colorbar": {
             "outlinewidth": 0,
             "ticks": ""
            },
            "colorscale": [
             [
              0,
              "#0d0887"
             ],
             [
              0.1111111111111111,
              "#46039f"
             ],
             [
              0.2222222222222222,
              "#7201a8"
             ],
             [
              0.3333333333333333,
              "#9c179e"
             ],
             [
              0.4444444444444444,
              "#bd3786"
             ],
             [
              0.5555555555555556,
              "#d8576b"
             ],
             [
              0.6666666666666666,
              "#ed7953"
             ],
             [
              0.7777777777777778,
              "#fb9f3a"
             ],
             [
              0.8888888888888888,
              "#fdca26"
             ],
             [
              1,
              "#f0f921"
             ]
            ],
            "type": "histogram2d"
           }
          ],
          "histogram2dcontour": [
           {
            "colorbar": {
             "outlinewidth": 0,
             "ticks": ""
            },
            "colorscale": [
             [
              0,
              "#0d0887"
             ],
             [
              0.1111111111111111,
              "#46039f"
             ],
             [
              0.2222222222222222,
              "#7201a8"
             ],
             [
              0.3333333333333333,
              "#9c179e"
             ],
             [
              0.4444444444444444,
              "#bd3786"
             ],
             [
              0.5555555555555556,
              "#d8576b"
             ],
             [
              0.6666666666666666,
              "#ed7953"
             ],
             [
              0.7777777777777778,
              "#fb9f3a"
             ],
             [
              0.8888888888888888,
              "#fdca26"
             ],
             [
              1,
              "#f0f921"
             ]
            ],
            "type": "histogram2dcontour"
           }
          ],
          "mesh3d": [
           {
            "colorbar": {
             "outlinewidth": 0,
             "ticks": ""
            },
            "type": "mesh3d"
           }
          ],
          "parcoords": [
           {
            "line": {
             "colorbar": {
              "outlinewidth": 0,
              "ticks": ""
             }
            },
            "type": "parcoords"
           }
          ],
          "pie": [
           {
            "automargin": true,
            "type": "pie"
           }
          ],
          "scatter": [
           {
            "marker": {
             "colorbar": {
              "outlinewidth": 0,
              "ticks": ""
             }
            },
            "type": "scatter"
           }
          ],
          "scatter3d": [
           {
            "line": {
             "colorbar": {
              "outlinewidth": 0,
              "ticks": ""
             }
            },
            "marker": {
             "colorbar": {
              "outlinewidth": 0,
              "ticks": ""
             }
            },
            "type": "scatter3d"
           }
          ],
          "scattercarpet": [
           {
            "marker": {
             "colorbar": {
              "outlinewidth": 0,
              "ticks": ""
             }
            },
            "type": "scattercarpet"
           }
          ],
          "scattergeo": [
           {
            "marker": {
             "colorbar": {
              "outlinewidth": 0,
              "ticks": ""
             }
            },
            "type": "scattergeo"
           }
          ],
          "scattergl": [
           {
            "marker": {
             "colorbar": {
              "outlinewidth": 0,
              "ticks": ""
             }
            },
            "type": "scattergl"
           }
          ],
          "scattermapbox": [
           {
            "marker": {
             "colorbar": {
              "outlinewidth": 0,
              "ticks": ""
             }
            },
            "type": "scattermapbox"
           }
          ],
          "scatterpolar": [
           {
            "marker": {
             "colorbar": {
              "outlinewidth": 0,
              "ticks": ""
             }
            },
            "type": "scatterpolar"
           }
          ],
          "scatterpolargl": [
           {
            "marker": {
             "colorbar": {
              "outlinewidth": 0,
              "ticks": ""
             }
            },
            "type": "scatterpolargl"
           }
          ],
          "scatterternary": [
           {
            "marker": {
             "colorbar": {
              "outlinewidth": 0,
              "ticks": ""
             }
            },
            "type": "scatterternary"
           }
          ],
          "surface": [
           {
            "colorbar": {
             "outlinewidth": 0,
             "ticks": ""
            },
            "colorscale": [
             [
              0,
              "#0d0887"
             ],
             [
              0.1111111111111111,
              "#46039f"
             ],
             [
              0.2222222222222222,
              "#7201a8"
             ],
             [
              0.3333333333333333,
              "#9c179e"
             ],
             [
              0.4444444444444444,
              "#bd3786"
             ],
             [
              0.5555555555555556,
              "#d8576b"
             ],
             [
              0.6666666666666666,
              "#ed7953"
             ],
             [
              0.7777777777777778,
              "#fb9f3a"
             ],
             [
              0.8888888888888888,
              "#fdca26"
             ],
             [
              1,
              "#f0f921"
             ]
            ],
            "type": "surface"
           }
          ],
          "table": [
           {
            "cells": {
             "fill": {
              "color": "#EBF0F8"
             },
             "line": {
              "color": "white"
             }
            },
            "header": {
             "fill": {
              "color": "#C8D4E3"
             },
             "line": {
              "color": "white"
             }
            },
            "type": "table"
           }
          ]
         },
         "layout": {
          "annotationdefaults": {
           "arrowcolor": "#2a3f5f",
           "arrowhead": 0,
           "arrowwidth": 1
          },
          "autotypenumbers": "strict",
          "coloraxis": {
           "colorbar": {
            "outlinewidth": 0,
            "ticks": ""
           }
          },
          "colorscale": {
           "diverging": [
            [
             0,
             "#8e0152"
            ],
            [
             0.1,
             "#c51b7d"
            ],
            [
             0.2,
             "#de77ae"
            ],
            [
             0.3,
             "#f1b6da"
            ],
            [
             0.4,
             "#fde0ef"
            ],
            [
             0.5,
             "#f7f7f7"
            ],
            [
             0.6,
             "#e6f5d0"
            ],
            [
             0.7,
             "#b8e186"
            ],
            [
             0.8,
             "#7fbc41"
            ],
            [
             0.9,
             "#4d9221"
            ],
            [
             1,
             "#276419"
            ]
           ],
           "sequential": [
            [
             0,
             "#0d0887"
            ],
            [
             0.1111111111111111,
             "#46039f"
            ],
            [
             0.2222222222222222,
             "#7201a8"
            ],
            [
             0.3333333333333333,
             "#9c179e"
            ],
            [
             0.4444444444444444,
             "#bd3786"
            ],
            [
             0.5555555555555556,
             "#d8576b"
            ],
            [
             0.6666666666666666,
             "#ed7953"
            ],
            [
             0.7777777777777778,
             "#fb9f3a"
            ],
            [
             0.8888888888888888,
             "#fdca26"
            ],
            [
             1,
             "#f0f921"
            ]
           ],
           "sequentialminus": [
            [
             0,
             "#0d0887"
            ],
            [
             0.1111111111111111,
             "#46039f"
            ],
            [
             0.2222222222222222,
             "#7201a8"
            ],
            [
             0.3333333333333333,
             "#9c179e"
            ],
            [
             0.4444444444444444,
             "#bd3786"
            ],
            [
             0.5555555555555556,
             "#d8576b"
            ],
            [
             0.6666666666666666,
             "#ed7953"
            ],
            [
             0.7777777777777778,
             "#fb9f3a"
            ],
            [
             0.8888888888888888,
             "#fdca26"
            ],
            [
             1,
             "#f0f921"
            ]
           ]
          },
          "colorway": [
           "#636efa",
           "#EF553B",
           "#00cc96",
           "#ab63fa",
           "#FFA15A",
           "#19d3f3",
           "#FF6692",
           "#B6E880",
           "#FF97FF",
           "#FECB52"
          ],
          "font": {
           "color": "#2a3f5f"
          },
          "geo": {
           "bgcolor": "white",
           "lakecolor": "white",
           "landcolor": "#E5ECF6",
           "showlakes": true,
           "showland": true,
           "subunitcolor": "white"
          },
          "hoverlabel": {
           "align": "left"
          },
          "hovermode": "closest",
          "mapbox": {
           "style": "light"
          },
          "paper_bgcolor": "white",
          "plot_bgcolor": "#E5ECF6",
          "polar": {
           "angularaxis": {
            "gridcolor": "white",
            "linecolor": "white",
            "ticks": ""
           },
           "bgcolor": "#E5ECF6",
           "radialaxis": {
            "gridcolor": "white",
            "linecolor": "white",
            "ticks": ""
           }
          },
          "scene": {
           "xaxis": {
            "backgroundcolor": "#E5ECF6",
            "gridcolor": "white",
            "gridwidth": 2,
            "linecolor": "white",
            "showbackground": true,
            "ticks": "",
            "zerolinecolor": "white"
           },
           "yaxis": {
            "backgroundcolor": "#E5ECF6",
            "gridcolor": "white",
            "gridwidth": 2,
            "linecolor": "white",
            "showbackground": true,
            "ticks": "",
            "zerolinecolor": "white"
           },
           "zaxis": {
            "backgroundcolor": "#E5ECF6",
            "gridcolor": "white",
            "gridwidth": 2,
            "linecolor": "white",
            "showbackground": true,
            "ticks": "",
            "zerolinecolor": "white"
           }
          },
          "shapedefaults": {
           "line": {
            "color": "#2a3f5f"
           }
          },
          "ternary": {
           "aaxis": {
            "gridcolor": "white",
            "linecolor": "white",
            "ticks": ""
           },
           "baxis": {
            "gridcolor": "white",
            "linecolor": "white",
            "ticks": ""
           },
           "bgcolor": "#E5ECF6",
           "caxis": {
            "gridcolor": "white",
            "linecolor": "white",
            "ticks": ""
           }
          },
          "title": {
           "x": 0.05
          },
          "xaxis": {
           "automargin": true,
           "gridcolor": "white",
           "linecolor": "white",
           "ticks": "",
           "title": {
            "standoff": 15
           },
           "zerolinecolor": "white",
           "zerolinewidth": 2
          },
          "yaxis": {
           "automargin": true,
           "gridcolor": "white",
           "linecolor": "white",
           "ticks": "",
           "title": {
            "standoff": 15
           },
           "zerolinecolor": "white",
           "zerolinewidth": 2
          }
         }
        },
        "title": {
         "text": "Heating process"
        },
        "xaxis": {
         "title": {
          "text": "Heating Step (ps)"
         }
        },
        "yaxis": {
         "title": {
          "text": "Temperature (K)"
         }
        }
       }
      },
      "text/html": [
       "<div>                            <div id=\"56633799-aed7-4439-ae93-1f02e33bc808\" class=\"plotly-graph-div\" style=\"height:525px; width:100%;\"></div>            <script type=\"text/javascript\">                require([\"plotly\"], function(Plotly) {                    window.PLOTLYENV=window.PLOTLYENV || {};                                    if (document.getElementById(\"56633799-aed7-4439-ae93-1f02e33bc808\")) {                    Plotly.newPlot(                        \"56633799-aed7-4439-ae93-1f02e33bc808\",                        [{\"type\":\"scatter\",\"x\":[0.0,0.1,0.2,0.3,0.4,0.5,0.6,0.7,0.8,0.9,1.0,1.1,1.2,1.3,1.4,1.5,1.6,1.7,1.8,1.9,2.0,2.1,2.2,2.3,2.4,2.5,2.6,2.7,2.8,2.9,3.0,3.1,3.2,3.3,3.4,3.5,3.6,3.7,3.8,3.9,4.0,4.1,4.2,4.3,4.4,4.5,4.6,4.7,4.8,4.9,5.0],\"y\":[0.0,55.55,92.83,116.93,136.27,154.44,168.25,181.25,195.15,202.85,215.02,219.5,227.38,235.02,238.88,244.59,248.34,253.98,257.51,263.18,265.97,267.07,268.05,273.98,275.49,275.23,278.66,278.83,281.94,282.83,284.46,283.71,285.98,282.8,285.73,286.58,286.48,291.43,290.33,289.19,292.8,293.78,290.87,293.34,294.27,293.33,291.9,297.72,295.56,293.46,296.43]}],                        {\"template\":{\"data\":{\"bar\":[{\"error_x\":{\"color\":\"#2a3f5f\"},\"error_y\":{\"color\":\"#2a3f5f\"},\"marker\":{\"line\":{\"color\":\"#E5ECF6\",\"width\":0.5},\"pattern\":{\"fillmode\":\"overlay\",\"size\":10,\"solidity\":0.2}},\"type\":\"bar\"}],\"barpolar\":[{\"marker\":{\"line\":{\"color\":\"#E5ECF6\",\"width\":0.5},\"pattern\":{\"fillmode\":\"overlay\",\"size\":10,\"solidity\":0.2}},\"type\":\"barpolar\"}],\"carpet\":[{\"aaxis\":{\"endlinecolor\":\"#2a3f5f\",\"gridcolor\":\"white\",\"linecolor\":\"white\",\"minorgridcolor\":\"white\",\"startlinecolor\":\"#2a3f5f\"},\"baxis\":{\"endlinecolor\":\"#2a3f5f\",\"gridcolor\":\"white\",\"linecolor\":\"white\",\"minorgridcolor\":\"white\",\"startlinecolor\":\"#2a3f5f\"},\"type\":\"carpet\"}],\"choropleth\":[{\"colorbar\":{\"outlinewidth\":0,\"ticks\":\"\"},\"type\":\"choropleth\"}],\"contour\":[{\"colorbar\":{\"outlinewidth\":0,\"ticks\":\"\"},\"colorscale\":[[0.0,\"#0d0887\"],[0.1111111111111111,\"#46039f\"],[0.2222222222222222,\"#7201a8\"],[0.3333333333333333,\"#9c179e\"],[0.4444444444444444,\"#bd3786\"],[0.5555555555555556,\"#d8576b\"],[0.6666666666666666,\"#ed7953\"],[0.7777777777777778,\"#fb9f3a\"],[0.8888888888888888,\"#fdca26\"],[1.0,\"#f0f921\"]],\"type\":\"contour\"}],\"contourcarpet\":[{\"colorbar\":{\"outlinewidth\":0,\"ticks\":\"\"},\"type\":\"contourcarpet\"}],\"heatmap\":[{\"colorbar\":{\"outlinewidth\":0,\"ticks\":\"\"},\"colorscale\":[[0.0,\"#0d0887\"],[0.1111111111111111,\"#46039f\"],[0.2222222222222222,\"#7201a8\"],[0.3333333333333333,\"#9c179e\"],[0.4444444444444444,\"#bd3786\"],[0.5555555555555556,\"#d8576b\"],[0.6666666666666666,\"#ed7953\"],[0.7777777777777778,\"#fb9f3a\"],[0.8888888888888888,\"#fdca26\"],[1.0,\"#f0f921\"]],\"type\":\"heatmap\"}],\"heatmapgl\":[{\"colorbar\":{\"outlinewidth\":0,\"ticks\":\"\"},\"colorscale\":[[0.0,\"#0d0887\"],[0.1111111111111111,\"#46039f\"],[0.2222222222222222,\"#7201a8\"],[0.3333333333333333,\"#9c179e\"],[0.4444444444444444,\"#bd3786\"],[0.5555555555555556,\"#d8576b\"],[0.6666666666666666,\"#ed7953\"],[0.7777777777777778,\"#fb9f3a\"],[0.8888888888888888,\"#fdca26\"],[1.0,\"#f0f921\"]],\"type\":\"heatmapgl\"}],\"histogram\":[{\"marker\":{\"pattern\":{\"fillmode\":\"overlay\",\"size\":10,\"solidity\":0.2}},\"type\":\"histogram\"}],\"histogram2d\":[{\"colorbar\":{\"outlinewidth\":0,\"ticks\":\"\"},\"colorscale\":[[0.0,\"#0d0887\"],[0.1111111111111111,\"#46039f\"],[0.2222222222222222,\"#7201a8\"],[0.3333333333333333,\"#9c179e\"],[0.4444444444444444,\"#bd3786\"],[0.5555555555555556,\"#d8576b\"],[0.6666666666666666,\"#ed7953\"],[0.7777777777777778,\"#fb9f3a\"],[0.8888888888888888,\"#fdca26\"],[1.0,\"#f0f921\"]],\"type\":\"histogram2d\"}],\"histogram2dcontour\":[{\"colorbar\":{\"outlinewidth\":0,\"ticks\":\"\"},\"colorscale\":[[0.0,\"#0d0887\"],[0.1111111111111111,\"#46039f\"],[0.2222222222222222,\"#7201a8\"],[0.3333333333333333,\"#9c179e\"],[0.4444444444444444,\"#bd3786\"],[0.5555555555555556,\"#d8576b\"],[0.6666666666666666,\"#ed7953\"],[0.7777777777777778,\"#fb9f3a\"],[0.8888888888888888,\"#fdca26\"],[1.0,\"#f0f921\"]],\"type\":\"histogram2dcontour\"}],\"mesh3d\":[{\"colorbar\":{\"outlinewidth\":0,\"ticks\":\"\"},\"type\":\"mesh3d\"}],\"parcoords\":[{\"line\":{\"colorbar\":{\"outlinewidth\":0,\"ticks\":\"\"}},\"type\":\"parcoords\"}],\"pie\":[{\"automargin\":true,\"type\":\"pie\"}],\"scatter\":[{\"marker\":{\"colorbar\":{\"outlinewidth\":0,\"ticks\":\"\"}},\"type\":\"scatter\"}],\"scatter3d\":[{\"line\":{\"colorbar\":{\"outlinewidth\":0,\"ticks\":\"\"}},\"marker\":{\"colorbar\":{\"outlinewidth\":0,\"ticks\":\"\"}},\"type\":\"scatter3d\"}],\"scattercarpet\":[{\"marker\":{\"colorbar\":{\"outlinewidth\":0,\"ticks\":\"\"}},\"type\":\"scattercarpet\"}],\"scattergeo\":[{\"marker\":{\"colorbar\":{\"outlinewidth\":0,\"ticks\":\"\"}},\"type\":\"scattergeo\"}],\"scattergl\":[{\"marker\":{\"colorbar\":{\"outlinewidth\":0,\"ticks\":\"\"}},\"type\":\"scattergl\"}],\"scattermapbox\":[{\"marker\":{\"colorbar\":{\"outlinewidth\":0,\"ticks\":\"\"}},\"type\":\"scattermapbox\"}],\"scatterpolar\":[{\"marker\":{\"colorbar\":{\"outlinewidth\":0,\"ticks\":\"\"}},\"type\":\"scatterpolar\"}],\"scatterpolargl\":[{\"marker\":{\"colorbar\":{\"outlinewidth\":0,\"ticks\":\"\"}},\"type\":\"scatterpolargl\"}],\"scatterternary\":[{\"marker\":{\"colorbar\":{\"outlinewidth\":0,\"ticks\":\"\"}},\"type\":\"scatterternary\"}],\"surface\":[{\"colorbar\":{\"outlinewidth\":0,\"ticks\":\"\"},\"colorscale\":[[0.0,\"#0d0887\"],[0.1111111111111111,\"#46039f\"],[0.2222222222222222,\"#7201a8\"],[0.3333333333333333,\"#9c179e\"],[0.4444444444444444,\"#bd3786\"],[0.5555555555555556,\"#d8576b\"],[0.6666666666666666,\"#ed7953\"],[0.7777777777777778,\"#fb9f3a\"],[0.8888888888888888,\"#fdca26\"],[1.0,\"#f0f921\"]],\"type\":\"surface\"}],\"table\":[{\"cells\":{\"fill\":{\"color\":\"#EBF0F8\"},\"line\":{\"color\":\"white\"}},\"header\":{\"fill\":{\"color\":\"#C8D4E3\"},\"line\":{\"color\":\"white\"}},\"type\":\"table\"}]},\"layout\":{\"annotationdefaults\":{\"arrowcolor\":\"#2a3f5f\",\"arrowhead\":0,\"arrowwidth\":1},\"autotypenumbers\":\"strict\",\"coloraxis\":{\"colorbar\":{\"outlinewidth\":0,\"ticks\":\"\"}},\"colorscale\":{\"diverging\":[[0,\"#8e0152\"],[0.1,\"#c51b7d\"],[0.2,\"#de77ae\"],[0.3,\"#f1b6da\"],[0.4,\"#fde0ef\"],[0.5,\"#f7f7f7\"],[0.6,\"#e6f5d0\"],[0.7,\"#b8e186\"],[0.8,\"#7fbc41\"],[0.9,\"#4d9221\"],[1,\"#276419\"]],\"sequential\":[[0.0,\"#0d0887\"],[0.1111111111111111,\"#46039f\"],[0.2222222222222222,\"#7201a8\"],[0.3333333333333333,\"#9c179e\"],[0.4444444444444444,\"#bd3786\"],[0.5555555555555556,\"#d8576b\"],[0.6666666666666666,\"#ed7953\"],[0.7777777777777778,\"#fb9f3a\"],[0.8888888888888888,\"#fdca26\"],[1.0,\"#f0f921\"]],\"sequentialminus\":[[0.0,\"#0d0887\"],[0.1111111111111111,\"#46039f\"],[0.2222222222222222,\"#7201a8\"],[0.3333333333333333,\"#9c179e\"],[0.4444444444444444,\"#bd3786\"],[0.5555555555555556,\"#d8576b\"],[0.6666666666666666,\"#ed7953\"],[0.7777777777777778,\"#fb9f3a\"],[0.8888888888888888,\"#fdca26\"],[1.0,\"#f0f921\"]]},\"colorway\":[\"#636efa\",\"#EF553B\",\"#00cc96\",\"#ab63fa\",\"#FFA15A\",\"#19d3f3\",\"#FF6692\",\"#B6E880\",\"#FF97FF\",\"#FECB52\"],\"font\":{\"color\":\"#2a3f5f\"},\"geo\":{\"bgcolor\":\"white\",\"lakecolor\":\"white\",\"landcolor\":\"#E5ECF6\",\"showlakes\":true,\"showland\":true,\"subunitcolor\":\"white\"},\"hoverlabel\":{\"align\":\"left\"},\"hovermode\":\"closest\",\"mapbox\":{\"style\":\"light\"},\"paper_bgcolor\":\"white\",\"plot_bgcolor\":\"#E5ECF6\",\"polar\":{\"angularaxis\":{\"gridcolor\":\"white\",\"linecolor\":\"white\",\"ticks\":\"\"},\"bgcolor\":\"#E5ECF6\",\"radialaxis\":{\"gridcolor\":\"white\",\"linecolor\":\"white\",\"ticks\":\"\"}},\"scene\":{\"xaxis\":{\"backgroundcolor\":\"#E5ECF6\",\"gridcolor\":\"white\",\"gridwidth\":2,\"linecolor\":\"white\",\"showbackground\":true,\"ticks\":\"\",\"zerolinecolor\":\"white\"},\"yaxis\":{\"backgroundcolor\":\"#E5ECF6\",\"gridcolor\":\"white\",\"gridwidth\":2,\"linecolor\":\"white\",\"showbackground\":true,\"ticks\":\"\",\"zerolinecolor\":\"white\"},\"zaxis\":{\"backgroundcolor\":\"#E5ECF6\",\"gridcolor\":\"white\",\"gridwidth\":2,\"linecolor\":\"white\",\"showbackground\":true,\"ticks\":\"\",\"zerolinecolor\":\"white\"}},\"shapedefaults\":{\"line\":{\"color\":\"#2a3f5f\"}},\"ternary\":{\"aaxis\":{\"gridcolor\":\"white\",\"linecolor\":\"white\",\"ticks\":\"\"},\"baxis\":{\"gridcolor\":\"white\",\"linecolor\":\"white\",\"ticks\":\"\"},\"bgcolor\":\"#E5ECF6\",\"caxis\":{\"gridcolor\":\"white\",\"linecolor\":\"white\",\"ticks\":\"\"}},\"title\":{\"x\":0.05},\"xaxis\":{\"automargin\":true,\"gridcolor\":\"white\",\"linecolor\":\"white\",\"ticks\":\"\",\"title\":{\"standoff\":15},\"zerolinecolor\":\"white\",\"zerolinewidth\":2},\"yaxis\":{\"automargin\":true,\"gridcolor\":\"white\",\"linecolor\":\"white\",\"ticks\":\"\",\"title\":{\"standoff\":15},\"zerolinecolor\":\"white\",\"zerolinewidth\":2}}},\"title\":{\"text\":\"Heating process\"},\"xaxis\":{\"title\":{\"text\":\"Heating Step (ps)\"}},\"yaxis\":{\"title\":{\"text\":\"Temperature (K)\"}}},                        {\"responsive\": true}                    ).then(function(){\n",
       "                            \n",
       "var gd = document.getElementById('56633799-aed7-4439-ae93-1f02e33bc808');\n",
       "var x = new MutationObserver(function (mutations, observer) {{\n",
       "        var display = window.getComputedStyle(gd).display;\n",
       "        if (!display || display === 'none') {{\n",
       "            console.log([gd, 'removed!']);\n",
       "            Plotly.purge(gd);\n",
       "            observer.disconnect();\n",
       "        }}\n",
       "}});\n",
       "\n",
       "// Listen for the removal of the full notebook cells\n",
       "var notebookContainer = gd.closest('#notebook-container');\n",
       "if (notebookContainer) {{\n",
       "    x.observe(notebookContainer, {childList: true});\n",
       "}}\n",
       "\n",
       "// Listen for the clearing of the current output cell\n",
       "var outputEl = gd.closest('.output');\n",
       "if (outputEl) {{\n",
       "    x.observe(outputEl, {childList: true});\n",
       "}}\n",
       "\n",
       "                        })                };                });            </script>        </div>"
      ]
     },
     "metadata": {},
     "output_type": "display_data"
    }
   ],
   "source": [
    "#Read data from file and filter energy values higher than 1000 Kj/mol^-1\n",
    "with open(output_dat_heat_path,'r') as energy_file:\n",
    "    x,y = map(\n",
    "        list,\n",
    "        zip(*[\n",
    "            (float(line.split()[0]),float(line.split()[1]))\n",
    "            for line in energy_file \n",
    "            if not line.startswith((\"#\",\"@\")) \n",
    "            if float(line.split()[1]) < 1000 \n",
    "        ])\n",
    "    )\n",
    "\n",
    "plotly.offline.init_notebook_mode(connected=True)\n",
    "\n",
    "fig = {\n",
    "    \"data\": [go.Scatter(x=x, y=y)],\n",
    "    \"layout\": go.Layout(title=\"Heating process\",\n",
    "                        xaxis=dict(title = \"Heating Step (ps)\"),\n",
    "                        yaxis=dict(title = \"Temperature (K)\")\n",
    "                       )\n",
    "}\n",
    "\n",
    "plotly.offline.iplot(fig)"
   ]
  },
  {
   "cell_type": "markdown",
   "metadata": {},
   "source": [
    "<a id=\"nvt\"></a>\n",
    "***\n",
    "## Equilibrate the system (NVT)\n",
    "Equilibrate the **protein-ligand complex system** in **NVT ensemble** (constant Number of particles, Volume and Temperature). Protein **heavy atoms** will be restrained using position restraining forces: movement is permitted, but only after overcoming a substantial energy penalty. The utility of position restraints is that they allow us to equilibrate our solvent around our protein, without the added variable of structural changes in the protein.\n",
    "\n",
    "- [Step 1](#eqNVTStep1): Equilibrate the **protein system** with **NVT** ensemble.\n",
    "- [Step 2](#eqNVTStep2): Checking **NVT Equilibration** results. Plotting **system temperature** by time during the **NVT equilibration** process.  \n",
    "***\n",
    "**Building Blocks** used:\n",
    " - [sander_mdrun](https://biobb-amber.readthedocs.io/en/latest/sander.html#module-sander.sander_mdrun) from **biobb_amber.sander.sander_mdrun**\n",
    " - [process_mdout](https://biobb-amber.readthedocs.io/en/latest/process.html#module-process.process_mdout) from **biobb_amber.process.process_mdout** \n",
    "***"
   ]
  },
  {
   "cell_type": "markdown",
   "metadata": {},
   "source": [
    "<a id=\"eqNVTStep1\"></a>\n",
    "### Step 1: Equilibrating the system (NVT)\n",
    "The **nvt** type of the **simulation_type property** contains the main default parameters to run a **system equilibration in NVT ensemble**:\n",
    "\n",
    "-  imin = 0;&nbsp;&nbsp;&nbsp;      Run MD (no minimization)\n",
    "-  ntx = 5;&nbsp;&nbsp;&nbsp;       Read initial coords and vels from restart file\n",
    "-  cut = 10.0;&nbsp;&nbsp;&nbsp;    Cutoff for non bonded interactions in Angstroms\n",
    "-  ntr = 0;&nbsp;&nbsp;&nbsp;       No restrained atoms\n",
    "-  ntc = 2;&nbsp;&nbsp;&nbsp;       SHAKE for constraining length of bonds involving Hydrogen atoms\n",
    "-  ntf = 2;&nbsp;&nbsp;&nbsp;       Bond interactions involving H omitted\n",
    "-  ntt = 3;&nbsp;&nbsp;&nbsp;       Constant temperature using Langevin dynamics\n",
    "-  ig = -1;&nbsp;&nbsp;&nbsp;       Seed for pseudo-random number generator\n",
    "-  ioutfm = 1;&nbsp;&nbsp;&nbsp;    Write trajectory in netcdf format\n",
    "-  iwrap = 1;&nbsp;&nbsp;&nbsp;     Wrap coords into primary box\n",
    "-  nstlim = 5000;&nbsp;&nbsp;&nbsp; Number of MD steps \n",
    "-  dt = 0.002;&nbsp;&nbsp;&nbsp;    Time step (in ps)\n",
    "-  irest = 1;&nbsp;&nbsp;&nbsp;     Restart previous simulation\n",
    "-  ntb = 1;&nbsp;&nbsp;&nbsp;       Periodic boundary conditions at constant volume\n",
    "-  gamma_ln = 5.0;&nbsp;&nbsp;&nbsp;   Collision frequency for Langevin dynamics (in 1/ps)\n",
    "\n",
    "In this particular example, the **NVT equilibration** of the system is done in **500 steps** (note that the number of steps has been reduced in this tutorial, for the sake of time). "
   ]
  },
  {
   "cell_type": "code",
   "execution_count": 31,
   "metadata": {},
   "outputs": [
    {
     "name": "stderr",
     "output_type": "stream",
     "text": [
      "2021-06-22 14:57:48,980 [MainThread  ] [INFO ]  Creating 071fcbc9-4a22-4537-a033-0c91c57cecd8 temporary folder\n",
      "2021-06-22 14:57:48,981 [MainThread  ] [INFO ]  Creating command line with instructions and required arguments\n",
      "2021-06-22 15:02:12,764 [MainThread  ] [INFO ]  sander -O -i 071fcbc9-4a22-4537-a033-0c91c57cecd8/sander.mdin -p structure.ions.parmtop -c sander.heat.rst -r sander.nvt.rst -o sander.nvt.log -x sander.nvt.netcdf -ref  sander.heat.rst\n",
      "\n",
      "2021-06-22 15:02:12,765 [MainThread  ] [INFO ]  Exit code 0\n",
      "\n",
      "2021-06-22 15:02:12,767 [MainThread  ] [INFO ]  Removed: mdinfo, 071fcbc9-4a22-4537-a033-0c91c57cecd8\n"
     ]
    },
    {
     "data": {
      "text/plain": [
       "0"
      ]
     },
     "execution_count": 31,
     "metadata": {},
     "output_type": "execute_result"
    }
   ],
   "source": [
    "# Import module\n",
    "from biobb_amber.sander.sander_mdrun import sander_mdrun\n",
    "\n",
    "# Create prop dict and inputs/outputs\n",
    "output_nvt_traj_path = 'sander.nvt.netcdf'\n",
    "output_nvt_rst_path = 'sander.nvt.rst'\n",
    "output_nvt_log_path = 'sander.nvt.log'\n",
    "\n",
    "prop = {\n",
    "    \"simulation_type\" : 'nvt',\n",
    "    \"mdin\" : { \n",
    "        'nstlim' : 500, # Reducing the number of steps for the sake of time (1ps)\n",
    "        'ntr' : 1,     # Overwritting restrain parameter\n",
    "        'restraintmask' : '\\\"!:WAT,Cl-,Na+ & !@H=\\\"',      # Restraining solute heavy atoms\n",
    "        'restraint_wt' : 5.0                              # With a force constant of 5 Kcal/mol*A2\n",
    "    }\n",
    "}\n",
    "\n",
    "# Create and launch bb\n",
    "sander_mdrun(input_top_path=output_ions_top_path,\n",
    "            input_crd_path=output_heat_rst_path,\n",
    "            input_ref_path=output_heat_rst_path,\n",
    "            output_traj_path=output_nvt_traj_path,\n",
    "            output_rst_path=output_nvt_rst_path,\n",
    "            output_log_path=output_nvt_log_path,\n",
    "            properties=prop)"
   ]
  },
  {
   "cell_type": "markdown",
   "metadata": {},
   "source": [
    "<a id=\"eqNVTStep2\"></a>\n",
    "### Step 2: Checking NVT Equilibration results\n",
    "Checking **NVT Equilibration** results. Plotting **system temperature** by time during the NVT equilibration process. "
   ]
  },
  {
   "cell_type": "code",
   "execution_count": 32,
   "metadata": {},
   "outputs": [
    {
     "name": "stderr",
     "output_type": "stream",
     "text": [
      "2021-06-22 15:02:12,786 [MainThread  ] [INFO ]  Creating command line with instructions and required arguments\n",
      "2021-06-22 15:02:12,805 [MainThread  ] [INFO ]  process_mdout.perl  sander.nvt.log\n",
      "\n",
      "2021-06-22 15:02:12,807 [MainThread  ] [INFO ]  Exit code 0\n",
      "\n",
      "2021-06-22 15:02:12,808 [MainThread  ] [INFO ]  Processing sander output file (sander.nvt.log)...\n",
      "Starting output...\n",
      "Outputing summary.TEMP\n",
      "Outputing summary_avg.TEMP\n",
      "Outputing summary_rms.TEMP\n",
      "Outputing summary.TSOLUTE\n",
      "Outputing summary_avg.TSOLUTE\n",
      "Outputing summary_rms.TSOLUTE\n",
      "Outputing summary.TSOLVENT\n",
      "Outputing summary_avg.TSOLVENT\n",
      "Outputing summary_rms.TSOLVENT\n",
      "Outputing summary.PRES\n",
      "Outputing summary_avg.PRES\n",
      "Outputing summary_rms.PRES\n",
      "Outputing summary.EKCMT\n",
      "Outputing summary_avg.EKCMT\n",
      "Outputing summary_rms.EKCMT\n",
      "Outputing summary.ETOT\n",
      "Outputing summary_avg.ETOT\n",
      "Outputing summary_rms.ETOT\n",
      "Outputing summary.EKTOT\n",
      "Outputing summary_avg.EKTOT\n",
      "Outputing summary_rms.EKTOT\n",
      "Outputing summary.EPTOT\n",
      "Outputing summary_avg.EPTOT\n",
      "Outputing summary_rms.EPTOT\n",
      "Outputing summary.DENSITY\n",
      "Outputing summary_avg.DENSITY\n",
      "Outputing summary_rms.DENSITY\n",
      "Outputing summary.VOLUME\n",
      "Outputing summary_avg.VOLUME\n",
      "Outputing summary_rms.VOLUME\n",
      "Outputing summary.ESCF\n",
      "Outputing summary_avg.ESCF\n",
      "Outputing summary_rms.ESCF\n",
      "\n",
      "2021-06-22 15:02:12,812 [MainThread  ] [INFO ]  Removed: [PosixPath('summary_avg.TSOLUTE'), PosixPath('summary_rms.TEMP'), PosixPath('summary.TSOLVENT'), PosixPath('summary_rms.TSOLUTE'), PosixPath('summary_rms.ESCF'), PosixPath('summary_rms.TSOLVENT'), PosixPath('summary_avg.TEMP'), PosixPath('summary_avg.EKTOT'), PosixPath('summary_avg.EKCMT'), PosixPath('summary_rms.ETOT'), PosixPath('summary_rms.EPTOT'), PosixPath('summary_avg.ETOT'), PosixPath('summary_rms.PRES'), PosixPath('summary_avg.TSOLVENT'), PosixPath('summary_rms.EKTOT'), PosixPath('summary_rms.EKCMT'), PosixPath('summary.EKCMT'), PosixPath('summary_rms.VOLUME'), PosixPath('summary.VOLUME'), PosixPath('summary_avg.DENSITY'), PosixPath('summary.ESCF'), PosixPath('summary.PRES'), PosixPath('summary_avg.PRES'), PosixPath('summary.TSOLUTE'), PosixPath('summary_avg.ESCF'), PosixPath('summary_avg.EPTOT'), PosixPath('summary_avg.VOLUME'), PosixPath('summary.TEMP'), PosixPath('summary.EPTOT'), PosixPath('summary.DENSITY'), PosixPath('summary.EKTOT'), PosixPath('summary_rms.DENSITY'), PosixPath('summary.ETOT')]\n"
     ]
    },
    {
     "data": {
      "text/plain": [
       "0"
      ]
     },
     "execution_count": 32,
     "metadata": {},
     "output_type": "execute_result"
    }
   ],
   "source": [
    "# Import module\n",
    "from biobb_amber.process.process_mdout import process_mdout\n",
    "\n",
    "# Create prop dict and inputs/outputs\n",
    "output_dat_nvt_path = 'sander.md.nvt.temp.dat'\n",
    "\n",
    "prop = {\n",
    "    \"terms\" : ['TEMP']\n",
    "}\n",
    "\n",
    "# Create and launch bb\n",
    "process_mdout(input_log_path=output_nvt_log_path,\n",
    "            output_dat_path=output_dat_nvt_path,\n",
    "            properties=prop)"
   ]
  },
  {
   "cell_type": "code",
   "execution_count": 33,
   "metadata": {},
   "outputs": [
    {
     "data": {
      "text/html": [
       "        <script type=\"text/javascript\">\n",
       "        window.PlotlyConfig = {MathJaxConfig: 'local'};\n",
       "        if (window.MathJax) {MathJax.Hub.Config({SVG: {font: \"STIX-Web\"}});}\n",
       "        if (typeof require !== 'undefined') {\n",
       "        require.undef(\"plotly\");\n",
       "        requirejs.config({\n",
       "            paths: {\n",
       "                'plotly': ['https://cdn.plot.ly/plotly-2.1.0.min']\n",
       "            }\n",
       "        });\n",
       "        require(['plotly'], function(Plotly) {\n",
       "            window._Plotly = Plotly;\n",
       "        });\n",
       "        }\n",
       "        </script>\n",
       "        "
      ]
     },
     "metadata": {},
     "output_type": "display_data"
    },
    {
     "data": {
      "application/vnd.plotly.v1+json": {
       "config": {
        "linkText": "Export to plot.ly",
        "plotlyServerURL": "https://plot.ly",
        "showLink": false
       },
       "data": [
        {
         "type": "scatter",
         "x": [
          5.1,
          5.2,
          5.3,
          5.4,
          5.5,
          5.6,
          5.7,
          5.8,
          5.9,
          6
         ],
         "y": [
          297.12,
          299.04,
          294.64,
          297.56,
          296.59,
          298.52,
          297.51,
          298.77,
          299.11,
          298.52
         ]
        }
       ],
       "layout": {
        "template": {
         "data": {
          "bar": [
           {
            "error_x": {
             "color": "#2a3f5f"
            },
            "error_y": {
             "color": "#2a3f5f"
            },
            "marker": {
             "line": {
              "color": "#E5ECF6",
              "width": 0.5
             },
             "pattern": {
              "fillmode": "overlay",
              "size": 10,
              "solidity": 0.2
             }
            },
            "type": "bar"
           }
          ],
          "barpolar": [
           {
            "marker": {
             "line": {
              "color": "#E5ECF6",
              "width": 0.5
             },
             "pattern": {
              "fillmode": "overlay",
              "size": 10,
              "solidity": 0.2
             }
            },
            "type": "barpolar"
           }
          ],
          "carpet": [
           {
            "aaxis": {
             "endlinecolor": "#2a3f5f",
             "gridcolor": "white",
             "linecolor": "white",
             "minorgridcolor": "white",
             "startlinecolor": "#2a3f5f"
            },
            "baxis": {
             "endlinecolor": "#2a3f5f",
             "gridcolor": "white",
             "linecolor": "white",
             "minorgridcolor": "white",
             "startlinecolor": "#2a3f5f"
            },
            "type": "carpet"
           }
          ],
          "choropleth": [
           {
            "colorbar": {
             "outlinewidth": 0,
             "ticks": ""
            },
            "type": "choropleth"
           }
          ],
          "contour": [
           {
            "colorbar": {
             "outlinewidth": 0,
             "ticks": ""
            },
            "colorscale": [
             [
              0,
              "#0d0887"
             ],
             [
              0.1111111111111111,
              "#46039f"
             ],
             [
              0.2222222222222222,
              "#7201a8"
             ],
             [
              0.3333333333333333,
              "#9c179e"
             ],
             [
              0.4444444444444444,
              "#bd3786"
             ],
             [
              0.5555555555555556,
              "#d8576b"
             ],
             [
              0.6666666666666666,
              "#ed7953"
             ],
             [
              0.7777777777777778,
              "#fb9f3a"
             ],
             [
              0.8888888888888888,
              "#fdca26"
             ],
             [
              1,
              "#f0f921"
             ]
            ],
            "type": "contour"
           }
          ],
          "contourcarpet": [
           {
            "colorbar": {
             "outlinewidth": 0,
             "ticks": ""
            },
            "type": "contourcarpet"
           }
          ],
          "heatmap": [
           {
            "colorbar": {
             "outlinewidth": 0,
             "ticks": ""
            },
            "colorscale": [
             [
              0,
              "#0d0887"
             ],
             [
              0.1111111111111111,
              "#46039f"
             ],
             [
              0.2222222222222222,
              "#7201a8"
             ],
             [
              0.3333333333333333,
              "#9c179e"
             ],
             [
              0.4444444444444444,
              "#bd3786"
             ],
             [
              0.5555555555555556,
              "#d8576b"
             ],
             [
              0.6666666666666666,
              "#ed7953"
             ],
             [
              0.7777777777777778,
              "#fb9f3a"
             ],
             [
              0.8888888888888888,
              "#fdca26"
             ],
             [
              1,
              "#f0f921"
             ]
            ],
            "type": "heatmap"
           }
          ],
          "heatmapgl": [
           {
            "colorbar": {
             "outlinewidth": 0,
             "ticks": ""
            },
            "colorscale": [
             [
              0,
              "#0d0887"
             ],
             [
              0.1111111111111111,
              "#46039f"
             ],
             [
              0.2222222222222222,
              "#7201a8"
             ],
             [
              0.3333333333333333,
              "#9c179e"
             ],
             [
              0.4444444444444444,
              "#bd3786"
             ],
             [
              0.5555555555555556,
              "#d8576b"
             ],
             [
              0.6666666666666666,
              "#ed7953"
             ],
             [
              0.7777777777777778,
              "#fb9f3a"
             ],
             [
              0.8888888888888888,
              "#fdca26"
             ],
             [
              1,
              "#f0f921"
             ]
            ],
            "type": "heatmapgl"
           }
          ],
          "histogram": [
           {
            "marker": {
             "pattern": {
              "fillmode": "overlay",
              "size": 10,
              "solidity": 0.2
             }
            },
            "type": "histogram"
           }
          ],
          "histogram2d": [
           {
            "colorbar": {
             "outlinewidth": 0,
             "ticks": ""
            },
            "colorscale": [
             [
              0,
              "#0d0887"
             ],
             [
              0.1111111111111111,
              "#46039f"
             ],
             [
              0.2222222222222222,
              "#7201a8"
             ],
             [
              0.3333333333333333,
              "#9c179e"
             ],
             [
              0.4444444444444444,
              "#bd3786"
             ],
             [
              0.5555555555555556,
              "#d8576b"
             ],
             [
              0.6666666666666666,
              "#ed7953"
             ],
             [
              0.7777777777777778,
              "#fb9f3a"
             ],
             [
              0.8888888888888888,
              "#fdca26"
             ],
             [
              1,
              "#f0f921"
             ]
            ],
            "type": "histogram2d"
           }
          ],
          "histogram2dcontour": [
           {
            "colorbar": {
             "outlinewidth": 0,
             "ticks": ""
            },
            "colorscale": [
             [
              0,
              "#0d0887"
             ],
             [
              0.1111111111111111,
              "#46039f"
             ],
             [
              0.2222222222222222,
              "#7201a8"
             ],
             [
              0.3333333333333333,
              "#9c179e"
             ],
             [
              0.4444444444444444,
              "#bd3786"
             ],
             [
              0.5555555555555556,
              "#d8576b"
             ],
             [
              0.6666666666666666,
              "#ed7953"
             ],
             [
              0.7777777777777778,
              "#fb9f3a"
             ],
             [
              0.8888888888888888,
              "#fdca26"
             ],
             [
              1,
              "#f0f921"
             ]
            ],
            "type": "histogram2dcontour"
           }
          ],
          "mesh3d": [
           {
            "colorbar": {
             "outlinewidth": 0,
             "ticks": ""
            },
            "type": "mesh3d"
           }
          ],
          "parcoords": [
           {
            "line": {
             "colorbar": {
              "outlinewidth": 0,
              "ticks": ""
             }
            },
            "type": "parcoords"
           }
          ],
          "pie": [
           {
            "automargin": true,
            "type": "pie"
           }
          ],
          "scatter": [
           {
            "marker": {
             "colorbar": {
              "outlinewidth": 0,
              "ticks": ""
             }
            },
            "type": "scatter"
           }
          ],
          "scatter3d": [
           {
            "line": {
             "colorbar": {
              "outlinewidth": 0,
              "ticks": ""
             }
            },
            "marker": {
             "colorbar": {
              "outlinewidth": 0,
              "ticks": ""
             }
            },
            "type": "scatter3d"
           }
          ],
          "scattercarpet": [
           {
            "marker": {
             "colorbar": {
              "outlinewidth": 0,
              "ticks": ""
             }
            },
            "type": "scattercarpet"
           }
          ],
          "scattergeo": [
           {
            "marker": {
             "colorbar": {
              "outlinewidth": 0,
              "ticks": ""
             }
            },
            "type": "scattergeo"
           }
          ],
          "scattergl": [
           {
            "marker": {
             "colorbar": {
              "outlinewidth": 0,
              "ticks": ""
             }
            },
            "type": "scattergl"
           }
          ],
          "scattermapbox": [
           {
            "marker": {
             "colorbar": {
              "outlinewidth": 0,
              "ticks": ""
             }
            },
            "type": "scattermapbox"
           }
          ],
          "scatterpolar": [
           {
            "marker": {
             "colorbar": {
              "outlinewidth": 0,
              "ticks": ""
             }
            },
            "type": "scatterpolar"
           }
          ],
          "scatterpolargl": [
           {
            "marker": {
             "colorbar": {
              "outlinewidth": 0,
              "ticks": ""
             }
            },
            "type": "scatterpolargl"
           }
          ],
          "scatterternary": [
           {
            "marker": {
             "colorbar": {
              "outlinewidth": 0,
              "ticks": ""
             }
            },
            "type": "scatterternary"
           }
          ],
          "surface": [
           {
            "colorbar": {
             "outlinewidth": 0,
             "ticks": ""
            },
            "colorscale": [
             [
              0,
              "#0d0887"
             ],
             [
              0.1111111111111111,
              "#46039f"
             ],
             [
              0.2222222222222222,
              "#7201a8"
             ],
             [
              0.3333333333333333,
              "#9c179e"
             ],
             [
              0.4444444444444444,
              "#bd3786"
             ],
             [
              0.5555555555555556,
              "#d8576b"
             ],
             [
              0.6666666666666666,
              "#ed7953"
             ],
             [
              0.7777777777777778,
              "#fb9f3a"
             ],
             [
              0.8888888888888888,
              "#fdca26"
             ],
             [
              1,
              "#f0f921"
             ]
            ],
            "type": "surface"
           }
          ],
          "table": [
           {
            "cells": {
             "fill": {
              "color": "#EBF0F8"
             },
             "line": {
              "color": "white"
             }
            },
            "header": {
             "fill": {
              "color": "#C8D4E3"
             },
             "line": {
              "color": "white"
             }
            },
            "type": "table"
           }
          ]
         },
         "layout": {
          "annotationdefaults": {
           "arrowcolor": "#2a3f5f",
           "arrowhead": 0,
           "arrowwidth": 1
          },
          "autotypenumbers": "strict",
          "coloraxis": {
           "colorbar": {
            "outlinewidth": 0,
            "ticks": ""
           }
          },
          "colorscale": {
           "diverging": [
            [
             0,
             "#8e0152"
            ],
            [
             0.1,
             "#c51b7d"
            ],
            [
             0.2,
             "#de77ae"
            ],
            [
             0.3,
             "#f1b6da"
            ],
            [
             0.4,
             "#fde0ef"
            ],
            [
             0.5,
             "#f7f7f7"
            ],
            [
             0.6,
             "#e6f5d0"
            ],
            [
             0.7,
             "#b8e186"
            ],
            [
             0.8,
             "#7fbc41"
            ],
            [
             0.9,
             "#4d9221"
            ],
            [
             1,
             "#276419"
            ]
           ],
           "sequential": [
            [
             0,
             "#0d0887"
            ],
            [
             0.1111111111111111,
             "#46039f"
            ],
            [
             0.2222222222222222,
             "#7201a8"
            ],
            [
             0.3333333333333333,
             "#9c179e"
            ],
            [
             0.4444444444444444,
             "#bd3786"
            ],
            [
             0.5555555555555556,
             "#d8576b"
            ],
            [
             0.6666666666666666,
             "#ed7953"
            ],
            [
             0.7777777777777778,
             "#fb9f3a"
            ],
            [
             0.8888888888888888,
             "#fdca26"
            ],
            [
             1,
             "#f0f921"
            ]
           ],
           "sequentialminus": [
            [
             0,
             "#0d0887"
            ],
            [
             0.1111111111111111,
             "#46039f"
            ],
            [
             0.2222222222222222,
             "#7201a8"
            ],
            [
             0.3333333333333333,
             "#9c179e"
            ],
            [
             0.4444444444444444,
             "#bd3786"
            ],
            [
             0.5555555555555556,
             "#d8576b"
            ],
            [
             0.6666666666666666,
             "#ed7953"
            ],
            [
             0.7777777777777778,
             "#fb9f3a"
            ],
            [
             0.8888888888888888,
             "#fdca26"
            ],
            [
             1,
             "#f0f921"
            ]
           ]
          },
          "colorway": [
           "#636efa",
           "#EF553B",
           "#00cc96",
           "#ab63fa",
           "#FFA15A",
           "#19d3f3",
           "#FF6692",
           "#B6E880",
           "#FF97FF",
           "#FECB52"
          ],
          "font": {
           "color": "#2a3f5f"
          },
          "geo": {
           "bgcolor": "white",
           "lakecolor": "white",
           "landcolor": "#E5ECF6",
           "showlakes": true,
           "showland": true,
           "subunitcolor": "white"
          },
          "hoverlabel": {
           "align": "left"
          },
          "hovermode": "closest",
          "mapbox": {
           "style": "light"
          },
          "paper_bgcolor": "white",
          "plot_bgcolor": "#E5ECF6",
          "polar": {
           "angularaxis": {
            "gridcolor": "white",
            "linecolor": "white",
            "ticks": ""
           },
           "bgcolor": "#E5ECF6",
           "radialaxis": {
            "gridcolor": "white",
            "linecolor": "white",
            "ticks": ""
           }
          },
          "scene": {
           "xaxis": {
            "backgroundcolor": "#E5ECF6",
            "gridcolor": "white",
            "gridwidth": 2,
            "linecolor": "white",
            "showbackground": true,
            "ticks": "",
            "zerolinecolor": "white"
           },
           "yaxis": {
            "backgroundcolor": "#E5ECF6",
            "gridcolor": "white",
            "gridwidth": 2,
            "linecolor": "white",
            "showbackground": true,
            "ticks": "",
            "zerolinecolor": "white"
           },
           "zaxis": {
            "backgroundcolor": "#E5ECF6",
            "gridcolor": "white",
            "gridwidth": 2,
            "linecolor": "white",
            "showbackground": true,
            "ticks": "",
            "zerolinecolor": "white"
           }
          },
          "shapedefaults": {
           "line": {
            "color": "#2a3f5f"
           }
          },
          "ternary": {
           "aaxis": {
            "gridcolor": "white",
            "linecolor": "white",
            "ticks": ""
           },
           "baxis": {
            "gridcolor": "white",
            "linecolor": "white",
            "ticks": ""
           },
           "bgcolor": "#E5ECF6",
           "caxis": {
            "gridcolor": "white",
            "linecolor": "white",
            "ticks": ""
           }
          },
          "title": {
           "x": 0.05
          },
          "xaxis": {
           "automargin": true,
           "gridcolor": "white",
           "linecolor": "white",
           "ticks": "",
           "title": {
            "standoff": 15
           },
           "zerolinecolor": "white",
           "zerolinewidth": 2
          },
          "yaxis": {
           "automargin": true,
           "gridcolor": "white",
           "linecolor": "white",
           "ticks": "",
           "title": {
            "standoff": 15
           },
           "zerolinecolor": "white",
           "zerolinewidth": 2
          }
         }
        },
        "title": {
         "text": "NVT equilibration"
        },
        "xaxis": {
         "title": {
          "text": "Equilibration Step (ps)"
         }
        },
        "yaxis": {
         "title": {
          "text": "Temperature (K)"
         }
        }
       }
      },
      "text/html": [
       "<div>                            <div id=\"cbce904e-f902-421d-9bd1-de8bca6243b4\" class=\"plotly-graph-div\" style=\"height:525px; width:100%;\"></div>            <script type=\"text/javascript\">                require([\"plotly\"], function(Plotly) {                    window.PLOTLYENV=window.PLOTLYENV || {};                                    if (document.getElementById(\"cbce904e-f902-421d-9bd1-de8bca6243b4\")) {                    Plotly.newPlot(                        \"cbce904e-f902-421d-9bd1-de8bca6243b4\",                        [{\"type\":\"scatter\",\"x\":[5.1,5.2,5.3,5.4,5.5,5.6,5.7,5.8,5.9,6.0],\"y\":[297.12,299.04,294.64,297.56,296.59,298.52,297.51,298.77,299.11,298.52]}],                        {\"template\":{\"data\":{\"bar\":[{\"error_x\":{\"color\":\"#2a3f5f\"},\"error_y\":{\"color\":\"#2a3f5f\"},\"marker\":{\"line\":{\"color\":\"#E5ECF6\",\"width\":0.5},\"pattern\":{\"fillmode\":\"overlay\",\"size\":10,\"solidity\":0.2}},\"type\":\"bar\"}],\"barpolar\":[{\"marker\":{\"line\":{\"color\":\"#E5ECF6\",\"width\":0.5},\"pattern\":{\"fillmode\":\"overlay\",\"size\":10,\"solidity\":0.2}},\"type\":\"barpolar\"}],\"carpet\":[{\"aaxis\":{\"endlinecolor\":\"#2a3f5f\",\"gridcolor\":\"white\",\"linecolor\":\"white\",\"minorgridcolor\":\"white\",\"startlinecolor\":\"#2a3f5f\"},\"baxis\":{\"endlinecolor\":\"#2a3f5f\",\"gridcolor\":\"white\",\"linecolor\":\"white\",\"minorgridcolor\":\"white\",\"startlinecolor\":\"#2a3f5f\"},\"type\":\"carpet\"}],\"choropleth\":[{\"colorbar\":{\"outlinewidth\":0,\"ticks\":\"\"},\"type\":\"choropleth\"}],\"contour\":[{\"colorbar\":{\"outlinewidth\":0,\"ticks\":\"\"},\"colorscale\":[[0.0,\"#0d0887\"],[0.1111111111111111,\"#46039f\"],[0.2222222222222222,\"#7201a8\"],[0.3333333333333333,\"#9c179e\"],[0.4444444444444444,\"#bd3786\"],[0.5555555555555556,\"#d8576b\"],[0.6666666666666666,\"#ed7953\"],[0.7777777777777778,\"#fb9f3a\"],[0.8888888888888888,\"#fdca26\"],[1.0,\"#f0f921\"]],\"type\":\"contour\"}],\"contourcarpet\":[{\"colorbar\":{\"outlinewidth\":0,\"ticks\":\"\"},\"type\":\"contourcarpet\"}],\"heatmap\":[{\"colorbar\":{\"outlinewidth\":0,\"ticks\":\"\"},\"colorscale\":[[0.0,\"#0d0887\"],[0.1111111111111111,\"#46039f\"],[0.2222222222222222,\"#7201a8\"],[0.3333333333333333,\"#9c179e\"],[0.4444444444444444,\"#bd3786\"],[0.5555555555555556,\"#d8576b\"],[0.6666666666666666,\"#ed7953\"],[0.7777777777777778,\"#fb9f3a\"],[0.8888888888888888,\"#fdca26\"],[1.0,\"#f0f921\"]],\"type\":\"heatmap\"}],\"heatmapgl\":[{\"colorbar\":{\"outlinewidth\":0,\"ticks\":\"\"},\"colorscale\":[[0.0,\"#0d0887\"],[0.1111111111111111,\"#46039f\"],[0.2222222222222222,\"#7201a8\"],[0.3333333333333333,\"#9c179e\"],[0.4444444444444444,\"#bd3786\"],[0.5555555555555556,\"#d8576b\"],[0.6666666666666666,\"#ed7953\"],[0.7777777777777778,\"#fb9f3a\"],[0.8888888888888888,\"#fdca26\"],[1.0,\"#f0f921\"]],\"type\":\"heatmapgl\"}],\"histogram\":[{\"marker\":{\"pattern\":{\"fillmode\":\"overlay\",\"size\":10,\"solidity\":0.2}},\"type\":\"histogram\"}],\"histogram2d\":[{\"colorbar\":{\"outlinewidth\":0,\"ticks\":\"\"},\"colorscale\":[[0.0,\"#0d0887\"],[0.1111111111111111,\"#46039f\"],[0.2222222222222222,\"#7201a8\"],[0.3333333333333333,\"#9c179e\"],[0.4444444444444444,\"#bd3786\"],[0.5555555555555556,\"#d8576b\"],[0.6666666666666666,\"#ed7953\"],[0.7777777777777778,\"#fb9f3a\"],[0.8888888888888888,\"#fdca26\"],[1.0,\"#f0f921\"]],\"type\":\"histogram2d\"}],\"histogram2dcontour\":[{\"colorbar\":{\"outlinewidth\":0,\"ticks\":\"\"},\"colorscale\":[[0.0,\"#0d0887\"],[0.1111111111111111,\"#46039f\"],[0.2222222222222222,\"#7201a8\"],[0.3333333333333333,\"#9c179e\"],[0.4444444444444444,\"#bd3786\"],[0.5555555555555556,\"#d8576b\"],[0.6666666666666666,\"#ed7953\"],[0.7777777777777778,\"#fb9f3a\"],[0.8888888888888888,\"#fdca26\"],[1.0,\"#f0f921\"]],\"type\":\"histogram2dcontour\"}],\"mesh3d\":[{\"colorbar\":{\"outlinewidth\":0,\"ticks\":\"\"},\"type\":\"mesh3d\"}],\"parcoords\":[{\"line\":{\"colorbar\":{\"outlinewidth\":0,\"ticks\":\"\"}},\"type\":\"parcoords\"}],\"pie\":[{\"automargin\":true,\"type\":\"pie\"}],\"scatter\":[{\"marker\":{\"colorbar\":{\"outlinewidth\":0,\"ticks\":\"\"}},\"type\":\"scatter\"}],\"scatter3d\":[{\"line\":{\"colorbar\":{\"outlinewidth\":0,\"ticks\":\"\"}},\"marker\":{\"colorbar\":{\"outlinewidth\":0,\"ticks\":\"\"}},\"type\":\"scatter3d\"}],\"scattercarpet\":[{\"marker\":{\"colorbar\":{\"outlinewidth\":0,\"ticks\":\"\"}},\"type\":\"scattercarpet\"}],\"scattergeo\":[{\"marker\":{\"colorbar\":{\"outlinewidth\":0,\"ticks\":\"\"}},\"type\":\"scattergeo\"}],\"scattergl\":[{\"marker\":{\"colorbar\":{\"outlinewidth\":0,\"ticks\":\"\"}},\"type\":\"scattergl\"}],\"scattermapbox\":[{\"marker\":{\"colorbar\":{\"outlinewidth\":0,\"ticks\":\"\"}},\"type\":\"scattermapbox\"}],\"scatterpolar\":[{\"marker\":{\"colorbar\":{\"outlinewidth\":0,\"ticks\":\"\"}},\"type\":\"scatterpolar\"}],\"scatterpolargl\":[{\"marker\":{\"colorbar\":{\"outlinewidth\":0,\"ticks\":\"\"}},\"type\":\"scatterpolargl\"}],\"scatterternary\":[{\"marker\":{\"colorbar\":{\"outlinewidth\":0,\"ticks\":\"\"}},\"type\":\"scatterternary\"}],\"surface\":[{\"colorbar\":{\"outlinewidth\":0,\"ticks\":\"\"},\"colorscale\":[[0.0,\"#0d0887\"],[0.1111111111111111,\"#46039f\"],[0.2222222222222222,\"#7201a8\"],[0.3333333333333333,\"#9c179e\"],[0.4444444444444444,\"#bd3786\"],[0.5555555555555556,\"#d8576b\"],[0.6666666666666666,\"#ed7953\"],[0.7777777777777778,\"#fb9f3a\"],[0.8888888888888888,\"#fdca26\"],[1.0,\"#f0f921\"]],\"type\":\"surface\"}],\"table\":[{\"cells\":{\"fill\":{\"color\":\"#EBF0F8\"},\"line\":{\"color\":\"white\"}},\"header\":{\"fill\":{\"color\":\"#C8D4E3\"},\"line\":{\"color\":\"white\"}},\"type\":\"table\"}]},\"layout\":{\"annotationdefaults\":{\"arrowcolor\":\"#2a3f5f\",\"arrowhead\":0,\"arrowwidth\":1},\"autotypenumbers\":\"strict\",\"coloraxis\":{\"colorbar\":{\"outlinewidth\":0,\"ticks\":\"\"}},\"colorscale\":{\"diverging\":[[0,\"#8e0152\"],[0.1,\"#c51b7d\"],[0.2,\"#de77ae\"],[0.3,\"#f1b6da\"],[0.4,\"#fde0ef\"],[0.5,\"#f7f7f7\"],[0.6,\"#e6f5d0\"],[0.7,\"#b8e186\"],[0.8,\"#7fbc41\"],[0.9,\"#4d9221\"],[1,\"#276419\"]],\"sequential\":[[0.0,\"#0d0887\"],[0.1111111111111111,\"#46039f\"],[0.2222222222222222,\"#7201a8\"],[0.3333333333333333,\"#9c179e\"],[0.4444444444444444,\"#bd3786\"],[0.5555555555555556,\"#d8576b\"],[0.6666666666666666,\"#ed7953\"],[0.7777777777777778,\"#fb9f3a\"],[0.8888888888888888,\"#fdca26\"],[1.0,\"#f0f921\"]],\"sequentialminus\":[[0.0,\"#0d0887\"],[0.1111111111111111,\"#46039f\"],[0.2222222222222222,\"#7201a8\"],[0.3333333333333333,\"#9c179e\"],[0.4444444444444444,\"#bd3786\"],[0.5555555555555556,\"#d8576b\"],[0.6666666666666666,\"#ed7953\"],[0.7777777777777778,\"#fb9f3a\"],[0.8888888888888888,\"#fdca26\"],[1.0,\"#f0f921\"]]},\"colorway\":[\"#636efa\",\"#EF553B\",\"#00cc96\",\"#ab63fa\",\"#FFA15A\",\"#19d3f3\",\"#FF6692\",\"#B6E880\",\"#FF97FF\",\"#FECB52\"],\"font\":{\"color\":\"#2a3f5f\"},\"geo\":{\"bgcolor\":\"white\",\"lakecolor\":\"white\",\"landcolor\":\"#E5ECF6\",\"showlakes\":true,\"showland\":true,\"subunitcolor\":\"white\"},\"hoverlabel\":{\"align\":\"left\"},\"hovermode\":\"closest\",\"mapbox\":{\"style\":\"light\"},\"paper_bgcolor\":\"white\",\"plot_bgcolor\":\"#E5ECF6\",\"polar\":{\"angularaxis\":{\"gridcolor\":\"white\",\"linecolor\":\"white\",\"ticks\":\"\"},\"bgcolor\":\"#E5ECF6\",\"radialaxis\":{\"gridcolor\":\"white\",\"linecolor\":\"white\",\"ticks\":\"\"}},\"scene\":{\"xaxis\":{\"backgroundcolor\":\"#E5ECF6\",\"gridcolor\":\"white\",\"gridwidth\":2,\"linecolor\":\"white\",\"showbackground\":true,\"ticks\":\"\",\"zerolinecolor\":\"white\"},\"yaxis\":{\"backgroundcolor\":\"#E5ECF6\",\"gridcolor\":\"white\",\"gridwidth\":2,\"linecolor\":\"white\",\"showbackground\":true,\"ticks\":\"\",\"zerolinecolor\":\"white\"},\"zaxis\":{\"backgroundcolor\":\"#E5ECF6\",\"gridcolor\":\"white\",\"gridwidth\":2,\"linecolor\":\"white\",\"showbackground\":true,\"ticks\":\"\",\"zerolinecolor\":\"white\"}},\"shapedefaults\":{\"line\":{\"color\":\"#2a3f5f\"}},\"ternary\":{\"aaxis\":{\"gridcolor\":\"white\",\"linecolor\":\"white\",\"ticks\":\"\"},\"baxis\":{\"gridcolor\":\"white\",\"linecolor\":\"white\",\"ticks\":\"\"},\"bgcolor\":\"#E5ECF6\",\"caxis\":{\"gridcolor\":\"white\",\"linecolor\":\"white\",\"ticks\":\"\"}},\"title\":{\"x\":0.05},\"xaxis\":{\"automargin\":true,\"gridcolor\":\"white\",\"linecolor\":\"white\",\"ticks\":\"\",\"title\":{\"standoff\":15},\"zerolinecolor\":\"white\",\"zerolinewidth\":2},\"yaxis\":{\"automargin\":true,\"gridcolor\":\"white\",\"linecolor\":\"white\",\"ticks\":\"\",\"title\":{\"standoff\":15},\"zerolinecolor\":\"white\",\"zerolinewidth\":2}}},\"title\":{\"text\":\"NVT equilibration\"},\"xaxis\":{\"title\":{\"text\":\"Equilibration Step (ps)\"}},\"yaxis\":{\"title\":{\"text\":\"Temperature (K)\"}}},                        {\"responsive\": true}                    ).then(function(){\n",
       "                            \n",
       "var gd = document.getElementById('cbce904e-f902-421d-9bd1-de8bca6243b4');\n",
       "var x = new MutationObserver(function (mutations, observer) {{\n",
       "        var display = window.getComputedStyle(gd).display;\n",
       "        if (!display || display === 'none') {{\n",
       "            console.log([gd, 'removed!']);\n",
       "            Plotly.purge(gd);\n",
       "            observer.disconnect();\n",
       "        }}\n",
       "}});\n",
       "\n",
       "// Listen for the removal of the full notebook cells\n",
       "var notebookContainer = gd.closest('#notebook-container');\n",
       "if (notebookContainer) {{\n",
       "    x.observe(notebookContainer, {childList: true});\n",
       "}}\n",
       "\n",
       "// Listen for the clearing of the current output cell\n",
       "var outputEl = gd.closest('.output');\n",
       "if (outputEl) {{\n",
       "    x.observe(outputEl, {childList: true});\n",
       "}}\n",
       "\n",
       "                        })                };                });            </script>        </div>"
      ]
     },
     "metadata": {},
     "output_type": "display_data"
    }
   ],
   "source": [
    "#Read data from file and filter energy values higher than 1000 Kj/mol^-1\n",
    "with open(output_dat_nvt_path,'r') as energy_file:\n",
    "    x,y = map(\n",
    "        list,\n",
    "        zip(*[\n",
    "            (float(line.split()[0]),float(line.split()[1]))\n",
    "            for line in energy_file \n",
    "            if not line.startswith((\"#\",\"@\")) \n",
    "            if float(line.split()[1]) < 1000 \n",
    "        ])\n",
    "    )\n",
    "\n",
    "plotly.offline.init_notebook_mode(connected=True)\n",
    "\n",
    "fig = {\n",
    "    \"data\": [go.Scatter(x=x, y=y)],\n",
    "    \"layout\": go.Layout(title=\"NVT equilibration\",\n",
    "                        xaxis=dict(title = \"Equilibration Step (ps)\"),\n",
    "                        yaxis=dict(title = \"Temperature (K)\")\n",
    "                       )\n",
    "}\n",
    "\n",
    "plotly.offline.iplot(fig)"
   ]
  },
  {
   "cell_type": "markdown",
   "metadata": {},
   "source": [
    "<a id=\"npt\"></a>\n",
    "***\n",
    "## Equilibrate the system (NPT)\n",
    "Equilibrate the **protein-ligand complex system** in **NPT ensemble** (constant Number of particles, Pressure and Temperature). Protein **heavy atoms** will be restrained using position restraining forces: movement is permitted, but only after overcoming a substantial energy penalty. The utility of position restraints is that they allow us to equilibrate our solvent around our protein, without the added variable of structural changes in the protein.\n",
    "\n",
    "- [Step 1](#eqNPTStep1): Equilibrate the **protein system** with **NPT** ensemble.\n",
    "- [Step 2](#eqNPTStep2): Checking **NPT Equilibration** results. Plotting **system pressure and density** by time during the **NVT equilibration** process.  \n",
    "***\n",
    "**Building Blocks** used:\n",
    " - [sander_mdrun](https://biobb-amber.readthedocs.io/en/latest/sander.html#module-sander.sander_mdrun) from **biobb_amber.sander.sander_mdrun**\n",
    " - [process_mdout](https://biobb-amber.readthedocs.io/en/latest/process.html#module-process.process_mdout) from **biobb_amber.process.process_mdout** \n",
    "***"
   ]
  },
  {
   "cell_type": "markdown",
   "metadata": {},
   "source": [
    "<a id=\"eqNPTStep1\"></a>\n",
    "### Step 1: Equilibrating the system (NPT)\n",
    "The **npt** type of the **simulation_type property** contains the main default parameters to run a **system equilibration in NPT ensemble**:\n",
    "\n",
    "-  imin = 0;&nbsp;&nbsp;&nbsp;      Run MD (no minimization)\n",
    "-  ntx = 5;&nbsp;&nbsp;&nbsp;       Read initial coords and vels from restart file\n",
    "-  cut = 10.0;&nbsp;&nbsp;&nbsp;    Cutoff for non bonded interactions in Angstroms\n",
    "-  ntr = 0;&nbsp;&nbsp;&nbsp;       No restrained atoms\n",
    "-  ntc = 2;&nbsp;&nbsp;&nbsp;       SHAKE for constraining length of bonds involving Hydrogen atoms\n",
    "-  ntf = 2;&nbsp;&nbsp;&nbsp;       Bond interactions involving H omitted\n",
    "-  ntt = 3;&nbsp;&nbsp;&nbsp;       Constant temperature using Langevin dynamics\n",
    "-  ig = -1;&nbsp;&nbsp;&nbsp;       Seed for pseudo-random number generator\n",
    "-  ioutfm = 1;&nbsp;&nbsp;&nbsp;    Write trajectory in netcdf format\n",
    "-  iwrap = 1;&nbsp;&nbsp;&nbsp;     Wrap coords into primary box\n",
    "-  nstlim = 5000;&nbsp;&nbsp;&nbsp; Number of MD steps \n",
    "-  dt = 0.002;&nbsp;&nbsp;&nbsp;    Time step (in ps)\n",
    "-  irest = 1;&nbsp;&nbsp;&nbsp;     Restart previous simulation\n",
    "-  gamma_ln = 5.0;&nbsp;&nbsp;&nbsp;   Collision frequency for Langevin dynamics (in 1/ps)\n",
    "-  pres0 = 1.0;&nbsp;&nbsp;&nbsp;   Reference pressure\n",
    "-  ntp = 1;&nbsp;&nbsp;&nbsp;       Constant pressure dynamics: md with isotropic position scaling\n",
    "-  taup = 2.0;&nbsp;&nbsp;&nbsp;    Pressure relaxation time (in ps)\n",
    "\n",
    "In this particular example, the **NPT equilibration** of the system is done in **500 steps** (note that the number of steps has been reduced in this tutorial, for the sake of time). "
   ]
  },
  {
   "cell_type": "code",
   "execution_count": 34,
   "metadata": {},
   "outputs": [
    {
     "name": "stderr",
     "output_type": "stream",
     "text": [
      "2021-06-22 15:02:12,874 [MainThread  ] [INFO ]  Creating 3607b942-e34a-437e-9a93-b6484675b35a temporary folder\n",
      "2021-06-22 15:02:12,876 [MainThread  ] [INFO ]  Creating command line with instructions and required arguments\n",
      "2021-06-22 15:06:40,892 [MainThread  ] [INFO ]  sander -O -i 3607b942-e34a-437e-9a93-b6484675b35a/sander.mdin -p structure.ions.parmtop -c sander.nvt.rst -r sander.npt.rst -o sander.npt.log -x sander.npt.netcdf -ref  sander.nvt.rst\n",
      "\n",
      "2021-06-22 15:06:40,893 [MainThread  ] [INFO ]  Exit code 0\n",
      "\n",
      "2021-06-22 15:06:40,894 [MainThread  ] [INFO ]  Removed: mdinfo, 3607b942-e34a-437e-9a93-b6484675b35a\n"
     ]
    },
    {
     "data": {
      "text/plain": [
       "0"
      ]
     },
     "execution_count": 34,
     "metadata": {},
     "output_type": "execute_result"
    }
   ],
   "source": [
    "# Import module\n",
    "from biobb_amber.sander.sander_mdrun import sander_mdrun\n",
    "\n",
    "# Create prop dict and inputs/outputs\n",
    "output_npt_traj_path = 'sander.npt.netcdf'\n",
    "output_npt_rst_path = 'sander.npt.rst'\n",
    "output_npt_log_path = 'sander.npt.log'\n",
    "\n",
    "prop = {\n",
    "    \"simulation_type\" : 'npt',\n",
    "    \"mdin\" : { \n",
    "        'nstlim' : 500, # Reducing the number of steps for the sake of time (1ps)\n",
    "        'ntr' : 1,     # Overwritting restrain parameter\n",
    "        'restraintmask' : '\\\"!:WAT,Cl-,Na+ & !@H=\\\"',      # Restraining solute heavy atoms\n",
    "        'restraint_wt' : 2.5                               # With a force constant of 2.5 Kcal/mol*A2\n",
    "    }\n",
    "}\n",
    "\n",
    "# Create and launch bb\n",
    "sander_mdrun(input_top_path=output_ions_top_path,\n",
    "            input_crd_path=output_nvt_rst_path,\n",
    "            input_ref_path=output_nvt_rst_path,\n",
    "            output_traj_path=output_npt_traj_path,\n",
    "            output_rst_path=output_npt_rst_path,\n",
    "            output_log_path=output_npt_log_path,\n",
    "            properties=prop)"
   ]
  },
  {
   "cell_type": "markdown",
   "metadata": {},
   "source": [
    "<a id=\"eqNPTStep2\"></a>\n",
    "### Step 2: Checking NPT Equilibration results\n",
    "Checking **NPT Equilibration** results. Plotting **system pressure and density** by time during the **NPT equilibration** process. "
   ]
  },
  {
   "cell_type": "code",
   "execution_count": 35,
   "metadata": {},
   "outputs": [
    {
     "name": "stderr",
     "output_type": "stream",
     "text": [
      "2021-06-22 15:06:40,914 [MainThread  ] [INFO ]  Creating command line with instructions and required arguments\n",
      "2021-06-22 15:06:40,933 [MainThread  ] [INFO ]  process_mdout.perl  sander.npt.log\n",
      "\n",
      "2021-06-22 15:06:40,935 [MainThread  ] [INFO ]  Exit code 0\n",
      "\n",
      "2021-06-22 15:06:40,936 [MainThread  ] [INFO ]  Processing sander output file (sander.npt.log)...\n",
      "Starting output...\n",
      "Outputing summary.TEMP\n",
      "Outputing summary_avg.TEMP\n",
      "Outputing summary_rms.TEMP\n",
      "Outputing summary.TSOLUTE\n",
      "Outputing summary_avg.TSOLUTE\n",
      "Outputing summary_rms.TSOLUTE\n",
      "Outputing summary.TSOLVENT\n",
      "Outputing summary_avg.TSOLVENT\n",
      "Outputing summary_rms.TSOLVENT\n",
      "Outputing summary.PRES\n",
      "Outputing summary_avg.PRES\n",
      "Outputing summary_rms.PRES\n",
      "Outputing summary.EKCMT\n",
      "Outputing summary_avg.EKCMT\n",
      "Outputing summary_rms.EKCMT\n",
      "Outputing summary.ETOT\n",
      "Outputing summary_avg.ETOT\n",
      "Outputing summary_rms.ETOT\n",
      "Outputing summary.EKTOT\n",
      "Outputing summary_avg.EKTOT\n",
      "Outputing summary_rms.EKTOT\n",
      "Outputing summary.EPTOT\n",
      "Outputing summary_avg.EPTOT\n",
      "Outputing summary_rms.EPTOT\n",
      "Outputing summary.DENSITY\n",
      "Outputing summary_avg.DENSITY\n",
      "Outputing summary_rms.DENSITY\n",
      "Outputing summary.VOLUME\n",
      "Outputing summary_avg.VOLUME\n",
      "Outputing summary_rms.VOLUME\n",
      "Outputing summary.ESCF\n",
      "Outputing summary_avg.ESCF\n",
      "Outputing summary_rms.ESCF\n",
      "\n",
      "2021-06-22 15:06:40,941 [MainThread  ] [INFO ]  Removed: [PosixPath('summary_avg.TSOLUTE'), PosixPath('summary_rms.TEMP'), PosixPath('summary.TSOLVENT'), PosixPath('summary_rms.TSOLUTE'), PosixPath('summary_rms.ESCF'), PosixPath('summary_rms.TSOLVENT'), PosixPath('summary_avg.TEMP'), PosixPath('summary_avg.EKTOT'), PosixPath('summary_avg.EKCMT'), PosixPath('summary_rms.ETOT'), PosixPath('summary_rms.EPTOT'), PosixPath('summary_avg.ETOT'), PosixPath('summary_rms.PRES'), PosixPath('summary_avg.TSOLVENT'), PosixPath('summary_rms.EKTOT'), PosixPath('summary_rms.EKCMT'), PosixPath('summary.EKCMT'), PosixPath('summary_rms.VOLUME'), PosixPath('summary.VOLUME'), PosixPath('summary_avg.DENSITY'), PosixPath('summary.ESCF'), PosixPath('summary.PRES'), PosixPath('summary_avg.PRES'), PosixPath('summary.TSOLUTE'), PosixPath('summary_avg.ESCF'), PosixPath('summary_avg.EPTOT'), PosixPath('summary_avg.VOLUME'), PosixPath('summary.TEMP'), PosixPath('summary.EPTOT'), PosixPath('summary.DENSITY'), PosixPath('summary.EKTOT'), PosixPath('summary_rms.DENSITY'), PosixPath('summary.ETOT')]\n"
     ]
    },
    {
     "data": {
      "text/plain": [
       "0"
      ]
     },
     "execution_count": 35,
     "metadata": {},
     "output_type": "execute_result"
    }
   ],
   "source": [
    "# Import module\n",
    "from biobb_amber.process.process_mdout import process_mdout\n",
    "\n",
    "# Create prop dict and inputs/outputs\n",
    "output_dat_npt_path = 'sander.md.npt.dat'\n",
    "\n",
    "prop = {\n",
    "    \"terms\" : ['PRES','DENSITY']\n",
    "}\n",
    "\n",
    "# Create and launch bb\n",
    "process_mdout(input_log_path=output_npt_log_path,\n",
    "            output_dat_path=output_dat_npt_path,\n",
    "            properties=prop)"
   ]
  },
  {
   "cell_type": "code",
   "execution_count": 36,
   "metadata": {},
   "outputs": [
    {
     "data": {
      "text/html": [
       "        <script type=\"text/javascript\">\n",
       "        window.PlotlyConfig = {MathJaxConfig: 'local'};\n",
       "        if (window.MathJax) {MathJax.Hub.Config({SVG: {font: \"STIX-Web\"}});}\n",
       "        if (typeof require !== 'undefined') {\n",
       "        require.undef(\"plotly\");\n",
       "        requirejs.config({\n",
       "            paths: {\n",
       "                'plotly': ['https://cdn.plot.ly/plotly-2.1.0.min']\n",
       "            }\n",
       "        });\n",
       "        require(['plotly'], function(Plotly) {\n",
       "            window._Plotly = Plotly;\n",
       "        });\n",
       "        }\n",
       "        </script>\n",
       "        "
      ]
     },
     "metadata": {},
     "output_type": "display_data"
    },
    {
     "data": {
      "application/vnd.plotly.v1+json": {
       "config": {
        "linkText": "Export to plot.ly",
        "plotlyServerURL": "https://plot.ly",
        "showLink": false
       },
       "data": [
        {
         "type": "scatter",
         "x": [
          6.1,
          6.2,
          6.3,
          6.4,
          6.5,
          6.6,
          6.7,
          6.8,
          6.9,
          7
         ],
         "xaxis": "x",
         "y": [
          -1093.4,
          -887.7,
          -1181.8,
          -956.8,
          -1107.9,
          -1143.9,
          -1351,
          -1010.5,
          -931.3,
          -654.4
         ],
         "yaxis": "y"
        },
        {
         "type": "scatter",
         "x": [
          6.1,
          6.2,
          6.3,
          6.4,
          6.5,
          6.6,
          6.7,
          6.8,
          6.9,
          7
         ],
         "xaxis": "x2",
         "y": [
          0.8963,
          0.8984,
          0.9007,
          0.9029,
          0.9052,
          0.9078,
          0.9099,
          0.9123,
          0.9142,
          0.9158
         ],
         "yaxis": "y2"
        }
       ],
       "layout": {
        "showlegend": false,
        "template": {
         "data": {
          "bar": [
           {
            "error_x": {
             "color": "#2a3f5f"
            },
            "error_y": {
             "color": "#2a3f5f"
            },
            "marker": {
             "line": {
              "color": "#E5ECF6",
              "width": 0.5
             },
             "pattern": {
              "fillmode": "overlay",
              "size": 10,
              "solidity": 0.2
             }
            },
            "type": "bar"
           }
          ],
          "barpolar": [
           {
            "marker": {
             "line": {
              "color": "#E5ECF6",
              "width": 0.5
             },
             "pattern": {
              "fillmode": "overlay",
              "size": 10,
              "solidity": 0.2
             }
            },
            "type": "barpolar"
           }
          ],
          "carpet": [
           {
            "aaxis": {
             "endlinecolor": "#2a3f5f",
             "gridcolor": "white",
             "linecolor": "white",
             "minorgridcolor": "white",
             "startlinecolor": "#2a3f5f"
            },
            "baxis": {
             "endlinecolor": "#2a3f5f",
             "gridcolor": "white",
             "linecolor": "white",
             "minorgridcolor": "white",
             "startlinecolor": "#2a3f5f"
            },
            "type": "carpet"
           }
          ],
          "choropleth": [
           {
            "colorbar": {
             "outlinewidth": 0,
             "ticks": ""
            },
            "type": "choropleth"
           }
          ],
          "contour": [
           {
            "colorbar": {
             "outlinewidth": 0,
             "ticks": ""
            },
            "colorscale": [
             [
              0,
              "#0d0887"
             ],
             [
              0.1111111111111111,
              "#46039f"
             ],
             [
              0.2222222222222222,
              "#7201a8"
             ],
             [
              0.3333333333333333,
              "#9c179e"
             ],
             [
              0.4444444444444444,
              "#bd3786"
             ],
             [
              0.5555555555555556,
              "#d8576b"
             ],
             [
              0.6666666666666666,
              "#ed7953"
             ],
             [
              0.7777777777777778,
              "#fb9f3a"
             ],
             [
              0.8888888888888888,
              "#fdca26"
             ],
             [
              1,
              "#f0f921"
             ]
            ],
            "type": "contour"
           }
          ],
          "contourcarpet": [
           {
            "colorbar": {
             "outlinewidth": 0,
             "ticks": ""
            },
            "type": "contourcarpet"
           }
          ],
          "heatmap": [
           {
            "colorbar": {
             "outlinewidth": 0,
             "ticks": ""
            },
            "colorscale": [
             [
              0,
              "#0d0887"
             ],
             [
              0.1111111111111111,
              "#46039f"
             ],
             [
              0.2222222222222222,
              "#7201a8"
             ],
             [
              0.3333333333333333,
              "#9c179e"
             ],
             [
              0.4444444444444444,
              "#bd3786"
             ],
             [
              0.5555555555555556,
              "#d8576b"
             ],
             [
              0.6666666666666666,
              "#ed7953"
             ],
             [
              0.7777777777777778,
              "#fb9f3a"
             ],
             [
              0.8888888888888888,
              "#fdca26"
             ],
             [
              1,
              "#f0f921"
             ]
            ],
            "type": "heatmap"
           }
          ],
          "heatmapgl": [
           {
            "colorbar": {
             "outlinewidth": 0,
             "ticks": ""
            },
            "colorscale": [
             [
              0,
              "#0d0887"
             ],
             [
              0.1111111111111111,
              "#46039f"
             ],
             [
              0.2222222222222222,
              "#7201a8"
             ],
             [
              0.3333333333333333,
              "#9c179e"
             ],
             [
              0.4444444444444444,
              "#bd3786"
             ],
             [
              0.5555555555555556,
              "#d8576b"
             ],
             [
              0.6666666666666666,
              "#ed7953"
             ],
             [
              0.7777777777777778,
              "#fb9f3a"
             ],
             [
              0.8888888888888888,
              "#fdca26"
             ],
             [
              1,
              "#f0f921"
             ]
            ],
            "type": "heatmapgl"
           }
          ],
          "histogram": [
           {
            "marker": {
             "pattern": {
              "fillmode": "overlay",
              "size": 10,
              "solidity": 0.2
             }
            },
            "type": "histogram"
           }
          ],
          "histogram2d": [
           {
            "colorbar": {
             "outlinewidth": 0,
             "ticks": ""
            },
            "colorscale": [
             [
              0,
              "#0d0887"
             ],
             [
              0.1111111111111111,
              "#46039f"
             ],
             [
              0.2222222222222222,
              "#7201a8"
             ],
             [
              0.3333333333333333,
              "#9c179e"
             ],
             [
              0.4444444444444444,
              "#bd3786"
             ],
             [
              0.5555555555555556,
              "#d8576b"
             ],
             [
              0.6666666666666666,
              "#ed7953"
             ],
             [
              0.7777777777777778,
              "#fb9f3a"
             ],
             [
              0.8888888888888888,
              "#fdca26"
             ],
             [
              1,
              "#f0f921"
             ]
            ],
            "type": "histogram2d"
           }
          ],
          "histogram2dcontour": [
           {
            "colorbar": {
             "outlinewidth": 0,
             "ticks": ""
            },
            "colorscale": [
             [
              0,
              "#0d0887"
             ],
             [
              0.1111111111111111,
              "#46039f"
             ],
             [
              0.2222222222222222,
              "#7201a8"
             ],
             [
              0.3333333333333333,
              "#9c179e"
             ],
             [
              0.4444444444444444,
              "#bd3786"
             ],
             [
              0.5555555555555556,
              "#d8576b"
             ],
             [
              0.6666666666666666,
              "#ed7953"
             ],
             [
              0.7777777777777778,
              "#fb9f3a"
             ],
             [
              0.8888888888888888,
              "#fdca26"
             ],
             [
              1,
              "#f0f921"
             ]
            ],
            "type": "histogram2dcontour"
           }
          ],
          "mesh3d": [
           {
            "colorbar": {
             "outlinewidth": 0,
             "ticks": ""
            },
            "type": "mesh3d"
           }
          ],
          "parcoords": [
           {
            "line": {
             "colorbar": {
              "outlinewidth": 0,
              "ticks": ""
             }
            },
            "type": "parcoords"
           }
          ],
          "pie": [
           {
            "automargin": true,
            "type": "pie"
           }
          ],
          "scatter": [
           {
            "marker": {
             "colorbar": {
              "outlinewidth": 0,
              "ticks": ""
             }
            },
            "type": "scatter"
           }
          ],
          "scatter3d": [
           {
            "line": {
             "colorbar": {
              "outlinewidth": 0,
              "ticks": ""
             }
            },
            "marker": {
             "colorbar": {
              "outlinewidth": 0,
              "ticks": ""
             }
            },
            "type": "scatter3d"
           }
          ],
          "scattercarpet": [
           {
            "marker": {
             "colorbar": {
              "outlinewidth": 0,
              "ticks": ""
             }
            },
            "type": "scattercarpet"
           }
          ],
          "scattergeo": [
           {
            "marker": {
             "colorbar": {
              "outlinewidth": 0,
              "ticks": ""
             }
            },
            "type": "scattergeo"
           }
          ],
          "scattergl": [
           {
            "marker": {
             "colorbar": {
              "outlinewidth": 0,
              "ticks": ""
             }
            },
            "type": "scattergl"
           }
          ],
          "scattermapbox": [
           {
            "marker": {
             "colorbar": {
              "outlinewidth": 0,
              "ticks": ""
             }
            },
            "type": "scattermapbox"
           }
          ],
          "scatterpolar": [
           {
            "marker": {
             "colorbar": {
              "outlinewidth": 0,
              "ticks": ""
             }
            },
            "type": "scatterpolar"
           }
          ],
          "scatterpolargl": [
           {
            "marker": {
             "colorbar": {
              "outlinewidth": 0,
              "ticks": ""
             }
            },
            "type": "scatterpolargl"
           }
          ],
          "scatterternary": [
           {
            "marker": {
             "colorbar": {
              "outlinewidth": 0,
              "ticks": ""
             }
            },
            "type": "scatterternary"
           }
          ],
          "surface": [
           {
            "colorbar": {
             "outlinewidth": 0,
             "ticks": ""
            },
            "colorscale": [
             [
              0,
              "#0d0887"
             ],
             [
              0.1111111111111111,
              "#46039f"
             ],
             [
              0.2222222222222222,
              "#7201a8"
             ],
             [
              0.3333333333333333,
              "#9c179e"
             ],
             [
              0.4444444444444444,
              "#bd3786"
             ],
             [
              0.5555555555555556,
              "#d8576b"
             ],
             [
              0.6666666666666666,
              "#ed7953"
             ],
             [
              0.7777777777777778,
              "#fb9f3a"
             ],
             [
              0.8888888888888888,
              "#fdca26"
             ],
             [
              1,
              "#f0f921"
             ]
            ],
            "type": "surface"
           }
          ],
          "table": [
           {
            "cells": {
             "fill": {
              "color": "#EBF0F8"
             },
             "line": {
              "color": "white"
             }
            },
            "header": {
             "fill": {
              "color": "#C8D4E3"
             },
             "line": {
              "color": "white"
             }
            },
            "type": "table"
           }
          ]
         },
         "layout": {
          "annotationdefaults": {
           "arrowcolor": "#2a3f5f",
           "arrowhead": 0,
           "arrowwidth": 1
          },
          "autotypenumbers": "strict",
          "coloraxis": {
           "colorbar": {
            "outlinewidth": 0,
            "ticks": ""
           }
          },
          "colorscale": {
           "diverging": [
            [
             0,
             "#8e0152"
            ],
            [
             0.1,
             "#c51b7d"
            ],
            [
             0.2,
             "#de77ae"
            ],
            [
             0.3,
             "#f1b6da"
            ],
            [
             0.4,
             "#fde0ef"
            ],
            [
             0.5,
             "#f7f7f7"
            ],
            [
             0.6,
             "#e6f5d0"
            ],
            [
             0.7,
             "#b8e186"
            ],
            [
             0.8,
             "#7fbc41"
            ],
            [
             0.9,
             "#4d9221"
            ],
            [
             1,
             "#276419"
            ]
           ],
           "sequential": [
            [
             0,
             "#0d0887"
            ],
            [
             0.1111111111111111,
             "#46039f"
            ],
            [
             0.2222222222222222,
             "#7201a8"
            ],
            [
             0.3333333333333333,
             "#9c179e"
            ],
            [
             0.4444444444444444,
             "#bd3786"
            ],
            [
             0.5555555555555556,
             "#d8576b"
            ],
            [
             0.6666666666666666,
             "#ed7953"
            ],
            [
             0.7777777777777778,
             "#fb9f3a"
            ],
            [
             0.8888888888888888,
             "#fdca26"
            ],
            [
             1,
             "#f0f921"
            ]
           ],
           "sequentialminus": [
            [
             0,
             "#0d0887"
            ],
            [
             0.1111111111111111,
             "#46039f"
            ],
            [
             0.2222222222222222,
             "#7201a8"
            ],
            [
             0.3333333333333333,
             "#9c179e"
            ],
            [
             0.4444444444444444,
             "#bd3786"
            ],
            [
             0.5555555555555556,
             "#d8576b"
            ],
            [
             0.6666666666666666,
             "#ed7953"
            ],
            [
             0.7777777777777778,
             "#fb9f3a"
            ],
            [
             0.8888888888888888,
             "#fdca26"
            ],
            [
             1,
             "#f0f921"
            ]
           ]
          },
          "colorway": [
           "#636efa",
           "#EF553B",
           "#00cc96",
           "#ab63fa",
           "#FFA15A",
           "#19d3f3",
           "#FF6692",
           "#B6E880",
           "#FF97FF",
           "#FECB52"
          ],
          "font": {
           "color": "#2a3f5f"
          },
          "geo": {
           "bgcolor": "white",
           "lakecolor": "white",
           "landcolor": "#E5ECF6",
           "showlakes": true,
           "showland": true,
           "subunitcolor": "white"
          },
          "hoverlabel": {
           "align": "left"
          },
          "hovermode": "closest",
          "mapbox": {
           "style": "light"
          },
          "paper_bgcolor": "white",
          "plot_bgcolor": "#E5ECF6",
          "polar": {
           "angularaxis": {
            "gridcolor": "white",
            "linecolor": "white",
            "ticks": ""
           },
           "bgcolor": "#E5ECF6",
           "radialaxis": {
            "gridcolor": "white",
            "linecolor": "white",
            "ticks": ""
           }
          },
          "scene": {
           "xaxis": {
            "backgroundcolor": "#E5ECF6",
            "gridcolor": "white",
            "gridwidth": 2,
            "linecolor": "white",
            "showbackground": true,
            "ticks": "",
            "zerolinecolor": "white"
           },
           "yaxis": {
            "backgroundcolor": "#E5ECF6",
            "gridcolor": "white",
            "gridwidth": 2,
            "linecolor": "white",
            "showbackground": true,
            "ticks": "",
            "zerolinecolor": "white"
           },
           "zaxis": {
            "backgroundcolor": "#E5ECF6",
            "gridcolor": "white",
            "gridwidth": 2,
            "linecolor": "white",
            "showbackground": true,
            "ticks": "",
            "zerolinecolor": "white"
           }
          },
          "shapedefaults": {
           "line": {
            "color": "#2a3f5f"
           }
          },
          "ternary": {
           "aaxis": {
            "gridcolor": "white",
            "linecolor": "white",
            "ticks": ""
           },
           "baxis": {
            "gridcolor": "white",
            "linecolor": "white",
            "ticks": ""
           },
           "bgcolor": "#E5ECF6",
           "caxis": {
            "gridcolor": "white",
            "linecolor": "white",
            "ticks": ""
           }
          },
          "title": {
           "x": 0.05
          },
          "xaxis": {
           "automargin": true,
           "gridcolor": "white",
           "linecolor": "white",
           "ticks": "",
           "title": {
            "standoff": 15
           },
           "zerolinecolor": "white",
           "zerolinewidth": 2
          },
          "yaxis": {
           "automargin": true,
           "gridcolor": "white",
           "linecolor": "white",
           "ticks": "",
           "title": {
            "standoff": 15
           },
           "zerolinecolor": "white",
           "zerolinewidth": 2
          }
         }
        },
        "title": {
         "text": "Pressure and Density during NPT Equilibration"
        },
        "xaxis": {
         "anchor": "y",
         "domain": [
          0,
          0.45
         ],
         "title": {
          "text": "Time (ps)"
         }
        },
        "xaxis2": {
         "anchor": "y2",
         "domain": [
          0.55,
          1
         ],
         "title": {
          "text": "Time (ps)"
         }
        },
        "yaxis": {
         "anchor": "x",
         "domain": [
          0,
          1
         ],
         "title": {
          "text": "Pressure (bar)"
         }
        },
        "yaxis2": {
         "anchor": "x2",
         "domain": [
          0,
          1
         ],
         "title": {
          "text": "Density (Kg*m^-3)"
         }
        }
       }
      },
      "text/html": [
       "<div>                            <div id=\"e28ce4e4-bbe5-4caa-b0ca-2ff0354ef732\" class=\"plotly-graph-div\" style=\"height:525px; width:100%;\"></div>            <script type=\"text/javascript\">                require([\"plotly\"], function(Plotly) {                    window.PLOTLYENV=window.PLOTLYENV || {};                                    if (document.getElementById(\"e28ce4e4-bbe5-4caa-b0ca-2ff0354ef732\")) {                    Plotly.newPlot(                        \"e28ce4e4-bbe5-4caa-b0ca-2ff0354ef732\",                        [{\"type\":\"scatter\",\"x\":[6.1,6.2,6.3,6.4,6.5,6.6,6.7,6.8,6.9,7.0],\"xaxis\":\"x\",\"y\":[-1093.4,-887.7,-1181.8,-956.8,-1107.9,-1143.9,-1351.0,-1010.5,-931.3,-654.4],\"yaxis\":\"y\"},{\"type\":\"scatter\",\"x\":[6.1,6.2,6.3,6.4,6.5,6.6,6.7,6.8,6.9,7.0],\"xaxis\":\"x2\",\"y\":[0.8963,0.8984,0.9007,0.9029,0.9052,0.9078,0.9099,0.9123,0.9142,0.9158],\"yaxis\":\"y2\"}],                        {\"showlegend\":false,\"template\":{\"data\":{\"bar\":[{\"error_x\":{\"color\":\"#2a3f5f\"},\"error_y\":{\"color\":\"#2a3f5f\"},\"marker\":{\"line\":{\"color\":\"#E5ECF6\",\"width\":0.5},\"pattern\":{\"fillmode\":\"overlay\",\"size\":10,\"solidity\":0.2}},\"type\":\"bar\"}],\"barpolar\":[{\"marker\":{\"line\":{\"color\":\"#E5ECF6\",\"width\":0.5},\"pattern\":{\"fillmode\":\"overlay\",\"size\":10,\"solidity\":0.2}},\"type\":\"barpolar\"}],\"carpet\":[{\"aaxis\":{\"endlinecolor\":\"#2a3f5f\",\"gridcolor\":\"white\",\"linecolor\":\"white\",\"minorgridcolor\":\"white\",\"startlinecolor\":\"#2a3f5f\"},\"baxis\":{\"endlinecolor\":\"#2a3f5f\",\"gridcolor\":\"white\",\"linecolor\":\"white\",\"minorgridcolor\":\"white\",\"startlinecolor\":\"#2a3f5f\"},\"type\":\"carpet\"}],\"choropleth\":[{\"colorbar\":{\"outlinewidth\":0,\"ticks\":\"\"},\"type\":\"choropleth\"}],\"contour\":[{\"colorbar\":{\"outlinewidth\":0,\"ticks\":\"\"},\"colorscale\":[[0.0,\"#0d0887\"],[0.1111111111111111,\"#46039f\"],[0.2222222222222222,\"#7201a8\"],[0.3333333333333333,\"#9c179e\"],[0.4444444444444444,\"#bd3786\"],[0.5555555555555556,\"#d8576b\"],[0.6666666666666666,\"#ed7953\"],[0.7777777777777778,\"#fb9f3a\"],[0.8888888888888888,\"#fdca26\"],[1.0,\"#f0f921\"]],\"type\":\"contour\"}],\"contourcarpet\":[{\"colorbar\":{\"outlinewidth\":0,\"ticks\":\"\"},\"type\":\"contourcarpet\"}],\"heatmap\":[{\"colorbar\":{\"outlinewidth\":0,\"ticks\":\"\"},\"colorscale\":[[0.0,\"#0d0887\"],[0.1111111111111111,\"#46039f\"],[0.2222222222222222,\"#7201a8\"],[0.3333333333333333,\"#9c179e\"],[0.4444444444444444,\"#bd3786\"],[0.5555555555555556,\"#d8576b\"],[0.6666666666666666,\"#ed7953\"],[0.7777777777777778,\"#fb9f3a\"],[0.8888888888888888,\"#fdca26\"],[1.0,\"#f0f921\"]],\"type\":\"heatmap\"}],\"heatmapgl\":[{\"colorbar\":{\"outlinewidth\":0,\"ticks\":\"\"},\"colorscale\":[[0.0,\"#0d0887\"],[0.1111111111111111,\"#46039f\"],[0.2222222222222222,\"#7201a8\"],[0.3333333333333333,\"#9c179e\"],[0.4444444444444444,\"#bd3786\"],[0.5555555555555556,\"#d8576b\"],[0.6666666666666666,\"#ed7953\"],[0.7777777777777778,\"#fb9f3a\"],[0.8888888888888888,\"#fdca26\"],[1.0,\"#f0f921\"]],\"type\":\"heatmapgl\"}],\"histogram\":[{\"marker\":{\"pattern\":{\"fillmode\":\"overlay\",\"size\":10,\"solidity\":0.2}},\"type\":\"histogram\"}],\"histogram2d\":[{\"colorbar\":{\"outlinewidth\":0,\"ticks\":\"\"},\"colorscale\":[[0.0,\"#0d0887\"],[0.1111111111111111,\"#46039f\"],[0.2222222222222222,\"#7201a8\"],[0.3333333333333333,\"#9c179e\"],[0.4444444444444444,\"#bd3786\"],[0.5555555555555556,\"#d8576b\"],[0.6666666666666666,\"#ed7953\"],[0.7777777777777778,\"#fb9f3a\"],[0.8888888888888888,\"#fdca26\"],[1.0,\"#f0f921\"]],\"type\":\"histogram2d\"}],\"histogram2dcontour\":[{\"colorbar\":{\"outlinewidth\":0,\"ticks\":\"\"},\"colorscale\":[[0.0,\"#0d0887\"],[0.1111111111111111,\"#46039f\"],[0.2222222222222222,\"#7201a8\"],[0.3333333333333333,\"#9c179e\"],[0.4444444444444444,\"#bd3786\"],[0.5555555555555556,\"#d8576b\"],[0.6666666666666666,\"#ed7953\"],[0.7777777777777778,\"#fb9f3a\"],[0.8888888888888888,\"#fdca26\"],[1.0,\"#f0f921\"]],\"type\":\"histogram2dcontour\"}],\"mesh3d\":[{\"colorbar\":{\"outlinewidth\":0,\"ticks\":\"\"},\"type\":\"mesh3d\"}],\"parcoords\":[{\"line\":{\"colorbar\":{\"outlinewidth\":0,\"ticks\":\"\"}},\"type\":\"parcoords\"}],\"pie\":[{\"automargin\":true,\"type\":\"pie\"}],\"scatter\":[{\"marker\":{\"colorbar\":{\"outlinewidth\":0,\"ticks\":\"\"}},\"type\":\"scatter\"}],\"scatter3d\":[{\"line\":{\"colorbar\":{\"outlinewidth\":0,\"ticks\":\"\"}},\"marker\":{\"colorbar\":{\"outlinewidth\":0,\"ticks\":\"\"}},\"type\":\"scatter3d\"}],\"scattercarpet\":[{\"marker\":{\"colorbar\":{\"outlinewidth\":0,\"ticks\":\"\"}},\"type\":\"scattercarpet\"}],\"scattergeo\":[{\"marker\":{\"colorbar\":{\"outlinewidth\":0,\"ticks\":\"\"}},\"type\":\"scattergeo\"}],\"scattergl\":[{\"marker\":{\"colorbar\":{\"outlinewidth\":0,\"ticks\":\"\"}},\"type\":\"scattergl\"}],\"scattermapbox\":[{\"marker\":{\"colorbar\":{\"outlinewidth\":0,\"ticks\":\"\"}},\"type\":\"scattermapbox\"}],\"scatterpolar\":[{\"marker\":{\"colorbar\":{\"outlinewidth\":0,\"ticks\":\"\"}},\"type\":\"scatterpolar\"}],\"scatterpolargl\":[{\"marker\":{\"colorbar\":{\"outlinewidth\":0,\"ticks\":\"\"}},\"type\":\"scatterpolargl\"}],\"scatterternary\":[{\"marker\":{\"colorbar\":{\"outlinewidth\":0,\"ticks\":\"\"}},\"type\":\"scatterternary\"}],\"surface\":[{\"colorbar\":{\"outlinewidth\":0,\"ticks\":\"\"},\"colorscale\":[[0.0,\"#0d0887\"],[0.1111111111111111,\"#46039f\"],[0.2222222222222222,\"#7201a8\"],[0.3333333333333333,\"#9c179e\"],[0.4444444444444444,\"#bd3786\"],[0.5555555555555556,\"#d8576b\"],[0.6666666666666666,\"#ed7953\"],[0.7777777777777778,\"#fb9f3a\"],[0.8888888888888888,\"#fdca26\"],[1.0,\"#f0f921\"]],\"type\":\"surface\"}],\"table\":[{\"cells\":{\"fill\":{\"color\":\"#EBF0F8\"},\"line\":{\"color\":\"white\"}},\"header\":{\"fill\":{\"color\":\"#C8D4E3\"},\"line\":{\"color\":\"white\"}},\"type\":\"table\"}]},\"layout\":{\"annotationdefaults\":{\"arrowcolor\":\"#2a3f5f\",\"arrowhead\":0,\"arrowwidth\":1},\"autotypenumbers\":\"strict\",\"coloraxis\":{\"colorbar\":{\"outlinewidth\":0,\"ticks\":\"\"}},\"colorscale\":{\"diverging\":[[0,\"#8e0152\"],[0.1,\"#c51b7d\"],[0.2,\"#de77ae\"],[0.3,\"#f1b6da\"],[0.4,\"#fde0ef\"],[0.5,\"#f7f7f7\"],[0.6,\"#e6f5d0\"],[0.7,\"#b8e186\"],[0.8,\"#7fbc41\"],[0.9,\"#4d9221\"],[1,\"#276419\"]],\"sequential\":[[0.0,\"#0d0887\"],[0.1111111111111111,\"#46039f\"],[0.2222222222222222,\"#7201a8\"],[0.3333333333333333,\"#9c179e\"],[0.4444444444444444,\"#bd3786\"],[0.5555555555555556,\"#d8576b\"],[0.6666666666666666,\"#ed7953\"],[0.7777777777777778,\"#fb9f3a\"],[0.8888888888888888,\"#fdca26\"],[1.0,\"#f0f921\"]],\"sequentialminus\":[[0.0,\"#0d0887\"],[0.1111111111111111,\"#46039f\"],[0.2222222222222222,\"#7201a8\"],[0.3333333333333333,\"#9c179e\"],[0.4444444444444444,\"#bd3786\"],[0.5555555555555556,\"#d8576b\"],[0.6666666666666666,\"#ed7953\"],[0.7777777777777778,\"#fb9f3a\"],[0.8888888888888888,\"#fdca26\"],[1.0,\"#f0f921\"]]},\"colorway\":[\"#636efa\",\"#EF553B\",\"#00cc96\",\"#ab63fa\",\"#FFA15A\",\"#19d3f3\",\"#FF6692\",\"#B6E880\",\"#FF97FF\",\"#FECB52\"],\"font\":{\"color\":\"#2a3f5f\"},\"geo\":{\"bgcolor\":\"white\",\"lakecolor\":\"white\",\"landcolor\":\"#E5ECF6\",\"showlakes\":true,\"showland\":true,\"subunitcolor\":\"white\"},\"hoverlabel\":{\"align\":\"left\"},\"hovermode\":\"closest\",\"mapbox\":{\"style\":\"light\"},\"paper_bgcolor\":\"white\",\"plot_bgcolor\":\"#E5ECF6\",\"polar\":{\"angularaxis\":{\"gridcolor\":\"white\",\"linecolor\":\"white\",\"ticks\":\"\"},\"bgcolor\":\"#E5ECF6\",\"radialaxis\":{\"gridcolor\":\"white\",\"linecolor\":\"white\",\"ticks\":\"\"}},\"scene\":{\"xaxis\":{\"backgroundcolor\":\"#E5ECF6\",\"gridcolor\":\"white\",\"gridwidth\":2,\"linecolor\":\"white\",\"showbackground\":true,\"ticks\":\"\",\"zerolinecolor\":\"white\"},\"yaxis\":{\"backgroundcolor\":\"#E5ECF6\",\"gridcolor\":\"white\",\"gridwidth\":2,\"linecolor\":\"white\",\"showbackground\":true,\"ticks\":\"\",\"zerolinecolor\":\"white\"},\"zaxis\":{\"backgroundcolor\":\"#E5ECF6\",\"gridcolor\":\"white\",\"gridwidth\":2,\"linecolor\":\"white\",\"showbackground\":true,\"ticks\":\"\",\"zerolinecolor\":\"white\"}},\"shapedefaults\":{\"line\":{\"color\":\"#2a3f5f\"}},\"ternary\":{\"aaxis\":{\"gridcolor\":\"white\",\"linecolor\":\"white\",\"ticks\":\"\"},\"baxis\":{\"gridcolor\":\"white\",\"linecolor\":\"white\",\"ticks\":\"\"},\"bgcolor\":\"#E5ECF6\",\"caxis\":{\"gridcolor\":\"white\",\"linecolor\":\"white\",\"ticks\":\"\"}},\"title\":{\"x\":0.05},\"xaxis\":{\"automargin\":true,\"gridcolor\":\"white\",\"linecolor\":\"white\",\"ticks\":\"\",\"title\":{\"standoff\":15},\"zerolinecolor\":\"white\",\"zerolinewidth\":2},\"yaxis\":{\"automargin\":true,\"gridcolor\":\"white\",\"linecolor\":\"white\",\"ticks\":\"\",\"title\":{\"standoff\":15},\"zerolinecolor\":\"white\",\"zerolinewidth\":2}}},\"title\":{\"text\":\"Pressure and Density during NPT Equilibration\"},\"xaxis\":{\"anchor\":\"y\",\"domain\":[0.0,0.45],\"title\":{\"text\":\"Time (ps)\"}},\"xaxis2\":{\"anchor\":\"y2\",\"domain\":[0.55,1.0],\"title\":{\"text\":\"Time (ps)\"}},\"yaxis\":{\"anchor\":\"x\",\"domain\":[0.0,1.0],\"title\":{\"text\":\"Pressure (bar)\"}},\"yaxis2\":{\"anchor\":\"x2\",\"domain\":[0.0,1.0],\"title\":{\"text\":\"Density (Kg*m^-3)\"}}},                        {\"responsive\": true}                    ).then(function(){\n",
       "                            \n",
       "var gd = document.getElementById('e28ce4e4-bbe5-4caa-b0ca-2ff0354ef732');\n",
       "var x = new MutationObserver(function (mutations, observer) {{\n",
       "        var display = window.getComputedStyle(gd).display;\n",
       "        if (!display || display === 'none') {{\n",
       "            console.log([gd, 'removed!']);\n",
       "            Plotly.purge(gd);\n",
       "            observer.disconnect();\n",
       "        }}\n",
       "}});\n",
       "\n",
       "// Listen for the removal of the full notebook cells\n",
       "var notebookContainer = gd.closest('#notebook-container');\n",
       "if (notebookContainer) {{\n",
       "    x.observe(notebookContainer, {childList: true});\n",
       "}}\n",
       "\n",
       "// Listen for the clearing of the current output cell\n",
       "var outputEl = gd.closest('.output');\n",
       "if (outputEl) {{\n",
       "    x.observe(outputEl, {childList: true});\n",
       "}}\n",
       "\n",
       "                        })                };                });            </script>        </div>"
      ]
     },
     "metadata": {},
     "output_type": "display_data"
    }
   ],
   "source": [
    "# Read pressure and density data from file \n",
    "with open(output_dat_npt_path,'r') as pd_file:\n",
    "    x,y,z = map(\n",
    "        list,\n",
    "        zip(*[\n",
    "            (float(line.split()[0]),float(line.split()[1]),float(line.split()[2]))\n",
    "            for line in pd_file \n",
    "            if not line.startswith((\"#\",\"@\")) \n",
    "        ])\n",
    "    )\n",
    "\n",
    "plotly.offline.init_notebook_mode(connected=True)\n",
    "\n",
    "trace1 = go.Scatter(\n",
    "    x=x,y=y\n",
    ")\n",
    "trace2 = go.Scatter(\n",
    "    x=x,y=z\n",
    ")\n",
    "\n",
    "fig = subplots.make_subplots(rows=1, cols=2, print_grid=False)\n",
    "\n",
    "fig.append_trace(trace1, 1, 1)\n",
    "fig.append_trace(trace2, 1, 2)\n",
    "\n",
    "fig['layout']['xaxis1'].update(title='Time (ps)')\n",
    "fig['layout']['xaxis2'].update(title='Time (ps)')\n",
    "fig['layout']['yaxis1'].update(title='Pressure (bar)')\n",
    "fig['layout']['yaxis2'].update(title='Density (Kg*m^-3)')\n",
    "\n",
    "fig['layout'].update(title='Pressure and Density during NPT Equilibration')\n",
    "fig['layout'].update(showlegend=False)\n",
    "\n",
    "plotly.offline.iplot(fig)"
   ]
  },
  {
   "cell_type": "markdown",
   "metadata": {},
   "source": [
    "<a id=\"free\"></a>\n",
    "***\n",
    "## Free Molecular Dynamics Simulation\n",
    "Upon completion of the **two equilibration phases (NVT and NPT)**, the system is now well-equilibrated at the desired temperature and pressure. The **position restraints** can now be released. The last step of the **protein** MD setup is a short, **free MD simulation**, to ensure the robustness of the system. \n",
    "- [Step 1](#mdStep1): Run short MD simulation of the **protein system**.\n",
    "- [Step 2](#mdStep2): Checking results for the final step of the setup process, the **free MD run**. Plotting **Root Mean Square deviation (RMSd)** and **Radius of Gyration (Rgyr)** by time during the **free MD run** step.\n",
    "***\n",
    "**Building Blocks** used:\n",
    "**Building Blocks** used:\n",
    " - [sander_mdrun](https://biobb-amber.readthedocs.io/en/latest/sander.html#module-sander.sander_mdrun) from **biobb_amber.sander.sander_mdrun**\n",
    " - [process_mdout](https://biobb-amber.readthedocs.io/en/latest/process.html#module-process.process_mdout) from **biobb_amber.process.process_mdout** \n",
    " - [cpptraj_rms](https://biobb-analysis.readthedocs.io/en/latest/ambertools.html#module-ambertools.cpptraj_rms) from **biobb_analysis.cpptraj.cpptraj_rms**\n",
    " - [cpptraj_rgyr](https://biobb-analysis.readthedocs.io/en/latest/ambertools.html#module-ambertools.cpptraj_rgyr) from **biobb_analysis.cpptraj.cpptraj_rgyr**\n",
    "***"
   ]
  },
  {
   "cell_type": "markdown",
   "metadata": {},
   "source": [
    "<a id=\"mdStep1\"></a>\n",
    "### Step 1: Creating portable binary run file to run a free MD simulation\n",
    "\n",
    "The **free** type of the **simulation_type property** contains the main default parameters to run an **unrestrained MD simulation**:\n",
    "\n",
    "-  imin = 0;&nbsp;&nbsp;&nbsp;      Run MD (no minimization)\n",
    "-  ntx = 5;&nbsp;&nbsp;&nbsp;       Read initial coords and vels from restart file\n",
    "-  cut = 10.0;&nbsp;&nbsp;&nbsp;    Cutoff for non bonded interactions in Angstroms\n",
    "-  ntr = 0;&nbsp;&nbsp;&nbsp;       No restrained atoms\n",
    "-  ntc = 2;&nbsp;&nbsp;&nbsp;       SHAKE for constraining length of bonds involving Hydrogen atoms\n",
    "-  ntf = 2;&nbsp;&nbsp;&nbsp;       Bond interactions involving H omitted\n",
    "-  ntt = 3;&nbsp;&nbsp;&nbsp;       Constant temperature using Langevin dynamics\n",
    "-  ig = -1;&nbsp;&nbsp;&nbsp;       Seed for pseudo-random number generator\n",
    "-  ioutfm = 1;&nbsp;&nbsp;&nbsp;    Write trajectory in netcdf format\n",
    "-  iwrap = 1;&nbsp;&nbsp;&nbsp;     Wrap coords into primary box\n",
    "-  nstlim = 5000;&nbsp;&nbsp;&nbsp; Number of MD steps \n",
    "-  dt = 0.002;&nbsp;&nbsp;&nbsp;    Time step (in ps)\n",
    "\n",
    "In this particular example, a short, **5ps-length** simulation (2500 steps) is run, for the sake of time. "
   ]
  },
  {
   "cell_type": "code",
   "execution_count": 37,
   "metadata": {},
   "outputs": [
    {
     "name": "stderr",
     "output_type": "stream",
     "text": [
      "2021-06-22 15:06:41,080 [MainThread  ] [INFO ]  Creating 4fa1528a-9211-4a59-9648-8840346dfc54 temporary folder\n",
      "2021-06-22 15:06:41,081 [MainThread  ] [INFO ]  Creating command line with instructions and required arguments\n",
      "2021-06-22 15:28:10,365 [MainThread  ] [INFO ]  sander -O -i 4fa1528a-9211-4a59-9648-8840346dfc54/sander.mdin -p structure.ions.parmtop -c sander.npt.rst -r sander.free.rst -o sander.free.log -x sander.free.netcdf\n",
      "\n",
      "2021-06-22 15:28:10,366 [MainThread  ] [INFO ]  Exit code 0\n",
      "\n",
      "2021-06-22 15:28:10,368 [MainThread  ] [INFO ]  Removed: mdinfo, 4fa1528a-9211-4a59-9648-8840346dfc54\n"
     ]
    },
    {
     "data": {
      "text/plain": [
       "0"
      ]
     },
     "execution_count": 37,
     "metadata": {},
     "output_type": "execute_result"
    }
   ],
   "source": [
    "# Import module\n",
    "from biobb_amber.sander.sander_mdrun import sander_mdrun\n",
    "\n",
    "# Create prop dict and inputs/outputs\n",
    "output_free_traj_path = 'sander.free.netcdf'\n",
    "output_free_rst_path = 'sander.free.rst'\n",
    "output_free_log_path = 'sander.free.log'\n",
    "\n",
    "prop = {\n",
    "    \"simulation_type\" : 'free',\n",
    "    \"mdin\" : { \n",
    "        'nstlim' : 2500, # Reducing the number of steps for the sake of time (5ps)\n",
    "        'ntwx' : 500  # Print coords to trajectory every 500 steps (1 ps)\n",
    "    }\n",
    "}\n",
    "\n",
    "# Create and launch bb\n",
    "sander_mdrun(input_top_path=output_ions_top_path,\n",
    "            input_crd_path=output_npt_rst_path,\n",
    "            output_traj_path=output_free_traj_path,\n",
    "            output_rst_path=output_free_rst_path,\n",
    "            output_log_path=output_free_log_path,\n",
    "            properties=prop)"
   ]
  },
  {
   "cell_type": "markdown",
   "metadata": {},
   "source": [
    "<a id=\"mdStep2\"></a>\n",
    "### Step 2: Checking free MD simulation results\n",
    "\n",
    "Checking results for the final step of the setup process, the **free MD run**. Plotting **Root Mean Square deviation (RMSd)** and **Radius of Gyration (Rgyr)** by time during the **free MD run** step. **RMSd** against the **experimental structure** (input structure of the pipeline) and against the **minimized and equilibrated structure** (output structure of the NPT equilibration step)."
   ]
  },
  {
   "cell_type": "code",
   "execution_count": 38,
   "metadata": {},
   "outputs": [
    {
     "name": "stderr",
     "output_type": "stream",
     "text": [
      "2021-06-22 15:28:10,393 [MainThread  ] [INFO ]  Not using any container\n",
      "2021-06-22 15:28:10,595 [MainThread  ] [INFO ]  cpptraj -i 40846a97-ce16-492a-a940-328006a3bb39/instructions.in\n",
      "\n",
      "2021-06-22 15:28:10,596 [MainThread  ] [INFO ]  Exit code 0\n",
      "\n",
      "2021-06-22 15:28:10,596 [MainThread  ] [INFO ]  \n",
      "CPPTRAJ: Trajectory Analysis. V4.25.6\n",
      "    ___  ___  ___  ___\n",
      "     | \\/ | \\/ | \\/ | \n",
      "    _|_/\\_|_/\\_|_/\\_|_\n",
      "\n",
      "| Date/time: 06/22/21 15:28:10\n",
      "| Available memory: 977.474 MB\n",
      "\n",
      "INPUT: Reading input from '40846a97-ce16-492a-a940-328006a3bb39/instructions.in'\n",
      "  [parm structure.ions.parmtop]\n",
      "\tReading 'structure.ions.parmtop' as Amber Topology\n",
      "\tRadius Set: modified Bondi radii (mbondi)\n",
      "  [trajin sander.free.netcdf 1 -1 1]\n",
      "\tReading 'sander.free.netcdf' as Amber NetCDF\n",
      "  [center !@H*,1H*,2H*,3H* origin]\n",
      "    CENTER: Centering coordinates using geometric center of atoms in mask (!@H*,1H*,2H*,3H*) to\n",
      "\tcoordinate origin.\n",
      "  [autoimage]\n",
      "    AUTOIMAGE: To box center based on center of mass, anchor is first molecule.\n",
      "  [rms first !@H*,1H*,2H*,3H*]\n",
      "    RMSD: (!@H*,1H*,2H*,3H*), reference is first frame (!@H*,1H*,2H*,3H*).\n",
      "\tBest-fit RMSD will be calculated, coords will be rotated and translated.\n",
      "  [strip :WAT,HOH,SOL,TIP3,TP3,SOD,CLA,Na+,Cl-,NA,CL,K+,K]\n",
      "    STRIP: Stripping atoms in mask [:WAT,HOH,SOL,TIP3,TP3,SOD,CLA,Na+,Cl-,NA,CL,K+,K]\n",
      "  [strip !@C,CA,N,O,C3',O3',C4',C5',O5',P]\n",
      "    STRIP: Stripping atoms in mask [!@C,CA,N,O,C3',O3',C4',C5',O5',P]\n",
      "  [rms first out 3htb_rms_first.dat]\n",
      "    RMSD: (*), reference is first frame (*).\n",
      "\tBest-fit RMSD will be calculated, coords will be rotated and translated.\n",
      "---------- RUN BEGIN -------------------------------------------------\n",
      "\n",
      "PARAMETER FILES (1 total):\n",
      " 0: structure.ions.parmtop, 24957 atoms, 7635 res, box: Trunc. Oct., 7473 mol, 7425 solvent\n",
      "\n",
      "INPUT TRAJECTORIES (1 total):\n",
      " 0: 'sander.free.netcdf' is a NetCDF AMBER trajectory with coordinates, time, box, Parm structure.ions.parmtop (Trunc. Oct. box) (reading 5 of 5)\n",
      "  Coordinate processing will occur on 5 frames.\n",
      "\n",
      "BEGIN TRAJECTORY PROCESSING:\n",
      ".....................................................\n",
      "ACTION SETUP FOR PARM 'structure.ions.parmtop' (6 actions):\n",
      "  0: [center !@H*,1H*,2H*,3H* origin]\n",
      "\tMask [!@H*,1H*,2H*,3H*] corresponds to 8782 atoms.\n",
      "  1: [autoimage]\n",
      "\tOriginal box is truncated octahedron, turning on 'familiar'.\n",
      "\tUsing first molecule as anchor.\n",
      "\t1 molecules are fixed to anchor: 2\n",
      "\t7471 molecules are mobile.\n",
      "  2: [rms first !@H*,1H*,2H*,3H*]\n",
      "\tTarget mask: [!@H*,1H*,2H*,3H*](8782)\n",
      "\tReference mask: [!@H*,1H*,2H*,3H*](8782)\n",
      "Warning: Coordinates are being rotated and box coordinates are present.\n",
      "Warning: Unit cell vectors are NOT rotated; imaging will not be possible\n",
      "Warning:  after the RMS-fit is performed.\n",
      "  3: [strip :WAT,HOH,SOL,TIP3,TP3,SOD,CLA,Na+,Cl-,NA,CL,K+,K]\n",
      "\tStripping 22321 atoms.\n",
      "\tStripped topology: 2636 atoms, 164 res, box: Trunc. Oct., 2 mol\n",
      "  4: [strip !@C,CA,N,O,C3',O3',C4',C5',O5',P]\n",
      "\tStripping 1984 atoms.\n",
      "\tStripped topology: 652 atoms, 163 res, box: Trunc. Oct., 1 mol\n",
      "  5: [rms first out 3htb_rms_first.dat]\n",
      "\tTarget mask: [*](652)\n",
      "\tReference mask: [*](652)\n",
      "Warning: Coordinates are being rotated and box coordinates are present.\n",
      "Warning: Unit cell vectors are NOT rotated; imaging will not be possible\n",
      "Warning:  after the RMS-fit is performed.\n",
      "----- sander.free.netcdf (1-5, 1) -----\n",
      " 0% 25% 50% 75% 100% Complete.\n",
      "\n",
      "Read 5 frames and processed 5 frames.\n",
      "TIME: Avg. throughput= 180.4533 frames / second.\n",
      "\n",
      "ACTION OUTPUT:\n",
      "TIME: Analyses took 0.0000 seconds.\n",
      "\n",
      "DATASETS (2 total):\n",
      "\tRMSD_00001 \"RMSD_00001\" (double, rms), size is 5 (0.040 kB)\n",
      "\tRMSD_00002 \"RMSD_00002\" (double, rms), size is 5 (0.040 kB)\n",
      "    Total data set memory usage is at least 0.080 kB\n",
      "\n",
      "DATAFILES (1 total):\n",
      "  3htb_rms_first.dat (Standard Data File):  RMSD_00002\n",
      "\n",
      "RUN TIMING:\n",
      "TIME:\t\tInit               : 0.0000 s (  0.06%)\n",
      "TIME:\t\tTrajectory Process : 0.0277 s ( 98.62%)\n",
      "TIME:\t\tAction Post        : 0.0000 s (  0.00%)\n",
      "TIME:\t\tAnalysis           : 0.0000 s (  0.00%)\n",
      "TIME:\t\tData File Write    : 0.0001 s (  0.39%)\n",
      "TIME:\t\tOther              : 0.0003 s (  0.01%)\n",
      "TIME:\tRun Total 0.0281 s\n",
      "---------- RUN END ---------------------------------------------------\n",
      "TIME: Total execution time: 0.1515 seconds.\n",
      "--------------------------------------------------------------------------------\n",
      "To cite CPPTRAJ use:\n",
      "Daniel R. Roe and Thomas E. Cheatham, III, \"PTRAJ and CPPTRAJ: Software for\n",
      "  Processing and Analysis of Molecular Dynamics Trajectory Data\". J. Chem.\n",
      "  Theory Comput., 2013, 9 (7), pp 3084-3095.\n",
      "\n",
      "\n",
      "2021-06-22 15:28:10,598 [MainThread  ] [INFO ]  Removed: [PurePosixPath('40846a97-ce16-492a-a940-328006a3bb39')]\n"
     ]
    },
    {
     "data": {
      "text/plain": [
       "0"
      ]
     },
     "execution_count": 38,
     "metadata": {},
     "output_type": "execute_result"
    }
   ],
   "source": [
    "# cpptraj_rms: Computing Root Mean Square deviation to analyse structural stability \n",
    "#              RMSd against minimized and equilibrated snapshot (backbone atoms)   \n",
    "\n",
    "# Import module\n",
    "from biobb_analysis.ambertools.cpptraj_rms import cpptraj_rms\n",
    "\n",
    "# Create prop dict and inputs/outputs\n",
    "output_rms_first = pdbCode+'_rms_first.dat'\n",
    "\n",
    "prop = {\n",
    "    'mask': 'backbone',\n",
    "    'reference': 'first'\n",
    "}\n",
    "\n",
    "# Create and launch bb\n",
    "cpptraj_rms(input_top_path=output_ions_top_path,\n",
    "            input_traj_path=output_free_traj_path,\n",
    "            output_cpptraj_path=output_rms_first,\n",
    "            properties=prop)"
   ]
  },
  {
   "cell_type": "code",
   "execution_count": 39,
   "metadata": {},
   "outputs": [
    {
     "name": "stderr",
     "output_type": "stream",
     "text": [
      "2021-06-22 15:28:10,617 [MainThread  ] [INFO ]  Not using any container\n",
      "2021-06-22 15:28:10,823 [MainThread  ] [INFO ]  cpptraj -i fdd4b92a-ac4a-464b-99e1-37527ebb9dc6/instructions.in\n",
      "\n",
      "2021-06-22 15:28:10,824 [MainThread  ] [INFO ]  Exit code 0\n",
      "\n",
      "2021-06-22 15:28:10,827 [MainThread  ] [INFO ]  \n",
      "CPPTRAJ: Trajectory Analysis. V4.25.6\n",
      "    ___  ___  ___  ___\n",
      "     | \\/ | \\/ | \\/ | \n",
      "    _|_/\\_|_/\\_|_/\\_|_\n",
      "\n",
      "| Date/time: 06/22/21 15:28:10\n",
      "| Available memory: 968.180 MB\n",
      "\n",
      "INPUT: Reading input from 'fdd4b92a-ac4a-464b-99e1-37527ebb9dc6/instructions.in'\n",
      "  [parm structure.ions.parmtop]\n",
      "\tReading 'structure.ions.parmtop' as Amber Topology\n",
      "\tRadius Set: modified Bondi radii (mbondi)\n",
      "  [trajin sander.free.netcdf 1 -1 1]\n",
      "\tReading 'sander.free.netcdf' as Amber NetCDF\n",
      "  [center !@H*,1H*,2H*,3H* origin]\n",
      "    CENTER: Centering coordinates using geometric center of atoms in mask (!@H*,1H*,2H*,3H*) to\n",
      "\tcoordinate origin.\n",
      "  [autoimage]\n",
      "    AUTOIMAGE: To box center based on center of mass, anchor is first molecule.\n",
      "  [rms first !@H*,1H*,2H*,3H*]\n",
      "    RMSD: (!@H*,1H*,2H*,3H*), reference is first frame (!@H*,1H*,2H*,3H*).\n",
      "\tBest-fit RMSD will be calculated, coords will be rotated and translated.\n",
      "  [strip :WAT,HOH,SOL,TIP3,TP3,SOD,CLA,Na+,Cl-,NA,CL,K+,K]\n",
      "    STRIP: Stripping atoms in mask [:WAT,HOH,SOL,TIP3,TP3,SOD,CLA,Na+,Cl-,NA,CL,K+,K]\n",
      "  [strip !@C,CA,N,O,C3',O3',C4',C5',O5',P]\n",
      "    STRIP: Stripping atoms in mask [!@C,CA,N,O,C3',O3',C4',C5',O5',P]\n",
      "  [parm structure.leap.pdb noconect [exp]]\n",
      "\tReading 'structure.leap.pdb' as PDB File\n",
      "\tNot reading bond info from CONECT records.\n",
      "\tNot reading bond info from LINK records.\n",
      "Warning: PDB line length is short (67 chars, expected 80).\n",
      "\tDetermining bond info from distances.\n",
      "Warning: structure.leap.pdb: Determining default bond distances from element types.\n",
      "  [reference structure.leap.pdb !:WAT,HOH,SOL,TIP3,TP3 parm [exp]]\n",
      "\tReading 'structure.leap.pdb' as PDB\n",
      "Warning: PDB line length is short (67 chars, expected 80).\n",
      "\tStripped ref parm: 2636 atoms, 164 res, box: None, 2 mol\n",
      "\tSetting active reference for distance-based masks: 'structure.leap.pdb'\n",
      "Warning: Active reference has only 2636 atoms, parm 'structure.ions.parmtop' has 24957.\n",
      "Warning: Parm will only have reference coordinates for the first 2636 atoms (distance-based masks only).\n",
      "  [rms reference @C,CA,N,O,C3',O3',C4',C5',O5',P out 3htb_rms_exp.dat]\n",
      "    RMSD: (@C,CA,N,O,C3',O3',C4',C5',O5',P), reference is \"structure.leap.pdb:1\" (@C,CA,N,O,C3',O3',C4',C5',O5',P).\n",
      "\tBest-fit RMSD will be calculated, coords will be rotated and translated.\n",
      "---------- RUN BEGIN -------------------------------------------------\n",
      "\n",
      "PARAMETER FILES (2 total):\n",
      " 0: structure.ions.parmtop, 24957 atoms, 7635 res, box: Trunc. Oct., 7473 mol, 7425 solvent\n",
      " 1: [exp] structure.leap.pdb, 2636 atoms, 164 res, box: None, 2 mol\n",
      "\n",
      "INPUT TRAJECTORIES (1 total):\n",
      " 0: 'sander.free.netcdf' is a NetCDF AMBER trajectory with coordinates, time, box, Parm structure.ions.parmtop (Trunc. Oct. box) (reading 5 of 5)\n",
      "  Coordinate processing will occur on 5 frames.\n",
      "\n",
      "REFERENCE FRAMES (1 total):\n",
      "    0: structure.leap.pdb:1\n",
      "\tActive reference frame for distance-based masks is 'structure.leap.pdb:1'\n",
      "\n",
      "BEGIN TRAJECTORY PROCESSING:\n",
      ".....................................................\n",
      "ACTION SETUP FOR PARM 'structure.ions.parmtop' (6 actions):\n",
      "  0: [center !@H*,1H*,2H*,3H* origin]\n",
      "\tMask [!@H*,1H*,2H*,3H*] corresponds to 8782 atoms.\n",
      "  1: [autoimage]\n",
      "\tOriginal box is truncated octahedron, turning on 'familiar'.\n",
      "\tUsing first molecule as anchor.\n",
      "\t1 molecules are fixed to anchor: 2\n",
      "\t7471 molecules are mobile.\n",
      "  2: [rms first !@H*,1H*,2H*,3H*]\n",
      "\tTarget mask: [!@H*,1H*,2H*,3H*](8782)\n",
      "\tReference mask: [!@H*,1H*,2H*,3H*](8782)\n",
      "Warning: Coordinates are being rotated and box coordinates are present.\n",
      "Warning: Unit cell vectors are NOT rotated; imaging will not be possible\n",
      "Warning:  after the RMS-fit is performed.\n",
      "  3: [strip :WAT,HOH,SOL,TIP3,TP3,SOD,CLA,Na+,Cl-,NA,CL,K+,K]\n",
      "\tStripping 22321 atoms.\n",
      "\tStripped topology: 2636 atoms, 164 res, box: Trunc. Oct., 2 mol\n",
      "  4: [strip !@C,CA,N,O,C3',O3',C4',C5',O5',P]\n",
      "\tStripping 1984 atoms.\n",
      "\tStripped topology: 652 atoms, 163 res, box: Trunc. Oct., 1 mol\n",
      "  5: [rms reference @C,CA,N,O,C3',O3',C4',C5',O5',P out 3htb_rms_exp.dat]\n",
      "\tTarget mask: [@C,CA,N,O,C3',O3',C4',C5',O5',P](652)\n",
      "\tReference mask: [@C,CA,N,O,C3',O3',C4',C5',O5',P](652)\n",
      "Warning: Coordinates are being rotated and box coordinates are present.\n",
      "Warning: Unit cell vectors are NOT rotated; imaging will not be possible\n",
      "Warning:  after the RMS-fit is performed.\n",
      "----- sander.free.netcdf (1-5, 1) -----\n",
      " 0% 25% 50% 75% 100% Complete.\n",
      "\n",
      "Read 5 frames and processed 5 frames.\n",
      "TIME: Avg. throughput= 269.8036 frames / second.\n",
      "\n",
      "ACTION OUTPUT:\n",
      "TIME: Analyses took 0.0000 seconds.\n",
      "\n",
      "DATASETS (2 total):\n",
      "\tRMSD_00001 \"RMSD_00001\" (double, rms), size is 5 (0.040 kB)\n",
      "\tRMSD_00004 \"RMSD_00004\" (double, rms), size is 5 (0.040 kB)\n",
      "    Total data set memory usage is at least 0.080 kB\n",
      "\n",
      "DATAFILES (1 total):\n",
      "  3htb_rms_exp.dat (Standard Data File):  RMSD_00004\n",
      "\n",
      "RUN TIMING:\n",
      "TIME:\t\tInit               : 0.0000 s (  0.16%)\n",
      "TIME:\t\tTrajectory Process : 0.0185 s ( 97.09%)\n",
      "TIME:\t\tAction Post        : 0.0000 s (  0.01%)\n",
      "TIME:\t\tAnalysis           : 0.0000 s (  0.00%)\n",
      "TIME:\t\tData File Write    : 0.0001 s (  0.73%)\n",
      "TIME:\t\tOther              : 0.0004 s (  0.02%)\n",
      "TIME:\tRun Total 0.0191 s\n",
      "---------- RUN END ---------------------------------------------------\n",
      "TIME: Total execution time: 0.1649 seconds.\n",
      "--------------------------------------------------------------------------------\n",
      "To cite CPPTRAJ use:\n",
      "Daniel R. Roe and Thomas E. Cheatham, III, \"PTRAJ and CPPTRAJ: Software for\n",
      "  Processing and Analysis of Molecular Dynamics Trajectory Data\". J. Chem.\n",
      "  Theory Comput., 2013, 9 (7), pp 3084-3095.\n",
      "\n",
      "\n",
      "2021-06-22 15:28:10,830 [MainThread  ] [INFO ]  Removed: [PurePosixPath('fdd4b92a-ac4a-464b-99e1-37527ebb9dc6')]\n"
     ]
    },
    {
     "data": {
      "text/plain": [
       "0"
      ]
     },
     "execution_count": 39,
     "metadata": {},
     "output_type": "execute_result"
    }
   ],
   "source": [
    "# cpptraj_rms: Computing Root Mean Square deviation to analyse structural stability \n",
    "#              RMSd against experimental structure (backbone atoms)   \n",
    "\n",
    "# Import module\n",
    "from biobb_analysis.ambertools.cpptraj_rms import cpptraj_rms\n",
    "\n",
    "# Create prop dict and inputs/outputs\n",
    "output_rms_exp = pdbCode+'_rms_exp.dat'\n",
    "\n",
    "prop = {\n",
    "    'mask': 'backbone',\n",
    "    'reference': 'experimental'\n",
    "}\n",
    "\n",
    "# Create and launch bb\n",
    "cpptraj_rms(input_top_path=output_ions_top_path,\n",
    "            input_traj_path=output_free_traj_path,\n",
    "            output_cpptraj_path=output_rms_exp,\n",
    "            input_exp_path=output_pdb_path, \n",
    "            properties=prop)"
   ]
  },
  {
   "cell_type": "code",
   "execution_count": 40,
   "metadata": {},
   "outputs": [
    {
     "data": {
      "text/html": [
       "        <script type=\"text/javascript\">\n",
       "        window.PlotlyConfig = {MathJaxConfig: 'local'};\n",
       "        if (window.MathJax) {MathJax.Hub.Config({SVG: {font: \"STIX-Web\"}});}\n",
       "        if (typeof require !== 'undefined') {\n",
       "        require.undef(\"plotly\");\n",
       "        requirejs.config({\n",
       "            paths: {\n",
       "                'plotly': ['https://cdn.plot.ly/plotly-2.1.0.min']\n",
       "            }\n",
       "        });\n",
       "        require(['plotly'], function(Plotly) {\n",
       "            window._Plotly = Plotly;\n",
       "        });\n",
       "        }\n",
       "        </script>\n",
       "        "
      ]
     },
     "metadata": {},
     "output_type": "display_data"
    },
    {
     "data": {
      "application/vnd.plotly.v1+json": {
       "config": {
        "linkText": "Export to plot.ly",
        "plotlyServerURL": "https://plot.ly",
        "showLink": false
       },
       "data": [
        {
         "name": "RMSd vs first",
         "type": "scatter",
         "x": [
          1,
          2,
          3,
          4,
          5
         ],
         "y": [
          0,
          0.4034,
          0.4344,
          0.4453,
          0.4787
         ]
        },
        {
         "name": "RMSd vs exp",
         "type": "scatter",
         "x": [
          1,
          2,
          3,
          4,
          5
         ],
         "y": [
          0.5057,
          0.5533,
          0.5569,
          0.6192,
          0.6181
         ]
        }
       ],
       "layout": {
        "template": {
         "data": {
          "bar": [
           {
            "error_x": {
             "color": "#2a3f5f"
            },
            "error_y": {
             "color": "#2a3f5f"
            },
            "marker": {
             "line": {
              "color": "#E5ECF6",
              "width": 0.5
             },
             "pattern": {
              "fillmode": "overlay",
              "size": 10,
              "solidity": 0.2
             }
            },
            "type": "bar"
           }
          ],
          "barpolar": [
           {
            "marker": {
             "line": {
              "color": "#E5ECF6",
              "width": 0.5
             },
             "pattern": {
              "fillmode": "overlay",
              "size": 10,
              "solidity": 0.2
             }
            },
            "type": "barpolar"
           }
          ],
          "carpet": [
           {
            "aaxis": {
             "endlinecolor": "#2a3f5f",
             "gridcolor": "white",
             "linecolor": "white",
             "minorgridcolor": "white",
             "startlinecolor": "#2a3f5f"
            },
            "baxis": {
             "endlinecolor": "#2a3f5f",
             "gridcolor": "white",
             "linecolor": "white",
             "minorgridcolor": "white",
             "startlinecolor": "#2a3f5f"
            },
            "type": "carpet"
           }
          ],
          "choropleth": [
           {
            "colorbar": {
             "outlinewidth": 0,
             "ticks": ""
            },
            "type": "choropleth"
           }
          ],
          "contour": [
           {
            "colorbar": {
             "outlinewidth": 0,
             "ticks": ""
            },
            "colorscale": [
             [
              0,
              "#0d0887"
             ],
             [
              0.1111111111111111,
              "#46039f"
             ],
             [
              0.2222222222222222,
              "#7201a8"
             ],
             [
              0.3333333333333333,
              "#9c179e"
             ],
             [
              0.4444444444444444,
              "#bd3786"
             ],
             [
              0.5555555555555556,
              "#d8576b"
             ],
             [
              0.6666666666666666,
              "#ed7953"
             ],
             [
              0.7777777777777778,
              "#fb9f3a"
             ],
             [
              0.8888888888888888,
              "#fdca26"
             ],
             [
              1,
              "#f0f921"
             ]
            ],
            "type": "contour"
           }
          ],
          "contourcarpet": [
           {
            "colorbar": {
             "outlinewidth": 0,
             "ticks": ""
            },
            "type": "contourcarpet"
           }
          ],
          "heatmap": [
           {
            "colorbar": {
             "outlinewidth": 0,
             "ticks": ""
            },
            "colorscale": [
             [
              0,
              "#0d0887"
             ],
             [
              0.1111111111111111,
              "#46039f"
             ],
             [
              0.2222222222222222,
              "#7201a8"
             ],
             [
              0.3333333333333333,
              "#9c179e"
             ],
             [
              0.4444444444444444,
              "#bd3786"
             ],
             [
              0.5555555555555556,
              "#d8576b"
             ],
             [
              0.6666666666666666,
              "#ed7953"
             ],
             [
              0.7777777777777778,
              "#fb9f3a"
             ],
             [
              0.8888888888888888,
              "#fdca26"
             ],
             [
              1,
              "#f0f921"
             ]
            ],
            "type": "heatmap"
           }
          ],
          "heatmapgl": [
           {
            "colorbar": {
             "outlinewidth": 0,
             "ticks": ""
            },
            "colorscale": [
             [
              0,
              "#0d0887"
             ],
             [
              0.1111111111111111,
              "#46039f"
             ],
             [
              0.2222222222222222,
              "#7201a8"
             ],
             [
              0.3333333333333333,
              "#9c179e"
             ],
             [
              0.4444444444444444,
              "#bd3786"
             ],
             [
              0.5555555555555556,
              "#d8576b"
             ],
             [
              0.6666666666666666,
              "#ed7953"
             ],
             [
              0.7777777777777778,
              "#fb9f3a"
             ],
             [
              0.8888888888888888,
              "#fdca26"
             ],
             [
              1,
              "#f0f921"
             ]
            ],
            "type": "heatmapgl"
           }
          ],
          "histogram": [
           {
            "marker": {
             "pattern": {
              "fillmode": "overlay",
              "size": 10,
              "solidity": 0.2
             }
            },
            "type": "histogram"
           }
          ],
          "histogram2d": [
           {
            "colorbar": {
             "outlinewidth": 0,
             "ticks": ""
            },
            "colorscale": [
             [
              0,
              "#0d0887"
             ],
             [
              0.1111111111111111,
              "#46039f"
             ],
             [
              0.2222222222222222,
              "#7201a8"
             ],
             [
              0.3333333333333333,
              "#9c179e"
             ],
             [
              0.4444444444444444,
              "#bd3786"
             ],
             [
              0.5555555555555556,
              "#d8576b"
             ],
             [
              0.6666666666666666,
              "#ed7953"
             ],
             [
              0.7777777777777778,
              "#fb9f3a"
             ],
             [
              0.8888888888888888,
              "#fdca26"
             ],
             [
              1,
              "#f0f921"
             ]
            ],
            "type": "histogram2d"
           }
          ],
          "histogram2dcontour": [
           {
            "colorbar": {
             "outlinewidth": 0,
             "ticks": ""
            },
            "colorscale": [
             [
              0,
              "#0d0887"
             ],
             [
              0.1111111111111111,
              "#46039f"
             ],
             [
              0.2222222222222222,
              "#7201a8"
             ],
             [
              0.3333333333333333,
              "#9c179e"
             ],
             [
              0.4444444444444444,
              "#bd3786"
             ],
             [
              0.5555555555555556,
              "#d8576b"
             ],
             [
              0.6666666666666666,
              "#ed7953"
             ],
             [
              0.7777777777777778,
              "#fb9f3a"
             ],
             [
              0.8888888888888888,
              "#fdca26"
             ],
             [
              1,
              "#f0f921"
             ]
            ],
            "type": "histogram2dcontour"
           }
          ],
          "mesh3d": [
           {
            "colorbar": {
             "outlinewidth": 0,
             "ticks": ""
            },
            "type": "mesh3d"
           }
          ],
          "parcoords": [
           {
            "line": {
             "colorbar": {
              "outlinewidth": 0,
              "ticks": ""
             }
            },
            "type": "parcoords"
           }
          ],
          "pie": [
           {
            "automargin": true,
            "type": "pie"
           }
          ],
          "scatter": [
           {
            "marker": {
             "colorbar": {
              "outlinewidth": 0,
              "ticks": ""
             }
            },
            "type": "scatter"
           }
          ],
          "scatter3d": [
           {
            "line": {
             "colorbar": {
              "outlinewidth": 0,
              "ticks": ""
             }
            },
            "marker": {
             "colorbar": {
              "outlinewidth": 0,
              "ticks": ""
             }
            },
            "type": "scatter3d"
           }
          ],
          "scattercarpet": [
           {
            "marker": {
             "colorbar": {
              "outlinewidth": 0,
              "ticks": ""
             }
            },
            "type": "scattercarpet"
           }
          ],
          "scattergeo": [
           {
            "marker": {
             "colorbar": {
              "outlinewidth": 0,
              "ticks": ""
             }
            },
            "type": "scattergeo"
           }
          ],
          "scattergl": [
           {
            "marker": {
             "colorbar": {
              "outlinewidth": 0,
              "ticks": ""
             }
            },
            "type": "scattergl"
           }
          ],
          "scattermapbox": [
           {
            "marker": {
             "colorbar": {
              "outlinewidth": 0,
              "ticks": ""
             }
            },
            "type": "scattermapbox"
           }
          ],
          "scatterpolar": [
           {
            "marker": {
             "colorbar": {
              "outlinewidth": 0,
              "ticks": ""
             }
            },
            "type": "scatterpolar"
           }
          ],
          "scatterpolargl": [
           {
            "marker": {
             "colorbar": {
              "outlinewidth": 0,
              "ticks": ""
             }
            },
            "type": "scatterpolargl"
           }
          ],
          "scatterternary": [
           {
            "marker": {
             "colorbar": {
              "outlinewidth": 0,
              "ticks": ""
             }
            },
            "type": "scatterternary"
           }
          ],
          "surface": [
           {
            "colorbar": {
             "outlinewidth": 0,
             "ticks": ""
            },
            "colorscale": [
             [
              0,
              "#0d0887"
             ],
             [
              0.1111111111111111,
              "#46039f"
             ],
             [
              0.2222222222222222,
              "#7201a8"
             ],
             [
              0.3333333333333333,
              "#9c179e"
             ],
             [
              0.4444444444444444,
              "#bd3786"
             ],
             [
              0.5555555555555556,
              "#d8576b"
             ],
             [
              0.6666666666666666,
              "#ed7953"
             ],
             [
              0.7777777777777778,
              "#fb9f3a"
             ],
             [
              0.8888888888888888,
              "#fdca26"
             ],
             [
              1,
              "#f0f921"
             ]
            ],
            "type": "surface"
           }
          ],
          "table": [
           {
            "cells": {
             "fill": {
              "color": "#EBF0F8"
             },
             "line": {
              "color": "white"
             }
            },
            "header": {
             "fill": {
              "color": "#C8D4E3"
             },
             "line": {
              "color": "white"
             }
            },
            "type": "table"
           }
          ]
         },
         "layout": {
          "annotationdefaults": {
           "arrowcolor": "#2a3f5f",
           "arrowhead": 0,
           "arrowwidth": 1
          },
          "autotypenumbers": "strict",
          "coloraxis": {
           "colorbar": {
            "outlinewidth": 0,
            "ticks": ""
           }
          },
          "colorscale": {
           "diverging": [
            [
             0,
             "#8e0152"
            ],
            [
             0.1,
             "#c51b7d"
            ],
            [
             0.2,
             "#de77ae"
            ],
            [
             0.3,
             "#f1b6da"
            ],
            [
             0.4,
             "#fde0ef"
            ],
            [
             0.5,
             "#f7f7f7"
            ],
            [
             0.6,
             "#e6f5d0"
            ],
            [
             0.7,
             "#b8e186"
            ],
            [
             0.8,
             "#7fbc41"
            ],
            [
             0.9,
             "#4d9221"
            ],
            [
             1,
             "#276419"
            ]
           ],
           "sequential": [
            [
             0,
             "#0d0887"
            ],
            [
             0.1111111111111111,
             "#46039f"
            ],
            [
             0.2222222222222222,
             "#7201a8"
            ],
            [
             0.3333333333333333,
             "#9c179e"
            ],
            [
             0.4444444444444444,
             "#bd3786"
            ],
            [
             0.5555555555555556,
             "#d8576b"
            ],
            [
             0.6666666666666666,
             "#ed7953"
            ],
            [
             0.7777777777777778,
             "#fb9f3a"
            ],
            [
             0.8888888888888888,
             "#fdca26"
            ],
            [
             1,
             "#f0f921"
            ]
           ],
           "sequentialminus": [
            [
             0,
             "#0d0887"
            ],
            [
             0.1111111111111111,
             "#46039f"
            ],
            [
             0.2222222222222222,
             "#7201a8"
            ],
            [
             0.3333333333333333,
             "#9c179e"
            ],
            [
             0.4444444444444444,
             "#bd3786"
            ],
            [
             0.5555555555555556,
             "#d8576b"
            ],
            [
             0.6666666666666666,
             "#ed7953"
            ],
            [
             0.7777777777777778,
             "#fb9f3a"
            ],
            [
             0.8888888888888888,
             "#fdca26"
            ],
            [
             1,
             "#f0f921"
            ]
           ]
          },
          "colorway": [
           "#636efa",
           "#EF553B",
           "#00cc96",
           "#ab63fa",
           "#FFA15A",
           "#19d3f3",
           "#FF6692",
           "#B6E880",
           "#FF97FF",
           "#FECB52"
          ],
          "font": {
           "color": "#2a3f5f"
          },
          "geo": {
           "bgcolor": "white",
           "lakecolor": "white",
           "landcolor": "#E5ECF6",
           "showlakes": true,
           "showland": true,
           "subunitcolor": "white"
          },
          "hoverlabel": {
           "align": "left"
          },
          "hovermode": "closest",
          "mapbox": {
           "style": "light"
          },
          "paper_bgcolor": "white",
          "plot_bgcolor": "#E5ECF6",
          "polar": {
           "angularaxis": {
            "gridcolor": "white",
            "linecolor": "white",
            "ticks": ""
           },
           "bgcolor": "#E5ECF6",
           "radialaxis": {
            "gridcolor": "white",
            "linecolor": "white",
            "ticks": ""
           }
          },
          "scene": {
           "xaxis": {
            "backgroundcolor": "#E5ECF6",
            "gridcolor": "white",
            "gridwidth": 2,
            "linecolor": "white",
            "showbackground": true,
            "ticks": "",
            "zerolinecolor": "white"
           },
           "yaxis": {
            "backgroundcolor": "#E5ECF6",
            "gridcolor": "white",
            "gridwidth": 2,
            "linecolor": "white",
            "showbackground": true,
            "ticks": "",
            "zerolinecolor": "white"
           },
           "zaxis": {
            "backgroundcolor": "#E5ECF6",
            "gridcolor": "white",
            "gridwidth": 2,
            "linecolor": "white",
            "showbackground": true,
            "ticks": "",
            "zerolinecolor": "white"
           }
          },
          "shapedefaults": {
           "line": {
            "color": "#2a3f5f"
           }
          },
          "ternary": {
           "aaxis": {
            "gridcolor": "white",
            "linecolor": "white",
            "ticks": ""
           },
           "baxis": {
            "gridcolor": "white",
            "linecolor": "white",
            "ticks": ""
           },
           "bgcolor": "#E5ECF6",
           "caxis": {
            "gridcolor": "white",
            "linecolor": "white",
            "ticks": ""
           }
          },
          "title": {
           "x": 0.05
          },
          "xaxis": {
           "automargin": true,
           "gridcolor": "white",
           "linecolor": "white",
           "ticks": "",
           "title": {
            "standoff": 15
           },
           "zerolinecolor": "white",
           "zerolinewidth": 2
          },
          "yaxis": {
           "automargin": true,
           "gridcolor": "white",
           "linecolor": "white",
           "ticks": "",
           "title": {
            "standoff": 15
           },
           "zerolinecolor": "white",
           "zerolinewidth": 2
          }
         }
        },
        "title": {
         "text": "RMSd during free MD Simulation"
        },
        "xaxis": {
         "title": {
          "text": "Time (ps)"
         }
        },
        "yaxis": {
         "title": {
          "text": "RMSd (Angstrom)"
         }
        }
       }
      },
      "text/html": [
       "<div>                            <div id=\"75df8d8e-b582-4283-a561-a03ba19652aa\" class=\"plotly-graph-div\" style=\"height:525px; width:100%;\"></div>            <script type=\"text/javascript\">                require([\"plotly\"], function(Plotly) {                    window.PLOTLYENV=window.PLOTLYENV || {};                                    if (document.getElementById(\"75df8d8e-b582-4283-a561-a03ba19652aa\")) {                    Plotly.newPlot(                        \"75df8d8e-b582-4283-a561-a03ba19652aa\",                        [{\"name\":\"RMSd vs first\",\"type\":\"scatter\",\"x\":[1.0,2.0,3.0,4.0,5.0],\"y\":[0.0,0.4034,0.4344,0.4453,0.4787]},{\"name\":\"RMSd vs exp\",\"type\":\"scatter\",\"x\":[1.0,2.0,3.0,4.0,5.0],\"y\":[0.5057,0.5533,0.5569,0.6192,0.6181]}],                        {\"template\":{\"data\":{\"bar\":[{\"error_x\":{\"color\":\"#2a3f5f\"},\"error_y\":{\"color\":\"#2a3f5f\"},\"marker\":{\"line\":{\"color\":\"#E5ECF6\",\"width\":0.5},\"pattern\":{\"fillmode\":\"overlay\",\"size\":10,\"solidity\":0.2}},\"type\":\"bar\"}],\"barpolar\":[{\"marker\":{\"line\":{\"color\":\"#E5ECF6\",\"width\":0.5},\"pattern\":{\"fillmode\":\"overlay\",\"size\":10,\"solidity\":0.2}},\"type\":\"barpolar\"}],\"carpet\":[{\"aaxis\":{\"endlinecolor\":\"#2a3f5f\",\"gridcolor\":\"white\",\"linecolor\":\"white\",\"minorgridcolor\":\"white\",\"startlinecolor\":\"#2a3f5f\"},\"baxis\":{\"endlinecolor\":\"#2a3f5f\",\"gridcolor\":\"white\",\"linecolor\":\"white\",\"minorgridcolor\":\"white\",\"startlinecolor\":\"#2a3f5f\"},\"type\":\"carpet\"}],\"choropleth\":[{\"colorbar\":{\"outlinewidth\":0,\"ticks\":\"\"},\"type\":\"choropleth\"}],\"contour\":[{\"colorbar\":{\"outlinewidth\":0,\"ticks\":\"\"},\"colorscale\":[[0.0,\"#0d0887\"],[0.1111111111111111,\"#46039f\"],[0.2222222222222222,\"#7201a8\"],[0.3333333333333333,\"#9c179e\"],[0.4444444444444444,\"#bd3786\"],[0.5555555555555556,\"#d8576b\"],[0.6666666666666666,\"#ed7953\"],[0.7777777777777778,\"#fb9f3a\"],[0.8888888888888888,\"#fdca26\"],[1.0,\"#f0f921\"]],\"type\":\"contour\"}],\"contourcarpet\":[{\"colorbar\":{\"outlinewidth\":0,\"ticks\":\"\"},\"type\":\"contourcarpet\"}],\"heatmap\":[{\"colorbar\":{\"outlinewidth\":0,\"ticks\":\"\"},\"colorscale\":[[0.0,\"#0d0887\"],[0.1111111111111111,\"#46039f\"],[0.2222222222222222,\"#7201a8\"],[0.3333333333333333,\"#9c179e\"],[0.4444444444444444,\"#bd3786\"],[0.5555555555555556,\"#d8576b\"],[0.6666666666666666,\"#ed7953\"],[0.7777777777777778,\"#fb9f3a\"],[0.8888888888888888,\"#fdca26\"],[1.0,\"#f0f921\"]],\"type\":\"heatmap\"}],\"heatmapgl\":[{\"colorbar\":{\"outlinewidth\":0,\"ticks\":\"\"},\"colorscale\":[[0.0,\"#0d0887\"],[0.1111111111111111,\"#46039f\"],[0.2222222222222222,\"#7201a8\"],[0.3333333333333333,\"#9c179e\"],[0.4444444444444444,\"#bd3786\"],[0.5555555555555556,\"#d8576b\"],[0.6666666666666666,\"#ed7953\"],[0.7777777777777778,\"#fb9f3a\"],[0.8888888888888888,\"#fdca26\"],[1.0,\"#f0f921\"]],\"type\":\"heatmapgl\"}],\"histogram\":[{\"marker\":{\"pattern\":{\"fillmode\":\"overlay\",\"size\":10,\"solidity\":0.2}},\"type\":\"histogram\"}],\"histogram2d\":[{\"colorbar\":{\"outlinewidth\":0,\"ticks\":\"\"},\"colorscale\":[[0.0,\"#0d0887\"],[0.1111111111111111,\"#46039f\"],[0.2222222222222222,\"#7201a8\"],[0.3333333333333333,\"#9c179e\"],[0.4444444444444444,\"#bd3786\"],[0.5555555555555556,\"#d8576b\"],[0.6666666666666666,\"#ed7953\"],[0.7777777777777778,\"#fb9f3a\"],[0.8888888888888888,\"#fdca26\"],[1.0,\"#f0f921\"]],\"type\":\"histogram2d\"}],\"histogram2dcontour\":[{\"colorbar\":{\"outlinewidth\":0,\"ticks\":\"\"},\"colorscale\":[[0.0,\"#0d0887\"],[0.1111111111111111,\"#46039f\"],[0.2222222222222222,\"#7201a8\"],[0.3333333333333333,\"#9c179e\"],[0.4444444444444444,\"#bd3786\"],[0.5555555555555556,\"#d8576b\"],[0.6666666666666666,\"#ed7953\"],[0.7777777777777778,\"#fb9f3a\"],[0.8888888888888888,\"#fdca26\"],[1.0,\"#f0f921\"]],\"type\":\"histogram2dcontour\"}],\"mesh3d\":[{\"colorbar\":{\"outlinewidth\":0,\"ticks\":\"\"},\"type\":\"mesh3d\"}],\"parcoords\":[{\"line\":{\"colorbar\":{\"outlinewidth\":0,\"ticks\":\"\"}},\"type\":\"parcoords\"}],\"pie\":[{\"automargin\":true,\"type\":\"pie\"}],\"scatter\":[{\"marker\":{\"colorbar\":{\"outlinewidth\":0,\"ticks\":\"\"}},\"type\":\"scatter\"}],\"scatter3d\":[{\"line\":{\"colorbar\":{\"outlinewidth\":0,\"ticks\":\"\"}},\"marker\":{\"colorbar\":{\"outlinewidth\":0,\"ticks\":\"\"}},\"type\":\"scatter3d\"}],\"scattercarpet\":[{\"marker\":{\"colorbar\":{\"outlinewidth\":0,\"ticks\":\"\"}},\"type\":\"scattercarpet\"}],\"scattergeo\":[{\"marker\":{\"colorbar\":{\"outlinewidth\":0,\"ticks\":\"\"}},\"type\":\"scattergeo\"}],\"scattergl\":[{\"marker\":{\"colorbar\":{\"outlinewidth\":0,\"ticks\":\"\"}},\"type\":\"scattergl\"}],\"scattermapbox\":[{\"marker\":{\"colorbar\":{\"outlinewidth\":0,\"ticks\":\"\"}},\"type\":\"scattermapbox\"}],\"scatterpolar\":[{\"marker\":{\"colorbar\":{\"outlinewidth\":0,\"ticks\":\"\"}},\"type\":\"scatterpolar\"}],\"scatterpolargl\":[{\"marker\":{\"colorbar\":{\"outlinewidth\":0,\"ticks\":\"\"}},\"type\":\"scatterpolargl\"}],\"scatterternary\":[{\"marker\":{\"colorbar\":{\"outlinewidth\":0,\"ticks\":\"\"}},\"type\":\"scatterternary\"}],\"surface\":[{\"colorbar\":{\"outlinewidth\":0,\"ticks\":\"\"},\"colorscale\":[[0.0,\"#0d0887\"],[0.1111111111111111,\"#46039f\"],[0.2222222222222222,\"#7201a8\"],[0.3333333333333333,\"#9c179e\"],[0.4444444444444444,\"#bd3786\"],[0.5555555555555556,\"#d8576b\"],[0.6666666666666666,\"#ed7953\"],[0.7777777777777778,\"#fb9f3a\"],[0.8888888888888888,\"#fdca26\"],[1.0,\"#f0f921\"]],\"type\":\"surface\"}],\"table\":[{\"cells\":{\"fill\":{\"color\":\"#EBF0F8\"},\"line\":{\"color\":\"white\"}},\"header\":{\"fill\":{\"color\":\"#C8D4E3\"},\"line\":{\"color\":\"white\"}},\"type\":\"table\"}]},\"layout\":{\"annotationdefaults\":{\"arrowcolor\":\"#2a3f5f\",\"arrowhead\":0,\"arrowwidth\":1},\"autotypenumbers\":\"strict\",\"coloraxis\":{\"colorbar\":{\"outlinewidth\":0,\"ticks\":\"\"}},\"colorscale\":{\"diverging\":[[0,\"#8e0152\"],[0.1,\"#c51b7d\"],[0.2,\"#de77ae\"],[0.3,\"#f1b6da\"],[0.4,\"#fde0ef\"],[0.5,\"#f7f7f7\"],[0.6,\"#e6f5d0\"],[0.7,\"#b8e186\"],[0.8,\"#7fbc41\"],[0.9,\"#4d9221\"],[1,\"#276419\"]],\"sequential\":[[0.0,\"#0d0887\"],[0.1111111111111111,\"#46039f\"],[0.2222222222222222,\"#7201a8\"],[0.3333333333333333,\"#9c179e\"],[0.4444444444444444,\"#bd3786\"],[0.5555555555555556,\"#d8576b\"],[0.6666666666666666,\"#ed7953\"],[0.7777777777777778,\"#fb9f3a\"],[0.8888888888888888,\"#fdca26\"],[1.0,\"#f0f921\"]],\"sequentialminus\":[[0.0,\"#0d0887\"],[0.1111111111111111,\"#46039f\"],[0.2222222222222222,\"#7201a8\"],[0.3333333333333333,\"#9c179e\"],[0.4444444444444444,\"#bd3786\"],[0.5555555555555556,\"#d8576b\"],[0.6666666666666666,\"#ed7953\"],[0.7777777777777778,\"#fb9f3a\"],[0.8888888888888888,\"#fdca26\"],[1.0,\"#f0f921\"]]},\"colorway\":[\"#636efa\",\"#EF553B\",\"#00cc96\",\"#ab63fa\",\"#FFA15A\",\"#19d3f3\",\"#FF6692\",\"#B6E880\",\"#FF97FF\",\"#FECB52\"],\"font\":{\"color\":\"#2a3f5f\"},\"geo\":{\"bgcolor\":\"white\",\"lakecolor\":\"white\",\"landcolor\":\"#E5ECF6\",\"showlakes\":true,\"showland\":true,\"subunitcolor\":\"white\"},\"hoverlabel\":{\"align\":\"left\"},\"hovermode\":\"closest\",\"mapbox\":{\"style\":\"light\"},\"paper_bgcolor\":\"white\",\"plot_bgcolor\":\"#E5ECF6\",\"polar\":{\"angularaxis\":{\"gridcolor\":\"white\",\"linecolor\":\"white\",\"ticks\":\"\"},\"bgcolor\":\"#E5ECF6\",\"radialaxis\":{\"gridcolor\":\"white\",\"linecolor\":\"white\",\"ticks\":\"\"}},\"scene\":{\"xaxis\":{\"backgroundcolor\":\"#E5ECF6\",\"gridcolor\":\"white\",\"gridwidth\":2,\"linecolor\":\"white\",\"showbackground\":true,\"ticks\":\"\",\"zerolinecolor\":\"white\"},\"yaxis\":{\"backgroundcolor\":\"#E5ECF6\",\"gridcolor\":\"white\",\"gridwidth\":2,\"linecolor\":\"white\",\"showbackground\":true,\"ticks\":\"\",\"zerolinecolor\":\"white\"},\"zaxis\":{\"backgroundcolor\":\"#E5ECF6\",\"gridcolor\":\"white\",\"gridwidth\":2,\"linecolor\":\"white\",\"showbackground\":true,\"ticks\":\"\",\"zerolinecolor\":\"white\"}},\"shapedefaults\":{\"line\":{\"color\":\"#2a3f5f\"}},\"ternary\":{\"aaxis\":{\"gridcolor\":\"white\",\"linecolor\":\"white\",\"ticks\":\"\"},\"baxis\":{\"gridcolor\":\"white\",\"linecolor\":\"white\",\"ticks\":\"\"},\"bgcolor\":\"#E5ECF6\",\"caxis\":{\"gridcolor\":\"white\",\"linecolor\":\"white\",\"ticks\":\"\"}},\"title\":{\"x\":0.05},\"xaxis\":{\"automargin\":true,\"gridcolor\":\"white\",\"linecolor\":\"white\",\"ticks\":\"\",\"title\":{\"standoff\":15},\"zerolinecolor\":\"white\",\"zerolinewidth\":2},\"yaxis\":{\"automargin\":true,\"gridcolor\":\"white\",\"linecolor\":\"white\",\"ticks\":\"\",\"title\":{\"standoff\":15},\"zerolinecolor\":\"white\",\"zerolinewidth\":2}}},\"title\":{\"text\":\"RMSd during free MD Simulation\"},\"xaxis\":{\"title\":{\"text\":\"Time (ps)\"}},\"yaxis\":{\"title\":{\"text\":\"RMSd (Angstrom)\"}}},                        {\"responsive\": true}                    ).then(function(){\n",
       "                            \n",
       "var gd = document.getElementById('75df8d8e-b582-4283-a561-a03ba19652aa');\n",
       "var x = new MutationObserver(function (mutations, observer) {{\n",
       "        var display = window.getComputedStyle(gd).display;\n",
       "        if (!display || display === 'none') {{\n",
       "            console.log([gd, 'removed!']);\n",
       "            Plotly.purge(gd);\n",
       "            observer.disconnect();\n",
       "        }}\n",
       "}});\n",
       "\n",
       "// Listen for the removal of the full notebook cells\n",
       "var notebookContainer = gd.closest('#notebook-container');\n",
       "if (notebookContainer) {{\n",
       "    x.observe(notebookContainer, {childList: true});\n",
       "}}\n",
       "\n",
       "// Listen for the clearing of the current output cell\n",
       "var outputEl = gd.closest('.output');\n",
       "if (outputEl) {{\n",
       "    x.observe(outputEl, {childList: true});\n",
       "}}\n",
       "\n",
       "                        })                };                });            </script>        </div>"
      ]
     },
     "metadata": {},
     "output_type": "display_data"
    }
   ],
   "source": [
    "# Read RMS vs first snapshot data from file \n",
    "with open(output_rms_first,'r') as rms_first_file:\n",
    "    x,y = map(\n",
    "        list,\n",
    "        zip(*[\n",
    "            (float(line.split()[0]),float(line.split()[1]))\n",
    "            for line in rms_first_file \n",
    "            if not line.startswith((\"#\",\"@\")) \n",
    "        ])\n",
    "    )\n",
    "\n",
    "# Read RMS vs experimental structure data from file \n",
    "with open(output_rms_exp,'r') as rms_exp_file:\n",
    "    x2,y2 = map(\n",
    "        list,\n",
    "        zip(*[\n",
    "            (float(line.split()[0]),float(line.split()[1]))\n",
    "            for line in rms_exp_file\n",
    "            if not line.startswith((\"#\",\"@\")) \n",
    "        ])\n",
    "    )\n",
    "    \n",
    "trace1 = go.Scatter(\n",
    "    x = x,\n",
    "    y = y,\n",
    "    name = 'RMSd vs first'\n",
    ")\n",
    "\n",
    "trace2 = go.Scatter(\n",
    "    x = x,\n",
    "    y = y2,\n",
    "    name = 'RMSd vs exp'\n",
    ")\n",
    "\n",
    "data = [trace1, trace2]\n",
    "\n",
    "plotly.offline.init_notebook_mode(connected=True)\n",
    "\n",
    "fig = {\n",
    "    \"data\": data,\n",
    "    \"layout\": go.Layout(title=\"RMSd during free MD Simulation\",\n",
    "                        xaxis=dict(title = \"Time (ps)\"),\n",
    "                        yaxis=dict(title = \"RMSd (Angstrom)\")\n",
    "                       )\n",
    "}\n",
    "\n",
    "plotly.offline.iplot(fig)\n"
   ]
  },
  {
   "cell_type": "code",
   "execution_count": 41,
   "metadata": {
    "scrolled": true
   },
   "outputs": [
    {
     "name": "stderr",
     "output_type": "stream",
     "text": [
      "2021-06-22 15:28:10,897 [MainThread  ] [INFO ]  Not using any container\n",
      "2021-06-22 15:28:11,134 [MainThread  ] [INFO ]  cpptraj -i 847a9d4f-58d6-4fee-a14b-5fab71fff8e8/instructions.in\n",
      "\n",
      "2021-06-22 15:28:11,136 [MainThread  ] [INFO ]  Exit code 0\n",
      "\n",
      "2021-06-22 15:28:11,137 [MainThread  ] [INFO ]  \n",
      "CPPTRAJ: Trajectory Analysis. V4.25.6\n",
      "    ___  ___  ___  ___\n",
      "     | \\/ | \\/ | \\/ | \n",
      "    _|_/\\_|_/\\_|_/\\_|_\n",
      "\n",
      "| Date/time: 06/22/21 15:28:10\n",
      "| Available memory: 965.882 MB\n",
      "\n",
      "INPUT: Reading input from '847a9d4f-58d6-4fee-a14b-5fab71fff8e8/instructions.in'\n",
      "  [parm structure.ions.parmtop]\n",
      "\tReading 'structure.ions.parmtop' as Amber Topology\n",
      "\tRadius Set: modified Bondi radii (mbondi)\n",
      "  [trajin sander.free.netcdf 1 -1 1]\n",
      "\tReading 'sander.free.netcdf' as Amber NetCDF\n",
      "  [center !@H*,1H*,2H*,3H* origin]\n",
      "    CENTER: Centering coordinates using geometric center of atoms in mask (!@H*,1H*,2H*,3H*) to\n",
      "\tcoordinate origin.\n",
      "  [autoimage]\n",
      "    AUTOIMAGE: To box center based on center of mass, anchor is first molecule.\n",
      "  [rms first !@H*,1H*,2H*,3H*]\n",
      "    RMSD: (!@H*,1H*,2H*,3H*), reference is first frame (!@H*,1H*,2H*,3H*).\n",
      "\tBest-fit RMSD will be calculated, coords will be rotated and translated.\n",
      "  [strip :WAT,HOH,SOL,TIP3,TP3,SOD,CLA,Na+,Cl-,NA,CL,K+,K]\n",
      "    STRIP: Stripping atoms in mask [:WAT,HOH,SOL,TIP3,TP3,SOD,CLA,Na+,Cl-,NA,CL,K+,K]\n",
      "  [strip !@C,CA,N,O,C3',O3',C4',C5',O5',P]\n",
      "    STRIP: Stripping atoms in mask [!@C,CA,N,O,C3',O3',C4',C5',O5',P]\n",
      "  [radgyr time 1 out 3htb_rgyr.dat]\n",
      "    RADGYR: Calculating for atoms in mask *.\n",
      "---------- RUN BEGIN -------------------------------------------------\n",
      "\n",
      "PARAMETER FILES (1 total):\n",
      " 0: structure.ions.parmtop, 24957 atoms, 7635 res, box: Trunc. Oct., 7473 mol, 7425 solvent\n",
      "\n",
      "INPUT TRAJECTORIES (1 total):\n",
      " 0: 'sander.free.netcdf' is a NetCDF AMBER trajectory with coordinates, time, box, Parm structure.ions.parmtop (Trunc. Oct. box) (reading 5 of 5)\n",
      "  Coordinate processing will occur on 5 frames.\n",
      "\n",
      "BEGIN TRAJECTORY PROCESSING:\n",
      ".....................................................\n",
      "ACTION SETUP FOR PARM 'structure.ions.parmtop' (6 actions):\n",
      "  0: [center !@H*,1H*,2H*,3H* origin]\n",
      "\tMask [!@H*,1H*,2H*,3H*] corresponds to 8782 atoms.\n",
      "  1: [autoimage]\n",
      "\tOriginal box is truncated octahedron, turning on 'familiar'.\n",
      "\tUsing first molecule as anchor.\n",
      "\t1 molecules are fixed to anchor: 2\n",
      "\t7471 molecules are mobile.\n",
      "  2: [rms first !@H*,1H*,2H*,3H*]\n",
      "\tTarget mask: [!@H*,1H*,2H*,3H*](8782)\n",
      "\tReference mask: [!@H*,1H*,2H*,3H*](8782)\n",
      "Warning: Coordinates are being rotated and box coordinates are present.\n",
      "Warning: Unit cell vectors are NOT rotated; imaging will not be possible\n",
      "Warning:  after the RMS-fit is performed.\n",
      "  3: [strip :WAT,HOH,SOL,TIP3,TP3,SOD,CLA,Na+,Cl-,NA,CL,K+,K]\n",
      "\tStripping 22321 atoms.\n",
      "\tStripped topology: 2636 atoms, 164 res, box: Trunc. Oct., 2 mol\n",
      "  4: [strip !@C,CA,N,O,C3',O3',C4',C5',O5',P]\n",
      "\tStripping 1984 atoms.\n",
      "\tStripped topology: 652 atoms, 163 res, box: Trunc. Oct., 1 mol\n",
      "  5: [radgyr time 1 out 3htb_rgyr.dat]\n",
      "\t* (652 atoms).\n",
      "----- sander.free.netcdf (1-5, 1) -----\n",
      " 0% 25% 50% 75% 100% Complete.\n",
      "\n",
      "Read 5 frames and processed 5 frames.\n",
      "TIME: Avg. throughput= 133.5827 frames / second.\n",
      "\n",
      "ACTION OUTPUT:\n",
      "TIME: Analyses took 0.0000 seconds.\n",
      "\n",
      "DATASETS (3 total):\n",
      "\tRMSD_00001 \"RMSD_00001\" (double, rms), size is 5 (0.040 kB)\n",
      "\tRoG_00002 \"RoG_00002\" (double), size is 5 (0.040 kB)\n",
      "\tRoG_00002[Max] \"RoG_00002[Max]\" (double), size is 5 (0.040 kB)\n",
      "    Total data set memory usage is at least 0.120 kB\n",
      "\n",
      "DATAFILES (1 total):\n",
      "  3htb_rgyr.dat (Standard Data File):  RoG_00002 RoG_00002[Max]\n",
      "\n",
      "RUN TIMING:\n",
      "TIME:\t\tInit               : 0.0000 s (  0.03%)\n",
      "TIME:\t\tTrajectory Process : 0.0374 s ( 98.21%)\n",
      "TIME:\t\tAction Post        : 0.0000 s (  0.01%)\n",
      "TIME:\t\tAnalysis           : 0.0000 s (  0.00%)\n",
      "TIME:\t\tData File Write    : 0.0002 s (  0.42%)\n",
      "TIME:\t\tOther              : 0.0005 s (  0.01%)\n",
      "TIME:\tRun Total 0.0381 s\n",
      "---------- RUN END ---------------------------------------------------\n",
      "TIME: Total execution time: 0.1891 seconds.\n",
      "--------------------------------------------------------------------------------\n",
      "To cite CPPTRAJ use:\n",
      "Daniel R. Roe and Thomas E. Cheatham, III, \"PTRAJ and CPPTRAJ: Software for\n",
      "  Processing and Analysis of Molecular Dynamics Trajectory Data\". J. Chem.\n",
      "  Theory Comput., 2013, 9 (7), pp 3084-3095.\n",
      "\n",
      "\n",
      "2021-06-22 15:28:11,140 [MainThread  ] [INFO ]  Removed: [PurePosixPath('847a9d4f-58d6-4fee-a14b-5fab71fff8e8')]\n"
     ]
    },
    {
     "data": {
      "text/plain": [
       "0"
      ]
     },
     "execution_count": 41,
     "metadata": {},
     "output_type": "execute_result"
    }
   ],
   "source": [
    "# cpptraj_rgyr: Computing Radius of Gyration to measure the protein compactness during the free MD simulation \n",
    "\n",
    "# Import module\n",
    "from biobb_analysis.ambertools.cpptraj_rgyr import cpptraj_rgyr\n",
    "\n",
    "# Create prop dict and inputs/outputs\n",
    "output_rgyr = pdbCode+'_rgyr.dat'\n",
    "\n",
    "prop = {\n",
    "    'mask': 'backbone'\n",
    "}\n",
    "\n",
    "# Create and launch bb\n",
    "cpptraj_rgyr(input_top_path=output_ions_top_path,\n",
    "            input_traj_path=output_free_traj_path,\n",
    "            output_cpptraj_path=output_rgyr,\n",
    "            properties=prop)\n"
   ]
  },
  {
   "cell_type": "code",
   "execution_count": 42,
   "metadata": {},
   "outputs": [
    {
     "data": {
      "text/html": [
       "        <script type=\"text/javascript\">\n",
       "        window.PlotlyConfig = {MathJaxConfig: 'local'};\n",
       "        if (window.MathJax) {MathJax.Hub.Config({SVG: {font: \"STIX-Web\"}});}\n",
       "        if (typeof require !== 'undefined') {\n",
       "        require.undef(\"plotly\");\n",
       "        requirejs.config({\n",
       "            paths: {\n",
       "                'plotly': ['https://cdn.plot.ly/plotly-2.1.0.min']\n",
       "            }\n",
       "        });\n",
       "        require(['plotly'], function(Plotly) {\n",
       "            window._Plotly = Plotly;\n",
       "        });\n",
       "        }\n",
       "        </script>\n",
       "        "
      ]
     },
     "metadata": {},
     "output_type": "display_data"
    },
    {
     "data": {
      "application/vnd.plotly.v1+json": {
       "config": {
        "linkText": "Export to plot.ly",
        "plotlyServerURL": "https://plot.ly",
        "showLink": false
       },
       "data": [
        {
         "type": "scatter",
         "x": [
          1,
          2,
          3,
          4,
          5
         ],
         "y": [
          16.1703,
          16.0843,
          16.1329,
          16.186,
          16.2166
         ]
        }
       ],
       "layout": {
        "template": {
         "data": {
          "bar": [
           {
            "error_x": {
             "color": "#2a3f5f"
            },
            "error_y": {
             "color": "#2a3f5f"
            },
            "marker": {
             "line": {
              "color": "#E5ECF6",
              "width": 0.5
             },
             "pattern": {
              "fillmode": "overlay",
              "size": 10,
              "solidity": 0.2
             }
            },
            "type": "bar"
           }
          ],
          "barpolar": [
           {
            "marker": {
             "line": {
              "color": "#E5ECF6",
              "width": 0.5
             },
             "pattern": {
              "fillmode": "overlay",
              "size": 10,
              "solidity": 0.2
             }
            },
            "type": "barpolar"
           }
          ],
          "carpet": [
           {
            "aaxis": {
             "endlinecolor": "#2a3f5f",
             "gridcolor": "white",
             "linecolor": "white",
             "minorgridcolor": "white",
             "startlinecolor": "#2a3f5f"
            },
            "baxis": {
             "endlinecolor": "#2a3f5f",
             "gridcolor": "white",
             "linecolor": "white",
             "minorgridcolor": "white",
             "startlinecolor": "#2a3f5f"
            },
            "type": "carpet"
           }
          ],
          "choropleth": [
           {
            "colorbar": {
             "outlinewidth": 0,
             "ticks": ""
            },
            "type": "choropleth"
           }
          ],
          "contour": [
           {
            "colorbar": {
             "outlinewidth": 0,
             "ticks": ""
            },
            "colorscale": [
             [
              0,
              "#0d0887"
             ],
             [
              0.1111111111111111,
              "#46039f"
             ],
             [
              0.2222222222222222,
              "#7201a8"
             ],
             [
              0.3333333333333333,
              "#9c179e"
             ],
             [
              0.4444444444444444,
              "#bd3786"
             ],
             [
              0.5555555555555556,
              "#d8576b"
             ],
             [
              0.6666666666666666,
              "#ed7953"
             ],
             [
              0.7777777777777778,
              "#fb9f3a"
             ],
             [
              0.8888888888888888,
              "#fdca26"
             ],
             [
              1,
              "#f0f921"
             ]
            ],
            "type": "contour"
           }
          ],
          "contourcarpet": [
           {
            "colorbar": {
             "outlinewidth": 0,
             "ticks": ""
            },
            "type": "contourcarpet"
           }
          ],
          "heatmap": [
           {
            "colorbar": {
             "outlinewidth": 0,
             "ticks": ""
            },
            "colorscale": [
             [
              0,
              "#0d0887"
             ],
             [
              0.1111111111111111,
              "#46039f"
             ],
             [
              0.2222222222222222,
              "#7201a8"
             ],
             [
              0.3333333333333333,
              "#9c179e"
             ],
             [
              0.4444444444444444,
              "#bd3786"
             ],
             [
              0.5555555555555556,
              "#d8576b"
             ],
             [
              0.6666666666666666,
              "#ed7953"
             ],
             [
              0.7777777777777778,
              "#fb9f3a"
             ],
             [
              0.8888888888888888,
              "#fdca26"
             ],
             [
              1,
              "#f0f921"
             ]
            ],
            "type": "heatmap"
           }
          ],
          "heatmapgl": [
           {
            "colorbar": {
             "outlinewidth": 0,
             "ticks": ""
            },
            "colorscale": [
             [
              0,
              "#0d0887"
             ],
             [
              0.1111111111111111,
              "#46039f"
             ],
             [
              0.2222222222222222,
              "#7201a8"
             ],
             [
              0.3333333333333333,
              "#9c179e"
             ],
             [
              0.4444444444444444,
              "#bd3786"
             ],
             [
              0.5555555555555556,
              "#d8576b"
             ],
             [
              0.6666666666666666,
              "#ed7953"
             ],
             [
              0.7777777777777778,
              "#fb9f3a"
             ],
             [
              0.8888888888888888,
              "#fdca26"
             ],
             [
              1,
              "#f0f921"
             ]
            ],
            "type": "heatmapgl"
           }
          ],
          "histogram": [
           {
            "marker": {
             "pattern": {
              "fillmode": "overlay",
              "size": 10,
              "solidity": 0.2
             }
            },
            "type": "histogram"
           }
          ],
          "histogram2d": [
           {
            "colorbar": {
             "outlinewidth": 0,
             "ticks": ""
            },
            "colorscale": [
             [
              0,
              "#0d0887"
             ],
             [
              0.1111111111111111,
              "#46039f"
             ],
             [
              0.2222222222222222,
              "#7201a8"
             ],
             [
              0.3333333333333333,
              "#9c179e"
             ],
             [
              0.4444444444444444,
              "#bd3786"
             ],
             [
              0.5555555555555556,
              "#d8576b"
             ],
             [
              0.6666666666666666,
              "#ed7953"
             ],
             [
              0.7777777777777778,
              "#fb9f3a"
             ],
             [
              0.8888888888888888,
              "#fdca26"
             ],
             [
              1,
              "#f0f921"
             ]
            ],
            "type": "histogram2d"
           }
          ],
          "histogram2dcontour": [
           {
            "colorbar": {
             "outlinewidth": 0,
             "ticks": ""
            },
            "colorscale": [
             [
              0,
              "#0d0887"
             ],
             [
              0.1111111111111111,
              "#46039f"
             ],
             [
              0.2222222222222222,
              "#7201a8"
             ],
             [
              0.3333333333333333,
              "#9c179e"
             ],
             [
              0.4444444444444444,
              "#bd3786"
             ],
             [
              0.5555555555555556,
              "#d8576b"
             ],
             [
              0.6666666666666666,
              "#ed7953"
             ],
             [
              0.7777777777777778,
              "#fb9f3a"
             ],
             [
              0.8888888888888888,
              "#fdca26"
             ],
             [
              1,
              "#f0f921"
             ]
            ],
            "type": "histogram2dcontour"
           }
          ],
          "mesh3d": [
           {
            "colorbar": {
             "outlinewidth": 0,
             "ticks": ""
            },
            "type": "mesh3d"
           }
          ],
          "parcoords": [
           {
            "line": {
             "colorbar": {
              "outlinewidth": 0,
              "ticks": ""
             }
            },
            "type": "parcoords"
           }
          ],
          "pie": [
           {
            "automargin": true,
            "type": "pie"
           }
          ],
          "scatter": [
           {
            "marker": {
             "colorbar": {
              "outlinewidth": 0,
              "ticks": ""
             }
            },
            "type": "scatter"
           }
          ],
          "scatter3d": [
           {
            "line": {
             "colorbar": {
              "outlinewidth": 0,
              "ticks": ""
             }
            },
            "marker": {
             "colorbar": {
              "outlinewidth": 0,
              "ticks": ""
             }
            },
            "type": "scatter3d"
           }
          ],
          "scattercarpet": [
           {
            "marker": {
             "colorbar": {
              "outlinewidth": 0,
              "ticks": ""
             }
            },
            "type": "scattercarpet"
           }
          ],
          "scattergeo": [
           {
            "marker": {
             "colorbar": {
              "outlinewidth": 0,
              "ticks": ""
             }
            },
            "type": "scattergeo"
           }
          ],
          "scattergl": [
           {
            "marker": {
             "colorbar": {
              "outlinewidth": 0,
              "ticks": ""
             }
            },
            "type": "scattergl"
           }
          ],
          "scattermapbox": [
           {
            "marker": {
             "colorbar": {
              "outlinewidth": 0,
              "ticks": ""
             }
            },
            "type": "scattermapbox"
           }
          ],
          "scatterpolar": [
           {
            "marker": {
             "colorbar": {
              "outlinewidth": 0,
              "ticks": ""
             }
            },
            "type": "scatterpolar"
           }
          ],
          "scatterpolargl": [
           {
            "marker": {
             "colorbar": {
              "outlinewidth": 0,
              "ticks": ""
             }
            },
            "type": "scatterpolargl"
           }
          ],
          "scatterternary": [
           {
            "marker": {
             "colorbar": {
              "outlinewidth": 0,
              "ticks": ""
             }
            },
            "type": "scatterternary"
           }
          ],
          "surface": [
           {
            "colorbar": {
             "outlinewidth": 0,
             "ticks": ""
            },
            "colorscale": [
             [
              0,
              "#0d0887"
             ],
             [
              0.1111111111111111,
              "#46039f"
             ],
             [
              0.2222222222222222,
              "#7201a8"
             ],
             [
              0.3333333333333333,
              "#9c179e"
             ],
             [
              0.4444444444444444,
              "#bd3786"
             ],
             [
              0.5555555555555556,
              "#d8576b"
             ],
             [
              0.6666666666666666,
              "#ed7953"
             ],
             [
              0.7777777777777778,
              "#fb9f3a"
             ],
             [
              0.8888888888888888,
              "#fdca26"
             ],
             [
              1,
              "#f0f921"
             ]
            ],
            "type": "surface"
           }
          ],
          "table": [
           {
            "cells": {
             "fill": {
              "color": "#EBF0F8"
             },
             "line": {
              "color": "white"
             }
            },
            "header": {
             "fill": {
              "color": "#C8D4E3"
             },
             "line": {
              "color": "white"
             }
            },
            "type": "table"
           }
          ]
         },
         "layout": {
          "annotationdefaults": {
           "arrowcolor": "#2a3f5f",
           "arrowhead": 0,
           "arrowwidth": 1
          },
          "autotypenumbers": "strict",
          "coloraxis": {
           "colorbar": {
            "outlinewidth": 0,
            "ticks": ""
           }
          },
          "colorscale": {
           "diverging": [
            [
             0,
             "#8e0152"
            ],
            [
             0.1,
             "#c51b7d"
            ],
            [
             0.2,
             "#de77ae"
            ],
            [
             0.3,
             "#f1b6da"
            ],
            [
             0.4,
             "#fde0ef"
            ],
            [
             0.5,
             "#f7f7f7"
            ],
            [
             0.6,
             "#e6f5d0"
            ],
            [
             0.7,
             "#b8e186"
            ],
            [
             0.8,
             "#7fbc41"
            ],
            [
             0.9,
             "#4d9221"
            ],
            [
             1,
             "#276419"
            ]
           ],
           "sequential": [
            [
             0,
             "#0d0887"
            ],
            [
             0.1111111111111111,
             "#46039f"
            ],
            [
             0.2222222222222222,
             "#7201a8"
            ],
            [
             0.3333333333333333,
             "#9c179e"
            ],
            [
             0.4444444444444444,
             "#bd3786"
            ],
            [
             0.5555555555555556,
             "#d8576b"
            ],
            [
             0.6666666666666666,
             "#ed7953"
            ],
            [
             0.7777777777777778,
             "#fb9f3a"
            ],
            [
             0.8888888888888888,
             "#fdca26"
            ],
            [
             1,
             "#f0f921"
            ]
           ],
           "sequentialminus": [
            [
             0,
             "#0d0887"
            ],
            [
             0.1111111111111111,
             "#46039f"
            ],
            [
             0.2222222222222222,
             "#7201a8"
            ],
            [
             0.3333333333333333,
             "#9c179e"
            ],
            [
             0.4444444444444444,
             "#bd3786"
            ],
            [
             0.5555555555555556,
             "#d8576b"
            ],
            [
             0.6666666666666666,
             "#ed7953"
            ],
            [
             0.7777777777777778,
             "#fb9f3a"
            ],
            [
             0.8888888888888888,
             "#fdca26"
            ],
            [
             1,
             "#f0f921"
            ]
           ]
          },
          "colorway": [
           "#636efa",
           "#EF553B",
           "#00cc96",
           "#ab63fa",
           "#FFA15A",
           "#19d3f3",
           "#FF6692",
           "#B6E880",
           "#FF97FF",
           "#FECB52"
          ],
          "font": {
           "color": "#2a3f5f"
          },
          "geo": {
           "bgcolor": "white",
           "lakecolor": "white",
           "landcolor": "#E5ECF6",
           "showlakes": true,
           "showland": true,
           "subunitcolor": "white"
          },
          "hoverlabel": {
           "align": "left"
          },
          "hovermode": "closest",
          "mapbox": {
           "style": "light"
          },
          "paper_bgcolor": "white",
          "plot_bgcolor": "#E5ECF6",
          "polar": {
           "angularaxis": {
            "gridcolor": "white",
            "linecolor": "white",
            "ticks": ""
           },
           "bgcolor": "#E5ECF6",
           "radialaxis": {
            "gridcolor": "white",
            "linecolor": "white",
            "ticks": ""
           }
          },
          "scene": {
           "xaxis": {
            "backgroundcolor": "#E5ECF6",
            "gridcolor": "white",
            "gridwidth": 2,
            "linecolor": "white",
            "showbackground": true,
            "ticks": "",
            "zerolinecolor": "white"
           },
           "yaxis": {
            "backgroundcolor": "#E5ECF6",
            "gridcolor": "white",
            "gridwidth": 2,
            "linecolor": "white",
            "showbackground": true,
            "ticks": "",
            "zerolinecolor": "white"
           },
           "zaxis": {
            "backgroundcolor": "#E5ECF6",
            "gridcolor": "white",
            "gridwidth": 2,
            "linecolor": "white",
            "showbackground": true,
            "ticks": "",
            "zerolinecolor": "white"
           }
          },
          "shapedefaults": {
           "line": {
            "color": "#2a3f5f"
           }
          },
          "ternary": {
           "aaxis": {
            "gridcolor": "white",
            "linecolor": "white",
            "ticks": ""
           },
           "baxis": {
            "gridcolor": "white",
            "linecolor": "white",
            "ticks": ""
           },
           "bgcolor": "#E5ECF6",
           "caxis": {
            "gridcolor": "white",
            "linecolor": "white",
            "ticks": ""
           }
          },
          "title": {
           "x": 0.05
          },
          "xaxis": {
           "automargin": true,
           "gridcolor": "white",
           "linecolor": "white",
           "ticks": "",
           "title": {
            "standoff": 15
           },
           "zerolinecolor": "white",
           "zerolinewidth": 2
          },
          "yaxis": {
           "automargin": true,
           "gridcolor": "white",
           "linecolor": "white",
           "ticks": "",
           "title": {
            "standoff": 15
           },
           "zerolinecolor": "white",
           "zerolinewidth": 2
          }
         }
        },
        "title": {
         "text": "Radius of Gyration"
        },
        "xaxis": {
         "title": {
          "text": "Time (ps)"
         }
        },
        "yaxis": {
         "title": {
          "text": "Rgyr (Angstrom)"
         }
        }
       }
      },
      "text/html": [
       "<div>                            <div id=\"d8d6ad80-cac3-468a-992c-d12bf7e56628\" class=\"plotly-graph-div\" style=\"height:525px; width:100%;\"></div>            <script type=\"text/javascript\">                require([\"plotly\"], function(Plotly) {                    window.PLOTLYENV=window.PLOTLYENV || {};                                    if (document.getElementById(\"d8d6ad80-cac3-468a-992c-d12bf7e56628\")) {                    Plotly.newPlot(                        \"d8d6ad80-cac3-468a-992c-d12bf7e56628\",                        [{\"type\":\"scatter\",\"x\":[1.0,2.0,3.0,4.0,5.0],\"y\":[16.1703,16.0843,16.1329,16.186,16.2166]}],                        {\"template\":{\"data\":{\"bar\":[{\"error_x\":{\"color\":\"#2a3f5f\"},\"error_y\":{\"color\":\"#2a3f5f\"},\"marker\":{\"line\":{\"color\":\"#E5ECF6\",\"width\":0.5},\"pattern\":{\"fillmode\":\"overlay\",\"size\":10,\"solidity\":0.2}},\"type\":\"bar\"}],\"barpolar\":[{\"marker\":{\"line\":{\"color\":\"#E5ECF6\",\"width\":0.5},\"pattern\":{\"fillmode\":\"overlay\",\"size\":10,\"solidity\":0.2}},\"type\":\"barpolar\"}],\"carpet\":[{\"aaxis\":{\"endlinecolor\":\"#2a3f5f\",\"gridcolor\":\"white\",\"linecolor\":\"white\",\"minorgridcolor\":\"white\",\"startlinecolor\":\"#2a3f5f\"},\"baxis\":{\"endlinecolor\":\"#2a3f5f\",\"gridcolor\":\"white\",\"linecolor\":\"white\",\"minorgridcolor\":\"white\",\"startlinecolor\":\"#2a3f5f\"},\"type\":\"carpet\"}],\"choropleth\":[{\"colorbar\":{\"outlinewidth\":0,\"ticks\":\"\"},\"type\":\"choropleth\"}],\"contour\":[{\"colorbar\":{\"outlinewidth\":0,\"ticks\":\"\"},\"colorscale\":[[0.0,\"#0d0887\"],[0.1111111111111111,\"#46039f\"],[0.2222222222222222,\"#7201a8\"],[0.3333333333333333,\"#9c179e\"],[0.4444444444444444,\"#bd3786\"],[0.5555555555555556,\"#d8576b\"],[0.6666666666666666,\"#ed7953\"],[0.7777777777777778,\"#fb9f3a\"],[0.8888888888888888,\"#fdca26\"],[1.0,\"#f0f921\"]],\"type\":\"contour\"}],\"contourcarpet\":[{\"colorbar\":{\"outlinewidth\":0,\"ticks\":\"\"},\"type\":\"contourcarpet\"}],\"heatmap\":[{\"colorbar\":{\"outlinewidth\":0,\"ticks\":\"\"},\"colorscale\":[[0.0,\"#0d0887\"],[0.1111111111111111,\"#46039f\"],[0.2222222222222222,\"#7201a8\"],[0.3333333333333333,\"#9c179e\"],[0.4444444444444444,\"#bd3786\"],[0.5555555555555556,\"#d8576b\"],[0.6666666666666666,\"#ed7953\"],[0.7777777777777778,\"#fb9f3a\"],[0.8888888888888888,\"#fdca26\"],[1.0,\"#f0f921\"]],\"type\":\"heatmap\"}],\"heatmapgl\":[{\"colorbar\":{\"outlinewidth\":0,\"ticks\":\"\"},\"colorscale\":[[0.0,\"#0d0887\"],[0.1111111111111111,\"#46039f\"],[0.2222222222222222,\"#7201a8\"],[0.3333333333333333,\"#9c179e\"],[0.4444444444444444,\"#bd3786\"],[0.5555555555555556,\"#d8576b\"],[0.6666666666666666,\"#ed7953\"],[0.7777777777777778,\"#fb9f3a\"],[0.8888888888888888,\"#fdca26\"],[1.0,\"#f0f921\"]],\"type\":\"heatmapgl\"}],\"histogram\":[{\"marker\":{\"pattern\":{\"fillmode\":\"overlay\",\"size\":10,\"solidity\":0.2}},\"type\":\"histogram\"}],\"histogram2d\":[{\"colorbar\":{\"outlinewidth\":0,\"ticks\":\"\"},\"colorscale\":[[0.0,\"#0d0887\"],[0.1111111111111111,\"#46039f\"],[0.2222222222222222,\"#7201a8\"],[0.3333333333333333,\"#9c179e\"],[0.4444444444444444,\"#bd3786\"],[0.5555555555555556,\"#d8576b\"],[0.6666666666666666,\"#ed7953\"],[0.7777777777777778,\"#fb9f3a\"],[0.8888888888888888,\"#fdca26\"],[1.0,\"#f0f921\"]],\"type\":\"histogram2d\"}],\"histogram2dcontour\":[{\"colorbar\":{\"outlinewidth\":0,\"ticks\":\"\"},\"colorscale\":[[0.0,\"#0d0887\"],[0.1111111111111111,\"#46039f\"],[0.2222222222222222,\"#7201a8\"],[0.3333333333333333,\"#9c179e\"],[0.4444444444444444,\"#bd3786\"],[0.5555555555555556,\"#d8576b\"],[0.6666666666666666,\"#ed7953\"],[0.7777777777777778,\"#fb9f3a\"],[0.8888888888888888,\"#fdca26\"],[1.0,\"#f0f921\"]],\"type\":\"histogram2dcontour\"}],\"mesh3d\":[{\"colorbar\":{\"outlinewidth\":0,\"ticks\":\"\"},\"type\":\"mesh3d\"}],\"parcoords\":[{\"line\":{\"colorbar\":{\"outlinewidth\":0,\"ticks\":\"\"}},\"type\":\"parcoords\"}],\"pie\":[{\"automargin\":true,\"type\":\"pie\"}],\"scatter\":[{\"marker\":{\"colorbar\":{\"outlinewidth\":0,\"ticks\":\"\"}},\"type\":\"scatter\"}],\"scatter3d\":[{\"line\":{\"colorbar\":{\"outlinewidth\":0,\"ticks\":\"\"}},\"marker\":{\"colorbar\":{\"outlinewidth\":0,\"ticks\":\"\"}},\"type\":\"scatter3d\"}],\"scattercarpet\":[{\"marker\":{\"colorbar\":{\"outlinewidth\":0,\"ticks\":\"\"}},\"type\":\"scattercarpet\"}],\"scattergeo\":[{\"marker\":{\"colorbar\":{\"outlinewidth\":0,\"ticks\":\"\"}},\"type\":\"scattergeo\"}],\"scattergl\":[{\"marker\":{\"colorbar\":{\"outlinewidth\":0,\"ticks\":\"\"}},\"type\":\"scattergl\"}],\"scattermapbox\":[{\"marker\":{\"colorbar\":{\"outlinewidth\":0,\"ticks\":\"\"}},\"type\":\"scattermapbox\"}],\"scatterpolar\":[{\"marker\":{\"colorbar\":{\"outlinewidth\":0,\"ticks\":\"\"}},\"type\":\"scatterpolar\"}],\"scatterpolargl\":[{\"marker\":{\"colorbar\":{\"outlinewidth\":0,\"ticks\":\"\"}},\"type\":\"scatterpolargl\"}],\"scatterternary\":[{\"marker\":{\"colorbar\":{\"outlinewidth\":0,\"ticks\":\"\"}},\"type\":\"scatterternary\"}],\"surface\":[{\"colorbar\":{\"outlinewidth\":0,\"ticks\":\"\"},\"colorscale\":[[0.0,\"#0d0887\"],[0.1111111111111111,\"#46039f\"],[0.2222222222222222,\"#7201a8\"],[0.3333333333333333,\"#9c179e\"],[0.4444444444444444,\"#bd3786\"],[0.5555555555555556,\"#d8576b\"],[0.6666666666666666,\"#ed7953\"],[0.7777777777777778,\"#fb9f3a\"],[0.8888888888888888,\"#fdca26\"],[1.0,\"#f0f921\"]],\"type\":\"surface\"}],\"table\":[{\"cells\":{\"fill\":{\"color\":\"#EBF0F8\"},\"line\":{\"color\":\"white\"}},\"header\":{\"fill\":{\"color\":\"#C8D4E3\"},\"line\":{\"color\":\"white\"}},\"type\":\"table\"}]},\"layout\":{\"annotationdefaults\":{\"arrowcolor\":\"#2a3f5f\",\"arrowhead\":0,\"arrowwidth\":1},\"autotypenumbers\":\"strict\",\"coloraxis\":{\"colorbar\":{\"outlinewidth\":0,\"ticks\":\"\"}},\"colorscale\":{\"diverging\":[[0,\"#8e0152\"],[0.1,\"#c51b7d\"],[0.2,\"#de77ae\"],[0.3,\"#f1b6da\"],[0.4,\"#fde0ef\"],[0.5,\"#f7f7f7\"],[0.6,\"#e6f5d0\"],[0.7,\"#b8e186\"],[0.8,\"#7fbc41\"],[0.9,\"#4d9221\"],[1,\"#276419\"]],\"sequential\":[[0.0,\"#0d0887\"],[0.1111111111111111,\"#46039f\"],[0.2222222222222222,\"#7201a8\"],[0.3333333333333333,\"#9c179e\"],[0.4444444444444444,\"#bd3786\"],[0.5555555555555556,\"#d8576b\"],[0.6666666666666666,\"#ed7953\"],[0.7777777777777778,\"#fb9f3a\"],[0.8888888888888888,\"#fdca26\"],[1.0,\"#f0f921\"]],\"sequentialminus\":[[0.0,\"#0d0887\"],[0.1111111111111111,\"#46039f\"],[0.2222222222222222,\"#7201a8\"],[0.3333333333333333,\"#9c179e\"],[0.4444444444444444,\"#bd3786\"],[0.5555555555555556,\"#d8576b\"],[0.6666666666666666,\"#ed7953\"],[0.7777777777777778,\"#fb9f3a\"],[0.8888888888888888,\"#fdca26\"],[1.0,\"#f0f921\"]]},\"colorway\":[\"#636efa\",\"#EF553B\",\"#00cc96\",\"#ab63fa\",\"#FFA15A\",\"#19d3f3\",\"#FF6692\",\"#B6E880\",\"#FF97FF\",\"#FECB52\"],\"font\":{\"color\":\"#2a3f5f\"},\"geo\":{\"bgcolor\":\"white\",\"lakecolor\":\"white\",\"landcolor\":\"#E5ECF6\",\"showlakes\":true,\"showland\":true,\"subunitcolor\":\"white\"},\"hoverlabel\":{\"align\":\"left\"},\"hovermode\":\"closest\",\"mapbox\":{\"style\":\"light\"},\"paper_bgcolor\":\"white\",\"plot_bgcolor\":\"#E5ECF6\",\"polar\":{\"angularaxis\":{\"gridcolor\":\"white\",\"linecolor\":\"white\",\"ticks\":\"\"},\"bgcolor\":\"#E5ECF6\",\"radialaxis\":{\"gridcolor\":\"white\",\"linecolor\":\"white\",\"ticks\":\"\"}},\"scene\":{\"xaxis\":{\"backgroundcolor\":\"#E5ECF6\",\"gridcolor\":\"white\",\"gridwidth\":2,\"linecolor\":\"white\",\"showbackground\":true,\"ticks\":\"\",\"zerolinecolor\":\"white\"},\"yaxis\":{\"backgroundcolor\":\"#E5ECF6\",\"gridcolor\":\"white\",\"gridwidth\":2,\"linecolor\":\"white\",\"showbackground\":true,\"ticks\":\"\",\"zerolinecolor\":\"white\"},\"zaxis\":{\"backgroundcolor\":\"#E5ECF6\",\"gridcolor\":\"white\",\"gridwidth\":2,\"linecolor\":\"white\",\"showbackground\":true,\"ticks\":\"\",\"zerolinecolor\":\"white\"}},\"shapedefaults\":{\"line\":{\"color\":\"#2a3f5f\"}},\"ternary\":{\"aaxis\":{\"gridcolor\":\"white\",\"linecolor\":\"white\",\"ticks\":\"\"},\"baxis\":{\"gridcolor\":\"white\",\"linecolor\":\"white\",\"ticks\":\"\"},\"bgcolor\":\"#E5ECF6\",\"caxis\":{\"gridcolor\":\"white\",\"linecolor\":\"white\",\"ticks\":\"\"}},\"title\":{\"x\":0.05},\"xaxis\":{\"automargin\":true,\"gridcolor\":\"white\",\"linecolor\":\"white\",\"ticks\":\"\",\"title\":{\"standoff\":15},\"zerolinecolor\":\"white\",\"zerolinewidth\":2},\"yaxis\":{\"automargin\":true,\"gridcolor\":\"white\",\"linecolor\":\"white\",\"ticks\":\"\",\"title\":{\"standoff\":15},\"zerolinecolor\":\"white\",\"zerolinewidth\":2}}},\"title\":{\"text\":\"Radius of Gyration\"},\"xaxis\":{\"title\":{\"text\":\"Time (ps)\"}},\"yaxis\":{\"title\":{\"text\":\"Rgyr (Angstrom)\"}}},                        {\"responsive\": true}                    ).then(function(){\n",
       "                            \n",
       "var gd = document.getElementById('d8d6ad80-cac3-468a-992c-d12bf7e56628');\n",
       "var x = new MutationObserver(function (mutations, observer) {{\n",
       "        var display = window.getComputedStyle(gd).display;\n",
       "        if (!display || display === 'none') {{\n",
       "            console.log([gd, 'removed!']);\n",
       "            Plotly.purge(gd);\n",
       "            observer.disconnect();\n",
       "        }}\n",
       "}});\n",
       "\n",
       "// Listen for the removal of the full notebook cells\n",
       "var notebookContainer = gd.closest('#notebook-container');\n",
       "if (notebookContainer) {{\n",
       "    x.observe(notebookContainer, {childList: true});\n",
       "}}\n",
       "\n",
       "// Listen for the clearing of the current output cell\n",
       "var outputEl = gd.closest('.output');\n",
       "if (outputEl) {{\n",
       "    x.observe(outputEl, {childList: true});\n",
       "}}\n",
       "\n",
       "                        })                };                });            </script>        </div>"
      ]
     },
     "metadata": {},
     "output_type": "display_data"
    }
   ],
   "source": [
    "# Read Rgyr data from file \n",
    "with open(output_rgyr,'r') as rgyr_file:\n",
    "    x,y = map(\n",
    "        list,\n",
    "        zip(*[\n",
    "            (float(line.split()[0]),float(line.split()[1]))\n",
    "            for line in rgyr_file \n",
    "            if not line.startswith((\"#\",\"@\")) \n",
    "        ])\n",
    "    )\n",
    "\n",
    "plotly.offline.init_notebook_mode(connected=True)\n",
    "\n",
    "fig = {\n",
    "    \"data\": [go.Scatter(x=x, y=y)],\n",
    "    \"layout\": go.Layout(title=\"Radius of Gyration\",\n",
    "                        xaxis=dict(title = \"Time (ps)\"),\n",
    "                        yaxis=dict(title = \"Rgyr (Angstrom)\")\n",
    "                       )\n",
    "}\n",
    "\n",
    "plotly.offline.iplot(fig)"
   ]
  },
  {
   "cell_type": "markdown",
   "metadata": {},
   "source": [
    "<a id=\"post\"></a>\n",
    "***\n",
    "## Post-processing and Visualizing resulting 3D trajectory\n",
    "Post-processing and Visualizing the **protein system** MD setup **resulting trajectory** using **NGL**\n",
    "- [Step 1](#ppStep1): *Imaging* the resulting trajectory, **stripping out water molecules and ions** and **correcting periodicity issues**.\n",
    "- [Step 2](#ppStep3): Visualizing the *imaged* trajectory using the *dry* structure as a **topology**. \n",
    "***\n",
    "**Building Blocks** used:\n",
    " - [cpptraj_image](https://biobb-analysis.readthedocs.io/en/latest/ambertools.html#module-ambertools.cpptraj_image) from **biobb_analysis.cpptraj.cpptraj_image** \n",
    "***"
   ]
  },
  {
   "cell_type": "markdown",
   "metadata": {},
   "source": [
    "<a id=\"ppStep1\"></a>\n",
    "### Step 1: *Imaging* the resulting trajectory.\n",
    "Stripping out **water molecules and ions** and **correcting periodicity issues**  "
   ]
  },
  {
   "cell_type": "code",
   "execution_count": 43,
   "metadata": {},
   "outputs": [
    {
     "name": "stderr",
     "output_type": "stream",
     "text": [
      "2021-06-22 15:28:11,231 [MainThread  ] [INFO ]  Not using any container\n",
      "2021-06-22 15:28:11,448 [MainThread  ] [INFO ]  cpptraj -i 53bd0bea-bf45-459b-b93d-6857d9981d61/instructions.in\n",
      "\n",
      "2021-06-22 15:28:11,449 [MainThread  ] [INFO ]  Exit code 0\n",
      "\n",
      "2021-06-22 15:28:11,450 [MainThread  ] [INFO ]  \n",
      "CPPTRAJ: Trajectory Analysis. V4.25.6\n",
      "    ___  ___  ___  ___\n",
      "     | \\/ | \\/ | \\/ | \n",
      "    _|_/\\_|_/\\_|_/\\_|_\n",
      "\n",
      "| Date/time: 06/22/21 15:28:11\n",
      "| Available memory: 953.430 MB\n",
      "\n",
      "INPUT: Reading input from '53bd0bea-bf45-459b-b93d-6857d9981d61/instructions.in'\n",
      "  [parm structure.ions.parmtop]\n",
      "\tReading 'structure.ions.parmtop' as Amber Topology\n",
      "\tRadius Set: modified Bondi radii (mbondi)\n",
      "  [trajin sander.free.netcdf 1 -1 1]\n",
      "\tReading 'sander.free.netcdf' as Amber NetCDF\n",
      "  [center !@H*,1H*,2H*,3H* origin]\n",
      "    CENTER: Centering coordinates using geometric center of atoms in mask (!@H*,1H*,2H*,3H*) to\n",
      "\tcoordinate origin.\n",
      "  [autoimage]\n",
      "    AUTOIMAGE: To box center based on center of mass, anchor is first molecule.\n",
      "  [rms first !@H*,1H*,2H*,3H*]\n",
      "    RMSD: (!@H*,1H*,2H*,3H*), reference is first frame (!@H*,1H*,2H*,3H*).\n",
      "\tBest-fit RMSD will be calculated, coords will be rotated and translated.\n",
      "  [strip :WAT,HOH,SOL,TIP3,TP3]\n",
      "    STRIP: Stripping atoms in mask [:WAT,HOH,SOL,TIP3,TP3]\n",
      "  [trajout 3htb_imaged_traj.trr trr]\n",
      "\tWriting '3htb_imaged_traj.trr' as Gromacs TRX\n",
      "---------- RUN BEGIN -------------------------------------------------\n",
      "\n",
      "PARAMETER FILES (1 total):\n",
      " 0: structure.ions.parmtop, 24957 atoms, 7635 res, box: Trunc. Oct., 7473 mol, 7425 solvent\n",
      "\n",
      "INPUT TRAJECTORIES (1 total):\n",
      " 0: 'sander.free.netcdf' is a NetCDF AMBER trajectory with coordinates, time, box, Parm structure.ions.parmtop (Trunc. Oct. box) (reading 5 of 5)\n",
      "  Coordinate processing will occur on 5 frames.\n",
      "\n",
      "OUTPUT TRAJECTORIES (1 total):\n",
      "  '3htb_imaged_traj.trr' (5 frames) is a GROMACS TRR file, big-endian, single precision\n",
      "\n",
      "BEGIN TRAJECTORY PROCESSING:\n",
      ".....................................................\n",
      "ACTION SETUP FOR PARM 'structure.ions.parmtop' (4 actions):\n",
      "  0: [center !@H*,1H*,2H*,3H* origin]\n",
      "\tMask [!@H*,1H*,2H*,3H*] corresponds to 8782 atoms.\n",
      "  1: [autoimage]\n",
      "\tOriginal box is truncated octahedron, turning on 'familiar'.\n",
      "\tUsing first molecule as anchor.\n",
      "\t1 molecules are fixed to anchor: 2\n",
      "\t7471 molecules are mobile.\n",
      "  2: [rms first !@H*,1H*,2H*,3H*]\n",
      "\tTarget mask: [!@H*,1H*,2H*,3H*](8782)\n",
      "\tReference mask: [!@H*,1H*,2H*,3H*](8782)\n",
      "Warning: Coordinates are being rotated and box coordinates are present.\n",
      "Warning: Unit cell vectors are NOT rotated; imaging will not be possible\n",
      "Warning:  after the RMS-fit is performed.\n",
      "  3: [strip :WAT,HOH,SOL,TIP3,TP3]\n",
      "\tStripping 22275 atoms.\n",
      "\tStripped topology: 2682 atoms, 210 res, box: Trunc. Oct., 48 mol\n",
      ".....................................................\n",
      "ACTIVE OUTPUT TRAJECTORIES (1):\n",
      "  3htb_imaged_traj.trr (coordinates, time, box)\n",
      "----- sander.free.netcdf (1-5, 1) -----\n",
      " 0% 25% 50% 75% 100% Complete.\n",
      "\n",
      "Read 5 frames and processed 5 frames.\n",
      "TIME: Avg. throughput= 148.3812 frames / second.\n",
      "\n",
      "ACTION OUTPUT:\n",
      "TIME: Analyses took 0.0000 seconds.\n",
      "\n",
      "DATASETS (1 total):\n",
      "\tRMSD_00001 \"RMSD_00001\" (double, rms), size is 5 (0.040 kB)\n",
      "    Total data set memory usage is at least 0.040 kB\n",
      "\n",
      "RUN TIMING:\n",
      "TIME:\t\tInit               : 0.0001 s (  0.19%)\n",
      "TIME:\t\tTrajectory Process : 0.0337 s ( 98.68%)\n",
      "TIME:\t\tAction Post        : 0.0000 s (  0.00%)\n",
      "TIME:\t\tAnalysis           : 0.0000 s (  0.00%)\n",
      "TIME:\t\tData File Write    : 0.0000 s (  0.07%)\n",
      "TIME:\t\tOther              : 0.0004 s (  0.01%)\n",
      "TIME:\tRun Total 0.0341 s\n",
      "---------- RUN END ---------------------------------------------------\n",
      "TIME: Total execution time: 0.1701 seconds.\n",
      "--------------------------------------------------------------------------------\n",
      "To cite CPPTRAJ use:\n",
      "Daniel R. Roe and Thomas E. Cheatham, III, \"PTRAJ and CPPTRAJ: Software for\n",
      "  Processing and Analysis of Molecular Dynamics Trajectory Data\". J. Chem.\n",
      "  Theory Comput., 2013, 9 (7), pp 3084-3095.\n",
      "\n",
      "\n",
      "2021-06-22 15:28:11,452 [MainThread  ] [INFO ]  Removed: [PurePosixPath('53bd0bea-bf45-459b-b93d-6857d9981d61')]\n"
     ]
    },
    {
     "data": {
      "text/plain": [
       "0"
      ]
     },
     "execution_count": 43,
     "metadata": {},
     "output_type": "execute_result"
    }
   ],
   "source": [
    "# cpptraj_image: \"Imaging\" the resulting trajectory\n",
    "#                Removing water molecules and ions from the resulting structure\n",
    "\n",
    "# Import module\n",
    "from biobb_analysis.ambertools.cpptraj_image import cpptraj_image\n",
    "\n",
    "# Create prop dict and inputs/outputs\n",
    "output_imaged_traj = pdbCode+'_imaged_traj.trr'\n",
    "\n",
    "prop = {\n",
    "    'mask': 'solute',\n",
    "    'format': 'trr'\n",
    "}\n",
    "\n",
    "# Create and launch bb\n",
    "cpptraj_image(input_top_path=output_ions_top_path,\n",
    "            input_traj_path=output_free_traj_path,\n",
    "            output_cpptraj_path=output_imaged_traj,\n",
    "            properties=prop)"
   ]
  },
  {
   "cell_type": "markdown",
   "metadata": {},
   "source": [
    "<a id=\"ppStep2\"></a>\n",
    "### Step 2: Visualizing the generated dehydrated trajectory.\n",
    "Using the **imaged trajectory** (output of the [Post-processing step 1](#ppStep1)) with the **dry structure** (output of"
   ]
  },
  {
   "cell_type": "code",
   "execution_count": 60,
   "metadata": {
    "scrolled": true
   },
   "outputs": [
    {
     "data": {
      "application/vnd.jupyter.widget-view+json": {
       "model_id": "174e6b0977864f10a460d755dc0b9bdd",
       "version_major": 2,
       "version_minor": 0
      },
      "text/plain": [
       "NGLWidget(max_frame=4)"
      ]
     },
     "metadata": {},
     "output_type": "display_data"
    },
    {
     "data": {
      "application/vnd.jupyter.widget-view+json": {
       "model_id": "a78656edda3e48f3ae85940a5ac8e6eb",
       "version_major": 2,
       "version_minor": 0
      },
      "text/plain": [
       "Tab(children=(Box(children=(Box(children=(Box(children=(Label(value='step'), IntSlider(value=1, min=-100)), la…"
      ]
     },
     "metadata": {},
     "output_type": "display_data"
    }
   ],
   "source": [
    "# Show trajectory\n",
    "view = nglview.show_simpletraj(nglview.SimpletrajTrajectory(output_imaged_traj, output_ambpdb_path), gui=True)\n",
    "view.clear_representations()\n",
    "view.add_representation('cartoon', color='sstruc')\n",
    "view.add_representation('licorice', selection='JZ4', color='element', radius=1)\n",
    "view"
   ]
  },
  {
   "cell_type": "markdown",
   "metadata": {},
   "source": [
    "<img src='traj.gif'></img>"
   ]
  },
  {
   "cell_type": "code",
   "execution_count": 61,
   "metadata": {},
   "outputs": [],
   "source": [
    "from time import sleep\n",
    "# range number of frames for the animated gif trajectory\n",
    "for frame in range(0, 5):\n",
    "    # set frame to update coordinates\n",
    "    view.frame = frame\n",
    "    # make sure to let NGL spending enough time to update coordinates\n",
    "    sleep(0.5)\n",
    "    view.download_image(filename='trj_image{}.png'.format(frame))\n",
    "    # make sure to let NGL spending enough time to render before going to next frame\n",
    "    sleep(2.0)"
   ]
  },
  {
   "cell_type": "code",
   "execution_count": 63,
   "metadata": {},
   "outputs": [
    {
     "name": "stderr",
     "output_type": "stream",
     "text": [
      "\r",
      "t:   0%|          | 0/4 [00:00<?, ?it/s, now=None]"
     ]
    },
    {
     "name": "stdout",
     "output_type": "stream",
     "text": [
      "MoviePy - Building file traj.gif with imageio.\n"
     ]
    },
    {
     "name": "stderr",
     "output_type": "stream",
     "text": [
      "                                                          \r"
     ]
    }
   ],
   "source": [
    "import moviepy.editor as mpy\n",
    "\n",
    "# go to folder where the images are stored\n",
    "template = './trj_image{}.png'\n",
    "# get all (sorted) image files\n",
    "imagefiles = [template.format(str(i)) for i in range(0, 4, 1)]\n",
    "\n",
    "# make a gif file\n",
    "frame_per_second = 8\n",
    "im = mpy.ImageSequenceClip(imagefiles, fps=frame_per_second)\n",
    "im.write_gif('traj.gif', fps=frame_per_second)"
   ]
  },
  {
   "cell_type": "markdown",
   "metadata": {
    "variables": {
     "output_free_rst_path": "sander.free.rst",
     "output_free_traj_path": "sander.free.netcdf",
     "output_ions_pdb_path": "structure.ions.pdb",
     "output_ions_top_path": "structure.ions.parmtop",
     "output_rgyr": "3htb_rgyr.dat",
     "output_rms_exp": "3htb_rms_exp.dat",
     "output_rms_first": "3htb_rms_first.dat"
    }
   },
   "source": [
    "<a id=\"output\"></a>\n",
    "## Output files\n",
    "\n",
    "Important **Output files** generated:\n",
    " - {{output_ions_pdb_path}}: **System structure** of the MD setup protocol. Structure generated during the MD setup and used in the MD simulation. With hydrogen atoms, solvent box and counterions.  \n",
    " - {{output_free_traj_path}}: **Final trajectory** of the MD setup protocol.\n",
    " - {{output_free_rst_path}}: **Final checkpoint file**, with information about the state of the simulation. It can be used to **restart** or **continue** a MD simulation.\n",
    " - {{output_ions_top_path}}: **Final topology** of the MD system in AMBER Parm7 format.\n",
    "\n",
    "**Analysis** (MD setup check) output files generated:\n",
    " - {{output_rms_first}}: **Root Mean Square deviation (RMSd)** against **minimized and equilibrated structure** of the final **free MD run step**.\n",
    " - {{output_rms_exp}}: **Root Mean Square deviation (RMSd)** against **experimental structure** of the final **free MD run step**.\n",
    " - {{output_rgyr}}: **Radius of Gyration** of the final **free MD run step** of the **setup pipeline**.\n",
    " "
   ]
  },
  {
   "cell_type": "markdown",
   "metadata": {},
   "source": [
    "***\n",
    "<a id=\"questions\"></a>\n",
    "\n",
    "## Questions & Comments\n",
    "\n",
    "Questions, issues, suggestions and comments are really welcome!\n",
    "\n",
    "* GitHub issues:\n",
    "    * [https://github.com/bioexcel/biobb](https://github.com/bioexcel/biobb)\n",
    "\n",
    "* BioExcel forum:\n",
    "    * [https://ask.bioexcel.eu/c/BioExcel-Building-Blocks-library](https://ask.bioexcel.eu/c/BioExcel-Building-Blocks-library)\n"
   ]
  }
 ],
 "metadata": {
  "kernelspec": {
   "display_name": "Python 3",
   "language": "python",
   "name": "python3"
  },
  "language_info": {
   "codemirror_mode": {
    "name": "ipython",
    "version": 3
   },
   "file_extension": ".py",
   "mimetype": "text/x-python",
   "name": "python",
   "nbconvert_exporter": "python",
   "pygments_lexer": "ipython3",
   "version": "3.7.10"
  }
 },
 "nbformat": 4,
 "nbformat_minor": 2
}