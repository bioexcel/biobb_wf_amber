{
 "cells": [
  {
   "cell_type": "markdown",
   "metadata": {},
   "source": [
    "# Protein MD Setup tutorial using BioExcel Building Blocks (biobb) \n",
    "### --***AmberTools package version***--\n",
    "**Based on the [MDWeb](http://mmb.irbbarcelona.org/MDWeb2/) [Amber FULL MD Setup tutorial](https://mmb.irbbarcelona.org/MDWeb2/help.php?id=workflows#AmberWorkflowFULL)**\n",
    "\n",
    "***\n",
    "This tutorial aims to illustrate the process of **setting up a simulation system** containing a **protein**, step by step, using the **BioExcel Building Blocks library (biobb)** wrapping the **AmberTools** utility from the **AMBER package**. The particular example used is the **Lysozyme** protein (PDB code 1AKI, [https://doi.org/10.2210/pdb1AKI/pdb](https://doi.org/10.2210/pdb1AKI/pdb)). \n",
    "***\n",
    "\n",
    "## Settings\n",
    "\n",
    "### Biobb modules used\n",
    "\n",
    " - [biobb_io](https://github.com/bioexcel/biobb_io): Tools to fetch biomolecular data from public databases.\n",
    " - [biobb_amber](https://github.com/bioexcel/biobb_amber): Tools to setup and run Molecular Dynamics simulations with AmberTools.\n",
    " - [biobb_analysis](https://github.com/bioexcel/biobb_analysis): Tools to analyse Molecular Dynamics trajectories.\n",
    " \n",
    "### Auxiliary libraries used\n",
    "\n",
    "* [jupyter](https://jupyter.org/): Free software, open standards, and web services for interactive computing across all programming languages.\n",
    "* [plotly](https://plot.ly/python/offline/): Python interactive graphing library integrated in Jupyter notebooks.\n",
    "* [nglview](https://nglviewer.org/#nglview): Jupyter/IPython widget to interactively view molecular structures and trajectories in notebooks.\n",
    "* [simpletraj](https://github.com/arose/simpletraj): Lightweight coordinate-only trajectory reader based on code from GROMACS, MDAnalysis and VMD.\n",
    "* [gfortran](https://anaconda.org/conda-forge/gfortran): Fortran 95/2003/2008/2018 compiler for GCC, the GNU Compiler Collection.\n",
    "* [libgfortran5](https://anaconda.org/conda-forge/libgfortran5): Fortran compiler and libraries from the GNU Compiler Collection.\n",
    "\n",
    "### Conda Installation\n",
    "\n",
    "```console\n",
    "git clone https://github.com/bioexcel/biobb_wf_amber.git\n",
    "cd biobb_wf_amber\n",
    "conda env create -f conda_env/environment.yml\n",
    "conda activate biobb_wf_amber\n",
    "jupyter-notebook biobb_wf_amber/notebooks/md_setup/biobb_wf_amber_md_setup.ipynb\n",
    "```\n",
    "\n",
    "***\n",
    "## Pipeline steps\n",
    " 1. [Input Parameters](#input)\n",
    " 2. [Fetching PDB Structure](#fetch)\n",
    " 3. [Preparing PDB file for AMBER](#pdb4amber)\n",
    " 4. [Create Protein System Topology](#top)\n",
    " 5. [Energetically Minimize the Structure](#minv)\n",
    " 6. [Create Solvent Box and Solvating the System](#box)\n",
    " 7. [Adding Ions](#ions)\n",
    " 8. [Energetically Minimize the System](#min)\n",
    " 9. [Heating the System](#heating)\n",
    " 10. [Equilibrate the System (NVT)](#nvt)\n",
    " 11. [Equilibrate the System (NPT)](#npt)\n",
    " 12. [Free Molecular Dynamics Simulation](#free)\n",
    " 13. [Post-processing and Visualizing Resulting 3D Trajectory](#post)\n",
    " 14. [Output Files](#output)\n",
    " 15. [Questions & Comments](#questions)\n",
    " \n",
    "***\n",
    "<img src=\"https://bioexcel.eu/wp-content/uploads/2019/04/Bioexcell_logo_1080px_transp.png\" alt=\"Bioexcel2 logo\"\n",
    "\ttitle=\"Bioexcel2 logo\" width=\"400\" />\n",
    "***\n"
   ]
  },
  {
   "cell_type": "markdown",
   "metadata": {
    "jp-MarkdownHeadingCollapsed": true
   },
   "source": [
    "## Initializing colab\n",
    "The two cells below are used only in case this notebook is executed via **Google Colab**. Take into account that, for running conda on **Google Colab**, the **condacolab** library must be installed. As [explained here](https://pypi.org/project/condacolab/), the installation requires a **kernel restart**, so when running this notebook in **Google Colab**, don't run all cells until this **installation** is properly **finished** and the **kernel** has **restarted**."
   ]
  },
  {
   "cell_type": "code",
   "execution_count": 1,
   "metadata": {},
   "outputs": [],
   "source": [
    "# Only executed when using google colab\n",
    "import sys\n",
    "if 'google.colab' in sys.modules:\n",
    "  import subprocess\n",
    "  from pathlib import Path\n",
    "  try:\n",
    "    subprocess.run([\"conda\", \"-V\"], check=True)\n",
    "  except FileNotFoundError:\n",
    "    subprocess.run([sys.executable, \"-m\", \"pip\", \"install\", \"condacolab\"], check=True)\n",
    "    import condacolab\n",
    "    condacolab.install()\n",
    "    # Clone repository\n",
    "    repo_URL = \"https://github.com/bioexcel/biobb_wf_amber.git\"\n",
    "    repo_name = Path(repo_URL).name.split('.')[0]\n",
    "    if not Path(repo_name).exists():\n",
    "      subprocess.run([\"mamba\", \"install\", \"-y\", \"git\"], check=True)\n",
    "      subprocess.run([\"git\", \"clone\", repo_URL], check=True)\n",
    "      print(\"⏬ Repository properly cloned.\")\n",
    "    # Install environment\n",
    "    print(\"⏳ Creating environment...\")\n",
    "    env_file_path = f\"{repo_name}/conda_env/environment.yml\"\n",
    "    subprocess.run([\"mamba\", \"env\", \"update\", \"-n\", \"base\", \"-f\", env_file_path], check=True)\n",
    "    print(\"🎨 Install NGLView dependencies...\")\n",
    "    subprocess.run([\"mamba\", \"install\", \"-y\", \"-c\", \"conda-forge\", \"nglview==3.0.8\", \"ipywidgets=7.7.2\"], check=True)\n",
    "    subprocess.run([sys.executable, \"-m\", \"pip\", \"install\", \"numpy<2\", \"--upgrade\", \"--force-reinstall\"], check=True)\n",
    "    print(\"👍 Conda environment successfully created and updated.\")"
   ]
  },
  {
   "cell_type": "code",
   "execution_count": 2,
   "metadata": {},
   "outputs": [],
   "source": [
    "# Enable widgets for colab\n",
    "if 'google.colab' in sys.modules:\n",
    "  from google.colab import output\n",
    "  output.enable_custom_widget_manager()\n",
    "  # Change working dir\n",
    "  import os\n",
    "  os.chdir(\"biobb_wf_amber/biobb_wf_amber/notebooks/md_setup\")\n",
    "  print(f\"📂 New working directory: {os.getcwd()}\")"
   ]
  },
  {
   "cell_type": "markdown",
   "metadata": {},
   "source": [
    "<a id=\"input\"></a>\n",
    "## Input parameters\n",
    "**Input parameters** needed:\n",
    " - **pdbCode**: PDB code of the protein structure (e.g. 1AKI, [https://doi.org/10.2210/pdb1AKI/pdb](https://doi.org/10.2210/pdb1AKI/pdb))"
   ]
  },
  {
   "cell_type": "code",
   "execution_count": 3,
   "metadata": {},
   "outputs": [
    {
     "data": {
      "application/vnd.jupyter.widget-view+json": {
       "model_id": "9b355459cf6643388e99addf3bb57739",
       "version_major": 2,
       "version_minor": 0
      },
      "text/plain": []
     },
     "metadata": {},
     "output_type": "display_data"
    },
    {
     "name": "stderr",
     "output_type": "stream",
     "text": [
      "/Users/gbayarri/miniconda3/envs/biobb_wf_amber/lib/python3.12/site-packages/nglview/__init__.py:12: UserWarning: pkg_resources is deprecated as an API. See https://setuptools.pypa.io/en/latest/pkg_resources.html. The pkg_resources package is slated for removal as early as 2025-11-30. Refrain from using this package or pin to Setuptools<81.\n",
      "  import pkg_resources\n"
     ]
    }
   ],
   "source": [
    "import nglview\n",
    "import ipywidgets\n",
    "import plotly\n",
    "import sys\n",
    "from plotly import subplots\n",
    "import plotly.graph_objs as go\n",
    "\n",
    "pdbCode = \"1aki\""
   ]
  },
  {
   "cell_type": "markdown",
   "metadata": {},
   "source": [
    "<a id=\"fetch\"></a>\n",
    "***\n",
    "## Fetching PDB structure\n",
    "Downloading **PDB structure** with the **protein molecule** from the RCSB PDB database.<br>\n",
    "Alternatively, a **PDB file** can be used as starting structure. <br>\n",
    "***\n",
    "**Building Blocks** used:\n",
    " - [pdb](https://biobb-io.readthedocs.io/en/latest/api.html#module-api.pdb) from **biobb_io.api.pdb**\n",
    "***"
   ]
  },
  {
   "cell_type": "code",
   "execution_count": 4,
   "metadata": {},
   "outputs": [
    {
     "name": "stdout",
     "output_type": "stream",
     "text": [
      "2025-07-31 15:50:31,381 [MainThread  ] [INFO ]  Module: biobb_io.api.pdb Version: 5.1.0\n",
      "2025-07-31 15:50:31,382 [MainThread  ] [INFO ]  Downloading 1aki from: https://www.ebi.ac.uk/pdbe/entry-files/download/pdb1aki.ent\n",
      "2025-07-31 15:50:31,630 [MainThread  ] [INFO ]  Writting pdb to: 1aki.pdb\n",
      "2025-07-31 15:50:31,632 [MainThread  ] [INFO ]  Filtering lines NOT starting with one of these words: ['ATOM', 'MODEL', 'ENDMDL']\n",
      "2025-07-31 15:50:31,641 [MainThread  ] [INFO ]  \n"
     ]
    },
    {
     "data": {
      "text/plain": [
       "0"
      ]
     },
     "execution_count": 4,
     "metadata": {},
     "output_type": "execute_result"
    }
   ],
   "source": [
    "# Import module\n",
    "from biobb_io.api.pdb import pdb\n",
    "\n",
    "# Create properties dict and inputs/outputs\n",
    "downloaded_pdb = pdbCode+'.pdb'\n",
    "\n",
    "prop = {\n",
    "    'pdb_code': pdbCode\n",
    "}\n",
    "\n",
    "#Create and launch bb\n",
    "pdb(output_pdb_path=downloaded_pdb,\n",
    "    properties=prop)"
   ]
  },
  {
   "cell_type": "markdown",
   "metadata": {},
   "source": [
    "<a id=\"vis3D\"></a>\n",
    "### Visualizing 3D structure\n",
    "Visualizing the downloaded/given **PDB structure** using **NGL**:    "
   ]
  },
  {
   "cell_type": "code",
   "execution_count": 5,
   "metadata": {},
   "outputs": [
    {
     "data": {
      "application/vnd.jupyter.widget-view+json": {
       "model_id": "44cb13f4379341deb5cdb8243c2226eb",
       "version_major": 2,
       "version_minor": 0
      },
      "text/plain": [
       "NGLWidget()"
      ]
     },
     "metadata": {},
     "output_type": "display_data"
    }
   ],
   "source": [
    "# Show protein\n",
    "view = nglview.show_structure_file(downloaded_pdb)\n",
    "view.add_representation(repr_type='ball+stick', selection='all')\n",
    "view._remote_call('setSize', target='Widget', args=['','600px'])\n",
    "view"
   ]
  },
  {
   "cell_type": "markdown",
   "metadata": {},
   "source": [
    "<a id=\"pdb4amber\"></a>\n",
    "***\n",
    "## Preparing PDB file for AMBER\n",
    "Before starting a **protein MD setup**, it is always strongly recommended to take a look at the initial structure and try to identify important **properties** and also possible **issues**. These properties and issues can be serious, as for example the definition of **disulfide bridges**, the presence of a **non-standard aminoacids** or **ligands**, or **missing residues**. Other **properties** and **issues** might not be so serious, but they still need to be addressed before starting the **MD setup process**. **Missing hydrogen atoms**, presence of **alternate atomic location indicators** or **inserted residue codes** (see [PDB file format specification](https://www.wwpdb.org/documentation/file-format-content/format33/sect9.html#ATOM)) are examples of these not so crucial characteristics. Please visit the [AMBER tutorial: Building Protein Systems in Explicit Solvent](http://ambermd.org/tutorials/basic/tutorial7/index.php) for more examples. **AmberTools** utilities from **AMBER MD package** contain a tool able to analyse **PDB files** and clean them for further usage, especially with the **AmberTools LEaP program**: the **pdb4amber tool**. The next step of the workflow is running this tool to analyse our **input PDB structure**.<br>\n",
    "\n",
    "For the particular **Lysosyme** example, the most important property that is identified by the **pdb4amber** utility is the presence of **disulfide bridges** in the structure. Those are marked changing the residue names **from CYS to CYX**, which is the code that **AMBER force fields** use to distinguish between cysteines forming or not forming **disulfide bridges**. This will be used in the following step to correctly form a **bond** between these cysteine residues. \n",
    "\n",
    "We invite you to check what the tool does with different, more complex structures (e.g. PDB code [6N3V](https://www.rcsb.org/structure/6N3V)). \n",
    "\n",
    "***\n",
    "**Building Blocks** used:\n",
    " - [pdb4amber_run](https://biobb-amber.readthedocs.io/en/latest/pdb4amber.html#pdb4amber-pdb4amber-run-module) from **biobb_amber.pdb4amber.pdb4amber_run**\n",
    "***"
   ]
  },
  {
   "cell_type": "code",
   "execution_count": 6,
   "metadata": {},
   "outputs": [
    {
     "name": "stdout",
     "output_type": "stream",
     "text": [
      "2025-07-31 15:50:31,701 [MainThread  ] [INFO ]  Module: biobb_amber.pdb4amber.pdb4amber_run Version: 5.1.0\n",
      "2025-07-31 15:50:31,703 [MainThread  ] [INFO ]  /Users/gbayarri/biobb_wf_amber/biobb_wf_amber/notebooks/md_setup/sandbox_90b440e2-dcd7-4c73-8719-7c8b9d1ea468 directory successfully created\n",
      "2025-07-31 15:50:31,704 [MainThread  ] [INFO ]  Copy: 1aki.pdb to /Users/gbayarri/biobb_wf_amber/biobb_wf_amber/notebooks/md_setup/sandbox_90b440e2-dcd7-4c73-8719-7c8b9d1ea468\n",
      "2025-07-31 15:50:31,705 [MainThread  ] [INFO ]  Creating 502aa6c6-ec06-4209-8fa5-7d37277e6448 temporary folder\n",
      "2025-07-31 15:50:31,706 [MainThread  ] [INFO ]  pdb4amber -i /Users/gbayarri/biobb_wf_amber/biobb_wf_amber/notebooks/md_setup/sandbox_90b440e2-dcd7-4c73-8719-7c8b9d1ea468/1aki.pdb -o /Users/gbayarri/biobb_wf_amber/biobb_wf_amber/notebooks/md_setup/sandbox_90b440e2-dcd7-4c73-8719-7c8b9d1ea468/structure.pdb4amber.pdb\n",
      "\n",
      "2025-07-31 15:50:32,463 [MainThread  ] [INFO ]  Executing: pdb4amber -i /Users/gbayarri/biobb_wf_amber/biobb_wf_amber/notebooks/md_setup/sa...\n",
      "2025-07-31 15:50:32,464 [MainThread  ] [INFO ]  Exit code: 0\n",
      "2025-07-31 15:50:32,465 [MainThread  ] [INFO ]  \n",
      "==================================================\n",
      "Summary of pdb4amber for: /Users/gbayarri/biobb_wf_amber/biobb_wf_amber/notebooks/md_setup/sandbox_90b440e2-dcd7-4c73-8719-7c8b9d1ea468/1aki.pdb\n",
      "===================================================\n",
      "\n",
      "----------Chains\n",
      "The following (original) chains have been found:\n",
      "A\n",
      "\n",
      "---------- Alternate Locations (Original Residues!))\n",
      "\n",
      "The following residues had alternate locations:\n",
      "None\n",
      "-----------Non-standard-resnames\n",
      "\n",
      "\n",
      "---------- Missing heavy atom(s)\n",
      "\n",
      "None\n",
      "\n",
      "2025-07-31 15:50:32,466 [MainThread  ] [INFO ]  Removed: ['/Users/gbayarri/biobb_wf_amber/biobb_wf_amber/notebooks/md_setup/sandbox_90b440e2-dcd7-4c73-8719-7c8b9d1ea468', '502aa6c6-ec06-4209-8fa5-7d37277e6448']\n",
      "2025-07-31 15:50:32,467 [MainThread  ] [INFO ]  \n"
     ]
    },
    {
     "data": {
      "text/plain": [
       "0"
      ]
     },
     "execution_count": 6,
     "metadata": {},
     "output_type": "execute_result"
    }
   ],
   "source": [
    "# Import module\n",
    "from biobb_amber.pdb4amber.pdb4amber_run import pdb4amber_run\n",
    "\n",
    "# Create prop dict and inputs/outputs\n",
    "output_pdb4amber_path = 'structure.pdb4amber.pdb'\n",
    "\n",
    "# Create and launch bb\n",
    "pdb4amber_run(  input_pdb_path=downloaded_pdb,\n",
    "            output_pdb_path=output_pdb4amber_path)"
   ]
  },
  {
   "cell_type": "markdown",
   "metadata": {},
   "source": [
    "<a id=\"top\"></a>\n",
    "***\n",
    "## Create protein system topology\n",
    "**Building AMBER topology** corresponding to the protein structure.<br>\n",
    "\n",
    "*IMPORTANT: the previous pdb4amber building block is changing the proper cysteines residue naming in the PDB file from CYS to CYX so that this step can automatically identify and add the disulfide bonds to the system topology.*<br>\n",
    "\n",
    "The **force field** used in this tutorial is [**ff14SB**](https://doi.org/10.1021/acs.jctc.5b00255), an evolution of the **ff99SB** force field with improved accuracy of protein side chains and backbone parameters. **Water** molecules type used in this tutorial is [**tip3p**](https://doi.org/10.1021/jp003020w).<br>\n",
    "Adding **side chain atoms** and **hydrogen atoms** if missing. Forming **disulfide bridges** according to the info added in the previous step. <br>\n",
    "\n",
    "Generating three output files: \n",
    "- **AMBER structure** (PDB file)\n",
    "- **AMBER topology** (AMBER [Parmtop](https://ambermd.org/FileFormats.php#topology) file)\n",
    "- **AMBER coordinates** (AMBER [Coordinate/Restart](https://ambermd.org/FileFormats.php#restart) file) \n",
    "***\n",
    "**Building Blocks** used:\n",
    " - [leap_gen_top](https://biobb-amber.readthedocs.io/en/latest/leap.html#module-leap.leap_gen_top) from **biobb_amber.leap.leap_gen_top**\n",
    "***"
   ]
  },
  {
   "cell_type": "code",
   "execution_count": 7,
   "metadata": {},
   "outputs": [],
   "source": [
    "# uncomment ALWAYS when running in Google Colab:\n",
    "# import os\n",
    "# os.environ['AMBERHOME'] = \"/usr/local\""
   ]
  },
  {
   "cell_type": "code",
   "execution_count": 8,
   "metadata": {},
   "outputs": [],
   "source": [
    "# uncomment in case of experiencing issues with undefined AMBERHOME variable in the cell below (when running in Jupyter Notebook / Lab):\n",
    "# import os\n",
    "# os.environ['AMBERHOME'] = \"/path/to/anaconda3/envs/biobb_wf_amber\""
   ]
  },
  {
   "cell_type": "code",
   "execution_count": 9,
   "metadata": {},
   "outputs": [
    {
     "name": "stdout",
     "output_type": "stream",
     "text": [
      "2025-07-31 15:50:32,481 [MainThread  ] [INFO ]  Module: biobb_amber.leap.leap_gen_top Version: 5.1.0\n",
      "2025-07-31 15:50:32,481 [MainThread  ] [INFO ]  /Users/gbayarri/biobb_wf_amber/biobb_wf_amber/notebooks/md_setup/sandbox_6c75a6db-064b-4fb0-a8cf-bd5bab520498 directory successfully created\n",
      "2025-07-31 15:50:32,482 [MainThread  ] [INFO ]  Copy: structure.pdb4amber.pdb to /Users/gbayarri/biobb_wf_amber/biobb_wf_amber/notebooks/md_setup/sandbox_6c75a6db-064b-4fb0-a8cf-bd5bab520498\n",
      "2025-07-31 15:50:32,483 [MainThread  ] [INFO ]  Creating 4bdfa312-1afe-487f-b04b-7f0d361074aa temporary folder\n",
      "2025-07-31 15:50:32,484 [MainThread  ] [INFO ]  tleap -f 4bdfa312-1afe-487f-b04b-7f0d361074aa/leap.in\n",
      "\n",
      "2025-07-31 15:50:32,707 [MainThread  ] [INFO ]  Executing: tleap -f 4bdfa312-1afe-487f-b04b-7f0d361074aa/leap.in...\n",
      "2025-07-31 15:50:32,708 [MainThread  ] [INFO ]  Exit code: 0\n",
      "2025-07-31 15:50:32,708 [MainThread  ] [INFO ]  -I: Adding /Users/gbayarri/miniconda3/envs/biobb_wf_amber/dat/leap/prep to search path.\n",
      "-I: Adding /Users/gbayarri/miniconda3/envs/biobb_wf_amber/dat/leap/lib to search path.\n",
      "-I: Adding /Users/gbayarri/miniconda3/envs/biobb_wf_amber/dat/leap/parm to search path.\n",
      "-I: Adding /Users/gbayarri/miniconda3/envs/biobb_wf_amber/dat/leap/cmd to search path.\n",
      "-f: Source 4bdfa312-1afe-487f-b04b-7f0d361074aa/leap.in.\n",
      "\n",
      "Welcome to LEaP!\n",
      "(no leaprc in search path)\n",
      "Sourcing: ./4bdfa312-1afe-487f-b04b-7f0d361074aa/leap.in\n",
      "----- Source: /Users/gbayarri/miniconda3/envs/biobb_wf_amber/dat/leap/cmd/leaprc.protein.ff14SB\n",
      "----- Source of /Users/gbayarri/miniconda3/envs/biobb_wf_amber/dat/leap/cmd/leaprc.protein.ff14SB done\n",
      "Log file: ./leap.log\n",
      "Loading parameters: /Users/gbayarri/miniconda3/envs/biobb_wf_amber/dat/leap/parm/parm10.dat\n",
      "Reading title:\n",
      "PARM99 + frcmod.ff99SB + frcmod.parmbsc0 + OL3 for RNA\n",
      "Loading parameters: /Users/gbayarri/miniconda3/envs/biobb_wf_amber/dat/leap/parm/frcmod.ff14SB\n",
      "Reading force field modification type file (frcmod)\n",
      "Reading title:\n",
      "ff14SB protein backbone and sidechain parameters\n",
      "Loading library: /Users/gbayarri/miniconda3/envs/biobb_wf_amber/dat/leap/lib/amino12.lib\n",
      "Loading library: /Users/gbayarri/miniconda3/envs/biobb_wf_amber/dat/leap/lib/aminoct12.lib\n",
      "Loading library: /Users/gbayarri/miniconda3/envs/biobb_wf_amber/dat/leap/lib/aminont12.lib\n",
      "Loading library: /Users/gbayarri/miniconda3/envs/biobb_wf_amber/dat/leap/lib/atomic_ions.lib\n",
      "Loading PDB file: /Users/gbayarri/biobb_wf_amber/biobb_wf_amber/notebooks/md_setup/sandbox_6c75a6db-064b-4fb0-a8cf-bd5bab520498/structure.pdb4amber.pdb\n",
      "  total atoms in file: 1001\n",
      "  Leap added 959 missing atoms according to residue templates:\n",
      "       959 H / lone pairs\n",
      "Writing pdb file: /Users/gbayarri/biobb_wf_amber/biobb_wf_amber/notebooks/md_setup/sandbox_6c75a6db-064b-4fb0-a8cf-bd5bab520498/structure.leap.pdb\n",
      "\n",
      "/Users/gbayarri/miniconda3/envs/biobb_wf_amber/bin/teLeap: Warning!\n",
      " Converting N-terminal residue name to PDB format: NLYS -> LYS\n",
      "\n",
      "/Users/gbayarri/miniconda3/envs/biobb_wf_amber/bin/teLeap: Warning!\n",
      " Converting C-terminal residue name to PDB format: CLEU -> LEU\n",
      "Checking Unit.\n",
      "\n",
      "/Users/gbayarri/miniconda3/envs/biobb_wf_amber/bin/teLeap: Warning!\n",
      "The unperturbed charge of the unit (8.000000) is not zero.\n",
      "\n",
      "/Users/gbayarri/miniconda3/envs/biobb_wf_amber/bin/teLeap: Note.\n",
      "Ignoring the warning from Unit Checking.\n",
      "\n",
      "Building topology.\n",
      "Building atom parameters.\n",
      "Building bond parameters.\n",
      "Building angle parameters.\n",
      "Building proper torsion parameters.\n",
      "Building improper torsion parameters.\n",
      " total 438 improper torsions applied\n",
      "Building H-Bond parameters.\n",
      "Incorporating Non-Bonded adjustments.\n",
      "Not Marking per-residue atom chain types.\n",
      "Marking per-residue atom chain types.\n",
      "  (Residues lacking connect0/connect1 - \n",
      "   these don't have chain types marked:\n",
      "\n",
      "\tres\ttotal affected\n",
      "\n",
      "\tCLEU\t1\n",
      "\tNLYS\t1\n",
      "  )\n",
      " (no restraints)\n",
      "\tQuit\n",
      "\n",
      "Exiting LEaP: Errors = 0; Warnings = 3; Notes = 1.\n",
      "\n",
      "2025-07-31 15:50:32,711 [MainThread  ] [INFO ]  Removed: ['/Users/gbayarri/biobb_wf_amber/biobb_wf_amber/notebooks/md_setup/sandbox_6c75a6db-064b-4fb0-a8cf-bd5bab520498', '4bdfa312-1afe-487f-b04b-7f0d361074aa', 'leap.log']\n",
      "2025-07-31 15:50:32,712 [MainThread  ] [INFO ]  \n"
     ]
    },
    {
     "data": {
      "text/plain": [
       "0"
      ]
     },
     "execution_count": 9,
     "metadata": {},
     "output_type": "execute_result"
    }
   ],
   "source": [
    "# Import module\n",
    "from biobb_amber.leap.leap_gen_top import leap_gen_top\n",
    "\n",
    "# Create prop dict and inputs/outputs\n",
    "output_pdb_path = 'structure.leap.pdb'\n",
    "output_top_path = 'structure.leap.top'\n",
    "output_crd_path = 'structure.leap.crd'\n",
    "\n",
    "prop = {\n",
    "    \"forcefield\" : [\"protein.ff14SB\"]\n",
    "}\n",
    "\n",
    "# Create and launch bb\n",
    "leap_gen_top(input_pdb_path=output_pdb4amber_path,\n",
    "           #input_pdb_path=downloaded_pdb,\n",
    "           output_pdb_path=output_pdb_path,\n",
    "           output_top_path=output_top_path,\n",
    "           output_crd_path=output_crd_path,\n",
    "           properties=prop)"
   ]
  },
  {
   "cell_type": "markdown",
   "metadata": {},
   "source": [
    "### Visualizing 3D structure\n",
    "Visualizing the **PDB structure** using **NGL**. <br>\n",
    "Try to identify the differences between the structure generated for the **system topology** and the **original one** (e.g. hydrogen atoms).   "
   ]
  },
  {
   "cell_type": "code",
   "execution_count": 10,
   "metadata": {},
   "outputs": [
    {
     "data": {
      "application/vnd.jupyter.widget-view+json": {
       "model_id": "a8c911fff47a41989ba997612753c13e",
       "version_major": 2,
       "version_minor": 0
      },
      "text/plain": [
       "NGLWidget()"
      ]
     },
     "metadata": {},
     "output_type": "display_data"
    }
   ],
   "source": [
    "# Show protein\n",
    "view = nglview.show_structure_file(output_pdb_path)\n",
    "view.add_representation(repr_type='ball+stick', selection='all')\n",
    "view._remote_call('setSize', target='Widget', args=['','600px'])\n",
    "view"
   ]
  },
  {
   "cell_type": "markdown",
   "metadata": {},
   "source": [
    "<a id=\"minv\"></a>\n",
    "## Energetically minimize the structure\n",
    "\n",
    "**Energetically minimize** the **protein structure** (in vacuo) using the **sander tool** from the **AMBER MD package**. This step is **relaxing the structure**, usually **constrained**, especially when coming from an X-ray **crystal structure**. <br/>\n",
    "\n",
    "The **miminization process** is done in two steps:\n",
    "- [Step 1](#minv_1): **Hydrogen** minimization, applying **position restraints** (50 Kcal/mol.$Å^{2}$) to the **protein heavy atoms**.\n",
    "- [Step 2](#minv_2): **System** minimization, applying **position restraints** (50 Kcal/mol.$Å^{2}$) to the **protein heavy atoms**.\n",
    "***\n",
    "**Building Blocks** used:\n",
    " - [sander_mdrun](https://biobb-amber.readthedocs.io/en/latest/sander.html#module-sander.sander_mdrun) from **biobb_amber.sander.sander_mdrun**\n",
    " - [process_minout](https://biobb-amber.readthedocs.io/en/latest/process.html#module-process.process_minout) from **biobb_amber.process.process_minout**\n",
    "***"
   ]
  },
  {
   "cell_type": "markdown",
   "metadata": {},
   "source": [
    "<a id=\"minv_1\"></a>\n",
    "### Step 1: Minimize Hydrogens\n",
    "**Hydrogen** minimization, applying **position restraints** (50 Kcal/mol.$Å^{2}$) to the **protein heavy atoms**."
   ]
  },
  {
   "cell_type": "code",
   "execution_count": 11,
   "metadata": {},
   "outputs": [
    {
     "name": "stdout",
     "output_type": "stream",
     "text": [
      "2025-07-31 15:50:32,765 [MainThread  ] [INFO ]  Module: biobb_amber.sander.sander_mdrun Version: 5.1.0\n",
      "2025-07-31 15:50:32,766 [MainThread  ] [INFO ]  /Users/gbayarri/biobb_wf_amber/biobb_wf_amber/notebooks/md_setup/sandbox_e1ffa8cd-9c2a-465d-9278-cbd67718e585 directory successfully created\n",
      "2025-07-31 15:50:32,768 [MainThread  ] [INFO ]  Copy: structure.leap.top to /Users/gbayarri/biobb_wf_amber/biobb_wf_amber/notebooks/md_setup/sandbox_e1ffa8cd-9c2a-465d-9278-cbd67718e585\n",
      "2025-07-31 15:50:32,769 [MainThread  ] [INFO ]  Copy: structure.leap.crd to /Users/gbayarri/biobb_wf_amber/biobb_wf_amber/notebooks/md_setup/sandbox_e1ffa8cd-9c2a-465d-9278-cbd67718e585\n",
      "2025-07-31 15:50:32,770 [MainThread  ] [INFO ]  Copy: structure.leap.crd to /Users/gbayarri/biobb_wf_amber/biobb_wf_amber/notebooks/md_setup/sandbox_e1ffa8cd-9c2a-465d-9278-cbd67718e585\n",
      "2025-07-31 15:50:32,770 [MainThread  ] [INFO ]  Creating f5b1749d-f168-4ca4-93da-244d1489ebf5 temporary folder\n",
      "2025-07-31 15:50:32,771 [MainThread  ] [INFO ]  sander -O -i f5b1749d-f168-4ca4-93da-244d1489ebf5/sander.mdin -p /Users/gbayarri/biobb_wf_amber/biobb_wf_amber/notebooks/md_setup/sandbox_e1ffa8cd-9c2a-465d-9278-cbd67718e585/structure.leap.top -c /Users/gbayarri/biobb_wf_amber/biobb_wf_amber/notebooks/md_setup/sandbox_e1ffa8cd-9c2a-465d-9278-cbd67718e585/structure.leap.crd -r /Users/gbayarri/biobb_wf_amber/biobb_wf_amber/notebooks/md_setup/sandbox_e1ffa8cd-9c2a-465d-9278-cbd67718e585/sander.h_min.rst -o /Users/gbayarri/biobb_wf_amber/biobb_wf_amber/notebooks/md_setup/sandbox_e1ffa8cd-9c2a-465d-9278-cbd67718e585/sander.h_min.log -x /Users/gbayarri/biobb_wf_amber/biobb_wf_amber/notebooks/md_setup/sandbox_e1ffa8cd-9c2a-465d-9278-cbd67718e585/sander.h_min.x -ref /Users/gbayarri/biobb_wf_amber/biobb_wf_amber/notebooks/md_setup/sandbox_e1ffa8cd-9c2a-465d-9278-cbd67718e585/structure.leap.crd\n",
      "\n",
      "2025-07-31 15:50:36,264 [MainThread  ] [INFO ]  Executing: sander -O -i f5b1749d-f168-4ca4-93da-244d1489ebf5/sander.mdin -p /Users/gbayarri...\n",
      "2025-07-31 15:50:36,265 [MainThread  ] [INFO ]  Exit code: 0\n",
      "2025-07-31 15:50:36,268 [MainThread  ] [INFO ]  Removed: ['/Users/gbayarri/biobb_wf_amber/biobb_wf_amber/notebooks/md_setup/sandbox_e1ffa8cd-9c2a-465d-9278-cbd67718e585', 'mdinfo', 'f5b1749d-f168-4ca4-93da-244d1489ebf5']\n",
      "2025-07-31 15:50:36,269 [MainThread  ] [INFO ]  Path sander.h_min.x --- biobb_amber.sander.sander_mdrun: Unexisting output_traj_path file.\n",
      "2025-07-31 15:50:36,270 [MainThread  ] [INFO ]  \n"
     ]
    },
    {
     "name": "stderr",
     "output_type": "stream",
     "text": [
      "/Users/gbayarri/miniconda3/envs/biobb_wf_amber/lib/python3.12/site-packages/biobb_common/tools/file_utils.py:771: UserWarning: Path sander.h_min.x --- biobb_amber.sander.sander_mdrun: Unexisting output_traj_path file.\n",
      "  warnings.warn(not_found_error_string)\n"
     ]
    },
    {
     "data": {
      "text/plain": [
       "0"
      ]
     },
     "execution_count": 11,
     "metadata": {},
     "output_type": "execute_result"
    }
   ],
   "source": [
    "# Import module\n",
    "from biobb_amber.sander.sander_mdrun import sander_mdrun\n",
    "\n",
    "# Create prop dict and inputs/outputs\n",
    "output_h_min_traj_path = 'sander.h_min.x'\n",
    "output_h_min_rst_path = 'sander.h_min.rst'\n",
    "output_h_min_log_path = 'sander.h_min.log'\n",
    "\n",
    "prop = {\n",
    "    'simulation_type' : \"min_vacuo\",\n",
    "    \"mdin\" : { \n",
    "        'maxcyc' : 500,\n",
    "        'ntpr' : 5,\n",
    "        'ntr' : 1,\n",
    "        'restraintmask' : '\\\":*&!@H=\\\"',\n",
    "        'restraint_wt' : 50.0\n",
    "    }\n",
    "}\n",
    "\n",
    "# Create and launch bb\n",
    "sander_mdrun(input_top_path=output_top_path,\n",
    "            input_crd_path=output_crd_path,\n",
    "            input_ref_path=output_crd_path,\n",
    "            output_traj_path=output_h_min_traj_path,\n",
    "            output_rst_path=output_h_min_rst_path,\n",
    "            output_log_path=output_h_min_log_path,\n",
    "            properties=prop)"
   ]
  },
  {
   "cell_type": "markdown",
   "metadata": {},
   "source": [
    "### Checking Energy Minimization results\n",
    "Checking **energy minimization** results. Plotting **potential energy** along time during the **minimization process**."
   ]
  },
  {
   "cell_type": "code",
   "execution_count": 12,
   "metadata": {},
   "outputs": [
    {
     "name": "stdout",
     "output_type": "stream",
     "text": [
      "2025-07-31 15:50:36,278 [MainThread  ] [INFO ]  Module: biobb_amber.process.process_minout Version: 5.1.0\n",
      "2025-07-31 15:50:36,278 [MainThread  ] [INFO ]  /Users/gbayarri/biobb_wf_amber/biobb_wf_amber/notebooks/md_setup/sandbox_7343250b-b717-423e-9487-9d0a33ccb7dc directory successfully created\n",
      "2025-07-31 15:50:36,280 [MainThread  ] [INFO ]  Copy: sander.h_min.log to /Users/gbayarri/biobb_wf_amber/biobb_wf_amber/notebooks/md_setup/sandbox_7343250b-b717-423e-9487-9d0a33ccb7dc\n",
      "2025-07-31 15:50:36,281 [MainThread  ] [INFO ]  Creating 655195ad-6108-444a-86ce-991510818ea3 temporary folder\n",
      "2025-07-31 15:50:36,281 [MainThread  ] [INFO ]  cd 655195ad-6108-444a-86ce-991510818ea3 ; process_minout.perl /Users/gbayarri/biobb_wf_amber/biobb_wf_amber/notebooks/md_setup/sandbox_7343250b-b717-423e-9487-9d0a33ccb7dc/sander.h_min.log\n",
      "\n",
      "2025-07-31 15:50:36,355 [MainThread  ] [INFO ]  Executing: cd 655195ad-6108-444a-86ce-991510818ea3 ; process_minout.perl /Users/gbayarri/bi...\n",
      "2025-07-31 15:50:36,356 [MainThread  ] [INFO ]  Exit code: 0\n",
      "2025-07-31 15:50:36,357 [MainThread  ] [INFO ]  Processing sander output file (/Users/gbayarri/biobb_wf_amber/biobb_wf_amber/notebooks/md_setup/sandbox_7343250b-b717-423e-9487-9d0a33ccb7dc/sander.h_min.log)...\n",
      "Processing step 50 of a possible 500...\n",
      "Processing step 100 of a possible 500...\n",
      "Processing step 150 of a possible 500...\n",
      "Processing step 200 of a possible 500...\n",
      "Processing step 250 of a possible 500...\n",
      "Processing step 300 of a possible 500...\n",
      "Processing step 350 of a possible 500...\n",
      "Processing step 400 of a possible 500...\n",
      "Processing step 450 of a possible 500...\n",
      "Processing step 500 of a possible 500...\n",
      "Processing step 500 of a possible 500...\n",
      "Starting output...\n",
      "Outputing summary.NSTEP\n",
      "Outputing summary.ENERGY\n",
      "Outputing summary.RMS\n",
      "Outputing summary.GMAX\n",
      "Outputing summary.NAME\n",
      "Outputing summary.NUMBER\n",
      "Outputing summary.BOND\n",
      "Outputing summary.ANGLE\n",
      "Outputing summary.DIHEDRAL\n",
      "Outputing summary.VDWAALS\n",
      "Outputing summary.EEL\n",
      "Outputing summary.HBOND\n",
      "Outputing summary.VDW14\n",
      "Outputing summary.EEL14\n",
      "Outputing summary.RESTRAINT\n",
      "\n",
      "2025-07-31 15:50:36,359 [MainThread  ] [INFO ]  Removed: ['/Users/gbayarri/biobb_wf_amber/biobb_wf_amber/notebooks/md_setup/sandbox_7343250b-b717-423e-9487-9d0a33ccb7dc', '655195ad-6108-444a-86ce-991510818ea3']\n",
      "2025-07-31 15:50:36,360 [MainThread  ] [INFO ]  \n"
     ]
    },
    {
     "data": {
      "text/plain": [
       "0"
      ]
     },
     "execution_count": 12,
     "metadata": {},
     "output_type": "execute_result"
    }
   ],
   "source": [
    "# Import module\n",
    "from biobb_amber.process.process_minout import process_minout\n",
    "\n",
    "# Create prop dict and inputs/outputs\n",
    "output_h_min_dat_path = 'sander.h_min.energy.dat'\n",
    "\n",
    "prop = {\n",
    "    \"terms\" : ['ENERGY']\n",
    "}\n",
    "\n",
    "# Create and launch bb\n",
    "process_minout(input_log_path=output_h_min_log_path,\n",
    "            output_dat_path=output_h_min_dat_path,\n",
    "            properties=prop)  "
   ]
  },
  {
   "cell_type": "code",
   "execution_count": 13,
   "metadata": {},
   "outputs": [
    {
     "data": {
      "application/vnd.plotly.v1+json": {
       "config": {
        "plotlyServerURL": "https://plot.ly"
       },
       "data": [
        {
         "mode": "lines",
         "type": "scatter",
         "x": [
          1,
          5,
          10,
          15,
          20,
          25,
          30,
          35,
          40,
          45,
          50,
          55,
          60,
          65,
          70,
          75,
          80,
          85,
          90,
          95,
          100,
          105,
          110,
          115,
          120,
          125,
          130,
          135,
          140,
          145,
          150,
          155,
          160,
          165,
          170,
          175,
          180,
          185,
          190,
          195,
          200,
          205,
          210,
          215,
          220,
          225,
          230,
          235,
          240,
          245,
          250,
          255,
          260,
          265,
          270,
          275,
          280,
          285,
          290,
          295,
          300,
          305,
          310,
          315,
          320,
          325,
          330,
          335,
          340,
          345,
          350,
          355,
          360,
          365,
          370,
          375,
          380,
          385,
          390,
          395,
          400,
          405,
          410,
          415,
          420,
          425,
          430,
          435,
          440,
          445,
          450,
          455,
          460,
          465,
          470,
          475,
          480,
          485,
          490,
          495,
          500
         ],
         "y": [
          -2451,
          -2527.1,
          -2688.8,
          -2924.3,
          -3206,
          -3156.2,
          -3234.2,
          -3258.1,
          -3270.7,
          -3283,
          -3231,
          -3236.9,
          -3244.1,
          -3250.3,
          -3258.7,
          -3135.9,
          -3141.2,
          -3149.5,
          -3153.7,
          -3158.4,
          -3105.5,
          -3109.5,
          -3113.3,
          -3115.8,
          -3118.6,
          -3295,
          -3298.4,
          -3299.4,
          -3302.5,
          -3304,
          -3209.8,
          -3211.4,
          -3212.5,
          -3213.6,
          -3214.6,
          -3349.5,
          -3350.4,
          -3351.4,
          -3352.4,
          -3353.7,
          -3248.8,
          -3249.7,
          -3250.8,
          -3251.7,
          -3252.8,
          -3342,
          -3343.1,
          -3344.1,
          -3345.2,
          -3346.3,
          -3299.7,
          -3302.9,
          -3305.2,
          -3306.3,
          -3307.5,
          -3386,
          -3385.9,
          -3387.1,
          -3387.8,
          -3388.1,
          -3374.3,
          -3372.6,
          -3374.8,
          -3375.2,
          -3375.4,
          -3477,
          -3476.8,
          -3477.8,
          -3478.3,
          -3478.7,
          -3323.7,
          -3323.9,
          -3324.7,
          -3325.5,
          -3327,
          -3514.3,
          -3514.9,
          -3515.9,
          -3517.1,
          -3517.6,
          -3412.8,
          -3410.8,
          -3413.1,
          -3413.4,
          -3413.7,
          -3497,
          -3496.6,
          -3497.6,
          -3497.9,
          -3498.1,
          -3394.1,
          -3392,
          -3394.4,
          -3394.6,
          -3394.7,
          -3467.6,
          -3466.2,
          -3467.9,
          -3468,
          -3468.1,
          -3430.2
         ]
        }
       ],
       "layout": {
        "height": 600,
        "template": {
         "data": {
          "bar": [
           {
            "error_x": {
             "color": "#2a3f5f"
            },
            "error_y": {
             "color": "#2a3f5f"
            },
            "marker": {
             "line": {
              "color": "#E5ECF6",
              "width": 0.5
             },
             "pattern": {
              "fillmode": "overlay",
              "size": 10,
              "solidity": 0.2
             }
            },
            "type": "bar"
           }
          ],
          "barpolar": [
           {
            "marker": {
             "line": {
              "color": "#E5ECF6",
              "width": 0.5
             },
             "pattern": {
              "fillmode": "overlay",
              "size": 10,
              "solidity": 0.2
             }
            },
            "type": "barpolar"
           }
          ],
          "carpet": [
           {
            "aaxis": {
             "endlinecolor": "#2a3f5f",
             "gridcolor": "white",
             "linecolor": "white",
             "minorgridcolor": "white",
             "startlinecolor": "#2a3f5f"
            },
            "baxis": {
             "endlinecolor": "#2a3f5f",
             "gridcolor": "white",
             "linecolor": "white",
             "minorgridcolor": "white",
             "startlinecolor": "#2a3f5f"
            },
            "type": "carpet"
           }
          ],
          "choropleth": [
           {
            "colorbar": {
             "outlinewidth": 0,
             "ticks": ""
            },
            "type": "choropleth"
           }
          ],
          "contour": [
           {
            "colorbar": {
             "outlinewidth": 0,
             "ticks": ""
            },
            "colorscale": [
             [
              0,
              "#0d0887"
             ],
             [
              0.1111111111111111,
              "#46039f"
             ],
             [
              0.2222222222222222,
              "#7201a8"
             ],
             [
              0.3333333333333333,
              "#9c179e"
             ],
             [
              0.4444444444444444,
              "#bd3786"
             ],
             [
              0.5555555555555556,
              "#d8576b"
             ],
             [
              0.6666666666666666,
              "#ed7953"
             ],
             [
              0.7777777777777778,
              "#fb9f3a"
             ],
             [
              0.8888888888888888,
              "#fdca26"
             ],
             [
              1,
              "#f0f921"
             ]
            ],
            "type": "contour"
           }
          ],
          "contourcarpet": [
           {
            "colorbar": {
             "outlinewidth": 0,
             "ticks": ""
            },
            "type": "contourcarpet"
           }
          ],
          "heatmap": [
           {
            "colorbar": {
             "outlinewidth": 0,
             "ticks": ""
            },
            "colorscale": [
             [
              0,
              "#0d0887"
             ],
             [
              0.1111111111111111,
              "#46039f"
             ],
             [
              0.2222222222222222,
              "#7201a8"
             ],
             [
              0.3333333333333333,
              "#9c179e"
             ],
             [
              0.4444444444444444,
              "#bd3786"
             ],
             [
              0.5555555555555556,
              "#d8576b"
             ],
             [
              0.6666666666666666,
              "#ed7953"
             ],
             [
              0.7777777777777778,
              "#fb9f3a"
             ],
             [
              0.8888888888888888,
              "#fdca26"
             ],
             [
              1,
              "#f0f921"
             ]
            ],
            "type": "heatmap"
           }
          ],
          "histogram": [
           {
            "marker": {
             "pattern": {
              "fillmode": "overlay",
              "size": 10,
              "solidity": 0.2
             }
            },
            "type": "histogram"
           }
          ],
          "histogram2d": [
           {
            "colorbar": {
             "outlinewidth": 0,
             "ticks": ""
            },
            "colorscale": [
             [
              0,
              "#0d0887"
             ],
             [
              0.1111111111111111,
              "#46039f"
             ],
             [
              0.2222222222222222,
              "#7201a8"
             ],
             [
              0.3333333333333333,
              "#9c179e"
             ],
             [
              0.4444444444444444,
              "#bd3786"
             ],
             [
              0.5555555555555556,
              "#d8576b"
             ],
             [
              0.6666666666666666,
              "#ed7953"
             ],
             [
              0.7777777777777778,
              "#fb9f3a"
             ],
             [
              0.8888888888888888,
              "#fdca26"
             ],
             [
              1,
              "#f0f921"
             ]
            ],
            "type": "histogram2d"
           }
          ],
          "histogram2dcontour": [
           {
            "colorbar": {
             "outlinewidth": 0,
             "ticks": ""
            },
            "colorscale": [
             [
              0,
              "#0d0887"
             ],
             [
              0.1111111111111111,
              "#46039f"
             ],
             [
              0.2222222222222222,
              "#7201a8"
             ],
             [
              0.3333333333333333,
              "#9c179e"
             ],
             [
              0.4444444444444444,
              "#bd3786"
             ],
             [
              0.5555555555555556,
              "#d8576b"
             ],
             [
              0.6666666666666666,
              "#ed7953"
             ],
             [
              0.7777777777777778,
              "#fb9f3a"
             ],
             [
              0.8888888888888888,
              "#fdca26"
             ],
             [
              1,
              "#f0f921"
             ]
            ],
            "type": "histogram2dcontour"
           }
          ],
          "mesh3d": [
           {
            "colorbar": {
             "outlinewidth": 0,
             "ticks": ""
            },
            "type": "mesh3d"
           }
          ],
          "parcoords": [
           {
            "line": {
             "colorbar": {
              "outlinewidth": 0,
              "ticks": ""
             }
            },
            "type": "parcoords"
           }
          ],
          "pie": [
           {
            "automargin": true,
            "type": "pie"
           }
          ],
          "scatter": [
           {
            "fillpattern": {
             "fillmode": "overlay",
             "size": 10,
             "solidity": 0.2
            },
            "type": "scatter"
           }
          ],
          "scatter3d": [
           {
            "line": {
             "colorbar": {
              "outlinewidth": 0,
              "ticks": ""
             }
            },
            "marker": {
             "colorbar": {
              "outlinewidth": 0,
              "ticks": ""
             }
            },
            "type": "scatter3d"
           }
          ],
          "scattercarpet": [
           {
            "marker": {
             "colorbar": {
              "outlinewidth": 0,
              "ticks": ""
             }
            },
            "type": "scattercarpet"
           }
          ],
          "scattergeo": [
           {
            "marker": {
             "colorbar": {
              "outlinewidth": 0,
              "ticks": ""
             }
            },
            "type": "scattergeo"
           }
          ],
          "scattergl": [
           {
            "marker": {
             "colorbar": {
              "outlinewidth": 0,
              "ticks": ""
             }
            },
            "type": "scattergl"
           }
          ],
          "scattermap": [
           {
            "marker": {
             "colorbar": {
              "outlinewidth": 0,
              "ticks": ""
             }
            },
            "type": "scattermap"
           }
          ],
          "scattermapbox": [
           {
            "marker": {
             "colorbar": {
              "outlinewidth": 0,
              "ticks": ""
             }
            },
            "type": "scattermapbox"
           }
          ],
          "scatterpolar": [
           {
            "marker": {
             "colorbar": {
              "outlinewidth": 0,
              "ticks": ""
             }
            },
            "type": "scatterpolar"
           }
          ],
          "scatterpolargl": [
           {
            "marker": {
             "colorbar": {
              "outlinewidth": 0,
              "ticks": ""
             }
            },
            "type": "scatterpolargl"
           }
          ],
          "scatterternary": [
           {
            "marker": {
             "colorbar": {
              "outlinewidth": 0,
              "ticks": ""
             }
            },
            "type": "scatterternary"
           }
          ],
          "surface": [
           {
            "colorbar": {
             "outlinewidth": 0,
             "ticks": ""
            },
            "colorscale": [
             [
              0,
              "#0d0887"
             ],
             [
              0.1111111111111111,
              "#46039f"
             ],
             [
              0.2222222222222222,
              "#7201a8"
             ],
             [
              0.3333333333333333,
              "#9c179e"
             ],
             [
              0.4444444444444444,
              "#bd3786"
             ],
             [
              0.5555555555555556,
              "#d8576b"
             ],
             [
              0.6666666666666666,
              "#ed7953"
             ],
             [
              0.7777777777777778,
              "#fb9f3a"
             ],
             [
              0.8888888888888888,
              "#fdca26"
             ],
             [
              1,
              "#f0f921"
             ]
            ],
            "type": "surface"
           }
          ],
          "table": [
           {
            "cells": {
             "fill": {
              "color": "#EBF0F8"
             },
             "line": {
              "color": "white"
             }
            },
            "header": {
             "fill": {
              "color": "#C8D4E3"
             },
             "line": {
              "color": "white"
             }
            },
            "type": "table"
           }
          ]
         },
         "layout": {
          "annotationdefaults": {
           "arrowcolor": "#2a3f5f",
           "arrowhead": 0,
           "arrowwidth": 1
          },
          "autotypenumbers": "strict",
          "coloraxis": {
           "colorbar": {
            "outlinewidth": 0,
            "ticks": ""
           }
          },
          "colorscale": {
           "diverging": [
            [
             0,
             "#8e0152"
            ],
            [
             0.1,
             "#c51b7d"
            ],
            [
             0.2,
             "#de77ae"
            ],
            [
             0.3,
             "#f1b6da"
            ],
            [
             0.4,
             "#fde0ef"
            ],
            [
             0.5,
             "#f7f7f7"
            ],
            [
             0.6,
             "#e6f5d0"
            ],
            [
             0.7,
             "#b8e186"
            ],
            [
             0.8,
             "#7fbc41"
            ],
            [
             0.9,
             "#4d9221"
            ],
            [
             1,
             "#276419"
            ]
           ],
           "sequential": [
            [
             0,
             "#0d0887"
            ],
            [
             0.1111111111111111,
             "#46039f"
            ],
            [
             0.2222222222222222,
             "#7201a8"
            ],
            [
             0.3333333333333333,
             "#9c179e"
            ],
            [
             0.4444444444444444,
             "#bd3786"
            ],
            [
             0.5555555555555556,
             "#d8576b"
            ],
            [
             0.6666666666666666,
             "#ed7953"
            ],
            [
             0.7777777777777778,
             "#fb9f3a"
            ],
            [
             0.8888888888888888,
             "#fdca26"
            ],
            [
             1,
             "#f0f921"
            ]
           ],
           "sequentialminus": [
            [
             0,
             "#0d0887"
            ],
            [
             0.1111111111111111,
             "#46039f"
            ],
            [
             0.2222222222222222,
             "#7201a8"
            ],
            [
             0.3333333333333333,
             "#9c179e"
            ],
            [
             0.4444444444444444,
             "#bd3786"
            ],
            [
             0.5555555555555556,
             "#d8576b"
            ],
            [
             0.6666666666666666,
             "#ed7953"
            ],
            [
             0.7777777777777778,
             "#fb9f3a"
            ],
            [
             0.8888888888888888,
             "#fdca26"
            ],
            [
             1,
             "#f0f921"
            ]
           ]
          },
          "colorway": [
           "#636efa",
           "#EF553B",
           "#00cc96",
           "#ab63fa",
           "#FFA15A",
           "#19d3f3",
           "#FF6692",
           "#B6E880",
           "#FF97FF",
           "#FECB52"
          ],
          "font": {
           "color": "#2a3f5f"
          },
          "geo": {
           "bgcolor": "white",
           "lakecolor": "white",
           "landcolor": "#E5ECF6",
           "showlakes": true,
           "showland": true,
           "subunitcolor": "white"
          },
          "hoverlabel": {
           "align": "left"
          },
          "hovermode": "closest",
          "mapbox": {
           "style": "light"
          },
          "paper_bgcolor": "white",
          "plot_bgcolor": "#E5ECF6",
          "polar": {
           "angularaxis": {
            "gridcolor": "white",
            "linecolor": "white",
            "ticks": ""
           },
           "bgcolor": "#E5ECF6",
           "radialaxis": {
            "gridcolor": "white",
            "linecolor": "white",
            "ticks": ""
           }
          },
          "scene": {
           "xaxis": {
            "backgroundcolor": "#E5ECF6",
            "gridcolor": "white",
            "gridwidth": 2,
            "linecolor": "white",
            "showbackground": true,
            "ticks": "",
            "zerolinecolor": "white"
           },
           "yaxis": {
            "backgroundcolor": "#E5ECF6",
            "gridcolor": "white",
            "gridwidth": 2,
            "linecolor": "white",
            "showbackground": true,
            "ticks": "",
            "zerolinecolor": "white"
           },
           "zaxis": {
            "backgroundcolor": "#E5ECF6",
            "gridcolor": "white",
            "gridwidth": 2,
            "linecolor": "white",
            "showbackground": true,
            "ticks": "",
            "zerolinecolor": "white"
           }
          },
          "shapedefaults": {
           "line": {
            "color": "#2a3f5f"
           }
          },
          "ternary": {
           "aaxis": {
            "gridcolor": "white",
            "linecolor": "white",
            "ticks": ""
           },
           "baxis": {
            "gridcolor": "white",
            "linecolor": "white",
            "ticks": ""
           },
           "bgcolor": "#E5ECF6",
           "caxis": {
            "gridcolor": "white",
            "linecolor": "white",
            "ticks": ""
           }
          },
          "title": {
           "x": 0.05
          },
          "xaxis": {
           "automargin": true,
           "gridcolor": "white",
           "linecolor": "white",
           "ticks": "",
           "title": {
            "standoff": 15
           },
           "zerolinecolor": "white",
           "zerolinewidth": 2
          },
          "yaxis": {
           "automargin": true,
           "gridcolor": "white",
           "linecolor": "white",
           "ticks": "",
           "title": {
            "standoff": 15
           },
           "zerolinecolor": "white",
           "zerolinewidth": 2
          }
         }
        },
        "title": {
         "text": "Energy Minimization"
        },
        "xaxis": {
         "title": {
          "text": "Energy Minimization Step"
         }
        },
        "yaxis": {
         "title": {
          "text": "Potential Energy kcal/mol"
         }
        }
       }
      }
     },
     "metadata": {},
     "output_type": "display_data"
    }
   ],
   "source": [
    "import plotly.graph_objs as go\n",
    "\n",
    "with open(output_h_min_dat_path, 'r') as energy_file:\n",
    "    x, y = zip(*[\n",
    "        (float(line.split()[0]), float(line.split()[1]))\n",
    "        for line in energy_file\n",
    "        if not line.startswith((\"#\", \"@\"))\n",
    "        if float(line.split()[1]) < 1000\n",
    "    ])\n",
    "\n",
    "# Create a scatter plot\n",
    "fig = go.Figure(data=go.Scatter(x=x, y=y, mode='lines'))\n",
    "\n",
    "# Update layout\n",
    "fig.update_layout(title=\"Energy Minimization\",\n",
    "                  xaxis_title=\"Energy Minimization Step\",\n",
    "                  yaxis_title=\"Potential Energy kcal/mol\",\n",
    "                  height=600)\n",
    "\n",
    "# Show the figure (renderer changes for colab and jupyter)\n",
    "rend = 'colab' if 'google.colab' in sys.modules else ''\n",
    "fig.show(renderer=rend)"
   ]
  },
  {
   "cell_type": "markdown",
   "metadata": {},
   "source": [
    "<a id=\"minv_2\"></a>\n",
    "### Step 2: Minimize the system\n",
    "**System** minimization, applying **position restraints** (50 Kcal/mol.$Å^{2}$) to the **protein heavy atoms**."
   ]
  },
  {
   "cell_type": "code",
   "execution_count": 14,
   "metadata": {},
   "outputs": [
    {
     "name": "stdout",
     "output_type": "stream",
     "text": [
      "2025-07-31 15:50:37,695 [MainThread  ] [INFO ]  Module: biobb_amber.sander.sander_mdrun Version: 5.1.0\n",
      "2025-07-31 15:50:37,695 [MainThread  ] [INFO ]  /Users/gbayarri/biobb_wf_amber/biobb_wf_amber/notebooks/md_setup/sandbox_603a5af7-bf38-4a48-8234-548f644e9dcc directory successfully created\n",
      "2025-07-31 15:50:37,697 [MainThread  ] [INFO ]  Copy: structure.leap.top to /Users/gbayarri/biobb_wf_amber/biobb_wf_amber/notebooks/md_setup/sandbox_603a5af7-bf38-4a48-8234-548f644e9dcc\n",
      "2025-07-31 15:50:37,697 [MainThread  ] [INFO ]  Copy: sander.h_min.rst to /Users/gbayarri/biobb_wf_amber/biobb_wf_amber/notebooks/md_setup/sandbox_603a5af7-bf38-4a48-8234-548f644e9dcc\n",
      "2025-07-31 15:50:37,698 [MainThread  ] [INFO ]  Copy: sander.h_min.rst to /Users/gbayarri/biobb_wf_amber/biobb_wf_amber/notebooks/md_setup/sandbox_603a5af7-bf38-4a48-8234-548f644e9dcc\n",
      "2025-07-31 15:50:37,699 [MainThread  ] [INFO ]  Creating 9427bdbe-e191-470c-b9bf-76913b894017 temporary folder\n",
      "2025-07-31 15:50:37,700 [MainThread  ] [INFO ]  sander -O -i 9427bdbe-e191-470c-b9bf-76913b894017/sander.mdin -p /Users/gbayarri/biobb_wf_amber/biobb_wf_amber/notebooks/md_setup/sandbox_603a5af7-bf38-4a48-8234-548f644e9dcc/structure.leap.top -c /Users/gbayarri/biobb_wf_amber/biobb_wf_amber/notebooks/md_setup/sandbox_603a5af7-bf38-4a48-8234-548f644e9dcc/sander.h_min.rst -r /Users/gbayarri/biobb_wf_amber/biobb_wf_amber/notebooks/md_setup/sandbox_603a5af7-bf38-4a48-8234-548f644e9dcc/sander.n_min.rst -o /Users/gbayarri/biobb_wf_amber/biobb_wf_amber/notebooks/md_setup/sandbox_603a5af7-bf38-4a48-8234-548f644e9dcc/sander.n_min.log -x /Users/gbayarri/biobb_wf_amber/biobb_wf_amber/notebooks/md_setup/sandbox_603a5af7-bf38-4a48-8234-548f644e9dcc/sander.n_min.x -ref /Users/gbayarri/biobb_wf_amber/biobb_wf_amber/notebooks/md_setup/sandbox_603a5af7-bf38-4a48-8234-548f644e9dcc/sander.h_min.rst\n",
      "\n",
      "2025-07-31 15:50:41,188 [MainThread  ] [INFO ]  Executing: sander -O -i 9427bdbe-e191-470c-b9bf-76913b894017/sander.mdin -p /Users/gbayarri...\n",
      "2025-07-31 15:50:41,189 [MainThread  ] [INFO ]  Exit code: 0\n",
      "2025-07-31 15:50:41,192 [MainThread  ] [INFO ]  Removed: ['/Users/gbayarri/biobb_wf_amber/biobb_wf_amber/notebooks/md_setup/sandbox_603a5af7-bf38-4a48-8234-548f644e9dcc', 'mdinfo', '9427bdbe-e191-470c-b9bf-76913b894017']\n",
      "2025-07-31 15:50:41,193 [MainThread  ] [INFO ]  Path sander.n_min.x --- biobb_amber.sander.sander_mdrun: Unexisting output_traj_path file.\n",
      "2025-07-31 15:50:41,194 [MainThread  ] [INFO ]  \n"
     ]
    },
    {
     "name": "stderr",
     "output_type": "stream",
     "text": [
      "/Users/gbayarri/miniconda3/envs/biobb_wf_amber/lib/python3.12/site-packages/biobb_common/tools/file_utils.py:771: UserWarning:\n",
      "\n",
      "Path sander.n_min.x --- biobb_amber.sander.sander_mdrun: Unexisting output_traj_path file.\n",
      "\n"
     ]
    },
    {
     "data": {
      "text/plain": [
       "0"
      ]
     },
     "execution_count": 14,
     "metadata": {},
     "output_type": "execute_result"
    }
   ],
   "source": [
    "# Import module\n",
    "from biobb_amber.sander.sander_mdrun import sander_mdrun\n",
    "\n",
    "# Create prop dict and inputs/outputs\n",
    "output_n_min_traj_path = 'sander.n_min.x'\n",
    "output_n_min_rst_path = 'sander.n_min.rst'\n",
    "output_n_min_log_path = 'sander.n_min.log'\n",
    "\n",
    "prop = {\n",
    "    'simulation_type' : \"min_vacuo\",\n",
    "    \"mdin\" : { \n",
    "        'maxcyc' : 500,\n",
    "        'ntpr' : 5,\n",
    "        'ntr' : 1,\n",
    "        'restraintmask' : '\\\":*&!@H=\\\"',\n",
    "        'restraint_wt' : 50.0\n",
    "    }\n",
    "}\n",
    "\n",
    "# Create and launch bb\n",
    "sander_mdrun(input_top_path=output_top_path,\n",
    "            input_crd_path=output_h_min_rst_path,\n",
    "            input_ref_path=output_h_min_rst_path,\n",
    "            output_traj_path=output_n_min_traj_path,\n",
    "            output_rst_path=output_n_min_rst_path,\n",
    "            output_log_path=output_n_min_log_path,\n",
    "            properties=prop)"
   ]
  },
  {
   "cell_type": "markdown",
   "metadata": {},
   "source": [
    "### Checking Energy Minimization results\n",
    "Checking **energy minimization** results. Plotting **potential energy** by time during the **minimization process**."
   ]
  },
  {
   "cell_type": "code",
   "execution_count": 15,
   "metadata": {},
   "outputs": [
    {
     "name": "stdout",
     "output_type": "stream",
     "text": [
      "2025-07-31 15:50:41,202 [MainThread  ] [INFO ]  Module: biobb_amber.process.process_minout Version: 5.1.0\n",
      "2025-07-31 15:50:41,203 [MainThread  ] [INFO ]  /Users/gbayarri/biobb_wf_amber/biobb_wf_amber/notebooks/md_setup/sandbox_8a84e63f-5254-4634-9a38-8e0415a044b4 directory successfully created\n",
      "2025-07-31 15:50:41,204 [MainThread  ] [INFO ]  Copy: sander.n_min.log to /Users/gbayarri/biobb_wf_amber/biobb_wf_amber/notebooks/md_setup/sandbox_8a84e63f-5254-4634-9a38-8e0415a044b4\n",
      "2025-07-31 15:50:41,205 [MainThread  ] [INFO ]  Creating bf4f39f6-9730-439f-822f-717eae35e405 temporary folder\n",
      "2025-07-31 15:50:41,206 [MainThread  ] [INFO ]  cd bf4f39f6-9730-439f-822f-717eae35e405 ; process_minout.perl /Users/gbayarri/biobb_wf_amber/biobb_wf_amber/notebooks/md_setup/sandbox_8a84e63f-5254-4634-9a38-8e0415a044b4/sander.n_min.log\n",
      "\n",
      "2025-07-31 15:50:41,265 [MainThread  ] [INFO ]  Executing: cd bf4f39f6-9730-439f-822f-717eae35e405 ; process_minout.perl /Users/gbayarri/bi...\n",
      "2025-07-31 15:50:41,266 [MainThread  ] [INFO ]  Exit code: 0\n",
      "2025-07-31 15:50:41,267 [MainThread  ] [INFO ]  Processing sander output file (/Users/gbayarri/biobb_wf_amber/biobb_wf_amber/notebooks/md_setup/sandbox_8a84e63f-5254-4634-9a38-8e0415a044b4/sander.n_min.log)...\n",
      "Processing step 50 of a possible 500...\n",
      "Processing step 100 of a possible 500...\n",
      "Processing step 150 of a possible 500...\n",
      "Processing step 200 of a possible 500...\n",
      "Processing step 250 of a possible 500...\n",
      "Processing step 300 of a possible 500...\n",
      "Processing step 350 of a possible 500...\n",
      "Processing step 400 of a possible 500...\n",
      "Processing step 450 of a possible 500...\n",
      "Processing step 500 of a possible 500...\n",
      "Processing step 500 of a possible 500...\n",
      "Starting output...\n",
      "Outputing summary.NSTEP\n",
      "Outputing summary.ENERGY\n",
      "Outputing summary.RMS\n",
      "Outputing summary.GMAX\n",
      "Outputing summary.NAME\n",
      "Outputing summary.NUMBER\n",
      "Outputing summary.BOND\n",
      "Outputing summary.ANGLE\n",
      "Outputing summary.DIHEDRAL\n",
      "Outputing summary.VDWAALS\n",
      "Outputing summary.EEL\n",
      "Outputing summary.HBOND\n",
      "Outputing summary.VDW14\n",
      "Outputing summary.EEL14\n",
      "Outputing summary.RESTRAINT\n",
      "\n",
      "2025-07-31 15:50:41,270 [MainThread  ] [INFO ]  Removed: ['/Users/gbayarri/biobb_wf_amber/biobb_wf_amber/notebooks/md_setup/sandbox_8a84e63f-5254-4634-9a38-8e0415a044b4', 'bf4f39f6-9730-439f-822f-717eae35e405']\n",
      "2025-07-31 15:50:41,271 [MainThread  ] [INFO ]  \n"
     ]
    },
    {
     "data": {
      "text/plain": [
       "0"
      ]
     },
     "execution_count": 15,
     "metadata": {},
     "output_type": "execute_result"
    }
   ],
   "source": [
    "# Import module\n",
    "from biobb_amber.process.process_minout import process_minout\n",
    "\n",
    "# Create prop dict and inputs/outputs\n",
    "output_n_min_dat_path = 'sander.n_min.energy.dat'\n",
    "\n",
    "prop = {\n",
    "    \"terms\" : ['ENERGY']\n",
    "}\n",
    "\n",
    "# Create and launch bb\n",
    "process_minout(input_log_path=output_n_min_log_path,\n",
    "            output_dat_path=output_n_min_dat_path,\n",
    "            properties=prop)"
   ]
  },
  {
   "cell_type": "code",
   "execution_count": 16,
   "metadata": {},
   "outputs": [
    {
     "data": {
      "application/vnd.plotly.v1+json": {
       "config": {
        "plotlyServerURL": "https://plot.ly"
       },
       "data": [
        {
         "mode": "lines",
         "type": "scatter",
         "x": [
          1,
          5,
          10,
          15,
          20,
          25,
          30,
          35,
          40,
          45,
          50,
          55,
          60,
          65,
          70,
          75,
          80,
          85,
          90,
          95,
          100,
          105,
          110,
          115,
          120,
          125,
          130,
          135,
          140,
          145,
          150,
          155,
          160,
          165,
          170,
          175,
          180,
          185,
          190,
          195,
          200,
          205,
          210,
          215,
          220,
          225,
          230,
          235,
          240,
          245,
          250,
          255,
          260,
          265,
          270,
          275,
          280,
          285,
          290,
          295,
          300,
          305,
          310,
          315,
          320,
          325,
          330,
          335,
          340,
          345,
          350,
          355,
          360,
          365,
          370,
          375,
          380,
          385,
          390,
          395,
          400,
          405,
          410,
          415,
          420,
          425,
          430,
          435,
          440,
          445,
          450,
          455,
          460,
          465,
          470,
          475,
          480,
          485,
          490,
          495,
          500
         ],
         "y": [
          -3556.5,
          -3565.3,
          -3582.5,
          -3603.8,
          -3607.1,
          -3734,
          -3735.4,
          -3736,
          -3736.9,
          -3737.2,
          -3783.5,
          -3784,
          -3784.4,
          -3784.7,
          -3784.9,
          -3639.6,
          -3639.8,
          -3640.1,
          -3640.2,
          -3640.4,
          -3673.1,
          -3673.3,
          -3673.4,
          -3673.5,
          -3673.6,
          -3560.4,
          -3560.5,
          -3560.6,
          -3560.7,
          -3560.8,
          -3636.4,
          -3636.5,
          -3636.6,
          -3636.6,
          -3636.7,
          -3567.3,
          -3567.3,
          -3567.4,
          -3567.4,
          -3567.4,
          -3665.8,
          -3665.9,
          -3665.9,
          -3666,
          -3666,
          -3645.1,
          -3645.2,
          -3645.3,
          -3645.3,
          -3645.3,
          -3627.8,
          -3627.9,
          -3627.9,
          -3628,
          -3628,
          -3668.9,
          -3667.5,
          -3669.2,
          -3669.2,
          -3669.3,
          -3575.3,
          -3571.5,
          -3575.4,
          -3575.5,
          -3575.6,
          -3618.6,
          -3616.5,
          -3618.8,
          -3618.9,
          -3618.9,
          -3604.3,
          -3600,
          -3604.4,
          -3604.4,
          -3604.5,
          -3605.7,
          -3603.4,
          -3605.9,
          -3605.9,
          -3605.9,
          -3601.1,
          -3597.3,
          -3601.3,
          -3601.3,
          -3601.4,
          -3579.3,
          -3575.2,
          -3579.4,
          -3579.5,
          -3579.5,
          -3606.2,
          -3604.1,
          -3606.4,
          -3606.4,
          -3606.5,
          -3577.2,
          -3573.9,
          -3577.4,
          -3577.5,
          -3577.5,
          -3591.5
         ]
        }
       ],
       "layout": {
        "height": 600,
        "template": {
         "data": {
          "bar": [
           {
            "error_x": {
             "color": "#2a3f5f"
            },
            "error_y": {
             "color": "#2a3f5f"
            },
            "marker": {
             "line": {
              "color": "#E5ECF6",
              "width": 0.5
             },
             "pattern": {
              "fillmode": "overlay",
              "size": 10,
              "solidity": 0.2
             }
            },
            "type": "bar"
           }
          ],
          "barpolar": [
           {
            "marker": {
             "line": {
              "color": "#E5ECF6",
              "width": 0.5
             },
             "pattern": {
              "fillmode": "overlay",
              "size": 10,
              "solidity": 0.2
             }
            },
            "type": "barpolar"
           }
          ],
          "carpet": [
           {
            "aaxis": {
             "endlinecolor": "#2a3f5f",
             "gridcolor": "white",
             "linecolor": "white",
             "minorgridcolor": "white",
             "startlinecolor": "#2a3f5f"
            },
            "baxis": {
             "endlinecolor": "#2a3f5f",
             "gridcolor": "white",
             "linecolor": "white",
             "minorgridcolor": "white",
             "startlinecolor": "#2a3f5f"
            },
            "type": "carpet"
           }
          ],
          "choropleth": [
           {
            "colorbar": {
             "outlinewidth": 0,
             "ticks": ""
            },
            "type": "choropleth"
           }
          ],
          "contour": [
           {
            "colorbar": {
             "outlinewidth": 0,
             "ticks": ""
            },
            "colorscale": [
             [
              0,
              "#0d0887"
             ],
             [
              0.1111111111111111,
              "#46039f"
             ],
             [
              0.2222222222222222,
              "#7201a8"
             ],
             [
              0.3333333333333333,
              "#9c179e"
             ],
             [
              0.4444444444444444,
              "#bd3786"
             ],
             [
              0.5555555555555556,
              "#d8576b"
             ],
             [
              0.6666666666666666,
              "#ed7953"
             ],
             [
              0.7777777777777778,
              "#fb9f3a"
             ],
             [
              0.8888888888888888,
              "#fdca26"
             ],
             [
              1,
              "#f0f921"
             ]
            ],
            "type": "contour"
           }
          ],
          "contourcarpet": [
           {
            "colorbar": {
             "outlinewidth": 0,
             "ticks": ""
            },
            "type": "contourcarpet"
           }
          ],
          "heatmap": [
           {
            "colorbar": {
             "outlinewidth": 0,
             "ticks": ""
            },
            "colorscale": [
             [
              0,
              "#0d0887"
             ],
             [
              0.1111111111111111,
              "#46039f"
             ],
             [
              0.2222222222222222,
              "#7201a8"
             ],
             [
              0.3333333333333333,
              "#9c179e"
             ],
             [
              0.4444444444444444,
              "#bd3786"
             ],
             [
              0.5555555555555556,
              "#d8576b"
             ],
             [
              0.6666666666666666,
              "#ed7953"
             ],
             [
              0.7777777777777778,
              "#fb9f3a"
             ],
             [
              0.8888888888888888,
              "#fdca26"
             ],
             [
              1,
              "#f0f921"
             ]
            ],
            "type": "heatmap"
           }
          ],
          "histogram": [
           {
            "marker": {
             "pattern": {
              "fillmode": "overlay",
              "size": 10,
              "solidity": 0.2
             }
            },
            "type": "histogram"
           }
          ],
          "histogram2d": [
           {
            "colorbar": {
             "outlinewidth": 0,
             "ticks": ""
            },
            "colorscale": [
             [
              0,
              "#0d0887"
             ],
             [
              0.1111111111111111,
              "#46039f"
             ],
             [
              0.2222222222222222,
              "#7201a8"
             ],
             [
              0.3333333333333333,
              "#9c179e"
             ],
             [
              0.4444444444444444,
              "#bd3786"
             ],
             [
              0.5555555555555556,
              "#d8576b"
             ],
             [
              0.6666666666666666,
              "#ed7953"
             ],
             [
              0.7777777777777778,
              "#fb9f3a"
             ],
             [
              0.8888888888888888,
              "#fdca26"
             ],
             [
              1,
              "#f0f921"
             ]
            ],
            "type": "histogram2d"
           }
          ],
          "histogram2dcontour": [
           {
            "colorbar": {
             "outlinewidth": 0,
             "ticks": ""
            },
            "colorscale": [
             [
              0,
              "#0d0887"
             ],
             [
              0.1111111111111111,
              "#46039f"
             ],
             [
              0.2222222222222222,
              "#7201a8"
             ],
             [
              0.3333333333333333,
              "#9c179e"
             ],
             [
              0.4444444444444444,
              "#bd3786"
             ],
             [
              0.5555555555555556,
              "#d8576b"
             ],
             [
              0.6666666666666666,
              "#ed7953"
             ],
             [
              0.7777777777777778,
              "#fb9f3a"
             ],
             [
              0.8888888888888888,
              "#fdca26"
             ],
             [
              1,
              "#f0f921"
             ]
            ],
            "type": "histogram2dcontour"
           }
          ],
          "mesh3d": [
           {
            "colorbar": {
             "outlinewidth": 0,
             "ticks": ""
            },
            "type": "mesh3d"
           }
          ],
          "parcoords": [
           {
            "line": {
             "colorbar": {
              "outlinewidth": 0,
              "ticks": ""
             }
            },
            "type": "parcoords"
           }
          ],
          "pie": [
           {
            "automargin": true,
            "type": "pie"
           }
          ],
          "scatter": [
           {
            "fillpattern": {
             "fillmode": "overlay",
             "size": 10,
             "solidity": 0.2
            },
            "type": "scatter"
           }
          ],
          "scatter3d": [
           {
            "line": {
             "colorbar": {
              "outlinewidth": 0,
              "ticks": ""
             }
            },
            "marker": {
             "colorbar": {
              "outlinewidth": 0,
              "ticks": ""
             }
            },
            "type": "scatter3d"
           }
          ],
          "scattercarpet": [
           {
            "marker": {
             "colorbar": {
              "outlinewidth": 0,
              "ticks": ""
             }
            },
            "type": "scattercarpet"
           }
          ],
          "scattergeo": [
           {
            "marker": {
             "colorbar": {
              "outlinewidth": 0,
              "ticks": ""
             }
            },
            "type": "scattergeo"
           }
          ],
          "scattergl": [
           {
            "marker": {
             "colorbar": {
              "outlinewidth": 0,
              "ticks": ""
             }
            },
            "type": "scattergl"
           }
          ],
          "scattermap": [
           {
            "marker": {
             "colorbar": {
              "outlinewidth": 0,
              "ticks": ""
             }
            },
            "type": "scattermap"
           }
          ],
          "scattermapbox": [
           {
            "marker": {
             "colorbar": {
              "outlinewidth": 0,
              "ticks": ""
             }
            },
            "type": "scattermapbox"
           }
          ],
          "scatterpolar": [
           {
            "marker": {
             "colorbar": {
              "outlinewidth": 0,
              "ticks": ""
             }
            },
            "type": "scatterpolar"
           }
          ],
          "scatterpolargl": [
           {
            "marker": {
             "colorbar": {
              "outlinewidth": 0,
              "ticks": ""
             }
            },
            "type": "scatterpolargl"
           }
          ],
          "scatterternary": [
           {
            "marker": {
             "colorbar": {
              "outlinewidth": 0,
              "ticks": ""
             }
            },
            "type": "scatterternary"
           }
          ],
          "surface": [
           {
            "colorbar": {
             "outlinewidth": 0,
             "ticks": ""
            },
            "colorscale": [
             [
              0,
              "#0d0887"
             ],
             [
              0.1111111111111111,
              "#46039f"
             ],
             [
              0.2222222222222222,
              "#7201a8"
             ],
             [
              0.3333333333333333,
              "#9c179e"
             ],
             [
              0.4444444444444444,
              "#bd3786"
             ],
             [
              0.5555555555555556,
              "#d8576b"
             ],
             [
              0.6666666666666666,
              "#ed7953"
             ],
             [
              0.7777777777777778,
              "#fb9f3a"
             ],
             [
              0.8888888888888888,
              "#fdca26"
             ],
             [
              1,
              "#f0f921"
             ]
            ],
            "type": "surface"
           }
          ],
          "table": [
           {
            "cells": {
             "fill": {
              "color": "#EBF0F8"
             },
             "line": {
              "color": "white"
             }
            },
            "header": {
             "fill": {
              "color": "#C8D4E3"
             },
             "line": {
              "color": "white"
             }
            },
            "type": "table"
           }
          ]
         },
         "layout": {
          "annotationdefaults": {
           "arrowcolor": "#2a3f5f",
           "arrowhead": 0,
           "arrowwidth": 1
          },
          "autotypenumbers": "strict",
          "coloraxis": {
           "colorbar": {
            "outlinewidth": 0,
            "ticks": ""
           }
          },
          "colorscale": {
           "diverging": [
            [
             0,
             "#8e0152"
            ],
            [
             0.1,
             "#c51b7d"
            ],
            [
             0.2,
             "#de77ae"
            ],
            [
             0.3,
             "#f1b6da"
            ],
            [
             0.4,
             "#fde0ef"
            ],
            [
             0.5,
             "#f7f7f7"
            ],
            [
             0.6,
             "#e6f5d0"
            ],
            [
             0.7,
             "#b8e186"
            ],
            [
             0.8,
             "#7fbc41"
            ],
            [
             0.9,
             "#4d9221"
            ],
            [
             1,
             "#276419"
            ]
           ],
           "sequential": [
            [
             0,
             "#0d0887"
            ],
            [
             0.1111111111111111,
             "#46039f"
            ],
            [
             0.2222222222222222,
             "#7201a8"
            ],
            [
             0.3333333333333333,
             "#9c179e"
            ],
            [
             0.4444444444444444,
             "#bd3786"
            ],
            [
             0.5555555555555556,
             "#d8576b"
            ],
            [
             0.6666666666666666,
             "#ed7953"
            ],
            [
             0.7777777777777778,
             "#fb9f3a"
            ],
            [
             0.8888888888888888,
             "#fdca26"
            ],
            [
             1,
             "#f0f921"
            ]
           ],
           "sequentialminus": [
            [
             0,
             "#0d0887"
            ],
            [
             0.1111111111111111,
             "#46039f"
            ],
            [
             0.2222222222222222,
             "#7201a8"
            ],
            [
             0.3333333333333333,
             "#9c179e"
            ],
            [
             0.4444444444444444,
             "#bd3786"
            ],
            [
             0.5555555555555556,
             "#d8576b"
            ],
            [
             0.6666666666666666,
             "#ed7953"
            ],
            [
             0.7777777777777778,
             "#fb9f3a"
            ],
            [
             0.8888888888888888,
             "#fdca26"
            ],
            [
             1,
             "#f0f921"
            ]
           ]
          },
          "colorway": [
           "#636efa",
           "#EF553B",
           "#00cc96",
           "#ab63fa",
           "#FFA15A",
           "#19d3f3",
           "#FF6692",
           "#B6E880",
           "#FF97FF",
           "#FECB52"
          ],
          "font": {
           "color": "#2a3f5f"
          },
          "geo": {
           "bgcolor": "white",
           "lakecolor": "white",
           "landcolor": "#E5ECF6",
           "showlakes": true,
           "showland": true,
           "subunitcolor": "white"
          },
          "hoverlabel": {
           "align": "left"
          },
          "hovermode": "closest",
          "mapbox": {
           "style": "light"
          },
          "paper_bgcolor": "white",
          "plot_bgcolor": "#E5ECF6",
          "polar": {
           "angularaxis": {
            "gridcolor": "white",
            "linecolor": "white",
            "ticks": ""
           },
           "bgcolor": "#E5ECF6",
           "radialaxis": {
            "gridcolor": "white",
            "linecolor": "white",
            "ticks": ""
           }
          },
          "scene": {
           "xaxis": {
            "backgroundcolor": "#E5ECF6",
            "gridcolor": "white",
            "gridwidth": 2,
            "linecolor": "white",
            "showbackground": true,
            "ticks": "",
            "zerolinecolor": "white"
           },
           "yaxis": {
            "backgroundcolor": "#E5ECF6",
            "gridcolor": "white",
            "gridwidth": 2,
            "linecolor": "white",
            "showbackground": true,
            "ticks": "",
            "zerolinecolor": "white"
           },
           "zaxis": {
            "backgroundcolor": "#E5ECF6",
            "gridcolor": "white",
            "gridwidth": 2,
            "linecolor": "white",
            "showbackground": true,
            "ticks": "",
            "zerolinecolor": "white"
           }
          },
          "shapedefaults": {
           "line": {
            "color": "#2a3f5f"
           }
          },
          "ternary": {
           "aaxis": {
            "gridcolor": "white",
            "linecolor": "white",
            "ticks": ""
           },
           "baxis": {
            "gridcolor": "white",
            "linecolor": "white",
            "ticks": ""
           },
           "bgcolor": "#E5ECF6",
           "caxis": {
            "gridcolor": "white",
            "linecolor": "white",
            "ticks": ""
           }
          },
          "title": {
           "x": 0.05
          },
          "xaxis": {
           "automargin": true,
           "gridcolor": "white",
           "linecolor": "white",
           "ticks": "",
           "title": {
            "standoff": 15
           },
           "zerolinecolor": "white",
           "zerolinewidth": 2
          },
          "yaxis": {
           "automargin": true,
           "gridcolor": "white",
           "linecolor": "white",
           "ticks": "",
           "title": {
            "standoff": 15
           },
           "zerolinecolor": "white",
           "zerolinewidth": 2
          }
         }
        },
        "title": {
         "text": "Energy Minimization"
        },
        "xaxis": {
         "title": {
          "text": "Energy Minimization Step"
         }
        },
        "yaxis": {
         "title": {
          "text": "Potential Energy kcal/mol"
         }
        }
       }
      }
     },
     "metadata": {},
     "output_type": "display_data"
    }
   ],
   "source": [
    "import plotly.graph_objs as go\n",
    "\n",
    "with open(output_n_min_dat_path, 'r') as energy_file:\n",
    "    x, y = zip(*[\n",
    "        (float(line.split()[0]), float(line.split()[1]))\n",
    "        for line in energy_file\n",
    "        if not line.startswith((\"#\", \"@\"))\n",
    "        if float(line.split()[1]) < 1000\n",
    "    ])\n",
    "\n",
    "# Create a scatter plot\n",
    "fig = go.Figure(data=go.Scatter(x=x, y=y, mode='lines'))\n",
    "\n",
    "# Update layout\n",
    "fig.update_layout(title=\"Energy Minimization\",\n",
    "                  xaxis_title=\"Energy Minimization Step\",\n",
    "                  yaxis_title=\"Potential Energy kcal/mol\",\n",
    "                  height=600)\n",
    "\n",
    "# Show the figure (renderer changes for colab and jupyter)\n",
    "rend = 'colab' if 'google.colab' in sys.modules else ''\n",
    "fig.show(renderer=rend)"
   ]
  },
  {
   "cell_type": "markdown",
   "metadata": {},
   "source": [
    "<a id=\"box\"></a>\n",
    "***\n",
    "## Create solvent box and solvating the system\n",
    "Define the unit cell for the **protein structure MD system** to fill it with water molecules.<br>\n",
    "A **truncated octahedron box** is used to define the unit cell, with a **distance from the protein to the box edge of 9.0 Angstroms**. <br>\n",
    "The solvent type used is the default **TIP3P** water model, a generic 3-point solvent model.\n",
    "***\n",
    "**Building Blocks** used:\n",
    " - [amber_to_pdb](https://biobb-amber.readthedocs.io/en/latest/ambpdb.html#module-ambpdb.amber_to_pdb) from **biobb_amber.ambpdb.amber_to_pdb**\n",
    " - [leap_solvate](https://biobb-amber.readthedocs.io/en/latest/leap.html#module-leap.leap_solvate) from **biobb_amber.leap.leap_solvate** \n",
    "***"
   ]
  },
  {
   "cell_type": "markdown",
   "metadata": {},
   "source": [
    "### Getting minimized structure\n",
    "Getting the result of the **energetic minimization** and converting it to **PDB format** to be then used as input for the **water box generation**. <br/>This is achieved by converting from **AMBER topology + coordinates** files to a **PDB file** using the **ambpdb** tool from the **AMBER MD package**."
   ]
  },
  {
   "cell_type": "code",
   "execution_count": 17,
   "metadata": {},
   "outputs": [
    {
     "name": "stdout",
     "output_type": "stream",
     "text": [
      "2025-07-31 15:50:41,290 [MainThread  ] [INFO ]  Module: biobb_amber.ambpdb.amber_to_pdb Version: 5.1.0\n",
      "2025-07-31 15:50:41,290 [MainThread  ] [INFO ]  /Users/gbayarri/biobb_wf_amber/biobb_wf_amber/notebooks/md_setup/sandbox_54877161-c3e6-4e27-bf2d-743eb32da67e directory successfully created\n",
      "2025-07-31 15:50:41,292 [MainThread  ] [INFO ]  Copy: structure.leap.top to /Users/gbayarri/biobb_wf_amber/biobb_wf_amber/notebooks/md_setup/sandbox_54877161-c3e6-4e27-bf2d-743eb32da67e\n",
      "2025-07-31 15:50:41,293 [MainThread  ] [INFO ]  Copy: sander.n_min.rst to /Users/gbayarri/biobb_wf_amber/biobb_wf_amber/notebooks/md_setup/sandbox_54877161-c3e6-4e27-bf2d-743eb32da67e\n",
      "2025-07-31 15:50:41,294 [MainThread  ] [INFO ]  ambpdb -p /Users/gbayarri/biobb_wf_amber/biobb_wf_amber/notebooks/md_setup/sandbox_54877161-c3e6-4e27-bf2d-743eb32da67e/structure.leap.top -c /Users/gbayarri/biobb_wf_amber/biobb_wf_amber/notebooks/md_setup/sandbox_54877161-c3e6-4e27-bf2d-743eb32da67e/sander.n_min.rst >  /Users/gbayarri/biobb_wf_amber/biobb_wf_amber/notebooks/md_setup/sandbox_54877161-c3e6-4e27-bf2d-743eb32da67e/structure.ambpdb.pdb\n",
      "\n",
      "2025-07-31 15:50:41,801 [MainThread  ] [INFO ]  Executing: ambpdb -p /Users/gbayarri/biobb_wf_amber/biobb_wf_amber/notebooks/md_setup/sandb...\n",
      "2025-07-31 15:50:41,803 [MainThread  ] [INFO ]  Exit code: 0\n",
      "2025-07-31 15:50:41,805 [MainThread  ] [INFO ]  Removed: ['/Users/gbayarri/biobb_wf_amber/biobb_wf_amber/notebooks/md_setup/sandbox_54877161-c3e6-4e27-bf2d-743eb32da67e']\n",
      "2025-07-31 15:50:41,806 [MainThread  ] [INFO ]  \n"
     ]
    },
    {
     "data": {
      "text/plain": [
       "0"
      ]
     },
     "execution_count": 17,
     "metadata": {},
     "output_type": "execute_result"
    }
   ],
   "source": [
    "# Import module\n",
    "from biobb_amber.ambpdb.amber_to_pdb import amber_to_pdb\n",
    "\n",
    "# Create prop dict and inputs/outputs\n",
    "output_ambpdb_path = 'structure.ambpdb.pdb'\n",
    "\n",
    "# Create and launch bb\n",
    "amber_to_pdb(input_top_path=output_top_path,\n",
    "            input_crd_path=output_n_min_rst_path,\n",
    "            output_pdb_path=output_ambpdb_path\n",
    "            )"
   ]
  },
  {
   "cell_type": "markdown",
   "metadata": {},
   "source": [
    "### Create water box\n",
    "Define the **unit cell** for the **protein structure MD system** and fill it with **water molecules**.<br/>"
   ]
  },
  {
   "cell_type": "code",
   "execution_count": 18,
   "metadata": {},
   "outputs": [
    {
     "name": "stdout",
     "output_type": "stream",
     "text": [
      "2025-07-31 15:50:41,814 [MainThread  ] [INFO ]  Module: biobb_amber.leap.leap_solvate Version: 5.1.0\n",
      "2025-07-31 15:50:41,815 [MainThread  ] [INFO ]  /Users/gbayarri/biobb_wf_amber/biobb_wf_amber/notebooks/md_setup/sandbox_0c38215d-3628-4257-bdc0-6d9e330d6ea4 directory successfully created\n",
      "2025-07-31 15:50:41,816 [MainThread  ] [INFO ]  Copy: structure.ambpdb.pdb to /Users/gbayarri/biobb_wf_amber/biobb_wf_amber/notebooks/md_setup/sandbox_0c38215d-3628-4257-bdc0-6d9e330d6ea4\n",
      "2025-07-31 15:50:41,817 [MainThread  ] [INFO ]  Creating 8c076789-e305-45aa-ba4e-ac1c87aaee94 temporary folder\n",
      "2025-07-31 15:50:41,818 [MainThread  ] [INFO ]  tleap -f 8c076789-e305-45aa-ba4e-ac1c87aaee94/leap.in\n",
      "\n",
      "2025-07-31 15:50:42,571 [MainThread  ] [INFO ]  Executing: tleap -f 8c076789-e305-45aa-ba4e-ac1c87aaee94/leap.in...\n",
      "2025-07-31 15:50:42,572 [MainThread  ] [INFO ]  Exit code: 0\n",
      "2025-07-31 15:50:42,572 [MainThread  ] [INFO ]  -I: Adding /Users/gbayarri/miniconda3/envs/biobb_wf_amber/dat/leap/prep to search path.\n",
      "-I: Adding /Users/gbayarri/miniconda3/envs/biobb_wf_amber/dat/leap/lib to search path.\n",
      "-I: Adding /Users/gbayarri/miniconda3/envs/biobb_wf_amber/dat/leap/parm to search path.\n",
      "-I: Adding /Users/gbayarri/miniconda3/envs/biobb_wf_amber/dat/leap/cmd to search path.\n",
      "-f: Source 8c076789-e305-45aa-ba4e-ac1c87aaee94/leap.in.\n",
      "\n",
      "Welcome to LEaP!\n",
      "(no leaprc in search path)\n",
      "Sourcing: ./8c076789-e305-45aa-ba4e-ac1c87aaee94/leap.in\n",
      "----- Source: /Users/gbayarri/miniconda3/envs/biobb_wf_amber/dat/leap/cmd/leaprc.protein.ff14SB\n",
      "----- Source of /Users/gbayarri/miniconda3/envs/biobb_wf_amber/dat/leap/cmd/leaprc.protein.ff14SB done\n",
      "Log file: ./leap.log\n",
      "Loading parameters: /Users/gbayarri/miniconda3/envs/biobb_wf_amber/dat/leap/parm/parm10.dat\n",
      "Reading title:\n",
      "PARM99 + frcmod.ff99SB + frcmod.parmbsc0 + OL3 for RNA\n",
      "Loading parameters: /Users/gbayarri/miniconda3/envs/biobb_wf_amber/dat/leap/parm/frcmod.ff14SB\n",
      "Reading force field modification type file (frcmod)\n",
      "Reading title:\n",
      "ff14SB protein backbone and sidechain parameters\n",
      "Loading library: /Users/gbayarri/miniconda3/envs/biobb_wf_amber/dat/leap/lib/amino12.lib\n",
      "Loading library: /Users/gbayarri/miniconda3/envs/biobb_wf_amber/dat/leap/lib/aminoct12.lib\n",
      "Loading library: /Users/gbayarri/miniconda3/envs/biobb_wf_amber/dat/leap/lib/aminont12.lib\n",
      "Loading parameters: /Users/gbayarri/miniconda3/envs/biobb_wf_amber/dat/leap/parm/frcmod.ionsjc_tip3p\n",
      "Reading force field modification type file (frcmod)\n",
      "Reading title:\n",
      "Monovalent ion parameters for Ewald and TIP3P water from Joung & Cheatham JPCB (2008)\n",
      "----- Source: /Users/gbayarri/miniconda3/envs/biobb_wf_amber/dat/leap/cmd/leaprc.water.tip3p\n",
      "----- Source of /Users/gbayarri/miniconda3/envs/biobb_wf_amber/dat/leap/cmd/leaprc.water.tip3p done\n",
      "Loading library: /Users/gbayarri/miniconda3/envs/biobb_wf_amber/dat/leap/lib/atomic_ions.lib\n",
      "Loading library: /Users/gbayarri/miniconda3/envs/biobb_wf_amber/dat/leap/lib/solvents.lib\n",
      "Loading parameters: /Users/gbayarri/miniconda3/envs/biobb_wf_amber/dat/leap/parm/frcmod.tip3p\n",
      "Reading force field modification type file (frcmod)\n",
      "Reading title:\n",
      "This is the additional/replacement parameter set for TIP3P water\n",
      "Loading parameters: /Users/gbayarri/miniconda3/envs/biobb_wf_amber/dat/leap/parm/frcmod.ions1lm_126_tip3p\n",
      "Reading force field modification type file (frcmod)\n",
      "Reading title:\n",
      "Li/Merz ion parameters of monovalent ions for TIP3P water model (12-6 normal usage set)\n",
      "Loading parameters: /Users/gbayarri/miniconda3/envs/biobb_wf_amber/dat/leap/parm/frcmod.ionsjc_tip3p\n",
      "Reading force field modification type file (frcmod)\n",
      "Reading title:\n",
      "Monovalent ion parameters for Ewald and TIP3P water from Joung & Cheatham JPCB (2008)\n",
      "Loading parameters: /Users/gbayarri/miniconda3/envs/biobb_wf_amber/dat/leap/parm/frcmod.ions234lm_126_tip3p\n",
      "Reading force field modification type file (frcmod)\n",
      "Reading title:\n",
      "Li/Merz ion parameters of divalent to tetravalent ions for TIP3P water model (12-6 normal usage set)\n",
      "Loading PDB file: /Users/gbayarri/biobb_wf_amber/biobb_wf_amber/notebooks/md_setup/sandbox_0c38215d-3628-4257-bdc0-6d9e330d6ea4/structure.ambpdb.pdb\n",
      "  total atoms in file: 1960\n",
      "Scaling up box by a factor of 1.252333 to meet diagonal cut criterion\n",
      "  Solute vdw bounding box:              31.724 51.287 35.443\n",
      "  Total bounding box for atom centers:  73.829 73.829 73.829\n",
      "      (box expansion for 'iso' is  73.2%)\n",
      "  Solvent unit box:                     18.774 18.774 18.774\n",
      "  Volume: 209497.978 A^3 (oct)\n",
      "  Total mass 111185.364 amu,  Density 0.881 g/cc\n",
      "  Added 5377 residues.\n",
      "Writing pdb file: /Users/gbayarri/biobb_wf_amber/biobb_wf_amber/notebooks/md_setup/sandbox_0c38215d-3628-4257-bdc0-6d9e330d6ea4/structure.solv.pdb\n",
      "   printing CRYST1 record to PDB file with box info\n",
      "\n",
      "/Users/gbayarri/miniconda3/envs/biobb_wf_amber/bin/teLeap: Warning!\n",
      " Converting N-terminal residue name to PDB format: NLYS -> LYS\n",
      "\n",
      "/Users/gbayarri/miniconda3/envs/biobb_wf_amber/bin/teLeap: Warning!\n",
      " Converting C-terminal residue name to PDB format: CLEU -> LEU\n",
      "Checking Unit.\n",
      "\n",
      "/Users/gbayarri/miniconda3/envs/biobb_wf_amber/bin/teLeap: Warning!\n",
      "The unperturbed charge of the unit (8.000000) is not zero.\n",
      "\n",
      "/Users/gbayarri/miniconda3/envs/biobb_wf_amber/bin/teLeap: Note.\n",
      "Ignoring the warning from Unit Checking.\n",
      "\n",
      "Building topology.\n",
      "Building atom parameters.\n",
      "Building bond parameters.\n",
      "Building angle parameters.\n",
      "Building proper torsion parameters.\n",
      "Building improper torsion parameters.\n",
      " total 438 improper torsions applied\n",
      "Building H-Bond parameters.\n",
      "Incorporating Non-Bonded adjustments.\n",
      "Not Marking per-residue atom chain types.\n",
      "Marking per-residue atom chain types.\n",
      "  (Residues lacking connect0/connect1 - \n",
      "   these don't have chain types marked:\n",
      "\n",
      "\tres\ttotal affected\n",
      "\n",
      "\tCLEU\t1\n",
      "\tNLYS\t1\n",
      "\tWAT\t5377\n",
      "  )\n",
      " (no restraints)\n",
      "\tQuit\n",
      "\n",
      "Exiting LEaP: Errors = 0; Warnings = 3; Notes = 1.\n",
      "\n",
      "2025-07-31 15:50:42,580 [MainThread  ] [INFO ]  Removed: ['/Users/gbayarri/biobb_wf_amber/biobb_wf_amber/notebooks/md_setup/sandbox_0c38215d-3628-4257-bdc0-6d9e330d6ea4', '8c076789-e305-45aa-ba4e-ac1c87aaee94', 'leap.log']\n",
      "2025-07-31 15:50:42,581 [MainThread  ] [INFO ]  \n"
     ]
    },
    {
     "data": {
      "text/plain": [
       "0"
      ]
     },
     "execution_count": 18,
     "metadata": {},
     "output_type": "execute_result"
    }
   ],
   "source": [
    "# Import module\n",
    "from biobb_amber.leap.leap_solvate import leap_solvate\n",
    "\n",
    "# Create prop dict and inputs/outputs\n",
    "output_solv_pdb_path = 'structure.solv.pdb'\n",
    "output_solv_top_path = 'structure.solv.parmtop'\n",
    "output_solv_crd_path = 'structure.solv.crd'\n",
    "\n",
    "prop = {\n",
    "    \"forcefield\" : [\"protein.ff14SB\"],\n",
    "    \"water_type\": \"TIP3PBOX\",\n",
    "    \"distance_to_molecule\": \"9.0\",   \n",
    "    \"box_type\": \"truncated_octahedron\"\n",
    "}\n",
    "\n",
    "# Create and launch bb\n",
    "leap_solvate(input_pdb_path=output_ambpdb_path,\n",
    "           output_pdb_path=output_solv_pdb_path,\n",
    "           output_top_path=output_solv_top_path,\n",
    "           output_crd_path=output_solv_crd_path,\n",
    "           properties=prop)"
   ]
  },
  {
   "cell_type": "markdown",
   "metadata": {},
   "source": [
    "<a id=\"ions\"></a>\n",
    "## Adding ions\n",
    "\n",
    "**Neutralizing** the system and adding an additional **ionic concentration** using the **leap tool** from the **AMBER MD package**. <br/>\n",
    "Using **Sodium (Na+)** and **Chloride (Cl-)** counterions and an **additional ionic concentration** of 150mM.\n",
    "***\n",
    "**Building Blocks** used:\n",
    " - [leap_add_ions](https://biobb-amber.readthedocs.io/en/latest/leap.html#module-leap.leap_add_ions) from **biobb_amber.leap.leap_add_ions**\n",
    "***"
   ]
  },
  {
   "cell_type": "code",
   "execution_count": 19,
   "metadata": {},
   "outputs": [
    {
     "name": "stdout",
     "output_type": "stream",
     "text": [
      "2025-07-31 15:50:42,590 [MainThread  ] [INFO ]  Module: biobb_amber.leap.leap_add_ions Version: 5.1.0\n",
      "2025-07-31 15:50:42,591 [MainThread  ] [INFO ]  /Users/gbayarri/biobb_wf_amber/biobb_wf_amber/notebooks/md_setup/sandbox_6806eaf8-5e64-4c27-976d-ac0321e40a0d directory successfully created\n",
      "2025-07-31 15:50:42,593 [MainThread  ] [INFO ]  Copy: structure.solv.pdb to /Users/gbayarri/biobb_wf_amber/biobb_wf_amber/notebooks/md_setup/sandbox_6806eaf8-5e64-4c27-976d-ac0321e40a0d\n",
      "2025-07-31 15:50:42,629 [MainThread  ] [INFO ]  Creating 44b85438-ae73-4563-a2b2-9b847ef13d13 temporary folder\n",
      "2025-07-31 15:50:42,630 [MainThread  ] [INFO ]  tleap -f 44b85438-ae73-4563-a2b2-9b847ef13d13/leap.in\n",
      "\n",
      "2025-07-31 15:50:43,756 [MainThread  ] [INFO ]  Executing: tleap -f 44b85438-ae73-4563-a2b2-9b847ef13d13/leap.in...\n",
      "2025-07-31 15:50:43,757 [MainThread  ] [INFO ]  Exit code: 0\n",
      "2025-07-31 15:50:43,758 [MainThread  ] [INFO ]  -I: Adding /Users/gbayarri/miniconda3/envs/biobb_wf_amber/dat/leap/prep to search path.\n",
      "-I: Adding /Users/gbayarri/miniconda3/envs/biobb_wf_amber/dat/leap/lib to search path.\n",
      "-I: Adding /Users/gbayarri/miniconda3/envs/biobb_wf_amber/dat/leap/parm to search path.\n",
      "-I: Adding /Users/gbayarri/miniconda3/envs/biobb_wf_amber/dat/leap/cmd to search path.\n",
      "-f: Source 44b85438-ae73-4563-a2b2-9b847ef13d13/leap.in.\n",
      "\n",
      "Welcome to LEaP!\n",
      "(no leaprc in search path)\n",
      "Sourcing: ./44b85438-ae73-4563-a2b2-9b847ef13d13/leap.in\n",
      "----- Source: /Users/gbayarri/miniconda3/envs/biobb_wf_amber/dat/leap/cmd/leaprc.protein.ff14SB\n",
      "----- Source of /Users/gbayarri/miniconda3/envs/biobb_wf_amber/dat/leap/cmd/leaprc.protein.ff14SB done\n",
      "Log file: ./leap.log\n",
      "Loading parameters: /Users/gbayarri/miniconda3/envs/biobb_wf_amber/dat/leap/parm/parm10.dat\n",
      "Reading title:\n",
      "PARM99 + frcmod.ff99SB + frcmod.parmbsc0 + OL3 for RNA\n",
      "Loading parameters: /Users/gbayarri/miniconda3/envs/biobb_wf_amber/dat/leap/parm/frcmod.ff14SB\n",
      "Reading force field modification type file (frcmod)\n",
      "Reading title:\n",
      "ff14SB protein backbone and sidechain parameters\n",
      "Loading library: /Users/gbayarri/miniconda3/envs/biobb_wf_amber/dat/leap/lib/amino12.lib\n",
      "Loading library: /Users/gbayarri/miniconda3/envs/biobb_wf_amber/dat/leap/lib/aminoct12.lib\n",
      "Loading library: /Users/gbayarri/miniconda3/envs/biobb_wf_amber/dat/leap/lib/aminont12.lib\n",
      "----- Source: /Users/gbayarri/miniconda3/envs/biobb_wf_amber/dat/leap/cmd/leaprc.water.tip3p\n",
      "----- Source of /Users/gbayarri/miniconda3/envs/biobb_wf_amber/dat/leap/cmd/leaprc.water.tip3p done\n",
      "Loading library: /Users/gbayarri/miniconda3/envs/biobb_wf_amber/dat/leap/lib/atomic_ions.lib\n",
      "Loading library: /Users/gbayarri/miniconda3/envs/biobb_wf_amber/dat/leap/lib/solvents.lib\n",
      "Loading parameters: /Users/gbayarri/miniconda3/envs/biobb_wf_amber/dat/leap/parm/frcmod.tip3p\n",
      "Reading force field modification type file (frcmod)\n",
      "Reading title:\n",
      "This is the additional/replacement parameter set for TIP3P water\n",
      "Loading parameters: /Users/gbayarri/miniconda3/envs/biobb_wf_amber/dat/leap/parm/frcmod.ions1lm_126_tip3p\n",
      "Reading force field modification type file (frcmod)\n",
      "Reading title:\n",
      "Li/Merz ion parameters of monovalent ions for TIP3P water model (12-6 normal usage set)\n",
      "Loading parameters: /Users/gbayarri/miniconda3/envs/biobb_wf_amber/dat/leap/parm/frcmod.ionsjc_tip3p\n",
      "Reading force field modification type file (frcmod)\n",
      "Reading title:\n",
      "Monovalent ion parameters for Ewald and TIP3P water from Joung & Cheatham JPCB (2008)\n",
      "Loading parameters: /Users/gbayarri/miniconda3/envs/biobb_wf_amber/dat/leap/parm/frcmod.ions234lm_126_tip3p\n",
      "Reading force field modification type file (frcmod)\n",
      "Reading title:\n",
      "Li/Merz ion parameters of divalent to tetravalent ions for TIP3P water model (12-6 normal usage set)\n",
      "Loading parameters: /Users/gbayarri/miniconda3/envs/biobb_wf_amber/dat/leap/parm/frcmod.ionsjc_tip3p\n",
      "Reading force field modification type file (frcmod)\n",
      "Reading title:\n",
      "Monovalent ion parameters for Ewald and TIP3P water from Joung & Cheatham JPCB (2008)\n",
      "Loading PDB file: /Users/gbayarri/biobb_wf_amber/biobb_wf_amber/notebooks/md_setup/sandbox_6806eaf8-5e64-4c27-976d-ac0321e40a0d/structure.solv.pdb\n",
      "  total atoms in file: 18091\n",
      "8 Cl- ions required to neutralize.\n",
      "Adding 8 counter ions to \"mol\". 5369 solvent molecules will remain.\n",
      "0: Placed Cl- in mol at (21.46, -18.53, -21.07).\n",
      "0: Placed Cl- in mol at (-1.40, -26.35, -6.05).\n",
      "0: Placed Cl- in mol at (15.04, -19.12, 3.02).\n",
      "0: Placed Cl- in mol at (20.05, 10.50, 8.86).\n",
      "0: Placed Cl- in mol at (-22.20, 17.29, -15.94).\n",
      "0: Placed Cl- in mol at (25.05, 11.15, -15.08).\n",
      "0: Placed Cl- in mol at (-20.38, -27.49, 8.97).\n",
      "0: Placed Cl- in mol at (-20.16, 2.55, -13.97).\n",
      " 0.000000 0 1 0\n",
      "0 Na+ ion required to neutralize.\n",
      "Adding 14 counter ions to \"mol\". 5355 solvent molecules will remain.\n",
      "0: Placed Cl- in mol at (6.96, -2.96, -24.77).\n",
      "0: Placed Cl- in mol at (6.65, -8.41, 16.63).\n",
      "0: Placed Cl- in mol at (12.51, -29.20, 11.80).\n",
      "0: Placed Cl- in mol at (-4.99, -3.82, -18.11).\n",
      "0: Placed Cl- in mol at (12.08, -25.05, -13.20).\n",
      "0: Placed Cl- in mol at (-24.00, -22.91, -13.52).\n",
      "0: Placed Cl- in mol at (-7.30, -16.39, 14.60).\n",
      "0: Placed Cl- in mol at (-15.62, -19.62, 12.39).\n",
      "0: Placed Cl- in mol at (-25.72, 0.90, -6.54).\n",
      "0: Placed Cl- in mol at (-15.65, -15.16, -21.23).\n",
      "0: Placed Cl- in mol at (-30.80, 14.37, 18.21).\n",
      "0: Placed Cl- in mol at (-7.30, -31.07, -16.34).\n",
      "0: Placed Cl- in mol at (-31.70, 2.17, -11.24).\n",
      "0: Placed Cl- in mol at (-16.34, 5.72, 20.68).\n",
      "Adding 14 counter ions to \"mol\". 5341 solvent molecules will remain.\n",
      "0: Placed Na+ in mol at (25.88, 19.20, 16.30).\n",
      "0: Placed Na+ in mol at (11.71, -9.01, -33.67).\n",
      "0: Placed Na+ in mol at (1.70, 17.30, 16.93).\n",
      "0: Placed Na+ in mol at (12.70, 5.57, -15.59).\n",
      "0: Placed Na+ in mol at (0.03, 0.99, -17.95).\n",
      "0: Placed Na+ in mol at (5.95, 20.17, -19.17).\n",
      "0: Placed Na+ in mol at (-17.32, 24.68, 11.10).\n",
      "0: Placed Na+ in mol at (-26.14, 13.63, -2.04).\n",
      "0: Placed Na+ in mol at (-5.50, -24.93, 20.68).\n",
      "0: Placed Na+ in mol at (23.20, -5.12, -27.25).\n",
      "0: Placed Na+ in mol at (-25.66, -15.82, 10.47).\n",
      "0: Placed Na+ in mol at (12.28, -0.64, -21.72).\n",
      "0: Placed Na+ in mol at (4.07, 28.40, 18.52).\n",
      "0: Placed Na+ in mol at (30.20, -12.40, 20.13).\n",
      "Box dimensions:  68.098300 76.371600 78.525600\n",
      "Writing pdb file: /Users/gbayarri/biobb_wf_amber/biobb_wf_amber/notebooks/md_setup/sandbox_6806eaf8-5e64-4c27-976d-ac0321e40a0d/structure.ions.pdb\n",
      "   printing CRYST1 record to PDB file with box info\n",
      "\n",
      "/Users/gbayarri/miniconda3/envs/biobb_wf_amber/bin/teLeap: Warning!\n",
      " Converting N-terminal residue name to PDB format: NLYS -> LYS\n",
      "\n",
      "/Users/gbayarri/miniconda3/envs/biobb_wf_amber/bin/teLeap: Warning!\n",
      " Converting C-terminal residue name to PDB format: CLEU -> LEU\n",
      "Checking Unit.\n",
      "Building topology.\n",
      "Building atom parameters.\n",
      "Building bond parameters.\n",
      "Building angle parameters.\n",
      "Building proper torsion parameters.\n",
      "Building improper torsion parameters.\n",
      " total 438 improper torsions applied\n",
      "Building H-Bond parameters.\n",
      "Incorporating Non-Bonded adjustments.\n",
      "Not Marking per-residue atom chain types.\n",
      "Marking per-residue atom chain types.\n",
      "  (Residues lacking connect0/connect1 - \n",
      "   these don't have chain types marked:\n",
      "\n",
      "\tres\ttotal affected\n",
      "\n",
      "\tCLEU\t1\n",
      "\tNLYS\t1\n",
      "\tWAT\t5341\n",
      "  )\n",
      " (no restraints)\n",
      "\tQuit\n",
      "\n",
      "Exiting LEaP: Errors = 0; Warnings = 2; Notes = 0.\n",
      "\n",
      "2025-07-31 15:50:43,763 [MainThread  ] [INFO ]  Fixing truncated octahedron Box in the topology and coordinates files\n",
      "2025-07-31 15:50:43,788 [MainThread  ] [INFO ]  Removed: ['/Users/gbayarri/biobb_wf_amber/biobb_wf_amber/notebooks/md_setup/sandbox_6806eaf8-5e64-4c27-976d-ac0321e40a0d', '44b85438-ae73-4563-a2b2-9b847ef13d13', 'leap.log']\n",
      "2025-07-31 15:50:43,789 [MainThread  ] [INFO ]  \n"
     ]
    },
    {
     "data": {
      "text/plain": [
       "0"
      ]
     },
     "execution_count": 19,
     "metadata": {},
     "output_type": "execute_result"
    }
   ],
   "source": [
    "# Import module\n",
    "from biobb_amber.leap.leap_add_ions import leap_add_ions\n",
    "\n",
    "# Create prop dict and inputs/outputs\n",
    "output_ions_pdb_path = 'structure.ions.pdb'\n",
    "output_ions_top_path = 'structure.ions.parmtop'\n",
    "output_ions_crd_path = 'structure.ions.crd'\n",
    "\n",
    "prop = {\n",
    "    \"forcefield\" : [\"protein.ff14SB\"],\n",
    "    \"neutralise\" : True,\n",
    "    \"positive_ions_type\": \"Na+\",\n",
    "    \"negative_ions_type\": \"Cl-\",\n",
    "    \"ionic_concentration\" : 150, # 150mM\n",
    "    \"box_type\": \"truncated_octahedron\"\n",
    "}\n",
    "\n",
    "# Create and launch bb\n",
    "leap_add_ions(input_pdb_path=output_solv_pdb_path,\n",
    "           output_pdb_path=output_ions_pdb_path,\n",
    "           output_top_path=output_ions_top_path,\n",
    "           output_crd_path=output_ions_crd_path,\n",
    "           properties=prop)"
   ]
  },
  {
   "cell_type": "markdown",
   "metadata": {},
   "source": [
    "### Visualizing 3D structure\n",
    "Visualizing the **protein system** with the newly added **solvent box** and **counterions** using **NGL**.<br> Note the **truncated octahedron box** filled with **water molecules** surrounding the **protein structure**, as well as the randomly placed **positive** (Na+, blue) and **negative** (Cl-, gray) **counterions**."
   ]
  },
  {
   "cell_type": "code",
   "execution_count": 20,
   "metadata": {},
   "outputs": [
    {
     "data": {
      "application/vnd.jupyter.widget-view+json": {
       "model_id": "fb568603ed3a4e57a30462a135a21f8a",
       "version_major": 2,
       "version_minor": 0
      },
      "text/plain": [
       "NGLWidget()"
      ]
     },
     "metadata": {},
     "output_type": "display_data"
    }
   ],
   "source": [
    "# Show protein\n",
    "view = nglview.show_structure_file(output_ions_pdb_path)\n",
    "view.clear_representations()\n",
    "view.add_representation(repr_type='cartoon', selection='protein')\n",
    "view.add_representation(repr_type='ball+stick', selection='solvent')\n",
    "view.add_representation(repr_type='spacefill', selection='Cl- Na+')\n",
    "view._remote_call('setSize', target='Widget', args=['','600px'])\n",
    "view"
   ]
  },
  {
   "cell_type": "markdown",
   "metadata": {},
   "source": [
    "<a id=\"min\"></a>\n",
    "## Energetically minimize the system\n",
    "\n",
    "**Energetically minimize** the **system** (protein structure + solvent + ions) using the **sander tool** from the **AMBER MD package**. **Restraining heavy atoms** with a force constant of 15 Kcal/mol.$Å^{2}$ to their initial positions.\n",
    "\n",
    "- [Step 1](#emStep1): Energetically minimize the **system** through 500 minimization cycles.\n",
    "- [Step 2](#emStep2): Checking **energy minimization** results. Plotting energy by time during the **minimization** process. \n",
    "***\n",
    "**Building Blocks** used:\n",
    " - [sander_mdrun](https://biobb-amber.readthedocs.io/en/latest/sander.html#module-sander.sander_mdrun) from **biobb_amber.sander.sander_mdrun**\n",
    " - [process_minout](https://biobb-amber.readthedocs.io/en/latest/process.html#module-process.process_minout) from **biobb_amber.process.process_minout**\n",
    "***"
   ]
  },
  {
   "cell_type": "markdown",
   "metadata": {},
   "source": [
    "<a id=\"emStep1\"></a>\n",
    "### Step 1: Running Energy Minimization\n",
    "The **minimization** type of the **simulation_type property** contains the main default parameters to run an **energy minimization**:\n",
    "\n",
    "-  imin  = 1 ;    Minimization flag, perform an energy minimization.\n",
    "-  maxcyc = 500;  The maximum number of cycles of minimization.\n",
    "-  ntb = 1;       Periodic boundaries: constant volume.\n",
    "-  ntmin = 2;     Minimization method: steepest descent.\n",
    "\n",
    "\n",
    "In this particular example, the method used to run the **energy minimization** is the default **steepest descent**, with a **maximum number of 500 cycles** and **periodic conditions**. "
   ]
  },
  {
   "cell_type": "code",
   "execution_count": 21,
   "metadata": {},
   "outputs": [
    {
     "name": "stdout",
     "output_type": "stream",
     "text": [
      "2025-07-31 15:50:43,864 [MainThread  ] [INFO ]  Module: biobb_amber.sander.sander_mdrun Version: 5.1.0\n",
      "2025-07-31 15:50:43,865 [MainThread  ] [INFO ]  /Users/gbayarri/biobb_wf_amber/biobb_wf_amber/notebooks/md_setup/sandbox_467c3b11-b225-4c68-99fc-05becd716205 directory successfully created\n",
      "2025-07-31 15:50:43,868 [MainThread  ] [INFO ]  Copy: structure.ions.parmtop to /Users/gbayarri/biobb_wf_amber/biobb_wf_amber/notebooks/md_setup/sandbox_467c3b11-b225-4c68-99fc-05becd716205\n",
      "2025-07-31 15:50:43,869 [MainThread  ] [INFO ]  Copy: structure.ions.crd to /Users/gbayarri/biobb_wf_amber/biobb_wf_amber/notebooks/md_setup/sandbox_467c3b11-b225-4c68-99fc-05becd716205\n",
      "2025-07-31 15:50:43,870 [MainThread  ] [INFO ]  Copy: structure.ions.crd to /Users/gbayarri/biobb_wf_amber/biobb_wf_amber/notebooks/md_setup/sandbox_467c3b11-b225-4c68-99fc-05becd716205\n",
      "2025-07-31 15:50:43,871 [MainThread  ] [INFO ]  Creating 881eac61-3369-4870-93fd-bb5c5b34ecdb temporary folder\n",
      "2025-07-31 15:50:43,872 [MainThread  ] [INFO ]  sander -O -i 881eac61-3369-4870-93fd-bb5c5b34ecdb/sander.mdin -p /Users/gbayarri/biobb_wf_amber/biobb_wf_amber/notebooks/md_setup/sandbox_467c3b11-b225-4c68-99fc-05becd716205/structure.ions.parmtop -c /Users/gbayarri/biobb_wf_amber/biobb_wf_amber/notebooks/md_setup/sandbox_467c3b11-b225-4c68-99fc-05becd716205/structure.ions.crd -r /Users/gbayarri/biobb_wf_amber/biobb_wf_amber/notebooks/md_setup/sandbox_467c3b11-b225-4c68-99fc-05becd716205/sander.min.rst -o /Users/gbayarri/biobb_wf_amber/biobb_wf_amber/notebooks/md_setup/sandbox_467c3b11-b225-4c68-99fc-05becd716205/sander.min.log -x /Users/gbayarri/biobb_wf_amber/biobb_wf_amber/notebooks/md_setup/sandbox_467c3b11-b225-4c68-99fc-05becd716205/sander.min.x -ref /Users/gbayarri/biobb_wf_amber/biobb_wf_amber/notebooks/md_setup/sandbox_467c3b11-b225-4c68-99fc-05becd716205/structure.ions.crd\n",
      "\n",
      "2025-07-31 15:51:02,565 [MainThread  ] [INFO ]  Executing: sander -O -i 881eac61-3369-4870-93fd-bb5c5b34ecdb/sander.mdin -p /Users/gbayarri...\n",
      "2025-07-31 15:51:02,567 [MainThread  ] [INFO ]  Exit code: 0\n",
      "2025-07-31 15:51:02,570 [MainThread  ] [INFO ]  Removed: ['/Users/gbayarri/biobb_wf_amber/biobb_wf_amber/notebooks/md_setup/sandbox_467c3b11-b225-4c68-99fc-05becd716205', 'mdinfo', '881eac61-3369-4870-93fd-bb5c5b34ecdb']\n",
      "2025-07-31 15:51:02,571 [MainThread  ] [INFO ]  Path sander.min.x --- biobb_amber.sander.sander_mdrun: Unexisting output_traj_path file.\n",
      "2025-07-31 15:51:02,572 [MainThread  ] [INFO ]  \n"
     ]
    },
    {
     "name": "stderr",
     "output_type": "stream",
     "text": [
      "/Users/gbayarri/miniconda3/envs/biobb_wf_amber/lib/python3.12/site-packages/biobb_common/tools/file_utils.py:771: UserWarning:\n",
      "\n",
      "Path sander.min.x --- biobb_amber.sander.sander_mdrun: Unexisting output_traj_path file.\n",
      "\n"
     ]
    },
    {
     "data": {
      "text/plain": [
       "0"
      ]
     },
     "execution_count": 21,
     "metadata": {},
     "output_type": "execute_result"
    }
   ],
   "source": [
    "# Import module\n",
    "from biobb_amber.sander.sander_mdrun import sander_mdrun\n",
    "\n",
    "# Create prop dict and inputs/outputs\n",
    "output_min_traj_path = 'sander.min.x'\n",
    "output_min_rst_path = 'sander.min.rst'\n",
    "output_min_log_path = 'sander.min.log'\n",
    "\n",
    "prop = {\n",
    "    \"simulation_type\" : \"minimization\",\n",
    "    \"mdin\" : { \n",
    "        'maxcyc' : 300, # Reducing the number of minimization steps for the sake of time\n",
    "        'ntr' : 1,      # Overwritting restrain parameter\n",
    "        'restraintmask' : '\\\"!:WAT,Cl-,Na+\\\"',      # Restraining solute\n",
    "        'restraint_wt' : 50.0                       # With a force constant of 50 Kcal/mol*A2\n",
    "    }\n",
    "}\n",
    "\n",
    "# Create and launch bb\n",
    "sander_mdrun(input_top_path=output_ions_top_path,\n",
    "            input_crd_path=output_ions_crd_path,\n",
    "            input_ref_path=output_ions_crd_path,\n",
    "            output_traj_path=output_min_traj_path,\n",
    "            output_rst_path=output_min_rst_path,\n",
    "            output_log_path=output_min_log_path,\n",
    "            properties=prop)"
   ]
  },
  {
   "cell_type": "markdown",
   "metadata": {},
   "source": [
    "<a id=\"emStep2\"></a>\n",
    "### Step 2: Checking Energy Minimization results\n",
    "Checking **energy minimization** results. Plotting **potential energy** along time during the **minimization process**."
   ]
  },
  {
   "cell_type": "code",
   "execution_count": 22,
   "metadata": {},
   "outputs": [
    {
     "name": "stdout",
     "output_type": "stream",
     "text": [
      "2025-07-31 15:51:02,580 [MainThread  ] [INFO ]  Module: biobb_amber.process.process_minout Version: 5.1.0\n",
      "2025-07-31 15:51:02,581 [MainThread  ] [INFO ]  /Users/gbayarri/biobb_wf_amber/biobb_wf_amber/notebooks/md_setup/sandbox_76df7154-aaea-4af7-be93-8c3b56c21854 directory successfully created\n",
      "2025-07-31 15:51:02,582 [MainThread  ] [INFO ]  Copy: sander.min.log to /Users/gbayarri/biobb_wf_amber/biobb_wf_amber/notebooks/md_setup/sandbox_76df7154-aaea-4af7-be93-8c3b56c21854\n",
      "2025-07-31 15:51:02,583 [MainThread  ] [INFO ]  Creating d24f5252-6956-4d9e-872f-0640889bbd27 temporary folder\n",
      "2025-07-31 15:51:02,583 [MainThread  ] [INFO ]  cd d24f5252-6956-4d9e-872f-0640889bbd27 ; process_minout.perl /Users/gbayarri/biobb_wf_amber/biobb_wf_amber/notebooks/md_setup/sandbox_76df7154-aaea-4af7-be93-8c3b56c21854/sander.min.log\n",
      "\n",
      "2025-07-31 15:51:02,627 [MainThread  ] [INFO ]  Executing: cd d24f5252-6956-4d9e-872f-0640889bbd27 ; process_minout.perl /Users/gbayarri/bi...\n",
      "2025-07-31 15:51:02,629 [MainThread  ] [INFO ]  Exit code: 0\n",
      "2025-07-31 15:51:02,629 [MainThread  ] [INFO ]  Processing sander output file (/Users/gbayarri/biobb_wf_amber/biobb_wf_amber/notebooks/md_setup/sandbox_76df7154-aaea-4af7-be93-8c3b56c21854/sander.min.log)...\n",
      "Processing step 150 of a possible 300...\n",
      "Processing step 300 of a possible 300...\n",
      "Processing step 300 of a possible 300...\n",
      "Starting output...\n",
      "Outputing summary.NSTEP\n",
      "Outputing summary.ENERGY\n",
      "Outputing summary.RMS\n",
      "Outputing summary.GMAX\n",
      "Outputing summary.NAME\n",
      "Outputing summary.NUMBER\n",
      "Outputing summary.BOND\n",
      "Outputing summary.ANGLE\n",
      "Outputing summary.DIHEDRAL\n",
      "Outputing summary.VDWAALS\n",
      "Outputing summary.EEL\n",
      "Outputing summary.HBOND\n",
      "Outputing summary.VDW14\n",
      "Outputing summary.EEL14\n",
      "Outputing summary.RESTRAINT\n",
      "\n",
      "2025-07-31 15:51:02,633 [MainThread  ] [INFO ]  Removed: ['/Users/gbayarri/biobb_wf_amber/biobb_wf_amber/notebooks/md_setup/sandbox_76df7154-aaea-4af7-be93-8c3b56c21854', 'd24f5252-6956-4d9e-872f-0640889bbd27']\n",
      "2025-07-31 15:51:02,633 [MainThread  ] [INFO ]  \n"
     ]
    },
    {
     "data": {
      "text/plain": [
       "0"
      ]
     },
     "execution_count": 22,
     "metadata": {},
     "output_type": "execute_result"
    }
   ],
   "source": [
    "# Import module\n",
    "from biobb_amber.process.process_minout import process_minout\n",
    "\n",
    "# Create prop dict and inputs/outputs\n",
    "output_dat_path = 'sander.min.energy.dat'\n",
    "\n",
    "prop = {\n",
    "    \"terms\" : ['ENERGY']\n",
    "}\n",
    "\n",
    "# Create and launch bb\n",
    "process_minout(input_log_path=output_min_log_path,\n",
    "            output_dat_path=output_dat_path,\n",
    "            properties=prop)"
   ]
  },
  {
   "cell_type": "code",
   "execution_count": 23,
   "metadata": {},
   "outputs": [
    {
     "data": {
      "application/vnd.plotly.v1+json": {
       "config": {
        "plotlyServerURL": "https://plot.ly"
       },
       "data": [
        {
         "mode": "lines",
         "type": "scatter",
         "x": [
          1,
          50,
          100,
          150,
          200,
          250,
          300
         ],
         "y": [
          -24188,
          -62792,
          -65700,
          -67052,
          -68060,
          -69023,
          -69628
         ]
        }
       ],
       "layout": {
        "height": 600,
        "template": {
         "data": {
          "bar": [
           {
            "error_x": {
             "color": "#2a3f5f"
            },
            "error_y": {
             "color": "#2a3f5f"
            },
            "marker": {
             "line": {
              "color": "#E5ECF6",
              "width": 0.5
             },
             "pattern": {
              "fillmode": "overlay",
              "size": 10,
              "solidity": 0.2
             }
            },
            "type": "bar"
           }
          ],
          "barpolar": [
           {
            "marker": {
             "line": {
              "color": "#E5ECF6",
              "width": 0.5
             },
             "pattern": {
              "fillmode": "overlay",
              "size": 10,
              "solidity": 0.2
             }
            },
            "type": "barpolar"
           }
          ],
          "carpet": [
           {
            "aaxis": {
             "endlinecolor": "#2a3f5f",
             "gridcolor": "white",
             "linecolor": "white",
             "minorgridcolor": "white",
             "startlinecolor": "#2a3f5f"
            },
            "baxis": {
             "endlinecolor": "#2a3f5f",
             "gridcolor": "white",
             "linecolor": "white",
             "minorgridcolor": "white",
             "startlinecolor": "#2a3f5f"
            },
            "type": "carpet"
           }
          ],
          "choropleth": [
           {
            "colorbar": {
             "outlinewidth": 0,
             "ticks": ""
            },
            "type": "choropleth"
           }
          ],
          "contour": [
           {
            "colorbar": {
             "outlinewidth": 0,
             "ticks": ""
            },
            "colorscale": [
             [
              0,
              "#0d0887"
             ],
             [
              0.1111111111111111,
              "#46039f"
             ],
             [
              0.2222222222222222,
              "#7201a8"
             ],
             [
              0.3333333333333333,
              "#9c179e"
             ],
             [
              0.4444444444444444,
              "#bd3786"
             ],
             [
              0.5555555555555556,
              "#d8576b"
             ],
             [
              0.6666666666666666,
              "#ed7953"
             ],
             [
              0.7777777777777778,
              "#fb9f3a"
             ],
             [
              0.8888888888888888,
              "#fdca26"
             ],
             [
              1,
              "#f0f921"
             ]
            ],
            "type": "contour"
           }
          ],
          "contourcarpet": [
           {
            "colorbar": {
             "outlinewidth": 0,
             "ticks": ""
            },
            "type": "contourcarpet"
           }
          ],
          "heatmap": [
           {
            "colorbar": {
             "outlinewidth": 0,
             "ticks": ""
            },
            "colorscale": [
             [
              0,
              "#0d0887"
             ],
             [
              0.1111111111111111,
              "#46039f"
             ],
             [
              0.2222222222222222,
              "#7201a8"
             ],
             [
              0.3333333333333333,
              "#9c179e"
             ],
             [
              0.4444444444444444,
              "#bd3786"
             ],
             [
              0.5555555555555556,
              "#d8576b"
             ],
             [
              0.6666666666666666,
              "#ed7953"
             ],
             [
              0.7777777777777778,
              "#fb9f3a"
             ],
             [
              0.8888888888888888,
              "#fdca26"
             ],
             [
              1,
              "#f0f921"
             ]
            ],
            "type": "heatmap"
           }
          ],
          "histogram": [
           {
            "marker": {
             "pattern": {
              "fillmode": "overlay",
              "size": 10,
              "solidity": 0.2
             }
            },
            "type": "histogram"
           }
          ],
          "histogram2d": [
           {
            "colorbar": {
             "outlinewidth": 0,
             "ticks": ""
            },
            "colorscale": [
             [
              0,
              "#0d0887"
             ],
             [
              0.1111111111111111,
              "#46039f"
             ],
             [
              0.2222222222222222,
              "#7201a8"
             ],
             [
              0.3333333333333333,
              "#9c179e"
             ],
             [
              0.4444444444444444,
              "#bd3786"
             ],
             [
              0.5555555555555556,
              "#d8576b"
             ],
             [
              0.6666666666666666,
              "#ed7953"
             ],
             [
              0.7777777777777778,
              "#fb9f3a"
             ],
             [
              0.8888888888888888,
              "#fdca26"
             ],
             [
              1,
              "#f0f921"
             ]
            ],
            "type": "histogram2d"
           }
          ],
          "histogram2dcontour": [
           {
            "colorbar": {
             "outlinewidth": 0,
             "ticks": ""
            },
            "colorscale": [
             [
              0,
              "#0d0887"
             ],
             [
              0.1111111111111111,
              "#46039f"
             ],
             [
              0.2222222222222222,
              "#7201a8"
             ],
             [
              0.3333333333333333,
              "#9c179e"
             ],
             [
              0.4444444444444444,
              "#bd3786"
             ],
             [
              0.5555555555555556,
              "#d8576b"
             ],
             [
              0.6666666666666666,
              "#ed7953"
             ],
             [
              0.7777777777777778,
              "#fb9f3a"
             ],
             [
              0.8888888888888888,
              "#fdca26"
             ],
             [
              1,
              "#f0f921"
             ]
            ],
            "type": "histogram2dcontour"
           }
          ],
          "mesh3d": [
           {
            "colorbar": {
             "outlinewidth": 0,
             "ticks": ""
            },
            "type": "mesh3d"
           }
          ],
          "parcoords": [
           {
            "line": {
             "colorbar": {
              "outlinewidth": 0,
              "ticks": ""
             }
            },
            "type": "parcoords"
           }
          ],
          "pie": [
           {
            "automargin": true,
            "type": "pie"
           }
          ],
          "scatter": [
           {
            "fillpattern": {
             "fillmode": "overlay",
             "size": 10,
             "solidity": 0.2
            },
            "type": "scatter"
           }
          ],
          "scatter3d": [
           {
            "line": {
             "colorbar": {
              "outlinewidth": 0,
              "ticks": ""
             }
            },
            "marker": {
             "colorbar": {
              "outlinewidth": 0,
              "ticks": ""
             }
            },
            "type": "scatter3d"
           }
          ],
          "scattercarpet": [
           {
            "marker": {
             "colorbar": {
              "outlinewidth": 0,
              "ticks": ""
             }
            },
            "type": "scattercarpet"
           }
          ],
          "scattergeo": [
           {
            "marker": {
             "colorbar": {
              "outlinewidth": 0,
              "ticks": ""
             }
            },
            "type": "scattergeo"
           }
          ],
          "scattergl": [
           {
            "marker": {
             "colorbar": {
              "outlinewidth": 0,
              "ticks": ""
             }
            },
            "type": "scattergl"
           }
          ],
          "scattermap": [
           {
            "marker": {
             "colorbar": {
              "outlinewidth": 0,
              "ticks": ""
             }
            },
            "type": "scattermap"
           }
          ],
          "scattermapbox": [
           {
            "marker": {
             "colorbar": {
              "outlinewidth": 0,
              "ticks": ""
             }
            },
            "type": "scattermapbox"
           }
          ],
          "scatterpolar": [
           {
            "marker": {
             "colorbar": {
              "outlinewidth": 0,
              "ticks": ""
             }
            },
            "type": "scatterpolar"
           }
          ],
          "scatterpolargl": [
           {
            "marker": {
             "colorbar": {
              "outlinewidth": 0,
              "ticks": ""
             }
            },
            "type": "scatterpolargl"
           }
          ],
          "scatterternary": [
           {
            "marker": {
             "colorbar": {
              "outlinewidth": 0,
              "ticks": ""
             }
            },
            "type": "scatterternary"
           }
          ],
          "surface": [
           {
            "colorbar": {
             "outlinewidth": 0,
             "ticks": ""
            },
            "colorscale": [
             [
              0,
              "#0d0887"
             ],
             [
              0.1111111111111111,
              "#46039f"
             ],
             [
              0.2222222222222222,
              "#7201a8"
             ],
             [
              0.3333333333333333,
              "#9c179e"
             ],
             [
              0.4444444444444444,
              "#bd3786"
             ],
             [
              0.5555555555555556,
              "#d8576b"
             ],
             [
              0.6666666666666666,
              "#ed7953"
             ],
             [
              0.7777777777777778,
              "#fb9f3a"
             ],
             [
              0.8888888888888888,
              "#fdca26"
             ],
             [
              1,
              "#f0f921"
             ]
            ],
            "type": "surface"
           }
          ],
          "table": [
           {
            "cells": {
             "fill": {
              "color": "#EBF0F8"
             },
             "line": {
              "color": "white"
             }
            },
            "header": {
             "fill": {
              "color": "#C8D4E3"
             },
             "line": {
              "color": "white"
             }
            },
            "type": "table"
           }
          ]
         },
         "layout": {
          "annotationdefaults": {
           "arrowcolor": "#2a3f5f",
           "arrowhead": 0,
           "arrowwidth": 1
          },
          "autotypenumbers": "strict",
          "coloraxis": {
           "colorbar": {
            "outlinewidth": 0,
            "ticks": ""
           }
          },
          "colorscale": {
           "diverging": [
            [
             0,
             "#8e0152"
            ],
            [
             0.1,
             "#c51b7d"
            ],
            [
             0.2,
             "#de77ae"
            ],
            [
             0.3,
             "#f1b6da"
            ],
            [
             0.4,
             "#fde0ef"
            ],
            [
             0.5,
             "#f7f7f7"
            ],
            [
             0.6,
             "#e6f5d0"
            ],
            [
             0.7,
             "#b8e186"
            ],
            [
             0.8,
             "#7fbc41"
            ],
            [
             0.9,
             "#4d9221"
            ],
            [
             1,
             "#276419"
            ]
           ],
           "sequential": [
            [
             0,
             "#0d0887"
            ],
            [
             0.1111111111111111,
             "#46039f"
            ],
            [
             0.2222222222222222,
             "#7201a8"
            ],
            [
             0.3333333333333333,
             "#9c179e"
            ],
            [
             0.4444444444444444,
             "#bd3786"
            ],
            [
             0.5555555555555556,
             "#d8576b"
            ],
            [
             0.6666666666666666,
             "#ed7953"
            ],
            [
             0.7777777777777778,
             "#fb9f3a"
            ],
            [
             0.8888888888888888,
             "#fdca26"
            ],
            [
             1,
             "#f0f921"
            ]
           ],
           "sequentialminus": [
            [
             0,
             "#0d0887"
            ],
            [
             0.1111111111111111,
             "#46039f"
            ],
            [
             0.2222222222222222,
             "#7201a8"
            ],
            [
             0.3333333333333333,
             "#9c179e"
            ],
            [
             0.4444444444444444,
             "#bd3786"
            ],
            [
             0.5555555555555556,
             "#d8576b"
            ],
            [
             0.6666666666666666,
             "#ed7953"
            ],
            [
             0.7777777777777778,
             "#fb9f3a"
            ],
            [
             0.8888888888888888,
             "#fdca26"
            ],
            [
             1,
             "#f0f921"
            ]
           ]
          },
          "colorway": [
           "#636efa",
           "#EF553B",
           "#00cc96",
           "#ab63fa",
           "#FFA15A",
           "#19d3f3",
           "#FF6692",
           "#B6E880",
           "#FF97FF",
           "#FECB52"
          ],
          "font": {
           "color": "#2a3f5f"
          },
          "geo": {
           "bgcolor": "white",
           "lakecolor": "white",
           "landcolor": "#E5ECF6",
           "showlakes": true,
           "showland": true,
           "subunitcolor": "white"
          },
          "hoverlabel": {
           "align": "left"
          },
          "hovermode": "closest",
          "mapbox": {
           "style": "light"
          },
          "paper_bgcolor": "white",
          "plot_bgcolor": "#E5ECF6",
          "polar": {
           "angularaxis": {
            "gridcolor": "white",
            "linecolor": "white",
            "ticks": ""
           },
           "bgcolor": "#E5ECF6",
           "radialaxis": {
            "gridcolor": "white",
            "linecolor": "white",
            "ticks": ""
           }
          },
          "scene": {
           "xaxis": {
            "backgroundcolor": "#E5ECF6",
            "gridcolor": "white",
            "gridwidth": 2,
            "linecolor": "white",
            "showbackground": true,
            "ticks": "",
            "zerolinecolor": "white"
           },
           "yaxis": {
            "backgroundcolor": "#E5ECF6",
            "gridcolor": "white",
            "gridwidth": 2,
            "linecolor": "white",
            "showbackground": true,
            "ticks": "",
            "zerolinecolor": "white"
           },
           "zaxis": {
            "backgroundcolor": "#E5ECF6",
            "gridcolor": "white",
            "gridwidth": 2,
            "linecolor": "white",
            "showbackground": true,
            "ticks": "",
            "zerolinecolor": "white"
           }
          },
          "shapedefaults": {
           "line": {
            "color": "#2a3f5f"
           }
          },
          "ternary": {
           "aaxis": {
            "gridcolor": "white",
            "linecolor": "white",
            "ticks": ""
           },
           "baxis": {
            "gridcolor": "white",
            "linecolor": "white",
            "ticks": ""
           },
           "bgcolor": "#E5ECF6",
           "caxis": {
            "gridcolor": "white",
            "linecolor": "white",
            "ticks": ""
           }
          },
          "title": {
           "x": 0.05
          },
          "xaxis": {
           "automargin": true,
           "gridcolor": "white",
           "linecolor": "white",
           "ticks": "",
           "title": {
            "standoff": 15
           },
           "zerolinecolor": "white",
           "zerolinewidth": 2
          },
          "yaxis": {
           "automargin": true,
           "gridcolor": "white",
           "linecolor": "white",
           "ticks": "",
           "title": {
            "standoff": 15
           },
           "zerolinecolor": "white",
           "zerolinewidth": 2
          }
         }
        },
        "title": {
         "text": "Energy Minimization"
        },
        "xaxis": {
         "title": {
          "text": "Energy Minimization Step"
         }
        },
        "yaxis": {
         "title": {
          "text": "Potential Energy kcal/mol"
         }
        }
       }
      }
     },
     "metadata": {},
     "output_type": "display_data"
    }
   ],
   "source": [
    "import plotly.graph_objs as go\n",
    "\n",
    "with open(output_dat_path, 'r') as energy_file:\n",
    "    x, y = zip(*[\n",
    "        (float(line.split()[0]), float(line.split()[1]))\n",
    "        for line in energy_file\n",
    "        if not line.startswith((\"#\", \"@\"))\n",
    "        if float(line.split()[1]) < 1000\n",
    "    ])\n",
    "\n",
    "# Create a scatter plot\n",
    "fig = go.Figure(data=go.Scatter(x=x, y=y, mode='lines'))\n",
    "\n",
    "# Update layout\n",
    "fig.update_layout(title=\"Energy Minimization\",\n",
    "                  xaxis_title=\"Energy Minimization Step\",\n",
    "                  yaxis_title=\"Potential Energy kcal/mol\",\n",
    "                  height=600)\n",
    "\n",
    "# Show the figure (renderer changes for colab and jupyter)\n",
    "rend = 'colab' if 'google.colab' in sys.modules else ''\n",
    "fig.show(renderer=rend)"
   ]
  },
  {
   "cell_type": "markdown",
   "metadata": {},
   "source": [
    "<a id=\"heating\"></a>\n",
    "## Heating the system\n",
    "\n",
    "**Warming up** the **prepared system** using the **sander tool** from the **AMBER MD package**. Going from 0 to the desired **temperature**, in this particular example, 300K. **Solute atoms restrained** (force constant of 10 Kcal/mol). Length 5ps.\n",
    "***\n",
    "- [Step 1](#heatStep1): Warming up the **system** through 500 MD steps.\n",
    "- [Step 2](#heatStep2): Checking results for the **system warming up**. Plotting **temperature** along time during the **heating** process. \n",
    "***\n",
    "**Building Blocks** used:\n",
    " - [sander_mdrun](https://biobb-amber.readthedocs.io/en/latest/sander.html#module-sander.sander_mdrun) from **biobb_amber.sander.sander_mdrun**\n",
    " - [process_mdout](https://biobb-amber.readthedocs.io/en/latest/process.html#module-process.process_mdout) from **biobb_amber.process.process_mdout**\n",
    "***"
   ]
  },
  {
   "cell_type": "markdown",
   "metadata": {},
   "source": [
    "<a id=\"heatStep1\"></a>\n",
    "### Step 1: Warming up the system\n",
    "The **heat** type of the **simulation_type property** contains the main default parameters to run a **system warming up**:\n",
    "\n",
    "-  imin = 0;&nbsp;&nbsp;&nbsp;      Run MD (no minimization)\n",
    "-  ntx = 5;&nbsp;&nbsp;&nbsp;       Read initial coords and vels from restart file\n",
    "-  cut = 10.0;&nbsp;&nbsp;&nbsp;    Cutoff for non bonded interactions in Angstroms\n",
    "-  ntr = 0;&nbsp;&nbsp;&nbsp;       No restrained atoms\n",
    "-  ntc = 2;&nbsp;&nbsp;&nbsp;       SHAKE for constraining length of bonds involving Hydrogen atoms\n",
    "-  ntf = 2;&nbsp;&nbsp;&nbsp;       Bond interactions involving H omitted\n",
    "-  ntt = 3;&nbsp;&nbsp;&nbsp;       Constant temperature using Langevin dynamics\n",
    "-  ig = -1;&nbsp;&nbsp;&nbsp;       Seed for pseudo-random number generator\n",
    "-  ioutfm = 1;&nbsp;&nbsp;&nbsp;    Write trajectory in netcdf format\n",
    "-  iwrap = 1;&nbsp;&nbsp;&nbsp;     Wrap coords into primary box\n",
    "-  nstlim = 5000;&nbsp;&nbsp;&nbsp; Number of MD steps \n",
    "-  dt = 0.002;&nbsp;&nbsp;&nbsp;    Time step (in ps)\n",
    "-  tempi = 0.0;&nbsp;&nbsp;&nbsp;   Initial temperature (0 K)\n",
    "-  temp0 = 300.0;&nbsp;&nbsp;&nbsp; Final temperature (300 K)\n",
    "-  irest = 0;&nbsp;&nbsp;&nbsp;     No restart from previous simulation\n",
    "-  ntb = 1;&nbsp;&nbsp;&nbsp;       Periodic boundary conditions at constant volume\n",
    "-  gamma_ln = 1.0;&nbsp;&nbsp;&nbsp;   Collision frequency for Langevin dynamics (in 1/ps)\n",
    "\n",
    "In this particular example, the **heating** of the system is done in **2500 steps** (5ps) and is going **from 0K to 300K** (note that the number of steps has been reduced in this tutorial, for the sake of time). "
   ]
  },
  {
   "cell_type": "code",
   "execution_count": 24,
   "metadata": {},
   "outputs": [
    {
     "name": "stdout",
     "output_type": "stream",
     "text": [
      "2025-07-31 15:51:02,653 [MainThread  ] [INFO ]  Module: biobb_amber.sander.sander_mdrun Version: 5.1.0\n",
      "2025-07-31 15:51:02,654 [MainThread  ] [INFO ]  /Users/gbayarri/biobb_wf_amber/biobb_wf_amber/notebooks/md_setup/sandbox_5f37296a-e98d-441c-ad30-4c7487f61042 directory successfully created\n",
      "2025-07-31 15:51:02,656 [MainThread  ] [INFO ]  Copy: structure.ions.parmtop to /Users/gbayarri/biobb_wf_amber/biobb_wf_amber/notebooks/md_setup/sandbox_5f37296a-e98d-441c-ad30-4c7487f61042\n",
      "2025-07-31 15:51:02,657 [MainThread  ] [INFO ]  Copy: sander.min.rst to /Users/gbayarri/biobb_wf_amber/biobb_wf_amber/notebooks/md_setup/sandbox_5f37296a-e98d-441c-ad30-4c7487f61042\n",
      "2025-07-31 15:51:02,658 [MainThread  ] [INFO ]  Copy: sander.min.rst to /Users/gbayarri/biobb_wf_amber/biobb_wf_amber/notebooks/md_setup/sandbox_5f37296a-e98d-441c-ad30-4c7487f61042\n",
      "2025-07-31 15:51:02,659 [MainThread  ] [INFO ]  Creating 72dcf168-9669-4061-9173-a63ef632aa1a temporary folder\n",
      "2025-07-31 15:51:02,659 [MainThread  ] [INFO ]  sander -O -i 72dcf168-9669-4061-9173-a63ef632aa1a/sander.mdin -p /Users/gbayarri/biobb_wf_amber/biobb_wf_amber/notebooks/md_setup/sandbox_5f37296a-e98d-441c-ad30-4c7487f61042/structure.ions.parmtop -c /Users/gbayarri/biobb_wf_amber/biobb_wf_amber/notebooks/md_setup/sandbox_5f37296a-e98d-441c-ad30-4c7487f61042/sander.min.rst -r /Users/gbayarri/biobb_wf_amber/biobb_wf_amber/notebooks/md_setup/sandbox_5f37296a-e98d-441c-ad30-4c7487f61042/sander.heat.rst -o /Users/gbayarri/biobb_wf_amber/biobb_wf_amber/notebooks/md_setup/sandbox_5f37296a-e98d-441c-ad30-4c7487f61042/sander.heat.log -x /Users/gbayarri/biobb_wf_amber/biobb_wf_amber/notebooks/md_setup/sandbox_5f37296a-e98d-441c-ad30-4c7487f61042/sander.heat.netcdf -ref /Users/gbayarri/biobb_wf_amber/biobb_wf_amber/notebooks/md_setup/sandbox_5f37296a-e98d-441c-ad30-4c7487f61042/sander.min.rst\n",
      "\n",
      "2025-07-31 15:55:33,873 [MainThread  ] [INFO ]  Executing: sander -O -i 72dcf168-9669-4061-9173-a63ef632aa1a/sander.mdin -p /Users/gbayarri...\n",
      "2025-07-31 15:55:33,874 [MainThread  ] [INFO ]  Exit code: 0\n",
      "2025-07-31 15:55:33,878 [MainThread  ] [INFO ]  Removed: ['/Users/gbayarri/biobb_wf_amber/biobb_wf_amber/notebooks/md_setup/sandbox_5f37296a-e98d-441c-ad30-4c7487f61042', 'mdinfo', '72dcf168-9669-4061-9173-a63ef632aa1a']\n",
      "2025-07-31 15:55:33,878 [MainThread  ] [INFO ]  Path sander.heat.netcdf --- biobb_amber.sander.sander_mdrun: Unexisting output_traj_path file.\n",
      "2025-07-31 15:55:33,879 [MainThread  ] [INFO ]  \n"
     ]
    },
    {
     "name": "stderr",
     "output_type": "stream",
     "text": [
      "/Users/gbayarri/miniconda3/envs/biobb_wf_amber/lib/python3.12/site-packages/biobb_common/tools/file_utils.py:771: UserWarning:\n",
      "\n",
      "Path sander.heat.netcdf --- biobb_amber.sander.sander_mdrun: Unexisting output_traj_path file.\n",
      "\n"
     ]
    },
    {
     "data": {
      "text/plain": [
       "0"
      ]
     },
     "execution_count": 24,
     "metadata": {},
     "output_type": "execute_result"
    }
   ],
   "source": [
    "# Import module\n",
    "from biobb_amber.sander.sander_mdrun import sander_mdrun\n",
    "\n",
    "# Create prop dict and inputs/outputs\n",
    "output_heat_traj_path = 'sander.heat.netcdf'\n",
    "output_heat_rst_path = 'sander.heat.rst'\n",
    "output_heat_log_path = 'sander.heat.log'\n",
    "\n",
    "prop = {\n",
    "    \"simulation_type\" : \"heat\",\n",
    "    \"mdin\" : { \n",
    "        'nstlim' : 2500, # Reducing the number of steps for the sake of time (5ps)\n",
    "        'ntr' : 1,       # Overwritting restrain parameter\n",
    "        'restraintmask' : '\\\"!:WAT,Cl-,Na+\\\"',      # Restraining solute\n",
    "        'restraint_wt' : 10.0                       # With a force constant of 10 Kcal/mol*A2\n",
    "    }\n",
    "}\n",
    "\n",
    "# Create and launch bb\n",
    "sander_mdrun(input_top_path=output_ions_top_path,\n",
    "            input_crd_path=output_min_rst_path,\n",
    "            input_ref_path=output_min_rst_path,\n",
    "            output_traj_path=output_heat_traj_path,\n",
    "            output_rst_path=output_heat_rst_path,\n",
    "            output_log_path=output_heat_log_path,\n",
    "            properties=prop)"
   ]
  },
  {
   "cell_type": "markdown",
   "metadata": {},
   "source": [
    "<a id=\"heatStep2\"></a>\n",
    "### Step 2: Checking results from the system warming up\n",
    "Checking **system warming up** output. Plotting **temperature** along time during the **heating process**."
   ]
  },
  {
   "cell_type": "code",
   "execution_count": 25,
   "metadata": {},
   "outputs": [
    {
     "name": "stdout",
     "output_type": "stream",
     "text": [
      "2025-07-31 15:55:33,887 [MainThread  ] [INFO ]  Module: biobb_amber.process.process_mdout Version: 5.1.0\n",
      "2025-07-31 15:55:33,888 [MainThread  ] [INFO ]  /Users/gbayarri/biobb_wf_amber/biobb_wf_amber/notebooks/md_setup/sandbox_7b1ce67b-fac8-4b4d-9ee2-ac3139ce832f directory successfully created\n",
      "2025-07-31 15:55:33,889 [MainThread  ] [INFO ]  Copy: sander.heat.log to /Users/gbayarri/biobb_wf_amber/biobb_wf_amber/notebooks/md_setup/sandbox_7b1ce67b-fac8-4b4d-9ee2-ac3139ce832f\n",
      "2025-07-31 15:55:33,890 [MainThread  ] [INFO ]  Creating 63c17aef-dfc5-4e25-941c-12e9b7bb386d temporary folder\n",
      "2025-07-31 15:55:33,891 [MainThread  ] [INFO ]  cd 63c17aef-dfc5-4e25-941c-12e9b7bb386d ; process_mdout.perl /Users/gbayarri/biobb_wf_amber/biobb_wf_amber/notebooks/md_setup/sandbox_7b1ce67b-fac8-4b4d-9ee2-ac3139ce832f/sander.heat.log\n",
      "\n",
      "2025-07-31 15:55:33,929 [MainThread  ] [INFO ]  Executing: cd 63c17aef-dfc5-4e25-941c-12e9b7bb386d ; process_mdout.perl /Users/gbayarri/bio...\n",
      "2025-07-31 15:55:33,931 [MainThread  ] [INFO ]  Exit code: 0\n",
      "2025-07-31 15:55:33,932 [MainThread  ] [INFO ]  Processing sander output file (/Users/gbayarri/biobb_wf_amber/biobb_wf_amber/notebooks/md_setup/sandbox_7b1ce67b-fac8-4b4d-9ee2-ac3139ce832f/sander.heat.log)...\n",
      "Starting output...\n",
      "Outputing summary.TEMP\n",
      "Outputing summary_avg.TEMP\n",
      "Outputing summary_rms.TEMP\n",
      "Outputing summary.TSOLUTE\n",
      "Outputing summary_avg.TSOLUTE\n",
      "Outputing summary_rms.TSOLUTE\n",
      "Outputing summary.TSOLVENT\n",
      "Outputing summary_avg.TSOLVENT\n",
      "Outputing summary_rms.TSOLVENT\n",
      "Outputing summary.PRES\n",
      "Outputing summary_avg.PRES\n",
      "Outputing summary_rms.PRES\n",
      "Outputing summary.EKCMT\n",
      "Outputing summary_avg.EKCMT\n",
      "Outputing summary_rms.EKCMT\n",
      "Outputing summary.ETOT\n",
      "Outputing summary_avg.ETOT\n",
      "Outputing summary_rms.ETOT\n",
      "Outputing summary.EKTOT\n",
      "Outputing summary_avg.EKTOT\n",
      "Outputing summary_rms.EKTOT\n",
      "Outputing summary.EPTOT\n",
      "Outputing summary_avg.EPTOT\n",
      "Outputing summary_rms.EPTOT\n",
      "Outputing summary.DENSITY\n",
      "Outputing summary_avg.DENSITY\n",
      "Outputing summary_rms.DENSITY\n",
      "Outputing summary.VOLUME\n",
      "Outputing summary_avg.VOLUME\n",
      "Outputing summary_rms.VOLUME\n",
      "Outputing summary.ESCF\n",
      "Outputing summary_avg.ESCF\n",
      "Outputing summary_rms.ESCF\n",
      "\n",
      "2025-07-31 15:55:33,936 [MainThread  ] [INFO ]  Removed: ['/Users/gbayarri/biobb_wf_amber/biobb_wf_amber/notebooks/md_setup/sandbox_7b1ce67b-fac8-4b4d-9ee2-ac3139ce832f', '63c17aef-dfc5-4e25-941c-12e9b7bb386d']\n",
      "2025-07-31 15:55:33,937 [MainThread  ] [INFO ]  \n"
     ]
    },
    {
     "data": {
      "text/plain": [
       "0"
      ]
     },
     "execution_count": 25,
     "metadata": {},
     "output_type": "execute_result"
    }
   ],
   "source": [
    "# Import module\n",
    "from biobb_amber.process.process_mdout import process_mdout\n",
    "\n",
    "# Create prop dict and inputs/outputs\n",
    "output_dat_heat_path = 'sander.md.temp.dat'\n",
    "\n",
    "prop = {\n",
    "    \"terms\" : ['TEMP']\n",
    "}\n",
    "\n",
    "# Create and launch bb\n",
    "process_mdout(input_log_path=output_heat_log_path,\n",
    "            output_dat_path=output_dat_heat_path,\n",
    "            properties=prop)"
   ]
  },
  {
   "cell_type": "code",
   "execution_count": 26,
   "metadata": {},
   "outputs": [
    {
     "data": {
      "application/vnd.plotly.v1+json": {
       "config": {
        "plotlyServerURL": "https://plot.ly"
       },
       "data": [
        {
         "mode": "lines",
         "type": "scatter",
         "x": [
          0,
          0.1,
          0.2,
          0.3,
          0.4,
          0.5,
          0.6,
          0.7,
          0.8,
          0.9,
          1,
          1.1,
          1.2,
          1.3,
          1.4,
          1.5,
          1.6,
          1.7,
          1.8,
          1.9,
          2,
          2.1,
          2.2,
          2.3,
          2.4,
          2.5,
          2.6,
          2.7,
          2.8,
          2.9,
          3,
          3.1,
          3.2,
          3.3,
          3.4,
          3.5,
          3.6,
          3.7,
          3.8,
          3.9,
          4,
          4.1,
          4.2,
          4.3,
          4.4,
          4.5,
          4.6,
          4.7,
          4.8,
          4.9,
          5
         ],
         "y": [
          0,
          55.71,
          94.58,
          119.17,
          138.54,
          154.95,
          170.03,
          181.23,
          195.91,
          203.49,
          210.67,
          220.45,
          226.11,
          236,
          239.14,
          244.47,
          246.91,
          253.53,
          254.43,
          259.49,
          261.13,
          265.2,
          266.98,
          269.79,
          273.14,
          272.84,
          276.9,
          276.47,
          279.23,
          281.33,
          282.33,
          284.35,
          280.91,
          284.24,
          286.97,
          289.41,
          286.24,
          287.94,
          287.73,
          292.02,
          294.27,
          296.06,
          294.54,
          294.69,
          293.47,
          293.74,
          296.01,
          295.02,
          293.6,
          297.19,
          291.86
         ]
        }
       ],
       "layout": {
        "height": 600,
        "template": {
         "data": {
          "bar": [
           {
            "error_x": {
             "color": "#2a3f5f"
            },
            "error_y": {
             "color": "#2a3f5f"
            },
            "marker": {
             "line": {
              "color": "#E5ECF6",
              "width": 0.5
             },
             "pattern": {
              "fillmode": "overlay",
              "size": 10,
              "solidity": 0.2
             }
            },
            "type": "bar"
           }
          ],
          "barpolar": [
           {
            "marker": {
             "line": {
              "color": "#E5ECF6",
              "width": 0.5
             },
             "pattern": {
              "fillmode": "overlay",
              "size": 10,
              "solidity": 0.2
             }
            },
            "type": "barpolar"
           }
          ],
          "carpet": [
           {
            "aaxis": {
             "endlinecolor": "#2a3f5f",
             "gridcolor": "white",
             "linecolor": "white",
             "minorgridcolor": "white",
             "startlinecolor": "#2a3f5f"
            },
            "baxis": {
             "endlinecolor": "#2a3f5f",
             "gridcolor": "white",
             "linecolor": "white",
             "minorgridcolor": "white",
             "startlinecolor": "#2a3f5f"
            },
            "type": "carpet"
           }
          ],
          "choropleth": [
           {
            "colorbar": {
             "outlinewidth": 0,
             "ticks": ""
            },
            "type": "choropleth"
           }
          ],
          "contour": [
           {
            "colorbar": {
             "outlinewidth": 0,
             "ticks": ""
            },
            "colorscale": [
             [
              0,
              "#0d0887"
             ],
             [
              0.1111111111111111,
              "#46039f"
             ],
             [
              0.2222222222222222,
              "#7201a8"
             ],
             [
              0.3333333333333333,
              "#9c179e"
             ],
             [
              0.4444444444444444,
              "#bd3786"
             ],
             [
              0.5555555555555556,
              "#d8576b"
             ],
             [
              0.6666666666666666,
              "#ed7953"
             ],
             [
              0.7777777777777778,
              "#fb9f3a"
             ],
             [
              0.8888888888888888,
              "#fdca26"
             ],
             [
              1,
              "#f0f921"
             ]
            ],
            "type": "contour"
           }
          ],
          "contourcarpet": [
           {
            "colorbar": {
             "outlinewidth": 0,
             "ticks": ""
            },
            "type": "contourcarpet"
           }
          ],
          "heatmap": [
           {
            "colorbar": {
             "outlinewidth": 0,
             "ticks": ""
            },
            "colorscale": [
             [
              0,
              "#0d0887"
             ],
             [
              0.1111111111111111,
              "#46039f"
             ],
             [
              0.2222222222222222,
              "#7201a8"
             ],
             [
              0.3333333333333333,
              "#9c179e"
             ],
             [
              0.4444444444444444,
              "#bd3786"
             ],
             [
              0.5555555555555556,
              "#d8576b"
             ],
             [
              0.6666666666666666,
              "#ed7953"
             ],
             [
              0.7777777777777778,
              "#fb9f3a"
             ],
             [
              0.8888888888888888,
              "#fdca26"
             ],
             [
              1,
              "#f0f921"
             ]
            ],
            "type": "heatmap"
           }
          ],
          "histogram": [
           {
            "marker": {
             "pattern": {
              "fillmode": "overlay",
              "size": 10,
              "solidity": 0.2
             }
            },
            "type": "histogram"
           }
          ],
          "histogram2d": [
           {
            "colorbar": {
             "outlinewidth": 0,
             "ticks": ""
            },
            "colorscale": [
             [
              0,
              "#0d0887"
             ],
             [
              0.1111111111111111,
              "#46039f"
             ],
             [
              0.2222222222222222,
              "#7201a8"
             ],
             [
              0.3333333333333333,
              "#9c179e"
             ],
             [
              0.4444444444444444,
              "#bd3786"
             ],
             [
              0.5555555555555556,
              "#d8576b"
             ],
             [
              0.6666666666666666,
              "#ed7953"
             ],
             [
              0.7777777777777778,
              "#fb9f3a"
             ],
             [
              0.8888888888888888,
              "#fdca26"
             ],
             [
              1,
              "#f0f921"
             ]
            ],
            "type": "histogram2d"
           }
          ],
          "histogram2dcontour": [
           {
            "colorbar": {
             "outlinewidth": 0,
             "ticks": ""
            },
            "colorscale": [
             [
              0,
              "#0d0887"
             ],
             [
              0.1111111111111111,
              "#46039f"
             ],
             [
              0.2222222222222222,
              "#7201a8"
             ],
             [
              0.3333333333333333,
              "#9c179e"
             ],
             [
              0.4444444444444444,
              "#bd3786"
             ],
             [
              0.5555555555555556,
              "#d8576b"
             ],
             [
              0.6666666666666666,
              "#ed7953"
             ],
             [
              0.7777777777777778,
              "#fb9f3a"
             ],
             [
              0.8888888888888888,
              "#fdca26"
             ],
             [
              1,
              "#f0f921"
             ]
            ],
            "type": "histogram2dcontour"
           }
          ],
          "mesh3d": [
           {
            "colorbar": {
             "outlinewidth": 0,
             "ticks": ""
            },
            "type": "mesh3d"
           }
          ],
          "parcoords": [
           {
            "line": {
             "colorbar": {
              "outlinewidth": 0,
              "ticks": ""
             }
            },
            "type": "parcoords"
           }
          ],
          "pie": [
           {
            "automargin": true,
            "type": "pie"
           }
          ],
          "scatter": [
           {
            "fillpattern": {
             "fillmode": "overlay",
             "size": 10,
             "solidity": 0.2
            },
            "type": "scatter"
           }
          ],
          "scatter3d": [
           {
            "line": {
             "colorbar": {
              "outlinewidth": 0,
              "ticks": ""
             }
            },
            "marker": {
             "colorbar": {
              "outlinewidth": 0,
              "ticks": ""
             }
            },
            "type": "scatter3d"
           }
          ],
          "scattercarpet": [
           {
            "marker": {
             "colorbar": {
              "outlinewidth": 0,
              "ticks": ""
             }
            },
            "type": "scattercarpet"
           }
          ],
          "scattergeo": [
           {
            "marker": {
             "colorbar": {
              "outlinewidth": 0,
              "ticks": ""
             }
            },
            "type": "scattergeo"
           }
          ],
          "scattergl": [
           {
            "marker": {
             "colorbar": {
              "outlinewidth": 0,
              "ticks": ""
             }
            },
            "type": "scattergl"
           }
          ],
          "scattermap": [
           {
            "marker": {
             "colorbar": {
              "outlinewidth": 0,
              "ticks": ""
             }
            },
            "type": "scattermap"
           }
          ],
          "scattermapbox": [
           {
            "marker": {
             "colorbar": {
              "outlinewidth": 0,
              "ticks": ""
             }
            },
            "type": "scattermapbox"
           }
          ],
          "scatterpolar": [
           {
            "marker": {
             "colorbar": {
              "outlinewidth": 0,
              "ticks": ""
             }
            },
            "type": "scatterpolar"
           }
          ],
          "scatterpolargl": [
           {
            "marker": {
             "colorbar": {
              "outlinewidth": 0,
              "ticks": ""
             }
            },
            "type": "scatterpolargl"
           }
          ],
          "scatterternary": [
           {
            "marker": {
             "colorbar": {
              "outlinewidth": 0,
              "ticks": ""
             }
            },
            "type": "scatterternary"
           }
          ],
          "surface": [
           {
            "colorbar": {
             "outlinewidth": 0,
             "ticks": ""
            },
            "colorscale": [
             [
              0,
              "#0d0887"
             ],
             [
              0.1111111111111111,
              "#46039f"
             ],
             [
              0.2222222222222222,
              "#7201a8"
             ],
             [
              0.3333333333333333,
              "#9c179e"
             ],
             [
              0.4444444444444444,
              "#bd3786"
             ],
             [
              0.5555555555555556,
              "#d8576b"
             ],
             [
              0.6666666666666666,
              "#ed7953"
             ],
             [
              0.7777777777777778,
              "#fb9f3a"
             ],
             [
              0.8888888888888888,
              "#fdca26"
             ],
             [
              1,
              "#f0f921"
             ]
            ],
            "type": "surface"
           }
          ],
          "table": [
           {
            "cells": {
             "fill": {
              "color": "#EBF0F8"
             },
             "line": {
              "color": "white"
             }
            },
            "header": {
             "fill": {
              "color": "#C8D4E3"
             },
             "line": {
              "color": "white"
             }
            },
            "type": "table"
           }
          ]
         },
         "layout": {
          "annotationdefaults": {
           "arrowcolor": "#2a3f5f",
           "arrowhead": 0,
           "arrowwidth": 1
          },
          "autotypenumbers": "strict",
          "coloraxis": {
           "colorbar": {
            "outlinewidth": 0,
            "ticks": ""
           }
          },
          "colorscale": {
           "diverging": [
            [
             0,
             "#8e0152"
            ],
            [
             0.1,
             "#c51b7d"
            ],
            [
             0.2,
             "#de77ae"
            ],
            [
             0.3,
             "#f1b6da"
            ],
            [
             0.4,
             "#fde0ef"
            ],
            [
             0.5,
             "#f7f7f7"
            ],
            [
             0.6,
             "#e6f5d0"
            ],
            [
             0.7,
             "#b8e186"
            ],
            [
             0.8,
             "#7fbc41"
            ],
            [
             0.9,
             "#4d9221"
            ],
            [
             1,
             "#276419"
            ]
           ],
           "sequential": [
            [
             0,
             "#0d0887"
            ],
            [
             0.1111111111111111,
             "#46039f"
            ],
            [
             0.2222222222222222,
             "#7201a8"
            ],
            [
             0.3333333333333333,
             "#9c179e"
            ],
            [
             0.4444444444444444,
             "#bd3786"
            ],
            [
             0.5555555555555556,
             "#d8576b"
            ],
            [
             0.6666666666666666,
             "#ed7953"
            ],
            [
             0.7777777777777778,
             "#fb9f3a"
            ],
            [
             0.8888888888888888,
             "#fdca26"
            ],
            [
             1,
             "#f0f921"
            ]
           ],
           "sequentialminus": [
            [
             0,
             "#0d0887"
            ],
            [
             0.1111111111111111,
             "#46039f"
            ],
            [
             0.2222222222222222,
             "#7201a8"
            ],
            [
             0.3333333333333333,
             "#9c179e"
            ],
            [
             0.4444444444444444,
             "#bd3786"
            ],
            [
             0.5555555555555556,
             "#d8576b"
            ],
            [
             0.6666666666666666,
             "#ed7953"
            ],
            [
             0.7777777777777778,
             "#fb9f3a"
            ],
            [
             0.8888888888888888,
             "#fdca26"
            ],
            [
             1,
             "#f0f921"
            ]
           ]
          },
          "colorway": [
           "#636efa",
           "#EF553B",
           "#00cc96",
           "#ab63fa",
           "#FFA15A",
           "#19d3f3",
           "#FF6692",
           "#B6E880",
           "#FF97FF",
           "#FECB52"
          ],
          "font": {
           "color": "#2a3f5f"
          },
          "geo": {
           "bgcolor": "white",
           "lakecolor": "white",
           "landcolor": "#E5ECF6",
           "showlakes": true,
           "showland": true,
           "subunitcolor": "white"
          },
          "hoverlabel": {
           "align": "left"
          },
          "hovermode": "closest",
          "mapbox": {
           "style": "light"
          },
          "paper_bgcolor": "white",
          "plot_bgcolor": "#E5ECF6",
          "polar": {
           "angularaxis": {
            "gridcolor": "white",
            "linecolor": "white",
            "ticks": ""
           },
           "bgcolor": "#E5ECF6",
           "radialaxis": {
            "gridcolor": "white",
            "linecolor": "white",
            "ticks": ""
           }
          },
          "scene": {
           "xaxis": {
            "backgroundcolor": "#E5ECF6",
            "gridcolor": "white",
            "gridwidth": 2,
            "linecolor": "white",
            "showbackground": true,
            "ticks": "",
            "zerolinecolor": "white"
           },
           "yaxis": {
            "backgroundcolor": "#E5ECF6",
            "gridcolor": "white",
            "gridwidth": 2,
            "linecolor": "white",
            "showbackground": true,
            "ticks": "",
            "zerolinecolor": "white"
           },
           "zaxis": {
            "backgroundcolor": "#E5ECF6",
            "gridcolor": "white",
            "gridwidth": 2,
            "linecolor": "white",
            "showbackground": true,
            "ticks": "",
            "zerolinecolor": "white"
           }
          },
          "shapedefaults": {
           "line": {
            "color": "#2a3f5f"
           }
          },
          "ternary": {
           "aaxis": {
            "gridcolor": "white",
            "linecolor": "white",
            "ticks": ""
           },
           "baxis": {
            "gridcolor": "white",
            "linecolor": "white",
            "ticks": ""
           },
           "bgcolor": "#E5ECF6",
           "caxis": {
            "gridcolor": "white",
            "linecolor": "white",
            "ticks": ""
           }
          },
          "title": {
           "x": 0.05
          },
          "xaxis": {
           "automargin": true,
           "gridcolor": "white",
           "linecolor": "white",
           "ticks": "",
           "title": {
            "standoff": 15
           },
           "zerolinecolor": "white",
           "zerolinewidth": 2
          },
          "yaxis": {
           "automargin": true,
           "gridcolor": "white",
           "linecolor": "white",
           "ticks": "",
           "title": {
            "standoff": 15
           },
           "zerolinecolor": "white",
           "zerolinewidth": 2
          }
         }
        },
        "title": {
         "text": "Heating process"
        },
        "xaxis": {
         "title": {
          "text": "Heating Step (ps)"
         }
        },
        "yaxis": {
         "title": {
          "text": "Temperature (K)"
         }
        }
       }
      },
      "image/png": "[encoded data removed]"
     },
     "metadata": {},
     "output_type": "display_data"
    }
   ],
   "source": [
    "import plotly.graph_objs as go\n",
    "\n",
    "with open(output_dat_heat_path, 'r') as energy_file:\n",
    "    x, y = zip(*[\n",
    "        (float(line.split()[0]), float(line.split()[1]))\n",
    "        for line in energy_file\n",
    "        if not line.startswith((\"#\", \"@\"))\n",
    "        if float(line.split()[1]) < 1000\n",
    "    ])\n",
    "\n",
    "# Create a scatter plot\n",
    "fig = go.Figure(data=go.Scatter(x=x, y=y, mode='lines'))\n",
    "\n",
    "# Update layout\n",
    "fig.update_layout(title=\"Heating process\",\n",
    "                  xaxis_title=\"Heating Step (ps)\",\n",
    "                  yaxis_title=\"Temperature (K)\",\n",
    "                  height=600)\n",
    "\n",
    "# Show the figure (renderer changes for colab and jupyter)\n",
    "rend = 'colab' if 'google.colab' in sys.modules else ''\n",
    "fig.show(renderer=rend)"
   ]
  },
  {
   "cell_type": "markdown",
   "metadata": {},
   "source": [
    "<a id=\"nvt\"></a>\n",
    "***\n",
    "## Equilibrate the system (NVT)\n",
    "Equilibrate the **protein system** in **NVT ensemble** (constant Number of particles, Volume and Temperature). Protein **heavy atoms** will be restrained using position restraining forces: movement is permitted, but only after overcoming a substantial energy penalty. The utility of position restraints is that they allow us to equilibrate our solvent around our protein, without the added variable of structural changes in the protein.\n",
    "\n",
    "- [Step 1](#eqNVTStep1): Equilibrate the **protein system** with **NVT** ensemble.\n",
    "- [Step 2](#eqNVTStep2): Checking **NVT Equilibration** results. Plotting **system temperature** by time during the **NVT equilibration** process.  \n",
    "***\n",
    "**Building Blocks** used:\n",
    " - [sander_mdrun](https://biobb-amber.readthedocs.io/en/latest/sander.html#module-sander.sander_mdrun) from **biobb_amber.sander.sander_mdrun**\n",
    " - [process_mdout](https://biobb-amber.readthedocs.io/en/latest/process.html#module-process.process_mdout) from **biobb_amber.process.process_mdout** \n",
    "***"
   ]
  },
  {
   "cell_type": "markdown",
   "metadata": {},
   "source": [
    "<a id=\"eqNVTStep1\"></a>\n",
    "### Step 1: Equilibrating the system (NVT)\n",
    "The **nvt** type of the **simulation_type property** contains the main default parameters to run a **system equilibration in NVT ensemble**:\n",
    "\n",
    "-  imin = 0;&nbsp;&nbsp;&nbsp;      Run MD (no minimization)\n",
    "-  ntx = 5;&nbsp;&nbsp;&nbsp;       Read initial coords and vels from restart file\n",
    "-  cut = 10.0;&nbsp;&nbsp;&nbsp;    Cutoff for non bonded interactions in Angstroms\n",
    "-  ntr = 0;&nbsp;&nbsp;&nbsp;       No restrained atoms\n",
    "-  ntc = 2;&nbsp;&nbsp;&nbsp;       SHAKE for constraining length of bonds involving Hydrogen atoms\n",
    "-  ntf = 2;&nbsp;&nbsp;&nbsp;       Bond interactions involving H omitted\n",
    "-  ntt = 3;&nbsp;&nbsp;&nbsp;       Constant temperature using Langevin dynamics\n",
    "-  ig = -1;&nbsp;&nbsp;&nbsp;       Seed for pseudo-random number generator\n",
    "-  ioutfm = 1;&nbsp;&nbsp;&nbsp;    Write trajectory in netcdf format\n",
    "-  iwrap = 1;&nbsp;&nbsp;&nbsp;     Wrap coords into primary box\n",
    "-  nstlim = 5000;&nbsp;&nbsp;&nbsp; Number of MD steps \n",
    "-  dt = 0.002;&nbsp;&nbsp;&nbsp;    Time step (in ps)\n",
    "-  irest = 1;&nbsp;&nbsp;&nbsp;     Restart previous simulation\n",
    "-  ntb = 1;&nbsp;&nbsp;&nbsp;       Periodic boundary conditions at constant volume\n",
    "-  gamma_ln = 5.0;&nbsp;&nbsp;&nbsp;   Collision frequency for Langevin dynamics (in 1/ps)\n",
    "\n",
    "In this particular example, the **NVT equilibration** of the system is done in **500 steps** (note that the number of steps has been reduced in this tutorial, for the sake of time). "
   ]
  },
  {
   "cell_type": "code",
   "execution_count": 27,
   "metadata": {},
   "outputs": [
    {
     "name": "stdout",
     "output_type": "stream",
     "text": [
      "2025-07-31 15:55:33,962 [MainThread  ] [INFO ]  Module: biobb_amber.sander.sander_mdrun Version: 5.1.0\n",
      "2025-07-31 15:55:33,963 [MainThread  ] [INFO ]  /Users/gbayarri/biobb_wf_amber/biobb_wf_amber/notebooks/md_setup/sandbox_c6f0838c-f4d6-439c-b267-ad4218ac6e20 directory successfully created\n",
      "2025-07-31 15:55:33,965 [MainThread  ] [INFO ]  Copy: structure.ions.parmtop to /Users/gbayarri/biobb_wf_amber/biobb_wf_amber/notebooks/md_setup/sandbox_c6f0838c-f4d6-439c-b267-ad4218ac6e20\n",
      "2025-07-31 15:55:33,967 [MainThread  ] [INFO ]  Copy: sander.heat.rst to /Users/gbayarri/biobb_wf_amber/biobb_wf_amber/notebooks/md_setup/sandbox_c6f0838c-f4d6-439c-b267-ad4218ac6e20\n",
      "2025-07-31 15:55:33,968 [MainThread  ] [INFO ]  Copy: sander.heat.rst to /Users/gbayarri/biobb_wf_amber/biobb_wf_amber/notebooks/md_setup/sandbox_c6f0838c-f4d6-439c-b267-ad4218ac6e20\n",
      "2025-07-31 15:55:33,969 [MainThread  ] [INFO ]  Creating ce991758-9d1b-4662-bef9-919d7f95f5f7 temporary folder\n",
      "2025-07-31 15:55:33,970 [MainThread  ] [INFO ]  sander -O -i ce991758-9d1b-4662-bef9-919d7f95f5f7/sander.mdin -p /Users/gbayarri/biobb_wf_amber/biobb_wf_amber/notebooks/md_setup/sandbox_c6f0838c-f4d6-439c-b267-ad4218ac6e20/structure.ions.parmtop -c /Users/gbayarri/biobb_wf_amber/biobb_wf_amber/notebooks/md_setup/sandbox_c6f0838c-f4d6-439c-b267-ad4218ac6e20/sander.heat.rst -r /Users/gbayarri/biobb_wf_amber/biobb_wf_amber/notebooks/md_setup/sandbox_c6f0838c-f4d6-439c-b267-ad4218ac6e20/sander.nvt.rst -o /Users/gbayarri/biobb_wf_amber/biobb_wf_amber/notebooks/md_setup/sandbox_c6f0838c-f4d6-439c-b267-ad4218ac6e20/sander.nvt.log -x /Users/gbayarri/biobb_wf_amber/biobb_wf_amber/notebooks/md_setup/sandbox_c6f0838c-f4d6-439c-b267-ad4218ac6e20/sander.nvt.netcdf -ref /Users/gbayarri/biobb_wf_amber/biobb_wf_amber/notebooks/md_setup/sandbox_c6f0838c-f4d6-439c-b267-ad4218ac6e20/sander.heat.rst\n",
      "\n",
      "2025-07-31 15:56:30,098 [MainThread  ] [INFO ]  Executing: sander -O -i ce991758-9d1b-4662-bef9-919d7f95f5f7/sander.mdin -p /Users/gbayarri...\n",
      "2025-07-31 15:56:30,100 [MainThread  ] [INFO ]  Exit code: 0\n",
      "2025-07-31 15:56:30,103 [MainThread  ] [INFO ]  Removed: ['/Users/gbayarri/biobb_wf_amber/biobb_wf_amber/notebooks/md_setup/sandbox_c6f0838c-f4d6-439c-b267-ad4218ac6e20', 'mdinfo', 'ce991758-9d1b-4662-bef9-919d7f95f5f7']\n",
      "2025-07-31 15:56:30,104 [MainThread  ] [INFO ]  Path sander.nvt.netcdf --- biobb_amber.sander.sander_mdrun: Unexisting output_traj_path file.\n",
      "2025-07-31 15:56:30,105 [MainThread  ] [INFO ]  \n"
     ]
    },
    {
     "name": "stderr",
     "output_type": "stream",
     "text": [
      "/Users/gbayarri/miniconda3/envs/biobb_wf_amber/lib/python3.12/site-packages/biobb_common/tools/file_utils.py:771: UserWarning:\n",
      "\n",
      "Path sander.nvt.netcdf --- biobb_amber.sander.sander_mdrun: Unexisting output_traj_path file.\n",
      "\n"
     ]
    },
    {
     "data": {
      "text/plain": [
       "0"
      ]
     },
     "execution_count": 27,
     "metadata": {},
     "output_type": "execute_result"
    }
   ],
   "source": [
    "# Import module\n",
    "from biobb_amber.sander.sander_mdrun import sander_mdrun\n",
    "\n",
    "# Create prop dict and inputs/outputs\n",
    "output_nvt_traj_path = 'sander.nvt.netcdf'\n",
    "output_nvt_rst_path = 'sander.nvt.rst'\n",
    "output_nvt_log_path = 'sander.nvt.log'\n",
    "\n",
    "prop = {\n",
    "    \"simulation_type\" : 'nvt',\n",
    "    \"mdin\" : { \n",
    "        'nstlim' : 500, # Reducing the number of steps for the sake of time (1ps)\n",
    "        'ntr' : 1,      # Overwritting restrain parameter\n",
    "        'restraintmask' : '\\\"!:WAT,Cl-,Na+ & !@H=\\\"',      # Restraining solute heavy atoms\n",
    "        'restraint_wt' : 5.0                               # With a force constant of 5 Kcal/mol*A2\n",
    "    }\n",
    "}\n",
    "\n",
    "# Create and launch bb\n",
    "sander_mdrun(input_top_path=output_ions_top_path,\n",
    "            input_crd_path=output_heat_rst_path,\n",
    "            input_ref_path=output_heat_rst_path,\n",
    "            output_traj_path=output_nvt_traj_path,\n",
    "            output_rst_path=output_nvt_rst_path,\n",
    "            output_log_path=output_nvt_log_path,\n",
    "            properties=prop)"
   ]
  },
  {
   "cell_type": "markdown",
   "metadata": {},
   "source": [
    "<a id=\"eqNVTStep2\"></a>\n",
    "### Step 2: Checking NVT Equilibration results\n",
    "Checking **NVT Equilibration** results. Plotting **system temperature** by time during the NVT equilibration process. "
   ]
  },
  {
   "cell_type": "code",
   "execution_count": 28,
   "metadata": {},
   "outputs": [
    {
     "name": "stdout",
     "output_type": "stream",
     "text": [
      "2025-07-31 15:56:30,113 [MainThread  ] [INFO ]  Module: biobb_amber.process.process_mdout Version: 5.1.0\n",
      "2025-07-31 15:56:30,113 [MainThread  ] [INFO ]  /Users/gbayarri/biobb_wf_amber/biobb_wf_amber/notebooks/md_setup/sandbox_461b5216-d6e7-4e53-90a6-7499c037196a directory successfully created\n",
      "2025-07-31 15:56:30,115 [MainThread  ] [INFO ]  Copy: sander.nvt.log to /Users/gbayarri/biobb_wf_amber/biobb_wf_amber/notebooks/md_setup/sandbox_461b5216-d6e7-4e53-90a6-7499c037196a\n",
      "2025-07-31 15:56:30,115 [MainThread  ] [INFO ]  Creating 4ca06912-59b6-4ad0-8c10-f118b4389792 temporary folder\n",
      "2025-07-31 15:56:30,116 [MainThread  ] [INFO ]  cd 4ca06912-59b6-4ad0-8c10-f118b4389792 ; process_mdout.perl /Users/gbayarri/biobb_wf_amber/biobb_wf_amber/notebooks/md_setup/sandbox_461b5216-d6e7-4e53-90a6-7499c037196a/sander.nvt.log\n",
      "\n",
      "2025-07-31 15:56:30,154 [MainThread  ] [INFO ]  Executing: cd 4ca06912-59b6-4ad0-8c10-f118b4389792 ; process_mdout.perl /Users/gbayarri/bio...\n",
      "2025-07-31 15:56:30,155 [MainThread  ] [INFO ]  Exit code: 0\n",
      "2025-07-31 15:56:30,156 [MainThread  ] [INFO ]  Processing sander output file (/Users/gbayarri/biobb_wf_amber/biobb_wf_amber/notebooks/md_setup/sandbox_461b5216-d6e7-4e53-90a6-7499c037196a/sander.nvt.log)...\n",
      "Starting output...\n",
      "Outputing summary.TEMP\n",
      "Outputing summary_avg.TEMP\n",
      "Outputing summary_rms.TEMP\n",
      "Outputing summary.TSOLUTE\n",
      "Outputing summary_avg.TSOLUTE\n",
      "Outputing summary_rms.TSOLUTE\n",
      "Outputing summary.TSOLVENT\n",
      "Outputing summary_avg.TSOLVENT\n",
      "Outputing summary_rms.TSOLVENT\n",
      "Outputing summary.PRES\n",
      "Outputing summary_avg.PRES\n",
      "Outputing summary_rms.PRES\n",
      "Outputing summary.EKCMT\n",
      "Outputing summary_avg.EKCMT\n",
      "Outputing summary_rms.EKCMT\n",
      "Outputing summary.ETOT\n",
      "Outputing summary_avg.ETOT\n",
      "Outputing summary_rms.ETOT\n",
      "Outputing summary.EKTOT\n",
      "Outputing summary_avg.EKTOT\n",
      "Outputing summary_rms.EKTOT\n",
      "Outputing summary.EPTOT\n",
      "Outputing summary_avg.EPTOT\n",
      "Outputing summary_rms.EPTOT\n",
      "Outputing summary.DENSITY\n",
      "Outputing summary_avg.DENSITY\n",
      "Outputing summary_rms.DENSITY\n",
      "Outputing summary.VOLUME\n",
      "Outputing summary_avg.VOLUME\n",
      "Outputing summary_rms.VOLUME\n",
      "Outputing summary.ESCF\n",
      "Outputing summary_avg.ESCF\n",
      "Outputing summary_rms.ESCF\n",
      "\n",
      "2025-07-31 15:56:30,159 [MainThread  ] [INFO ]  Removed: ['/Users/gbayarri/biobb_wf_amber/biobb_wf_amber/notebooks/md_setup/sandbox_461b5216-d6e7-4e53-90a6-7499c037196a', '4ca06912-59b6-4ad0-8c10-f118b4389792']\n",
      "2025-07-31 15:56:30,160 [MainThread  ] [INFO ]  \n"
     ]
    },
    {
     "data": {
      "text/plain": [
       "0"
      ]
     },
     "execution_count": 28,
     "metadata": {},
     "output_type": "execute_result"
    }
   ],
   "source": [
    "# Import module\n",
    "from biobb_amber.process.process_mdout import process_mdout\n",
    "\n",
    "# Create prop dict and inputs/outputs\n",
    "output_dat_nvt_path = 'sander.md.nvt.temp.dat'\n",
    "\n",
    "prop = {\n",
    "    \"terms\" : ['TEMP']\n",
    "}\n",
    "\n",
    "# Create and launch bb\n",
    "process_mdout(input_log_path=output_nvt_log_path,\n",
    "            output_dat_path=output_dat_nvt_path,\n",
    "            properties=prop)"
   ]
  },
  {
   "cell_type": "code",
   "execution_count": 29,
   "metadata": {},
   "outputs": [
    {
     "data": {
      "application/vnd.plotly.v1+json": {
       "config": {
        "plotlyServerURL": "https://plot.ly"
       },
       "data": [
        {
         "mode": "lines",
         "type": "scatter",
         "x": [
          5.1,
          5.2,
          5.3,
          5.4,
          5.5,
          5.6,
          5.7,
          5.8,
          5.9,
          6
         ],
         "y": [
          294.29,
          293.17,
          297.38,
          301.78,
          302.34,
          302.73,
          299.48,
          301.27,
          301.79,
          300.98
         ]
        }
       ],
       "layout": {
        "height": 600,
        "template": {
         "data": {
          "bar": [
           {
            "error_x": {
             "color": "#2a3f5f"
            },
            "error_y": {
             "color": "#2a3f5f"
            },
            "marker": {
             "line": {
              "color": "#E5ECF6",
              "width": 0.5
             },
             "pattern": {
              "fillmode": "overlay",
              "size": 10,
              "solidity": 0.2
             }
            },
            "type": "bar"
           }
          ],
          "barpolar": [
           {
            "marker": {
             "line": {
              "color": "#E5ECF6",
              "width": 0.5
             },
             "pattern": {
              "fillmode": "overlay",
              "size": 10,
              "solidity": 0.2
             }
            },
            "type": "barpolar"
           }
          ],
          "carpet": [
           {
            "aaxis": {
             "endlinecolor": "#2a3f5f",
             "gridcolor": "white",
             "linecolor": "white",
             "minorgridcolor": "white",
             "startlinecolor": "#2a3f5f"
            },
            "baxis": {
             "endlinecolor": "#2a3f5f",
             "gridcolor": "white",
             "linecolor": "white",
             "minorgridcolor": "white",
             "startlinecolor": "#2a3f5f"
            },
            "type": "carpet"
           }
          ],
          "choropleth": [
           {
            "colorbar": {
             "outlinewidth": 0,
             "ticks": ""
            },
            "type": "choropleth"
           }
          ],
          "contour": [
           {
            "colorbar": {
             "outlinewidth": 0,
             "ticks": ""
            },
            "colorscale": [
             [
              0,
              "#0d0887"
             ],
             [
              0.1111111111111111,
              "#46039f"
             ],
             [
              0.2222222222222222,
              "#7201a8"
             ],
             [
              0.3333333333333333,
              "#9c179e"
             ],
             [
              0.4444444444444444,
              "#bd3786"
             ],
             [
              0.5555555555555556,
              "#d8576b"
             ],
             [
              0.6666666666666666,
              "#ed7953"
             ],
             [
              0.7777777777777778,
              "#fb9f3a"
             ],
             [
              0.8888888888888888,
              "#fdca26"
             ],
             [
              1,
              "#f0f921"
             ]
            ],
            "type": "contour"
           }
          ],
          "contourcarpet": [
           {
            "colorbar": {
             "outlinewidth": 0,
             "ticks": ""
            },
            "type": "contourcarpet"
           }
          ],
          "heatmap": [
           {
            "colorbar": {
             "outlinewidth": 0,
             "ticks": ""
            },
            "colorscale": [
             [
              0,
              "#0d0887"
             ],
             [
              0.1111111111111111,
              "#46039f"
             ],
             [
              0.2222222222222222,
              "#7201a8"
             ],
             [
              0.3333333333333333,
              "#9c179e"
             ],
             [
              0.4444444444444444,
              "#bd3786"
             ],
             [
              0.5555555555555556,
              "#d8576b"
             ],
             [
              0.6666666666666666,
              "#ed7953"
             ],
             [
              0.7777777777777778,
              "#fb9f3a"
             ],
             [
              0.8888888888888888,
              "#fdca26"
             ],
             [
              1,
              "#f0f921"
             ]
            ],
            "type": "heatmap"
           }
          ],
          "histogram": [
           {
            "marker": {
             "pattern": {
              "fillmode": "overlay",
              "size": 10,
              "solidity": 0.2
             }
            },
            "type": "histogram"
           }
          ],
          "histogram2d": [
           {
            "colorbar": {
             "outlinewidth": 0,
             "ticks": ""
            },
            "colorscale": [
             [
              0,
              "#0d0887"
             ],
             [
              0.1111111111111111,
              "#46039f"
             ],
             [
              0.2222222222222222,
              "#7201a8"
             ],
             [
              0.3333333333333333,
              "#9c179e"
             ],
             [
              0.4444444444444444,
              "#bd3786"
             ],
             [
              0.5555555555555556,
              "#d8576b"
             ],
             [
              0.6666666666666666,
              "#ed7953"
             ],
             [
              0.7777777777777778,
              "#fb9f3a"
             ],
             [
              0.8888888888888888,
              "#fdca26"
             ],
             [
              1,
              "#f0f921"
             ]
            ],
            "type": "histogram2d"
           }
          ],
          "histogram2dcontour": [
           {
            "colorbar": {
             "outlinewidth": 0,
             "ticks": ""
            },
            "colorscale": [
             [
              0,
              "#0d0887"
             ],
             [
              0.1111111111111111,
              "#46039f"
             ],
             [
              0.2222222222222222,
              "#7201a8"
             ],
             [
              0.3333333333333333,
              "#9c179e"
             ],
             [
              0.4444444444444444,
              "#bd3786"
             ],
             [
              0.5555555555555556,
              "#d8576b"
             ],
             [
              0.6666666666666666,
              "#ed7953"
             ],
             [
              0.7777777777777778,
              "#fb9f3a"
             ],
             [
              0.8888888888888888,
              "#fdca26"
             ],
             [
              1,
              "#f0f921"
             ]
            ],
            "type": "histogram2dcontour"
           }
          ],
          "mesh3d": [
           {
            "colorbar": {
             "outlinewidth": 0,
             "ticks": ""
            },
            "type": "mesh3d"
           }
          ],
          "parcoords": [
           {
            "line": {
             "colorbar": {
              "outlinewidth": 0,
              "ticks": ""
             }
            },
            "type": "parcoords"
           }
          ],
          "pie": [
           {
            "automargin": true,
            "type": "pie"
           }
          ],
          "scatter": [
           {
            "fillpattern": {
             "fillmode": "overlay",
             "size": 10,
             "solidity": 0.2
            },
            "type": "scatter"
           }
          ],
          "scatter3d": [
           {
            "line": {
             "colorbar": {
              "outlinewidth": 0,
              "ticks": ""
             }
            },
            "marker": {
             "colorbar": {
              "outlinewidth": 0,
              "ticks": ""
             }
            },
            "type": "scatter3d"
           }
          ],
          "scattercarpet": [
           {
            "marker": {
             "colorbar": {
              "outlinewidth": 0,
              "ticks": ""
             }
            },
            "type": "scattercarpet"
           }
          ],
          "scattergeo": [
           {
            "marker": {
             "colorbar": {
              "outlinewidth": 0,
              "ticks": ""
             }
            },
            "type": "scattergeo"
           }
          ],
          "scattergl": [
           {
            "marker": {
             "colorbar": {
              "outlinewidth": 0,
              "ticks": ""
             }
            },
            "type": "scattergl"
           }
          ],
          "scattermap": [
           {
            "marker": {
             "colorbar": {
              "outlinewidth": 0,
              "ticks": ""
             }
            },
            "type": "scattermap"
           }
          ],
          "scattermapbox": [
           {
            "marker": {
             "colorbar": {
              "outlinewidth": 0,
              "ticks": ""
             }
            },
            "type": "scattermapbox"
           }
          ],
          "scatterpolar": [
           {
            "marker": {
             "colorbar": {
              "outlinewidth": 0,
              "ticks": ""
             }
            },
            "type": "scatterpolar"
           }
          ],
          "scatterpolargl": [
           {
            "marker": {
             "colorbar": {
              "outlinewidth": 0,
              "ticks": ""
             }
            },
            "type": "scatterpolargl"
           }
          ],
          "scatterternary": [
           {
            "marker": {
             "colorbar": {
              "outlinewidth": 0,
              "ticks": ""
             }
            },
            "type": "scatterternary"
           }
          ],
          "surface": [
           {
            "colorbar": {
             "outlinewidth": 0,
             "ticks": ""
            },
            "colorscale": [
             [
              0,
              "#0d0887"
             ],
             [
              0.1111111111111111,
              "#46039f"
             ],
             [
              0.2222222222222222,
              "#7201a8"
             ],
             [
              0.3333333333333333,
              "#9c179e"
             ],
             [
              0.4444444444444444,
              "#bd3786"
             ],
             [
              0.5555555555555556,
              "#d8576b"
             ],
             [
              0.6666666666666666,
              "#ed7953"
             ],
             [
              0.7777777777777778,
              "#fb9f3a"
             ],
             [
              0.8888888888888888,
              "#fdca26"
             ],
             [
              1,
              "#f0f921"
             ]
            ],
            "type": "surface"
           }
          ],
          "table": [
           {
            "cells": {
             "fill": {
              "color": "#EBF0F8"
             },
             "line": {
              "color": "white"
             }
            },
            "header": {
             "fill": {
              "color": "#C8D4E3"
             },
             "line": {
              "color": "white"
             }
            },
            "type": "table"
           }
          ]
         },
         "layout": {
          "annotationdefaults": {
           "arrowcolor": "#2a3f5f",
           "arrowhead": 0,
           "arrowwidth": 1
          },
          "autotypenumbers": "strict",
          "coloraxis": {
           "colorbar": {
            "outlinewidth": 0,
            "ticks": ""
           }
          },
          "colorscale": {
           "diverging": [
            [
             0,
             "#8e0152"
            ],
            [
             0.1,
             "#c51b7d"
            ],
            [
             0.2,
             "#de77ae"
            ],
            [
             0.3,
             "#f1b6da"
            ],
            [
             0.4,
             "#fde0ef"
            ],
            [
             0.5,
             "#f7f7f7"
            ],
            [
             0.6,
             "#e6f5d0"
            ],
            [
             0.7,
             "#b8e186"
            ],
            [
             0.8,
             "#7fbc41"
            ],
            [
             0.9,
             "#4d9221"
            ],
            [
             1,
             "#276419"
            ]
           ],
           "sequential": [
            [
             0,
             "#0d0887"
            ],
            [
             0.1111111111111111,
             "#46039f"
            ],
            [
             0.2222222222222222,
             "#7201a8"
            ],
            [
             0.3333333333333333,
             "#9c179e"
            ],
            [
             0.4444444444444444,
             "#bd3786"
            ],
            [
             0.5555555555555556,
             "#d8576b"
            ],
            [
             0.6666666666666666,
             "#ed7953"
            ],
            [
             0.7777777777777778,
             "#fb9f3a"
            ],
            [
             0.8888888888888888,
             "#fdca26"
            ],
            [
             1,
             "#f0f921"
            ]
           ],
           "sequentialminus": [
            [
             0,
             "#0d0887"
            ],
            [
             0.1111111111111111,
             "#46039f"
            ],
            [
             0.2222222222222222,
             "#7201a8"
            ],
            [
             0.3333333333333333,
             "#9c179e"
            ],
            [
             0.4444444444444444,
             "#bd3786"
            ],
            [
             0.5555555555555556,
             "#d8576b"
            ],
            [
             0.6666666666666666,
             "#ed7953"
            ],
            [
             0.7777777777777778,
             "#fb9f3a"
            ],
            [
             0.8888888888888888,
             "#fdca26"
            ],
            [
             1,
             "#f0f921"
            ]
           ]
          },
          "colorway": [
           "#636efa",
           "#EF553B",
           "#00cc96",
           "#ab63fa",
           "#FFA15A",
           "#19d3f3",
           "#FF6692",
           "#B6E880",
           "#FF97FF",
           "#FECB52"
          ],
          "font": {
           "color": "#2a3f5f"
          },
          "geo": {
           "bgcolor": "white",
           "lakecolor": "white",
           "landcolor": "#E5ECF6",
           "showlakes": true,
           "showland": true,
           "subunitcolor": "white"
          },
          "hoverlabel": {
           "align": "left"
          },
          "hovermode": "closest",
          "mapbox": {
           "style": "light"
          },
          "paper_bgcolor": "white",
          "plot_bgcolor": "#E5ECF6",
          "polar": {
           "angularaxis": {
            "gridcolor": "white",
            "linecolor": "white",
            "ticks": ""
           },
           "bgcolor": "#E5ECF6",
           "radialaxis": {
            "gridcolor": "white",
            "linecolor": "white",
            "ticks": ""
           }
          },
          "scene": {
           "xaxis": {
            "backgroundcolor": "#E5ECF6",
            "gridcolor": "white",
            "gridwidth": 2,
            "linecolor": "white",
            "showbackground": true,
            "ticks": "",
            "zerolinecolor": "white"
           },
           "yaxis": {
            "backgroundcolor": "#E5ECF6",
            "gridcolor": "white",
            "gridwidth": 2,
            "linecolor": "white",
            "showbackground": true,
            "ticks": "",
            "zerolinecolor": "white"
           },
           "zaxis": {
            "backgroundcolor": "#E5ECF6",
            "gridcolor": "white",
            "gridwidth": 2,
            "linecolor": "white",
            "showbackground": true,
            "ticks": "",
            "zerolinecolor": "white"
           }
          },
          "shapedefaults": {
           "line": {
            "color": "#2a3f5f"
           }
          },
          "ternary": {
           "aaxis": {
            "gridcolor": "white",
            "linecolor": "white",
            "ticks": ""
           },
           "baxis": {
            "gridcolor": "white",
            "linecolor": "white",
            "ticks": ""
           },
           "bgcolor": "#E5ECF6",
           "caxis": {
            "gridcolor": "white",
            "linecolor": "white",
            "ticks": ""
           }
          },
          "title": {
           "x": 0.05
          },
          "xaxis": {
           "automargin": true,
           "gridcolor": "white",
           "linecolor": "white",
           "ticks": "",
           "title": {
            "standoff": 15
           },
           "zerolinecolor": "white",
           "zerolinewidth": 2
          },
          "yaxis": {
           "automargin": true,
           "gridcolor": "white",
           "linecolor": "white",
           "ticks": "",
           "title": {
            "standoff": 15
           },
           "zerolinecolor": "white",
           "zerolinewidth": 2
          }
         }
        },
        "title": {
         "text": "NVT equilibration"
        },
        "xaxis": {
         "title": {
          "text": "Equilibration Step (ps)"
         }
        },
        "yaxis": {
         "title": {
          "text": "Temperature (K)"
         }
        }
       }
      }
     },
     "metadata": {},
     "output_type": "display_data"
    }
   ],
   "source": [
    "import plotly.graph_objs as go\n",
    "\n",
    "with open(output_dat_nvt_path, 'r') as energy_file:\n",
    "    x, y = zip(*[\n",
    "        (float(line.split()[0]), float(line.split()[1]))\n",
    "        for line in energy_file\n",
    "        if not line.startswith((\"#\", \"@\"))\n",
    "        if float(line.split()[1]) < 1000\n",
    "    ])\n",
    "\n",
    "# Create a scatter plot\n",
    "fig = go.Figure(data=go.Scatter(x=x, y=y, mode='lines'))\n",
    "\n",
    "# Update layout\n",
    "fig.update_layout(title=\"NVT equilibration\",\n",
    "                  xaxis_title=\"Equilibration Step (ps)\",\n",
    "                  yaxis_title=\"Temperature (K)\",\n",
    "                  height=600)\n",
    "\n",
    "# Show the figure (renderer changes for colab and jupyter)\n",
    "rend = 'colab' if 'google.colab' in sys.modules else ''\n",
    "fig.show(renderer=rend)"
   ]
  },
  {
   "cell_type": "markdown",
   "metadata": {},
   "source": [
    "<a id=\"npt\"></a>\n",
    "***\n",
    "## Equilibrate the system (NPT)\n",
    "Equilibrate the **protein system** in **NPT ensemble** (constant Number of particles, Pressure and Temperature). Protein **heavy atoms** will be restrained using position restraining forces: movement is permitted, but only after overcoming a substantial energy penalty. The utility of position restraints is that they allow us to equilibrate our solvent around our protein, without the added variable of structural changes in the protein.\n",
    "\n",
    "- [Step 1](#eqNPTStep1): Equilibrate the **protein system** with **NPT** ensemble.\n",
    "- [Step 2](#eqNPTStep2): Checking **NPT Equilibration** results. Plotting **system pressure and density** by time during the **NVT equilibration** process.  \n",
    "***\n",
    "**Building Blocks** used:\n",
    " - [sander_mdrun](https://biobb-amber.readthedocs.io/en/latest/sander.html#module-sander.sander_mdrun) from **biobb_amber.sander.sander_mdrun**\n",
    " - [process_mdout](https://biobb-amber.readthedocs.io/en/latest/process.html#module-process.process_mdout) from **biobb_amber.process.process_mdout** \n",
    "***"
   ]
  },
  {
   "cell_type": "markdown",
   "metadata": {},
   "source": [
    "<a id=\"eqNPTStep1\"></a>\n",
    "### Step 1: Equilibrating the system (NPT)\n",
    "The **npt** type of the **simulation_type property** contains the main default parameters to run a **system equilibration in NPT ensemble**:\n",
    "\n",
    "-  imin = 0;&nbsp;&nbsp;&nbsp;      Run MD (no minimization)\n",
    "-  ntx = 5;&nbsp;&nbsp;&nbsp;       Read initial coords and vels from restart file\n",
    "-  cut = 10.0;&nbsp;&nbsp;&nbsp;    Cutoff for non bonded interactions in Angstroms\n",
    "-  ntr = 0;&nbsp;&nbsp;&nbsp;       No restrained atoms\n",
    "-  ntc = 2;&nbsp;&nbsp;&nbsp;       SHAKE for constraining length of bonds involving Hydrogen atoms\n",
    "-  ntf = 2;&nbsp;&nbsp;&nbsp;       Bond interactions involving H omitted\n",
    "-  ntt = 3;&nbsp;&nbsp;&nbsp;       Constant temperature using Langevin dynamics\n",
    "-  ig = -1;&nbsp;&nbsp;&nbsp;       Seed for pseudo-random number generator\n",
    "-  ioutfm = 1;&nbsp;&nbsp;&nbsp;    Write trajectory in netcdf format\n",
    "-  iwrap = 1;&nbsp;&nbsp;&nbsp;     Wrap coords into primary box\n",
    "-  nstlim = 5000;&nbsp;&nbsp;&nbsp; Number of MD steps \n",
    "-  dt = 0.002;&nbsp;&nbsp;&nbsp;    Time step (in ps)\n",
    "-  irest = 1;&nbsp;&nbsp;&nbsp;     Restart previous simulation\n",
    "-  gamma_ln = 5.0;&nbsp;&nbsp;&nbsp;   Collision frequency for Langevin dynamics (in 1/ps)\n",
    "-  pres0 = 1.0;&nbsp;&nbsp;&nbsp;   Reference pressure\n",
    "-  ntp = 1;&nbsp;&nbsp;&nbsp;       Constant pressure dynamics: md with isotropic position scaling\n",
    "-  taup = 2.0;&nbsp;&nbsp;&nbsp;    Pressure relaxation time (in ps)\n",
    "\n",
    "In this particular example, the **NPT equilibration** of the system is done in **500 steps** (note that the number of steps has been reduced in this tutorial, for the sake of time). "
   ]
  },
  {
   "cell_type": "code",
   "execution_count": 30,
   "metadata": {},
   "outputs": [
    {
     "name": "stdout",
     "output_type": "stream",
     "text": [
      "2025-07-31 15:56:30,179 [MainThread  ] [INFO ]  Module: biobb_amber.sander.sander_mdrun Version: 5.1.0\n",
      "2025-07-31 15:56:30,179 [MainThread  ] [INFO ]  /Users/gbayarri/biobb_wf_amber/biobb_wf_amber/notebooks/md_setup/sandbox_0eea0bb8-ad62-444a-8bc4-d936488c8951 directory successfully created\n",
      "2025-07-31 15:56:30,182 [MainThread  ] [INFO ]  Copy: structure.ions.parmtop to /Users/gbayarri/biobb_wf_amber/biobb_wf_amber/notebooks/md_setup/sandbox_0eea0bb8-ad62-444a-8bc4-d936488c8951\n",
      "2025-07-31 15:56:30,183 [MainThread  ] [INFO ]  Copy: sander.nvt.rst to /Users/gbayarri/biobb_wf_amber/biobb_wf_amber/notebooks/md_setup/sandbox_0eea0bb8-ad62-444a-8bc4-d936488c8951\n",
      "2025-07-31 15:56:30,184 [MainThread  ] [INFO ]  Copy: sander.nvt.rst to /Users/gbayarri/biobb_wf_amber/biobb_wf_amber/notebooks/md_setup/sandbox_0eea0bb8-ad62-444a-8bc4-d936488c8951\n",
      "2025-07-31 15:56:30,185 [MainThread  ] [INFO ]  Creating abeaf4ef-310d-4f30-9c3e-dc65a049a1d5 temporary folder\n",
      "2025-07-31 15:56:30,186 [MainThread  ] [INFO ]  sander -O -i abeaf4ef-310d-4f30-9c3e-dc65a049a1d5/sander.mdin -p /Users/gbayarri/biobb_wf_amber/biobb_wf_amber/notebooks/md_setup/sandbox_0eea0bb8-ad62-444a-8bc4-d936488c8951/structure.ions.parmtop -c /Users/gbayarri/biobb_wf_amber/biobb_wf_amber/notebooks/md_setup/sandbox_0eea0bb8-ad62-444a-8bc4-d936488c8951/sander.nvt.rst -r /Users/gbayarri/biobb_wf_amber/biobb_wf_amber/notebooks/md_setup/sandbox_0eea0bb8-ad62-444a-8bc4-d936488c8951/sander.npt.rst -o /Users/gbayarri/biobb_wf_amber/biobb_wf_amber/notebooks/md_setup/sandbox_0eea0bb8-ad62-444a-8bc4-d936488c8951/sander.npt.log -x /Users/gbayarri/biobb_wf_amber/biobb_wf_amber/notebooks/md_setup/sandbox_0eea0bb8-ad62-444a-8bc4-d936488c8951/sander.npt.netcdf -ref /Users/gbayarri/biobb_wf_amber/biobb_wf_amber/notebooks/md_setup/sandbox_0eea0bb8-ad62-444a-8bc4-d936488c8951/sander.nvt.rst\n",
      "\n",
      "2025-07-31 15:57:26,857 [MainThread  ] [INFO ]  Executing: sander -O -i abeaf4ef-310d-4f30-9c3e-dc65a049a1d5/sander.mdin -p /Users/gbayarri...\n",
      "2025-07-31 15:57:26,858 [MainThread  ] [INFO ]  Exit code: 0\n",
      "2025-07-31 15:57:26,861 [MainThread  ] [INFO ]  Removed: ['/Users/gbayarri/biobb_wf_amber/biobb_wf_amber/notebooks/md_setup/sandbox_0eea0bb8-ad62-444a-8bc4-d936488c8951', 'mdinfo', 'abeaf4ef-310d-4f30-9c3e-dc65a049a1d5']\n",
      "2025-07-31 15:57:26,861 [MainThread  ] [INFO ]  Path sander.npt.netcdf --- biobb_amber.sander.sander_mdrun: Unexisting output_traj_path file.\n",
      "2025-07-31 15:57:26,862 [MainThread  ] [INFO ]  \n"
     ]
    },
    {
     "name": "stderr",
     "output_type": "stream",
     "text": [
      "/Users/gbayarri/miniconda3/envs/biobb_wf_amber/lib/python3.12/site-packages/biobb_common/tools/file_utils.py:771: UserWarning:\n",
      "\n",
      "Path sander.npt.netcdf --- biobb_amber.sander.sander_mdrun: Unexisting output_traj_path file.\n",
      "\n"
     ]
    },
    {
     "data": {
      "text/plain": [
       "0"
      ]
     },
     "execution_count": 30,
     "metadata": {},
     "output_type": "execute_result"
    }
   ],
   "source": [
    "# Import module\n",
    "from biobb_amber.sander.sander_mdrun import sander_mdrun\n",
    "\n",
    "# Create prop dict and inputs/outputs\n",
    "output_npt_traj_path = 'sander.npt.netcdf'\n",
    "output_npt_rst_path = 'sander.npt.rst'\n",
    "output_npt_log_path = 'sander.npt.log'\n",
    "\n",
    "prop = {\n",
    "    \"simulation_type\" : 'npt',\n",
    "    \"mdin\" : { \n",
    "        'nstlim' : 500, # Reducing the number of steps for the sake of time (1ps)\n",
    "        'ntr' : 1,      # Overwritting restrain parameter\n",
    "        'restraintmask' : '\\\"!:WAT,Cl-,Na+ & !@H=\\\"',      # Restraining solute heavy atoms\n",
    "        'restraint_wt' : 2.5                               # With a force constant of 2.5 Kcal/mol*A2\n",
    "    }\n",
    "}\n",
    "\n",
    "# Create and launch bb\n",
    "sander_mdrun(input_top_path=output_ions_top_path,\n",
    "            input_crd_path=output_nvt_rst_path,\n",
    "            input_ref_path=output_nvt_rst_path,\n",
    "            output_traj_path=output_npt_traj_path,\n",
    "            output_rst_path=output_npt_rst_path,\n",
    "            output_log_path=output_npt_log_path,\n",
    "            properties=prop)"
   ]
  },
  {
   "cell_type": "markdown",
   "metadata": {},
   "source": [
    "<a id=\"eqNPTStep2\"></a>\n",
    "### Step 2: Checking NPT Equilibration results\n",
    "Checking **NPT Equilibration** results. Plotting **system pressure and density** by time during the **NPT equilibration** process. "
   ]
  },
  {
   "cell_type": "code",
   "execution_count": 31,
   "metadata": {},
   "outputs": [
    {
     "name": "stdout",
     "output_type": "stream",
     "text": [
      "2025-07-31 15:57:26,870 [MainThread  ] [INFO ]  Module: biobb_amber.process.process_mdout Version: 5.1.0\n",
      "2025-07-31 15:57:26,870 [MainThread  ] [INFO ]  /Users/gbayarri/biobb_wf_amber/biobb_wf_amber/notebooks/md_setup/sandbox_20fbbab5-c53d-4f01-ab91-cf38a3557333 directory successfully created\n",
      "2025-07-31 15:57:26,872 [MainThread  ] [INFO ]  Copy: sander.npt.log to /Users/gbayarri/biobb_wf_amber/biobb_wf_amber/notebooks/md_setup/sandbox_20fbbab5-c53d-4f01-ab91-cf38a3557333\n",
      "2025-07-31 15:57:26,872 [MainThread  ] [INFO ]  Creating 50b47a0c-96c1-4c99-ae8b-0a007dc104f6 temporary folder\n",
      "2025-07-31 15:57:26,873 [MainThread  ] [INFO ]  cd 50b47a0c-96c1-4c99-ae8b-0a007dc104f6 ; process_mdout.perl /Users/gbayarri/biobb_wf_amber/biobb_wf_amber/notebooks/md_setup/sandbox_20fbbab5-c53d-4f01-ab91-cf38a3557333/sander.npt.log\n",
      "\n",
      "2025-07-31 15:57:26,909 [MainThread  ] [INFO ]  Executing: cd 50b47a0c-96c1-4c99-ae8b-0a007dc104f6 ; process_mdout.perl /Users/gbayarri/bio...\n",
      "2025-07-31 15:57:26,910 [MainThread  ] [INFO ]  Exit code: 0\n",
      "2025-07-31 15:57:26,910 [MainThread  ] [INFO ]  Processing sander output file (/Users/gbayarri/biobb_wf_amber/biobb_wf_amber/notebooks/md_setup/sandbox_20fbbab5-c53d-4f01-ab91-cf38a3557333/sander.npt.log)...\n",
      "Starting output...\n",
      "Outputing summary.TEMP\n",
      "Outputing summary_avg.TEMP\n",
      "Outputing summary_rms.TEMP\n",
      "Outputing summary.TSOLUTE\n",
      "Outputing summary_avg.TSOLUTE\n",
      "Outputing summary_rms.TSOLUTE\n",
      "Outputing summary.TSOLVENT\n",
      "Outputing summary_avg.TSOLVENT\n",
      "Outputing summary_rms.TSOLVENT\n",
      "Outputing summary.PRES\n",
      "Outputing summary_avg.PRES\n",
      "Outputing summary_rms.PRES\n",
      "Outputing summary.EKCMT\n",
      "Outputing summary_avg.EKCMT\n",
      "Outputing summary_rms.EKCMT\n",
      "Outputing summary.ETOT\n",
      "Outputing summary_avg.ETOT\n",
      "Outputing summary_rms.ETOT\n",
      "Outputing summary.EKTOT\n",
      "Outputing summary_avg.EKTOT\n",
      "Outputing summary_rms.EKTOT\n",
      "Outputing summary.EPTOT\n",
      "Outputing summary_avg.EPTOT\n",
      "Outputing summary_rms.EPTOT\n",
      "Outputing summary.DENSITY\n",
      "Outputing summary_avg.DENSITY\n",
      "Outputing summary_rms.DENSITY\n",
      "Outputing summary.VOLUME\n",
      "Outputing summary_avg.VOLUME\n",
      "Outputing summary_rms.VOLUME\n",
      "Outputing summary.ESCF\n",
      "Outputing summary_avg.ESCF\n",
      "Outputing summary_rms.ESCF\n",
      "\n",
      "2025-07-31 15:57:26,914 [MainThread  ] [INFO ]  Removed: ['/Users/gbayarri/biobb_wf_amber/biobb_wf_amber/notebooks/md_setup/sandbox_20fbbab5-c53d-4f01-ab91-cf38a3557333', '50b47a0c-96c1-4c99-ae8b-0a007dc104f6']\n",
      "2025-07-31 15:57:26,914 [MainThread  ] [INFO ]  \n"
     ]
    },
    {
     "data": {
      "text/plain": [
       "0"
      ]
     },
     "execution_count": 31,
     "metadata": {},
     "output_type": "execute_result"
    }
   ],
   "source": [
    "# Import module\n",
    "from biobb_amber.process.process_mdout import process_mdout\n",
    "\n",
    "# Create prop dict and inputs/outputs\n",
    "output_dat_npt_path = 'sander.md.npt.dat'\n",
    "\n",
    "prop = {\n",
    "    \"terms\" : ['PRES','DENSITY']\n",
    "}\n",
    "\n",
    "# Create and launch bb\n",
    "process_mdout(input_log_path=output_npt_log_path,\n",
    "            output_dat_path=output_dat_npt_path,\n",
    "            properties=prop)"
   ]
  },
  {
   "cell_type": "code",
   "execution_count": 32,
   "metadata": {},
   "outputs": [
    {
     "data": {
      "application/vnd.plotly.v1+json": {
       "config": {
        "plotlyServerURL": "https://plot.ly"
       },
       "data": [
        {
         "type": "scatter",
         "x": [
          6.1,
          6.2,
          6.3,
          6.4,
          6.5,
          6.6,
          6.7,
          6.8,
          6.9,
          7
         ],
         "xaxis": "x",
         "y": [
          -1392.4,
          -1476.5,
          -1369.4,
          -1422.4,
          -1181.8,
          -1087.6,
          -994,
          -1383.1,
          -892.4,
          -913.5
         ],
         "yaxis": "y"
        },
        {
         "type": "scatter",
         "x": [
          6.1,
          6.2,
          6.3,
          6.4,
          6.5,
          6.6,
          6.7,
          6.8,
          6.9,
          7
         ],
         "xaxis": "x2",
         "y": [
          0.8876,
          0.8905,
          0.8932,
          0.896,
          0.8986,
          0.9008,
          0.903,
          0.9053,
          0.9074,
          0.909
         ],
         "yaxis": "y2"
        }
       ],
       "layout": {
        "height": 500,
        "showlegend": false,
        "template": {
         "data": {
          "bar": [
           {
            "error_x": {
             "color": "#2a3f5f"
            },
            "error_y": {
             "color": "#2a3f5f"
            },
            "marker": {
             "line": {
              "color": "#E5ECF6",
              "width": 0.5
             },
             "pattern": {
              "fillmode": "overlay",
              "size": 10,
              "solidity": 0.2
             }
            },
            "type": "bar"
           }
          ],
          "barpolar": [
           {
            "marker": {
             "line": {
              "color": "#E5ECF6",
              "width": 0.5
             },
             "pattern": {
              "fillmode": "overlay",
              "size": 10,
              "solidity": 0.2
             }
            },
            "type": "barpolar"
           }
          ],
          "carpet": [
           {
            "aaxis": {
             "endlinecolor": "#2a3f5f",
             "gridcolor": "white",
             "linecolor": "white",
             "minorgridcolor": "white",
             "startlinecolor": "#2a3f5f"
            },
            "baxis": {
             "endlinecolor": "#2a3f5f",
             "gridcolor": "white",
             "linecolor": "white",
             "minorgridcolor": "white",
             "startlinecolor": "#2a3f5f"
            },
            "type": "carpet"
           }
          ],
          "choropleth": [
           {
            "colorbar": {
             "outlinewidth": 0,
             "ticks": ""
            },
            "type": "choropleth"
           }
          ],
          "contour": [
           {
            "colorbar": {
             "outlinewidth": 0,
             "ticks": ""
            },
            "colorscale": [
             [
              0,
              "#0d0887"
             ],
             [
              0.1111111111111111,
              "#46039f"
             ],
             [
              0.2222222222222222,
              "#7201a8"
             ],
             [
              0.3333333333333333,
              "#9c179e"
             ],
             [
              0.4444444444444444,
              "#bd3786"
             ],
             [
              0.5555555555555556,
              "#d8576b"
             ],
             [
              0.6666666666666666,
              "#ed7953"
             ],
             [
              0.7777777777777778,
              "#fb9f3a"
             ],
             [
              0.8888888888888888,
              "#fdca26"
             ],
             [
              1,
              "#f0f921"
             ]
            ],
            "type": "contour"
           }
          ],
          "contourcarpet": [
           {
            "colorbar": {
             "outlinewidth": 0,
             "ticks": ""
            },
            "type": "contourcarpet"
           }
          ],
          "heatmap": [
           {
            "colorbar": {
             "outlinewidth": 0,
             "ticks": ""
            },
            "colorscale": [
             [
              0,
              "#0d0887"
             ],
             [
              0.1111111111111111,
              "#46039f"
             ],
             [
              0.2222222222222222,
              "#7201a8"
             ],
             [
              0.3333333333333333,
              "#9c179e"
             ],
             [
              0.4444444444444444,
              "#bd3786"
             ],
             [
              0.5555555555555556,
              "#d8576b"
             ],
             [
              0.6666666666666666,
              "#ed7953"
             ],
             [
              0.7777777777777778,
              "#fb9f3a"
             ],
             [
              0.8888888888888888,
              "#fdca26"
             ],
             [
              1,
              "#f0f921"
             ]
            ],
            "type": "heatmap"
           }
          ],
          "histogram": [
           {
            "marker": {
             "pattern": {
              "fillmode": "overlay",
              "size": 10,
              "solidity": 0.2
             }
            },
            "type": "histogram"
           }
          ],
          "histogram2d": [
           {
            "colorbar": {
             "outlinewidth": 0,
             "ticks": ""
            },
            "colorscale": [
             [
              0,
              "#0d0887"
             ],
             [
              0.1111111111111111,
              "#46039f"
             ],
             [
              0.2222222222222222,
              "#7201a8"
             ],
             [
              0.3333333333333333,
              "#9c179e"
             ],
             [
              0.4444444444444444,
              "#bd3786"
             ],
             [
              0.5555555555555556,
              "#d8576b"
             ],
             [
              0.6666666666666666,
              "#ed7953"
             ],
             [
              0.7777777777777778,
              "#fb9f3a"
             ],
             [
              0.8888888888888888,
              "#fdca26"
             ],
             [
              1,
              "#f0f921"
             ]
            ],
            "type": "histogram2d"
           }
          ],
          "histogram2dcontour": [
           {
            "colorbar": {
             "outlinewidth": 0,
             "ticks": ""
            },
            "colorscale": [
             [
              0,
              "#0d0887"
             ],
             [
              0.1111111111111111,
              "#46039f"
             ],
             [
              0.2222222222222222,
              "#7201a8"
             ],
             [
              0.3333333333333333,
              "#9c179e"
             ],
             [
              0.4444444444444444,
              "#bd3786"
             ],
             [
              0.5555555555555556,
              "#d8576b"
             ],
             [
              0.6666666666666666,
              "#ed7953"
             ],
             [
              0.7777777777777778,
              "#fb9f3a"
             ],
             [
              0.8888888888888888,
              "#fdca26"
             ],
             [
              1,
              "#f0f921"
             ]
            ],
            "type": "histogram2dcontour"
           }
          ],
          "mesh3d": [
           {
            "colorbar": {
             "outlinewidth": 0,
             "ticks": ""
            },
            "type": "mesh3d"
           }
          ],
          "parcoords": [
           {
            "line": {
             "colorbar": {
              "outlinewidth": 0,
              "ticks": ""
             }
            },
            "type": "parcoords"
           }
          ],
          "pie": [
           {
            "automargin": true,
            "type": "pie"
           }
          ],
          "scatter": [
           {
            "fillpattern": {
             "fillmode": "overlay",
             "size": 10,
             "solidity": 0.2
            },
            "type": "scatter"
           }
          ],
          "scatter3d": [
           {
            "line": {
             "colorbar": {
              "outlinewidth": 0,
              "ticks": ""
             }
            },
            "marker": {
             "colorbar": {
              "outlinewidth": 0,
              "ticks": ""
             }
            },
            "type": "scatter3d"
           }
          ],
          "scattercarpet": [
           {
            "marker": {
             "colorbar": {
              "outlinewidth": 0,
              "ticks": ""
             }
            },
            "type": "scattercarpet"
           }
          ],
          "scattergeo": [
           {
            "marker": {
             "colorbar": {
              "outlinewidth": 0,
              "ticks": ""
             }
            },
            "type": "scattergeo"
           }
          ],
          "scattergl": [
           {
            "marker": {
             "colorbar": {
              "outlinewidth": 0,
              "ticks": ""
             }
            },
            "type": "scattergl"
           }
          ],
          "scattermap": [
           {
            "marker": {
             "colorbar": {
              "outlinewidth": 0,
              "ticks": ""
             }
            },
            "type": "scattermap"
           }
          ],
          "scattermapbox": [
           {
            "marker": {
             "colorbar": {
              "outlinewidth": 0,
              "ticks": ""
             }
            },
            "type": "scattermapbox"
           }
          ],
          "scatterpolar": [
           {
            "marker": {
             "colorbar": {
              "outlinewidth": 0,
              "ticks": ""
             }
            },
            "type": "scatterpolar"
           }
          ],
          "scatterpolargl": [
           {
            "marker": {
             "colorbar": {
              "outlinewidth": 0,
              "ticks": ""
             }
            },
            "type": "scatterpolargl"
           }
          ],
          "scatterternary": [
           {
            "marker": {
             "colorbar": {
              "outlinewidth": 0,
              "ticks": ""
             }
            },
            "type": "scatterternary"
           }
          ],
          "surface": [
           {
            "colorbar": {
             "outlinewidth": 0,
             "ticks": ""
            },
            "colorscale": [
             [
              0,
              "#0d0887"
             ],
             [
              0.1111111111111111,
              "#46039f"
             ],
             [
              0.2222222222222222,
              "#7201a8"
             ],
             [
              0.3333333333333333,
              "#9c179e"
             ],
             [
              0.4444444444444444,
              "#bd3786"
             ],
             [
              0.5555555555555556,
              "#d8576b"
             ],
             [
              0.6666666666666666,
              "#ed7953"
             ],
             [
              0.7777777777777778,
              "#fb9f3a"
             ],
             [
              0.8888888888888888,
              "#fdca26"
             ],
             [
              1,
              "#f0f921"
             ]
            ],
            "type": "surface"
           }
          ],
          "table": [
           {
            "cells": {
             "fill": {
              "color": "#EBF0F8"
             },
             "line": {
              "color": "white"
             }
            },
            "header": {
             "fill": {
              "color": "#C8D4E3"
             },
             "line": {
              "color": "white"
             }
            },
            "type": "table"
           }
          ]
         },
         "layout": {
          "annotationdefaults": {
           "arrowcolor": "#2a3f5f",
           "arrowhead": 0,
           "arrowwidth": 1
          },
          "autotypenumbers": "strict",
          "coloraxis": {
           "colorbar": {
            "outlinewidth": 0,
            "ticks": ""
           }
          },
          "colorscale": {
           "diverging": [
            [
             0,
             "#8e0152"
            ],
            [
             0.1,
             "#c51b7d"
            ],
            [
             0.2,
             "#de77ae"
            ],
            [
             0.3,
             "#f1b6da"
            ],
            [
             0.4,
             "#fde0ef"
            ],
            [
             0.5,
             "#f7f7f7"
            ],
            [
             0.6,
             "#e6f5d0"
            ],
            [
             0.7,
             "#b8e186"
            ],
            [
             0.8,
             "#7fbc41"
            ],
            [
             0.9,
             "#4d9221"
            ],
            [
             1,
             "#276419"
            ]
           ],
           "sequential": [
            [
             0,
             "#0d0887"
            ],
            [
             0.1111111111111111,
             "#46039f"
            ],
            [
             0.2222222222222222,
             "#7201a8"
            ],
            [
             0.3333333333333333,
             "#9c179e"
            ],
            [
             0.4444444444444444,
             "#bd3786"
            ],
            [
             0.5555555555555556,
             "#d8576b"
            ],
            [
             0.6666666666666666,
             "#ed7953"
            ],
            [
             0.7777777777777778,
             "#fb9f3a"
            ],
            [
             0.8888888888888888,
             "#fdca26"
            ],
            [
             1,
             "#f0f921"
            ]
           ],
           "sequentialminus": [
            [
             0,
             "#0d0887"
            ],
            [
             0.1111111111111111,
             "#46039f"
            ],
            [
             0.2222222222222222,
             "#7201a8"
            ],
            [
             0.3333333333333333,
             "#9c179e"
            ],
            [
             0.4444444444444444,
             "#bd3786"
            ],
            [
             0.5555555555555556,
             "#d8576b"
            ],
            [
             0.6666666666666666,
             "#ed7953"
            ],
            [
             0.7777777777777778,
             "#fb9f3a"
            ],
            [
             0.8888888888888888,
             "#fdca26"
            ],
            [
             1,
             "#f0f921"
            ]
           ]
          },
          "colorway": [
           "#636efa",
           "#EF553B",
           "#00cc96",
           "#ab63fa",
           "#FFA15A",
           "#19d3f3",
           "#FF6692",
           "#B6E880",
           "#FF97FF",
           "#FECB52"
          ],
          "font": {
           "color": "#2a3f5f"
          },
          "geo": {
           "bgcolor": "white",
           "lakecolor": "white",
           "landcolor": "#E5ECF6",
           "showlakes": true,
           "showland": true,
           "subunitcolor": "white"
          },
          "hoverlabel": {
           "align": "left"
          },
          "hovermode": "closest",
          "mapbox": {
           "style": "light"
          },
          "paper_bgcolor": "white",
          "plot_bgcolor": "#E5ECF6",
          "polar": {
           "angularaxis": {
            "gridcolor": "white",
            "linecolor": "white",
            "ticks": ""
           },
           "bgcolor": "#E5ECF6",
           "radialaxis": {
            "gridcolor": "white",
            "linecolor": "white",
            "ticks": ""
           }
          },
          "scene": {
           "xaxis": {
            "backgroundcolor": "#E5ECF6",
            "gridcolor": "white",
            "gridwidth": 2,
            "linecolor": "white",
            "showbackground": true,
            "ticks": "",
            "zerolinecolor": "white"
           },
           "yaxis": {
            "backgroundcolor": "#E5ECF6",
            "gridcolor": "white",
            "gridwidth": 2,
            "linecolor": "white",
            "showbackground": true,
            "ticks": "",
            "zerolinecolor": "white"
           },
           "zaxis": {
            "backgroundcolor": "#E5ECF6",
            "gridcolor": "white",
            "gridwidth": 2,
            "linecolor": "white",
            "showbackground": true,
            "ticks": "",
            "zerolinecolor": "white"
           }
          },
          "shapedefaults": {
           "line": {
            "color": "#2a3f5f"
           }
          },
          "ternary": {
           "aaxis": {
            "gridcolor": "white",
            "linecolor": "white",
            "ticks": ""
           },
           "baxis": {
            "gridcolor": "white",
            "linecolor": "white",
            "ticks": ""
           },
           "bgcolor": "#E5ECF6",
           "caxis": {
            "gridcolor": "white",
            "linecolor": "white",
            "ticks": ""
           }
          },
          "title": {
           "x": 0.05
          },
          "xaxis": {
           "automargin": true,
           "gridcolor": "white",
           "linecolor": "white",
           "ticks": "",
           "title": {
            "standoff": 15
           },
           "zerolinecolor": "white",
           "zerolinewidth": 2
          },
          "yaxis": {
           "automargin": true,
           "gridcolor": "white",
           "linecolor": "white",
           "ticks": "",
           "title": {
            "standoff": 15
           },
           "zerolinecolor": "white",
           "zerolinewidth": 2
          }
         }
        },
        "title": {
         "text": "Pressure and Density during NPT Equilibration"
        },
        "xaxis": {
         "anchor": "y",
         "domain": [
          0,
          0.45
         ],
         "title": {
          "text": "Time (ps)"
         }
        },
        "xaxis2": {
         "anchor": "y2",
         "domain": [
          0.55,
          1
         ],
         "title": {
          "text": "Time (ps)"
         }
        },
        "yaxis": {
         "anchor": "x",
         "domain": [
          0,
          1
         ],
         "title": {
          "text": "Pressure (bar)"
         }
        },
        "yaxis2": {
         "anchor": "x2",
         "domain": [
          0,
          1
         ],
         "title": {
          "text": "Density (Kg*m^-3)"
         }
        }
       }
      }
     },
     "metadata": {},
     "output_type": "display_data"
    }
   ],
   "source": [
    "# Read pressure and density data from file \n",
    "import plotly.graph_objs as go\n",
    "\n",
    "# Read pressure and density data from file \n",
    "with open(output_dat_npt_path, 'r') as pd_file:\n",
    "    x, y, z = zip(*[\n",
    "        (float(line.split()[0]), float(line.split()[1]), float(line.split()[2]))\n",
    "        for line in pd_file\n",
    "        if not line.startswith((\"#\", \"@\"))\n",
    "        if float(line.split()[1]) < 1000\n",
    "    ])\n",
    "\n",
    "# Create a scatter plot\n",
    "trace1 = go.Scatter(\n",
    "    x=x,y=y\n",
    ")\n",
    "trace2 = go.Scatter(\n",
    "    x=x,y=z\n",
    ")\n",
    "\n",
    "fig = subplots.make_subplots(rows=1, cols=2, print_grid=False)\n",
    "\n",
    "fig.append_trace(trace1, 1, 1)\n",
    "fig.append_trace(trace2, 1, 2)\n",
    "\n",
    "fig['layout']['xaxis1'].update(title='Time (ps)')\n",
    "fig['layout']['xaxis2'].update(title='Time (ps)')\n",
    "fig['layout']['yaxis1'].update(title='Pressure (bar)')\n",
    "fig['layout']['yaxis2'].update(title='Density (Kg*m^-3)')\n",
    "\n",
    "fig['layout'].update(title='Pressure and Density during NPT Equilibration')\n",
    "fig['layout'].update(showlegend=False)\n",
    "fig['layout'].update(height=500)\n",
    "\n",
    "# Show the figure (renderer changes for colab and jupyter)\n",
    "rend = 'colab' if 'google.colab' in sys.modules else ''\n",
    "fig.show(renderer=rend)"
   ]
  },
  {
   "cell_type": "markdown",
   "metadata": {},
   "source": [
    "<a id=\"free\"></a>\n",
    "***\n",
    "## Free Molecular Dynamics Simulation\n",
    "Upon completion of the **two equilibration phases (NVT and NPT)**, the system is now well-equilibrated at the desired temperature and pressure. The **position restraints** can now be released. The last step of the **protein** MD setup is a short, **free MD simulation**, to ensure the robustness of the system. \n",
    "- [Step 1](#mdStep1): Run short MD simulation of the **protein system**.\n",
    "- [Step 2](#mdStep2): Checking results for the final step of the setup process, the **free MD run**. Plotting **Root Mean Square deviation (RMSd)** and **Radius of Gyration (Rgyr)** by time during the **free MD run** step.\n",
    "***\n",
    "**Building Blocks** used:\n",
    " - [sander_mdrun](https://biobb-amber.readthedocs.io/en/latest/sander.html#module-sander.sander_mdrun) from **biobb_amber.sander.sander_mdrun**\n",
    " - [process_mdout](https://biobb-amber.readthedocs.io/en/latest/process.html#module-process.process_mdout) from **biobb_amber.process.process_mdout** \n",
    " - [cpptraj_rms](https://biobb-analysis.readthedocs.io/en/latest/ambertools.html#module-ambertools.cpptraj_rms) from **biobb_analysis.cpptraj.cpptraj_rms**\n",
    " - [cpptraj_rgyr](https://biobb-analysis.readthedocs.io/en/latest/ambertools.html#module-ambertools.cpptraj_rgyr) from **biobb_analysis.cpptraj.cpptraj_rgyr**\n",
    "***"
   ]
  },
  {
   "cell_type": "markdown",
   "metadata": {},
   "source": [
    "<a id=\"mdStep1\"></a>\n",
    "### Step 1: Creating portable binary run file to run a free MD simulation\n",
    "\n",
    "The **free** type of the **simulation_type property** contains the main default parameters to run an **unrestrained MD simulation**:\n",
    "\n",
    "-  imin = 0;&nbsp;&nbsp;&nbsp;      Run MD (no minimization)\n",
    "-  ntx = 5;&nbsp;&nbsp;&nbsp;       Read initial coords and vels from restart file\n",
    "-  cut = 10.0;&nbsp;&nbsp;&nbsp;    Cutoff for non bonded interactions in Angstroms\n",
    "-  ntr = 0;&nbsp;&nbsp;&nbsp;       No restrained atoms\n",
    "-  ntc = 2;&nbsp;&nbsp;&nbsp;       SHAKE for constraining length of bonds involving Hydrogen atoms\n",
    "-  ntf = 2;&nbsp;&nbsp;&nbsp;       Bond interactions involving H omitted\n",
    "-  ntt = 3;&nbsp;&nbsp;&nbsp;       Constant temperature using Langevin dynamics\n",
    "-  ig = -1;&nbsp;&nbsp;&nbsp;       Seed for pseudo-random number generator\n",
    "-  ioutfm = 1;&nbsp;&nbsp;&nbsp;    Write trajectory in netcdf format\n",
    "-  iwrap = 1;&nbsp;&nbsp;&nbsp;     Wrap coords into primary box\n",
    "-  nstlim = 5000;&nbsp;&nbsp;&nbsp; Number of MD steps \n",
    "-  dt = 0.002;&nbsp;&nbsp;&nbsp;    Time step (in ps)\n",
    "\n",
    "In this particular example, a short, **5ps-length** simulation (2500 steps) is run, for the sake of time. "
   ]
  },
  {
   "cell_type": "code",
   "execution_count": 33,
   "metadata": {},
   "outputs": [
    {
     "name": "stdout",
     "output_type": "stream",
     "text": [
      "2025-07-31 15:57:26,961 [MainThread  ] [INFO ]  Module: biobb_amber.sander.sander_mdrun Version: 5.1.0\n",
      "2025-07-31 15:57:26,962 [MainThread  ] [INFO ]  /Users/gbayarri/biobb_wf_amber/biobb_wf_amber/notebooks/md_setup/sandbox_f2bb6ded-6512-49d6-8e38-7c5fe0767bfa directory successfully created\n",
      "2025-07-31 15:57:26,964 [MainThread  ] [INFO ]  Copy: structure.ions.parmtop to /Users/gbayarri/biobb_wf_amber/biobb_wf_amber/notebooks/md_setup/sandbox_f2bb6ded-6512-49d6-8e38-7c5fe0767bfa\n",
      "2025-07-31 15:57:26,966 [MainThread  ] [INFO ]  Copy: sander.npt.rst to /Users/gbayarri/biobb_wf_amber/biobb_wf_amber/notebooks/md_setup/sandbox_f2bb6ded-6512-49d6-8e38-7c5fe0767bfa\n",
      "2025-07-31 15:57:26,966 [MainThread  ] [INFO ]  Creating 778f63d2-292b-4b2d-8c07-5d17bed8810e temporary folder\n",
      "2025-07-31 15:57:26,968 [MainThread  ] [INFO ]  sander -O -i 778f63d2-292b-4b2d-8c07-5d17bed8810e/sander.mdin -p /Users/gbayarri/biobb_wf_amber/biobb_wf_amber/notebooks/md_setup/sandbox_f2bb6ded-6512-49d6-8e38-7c5fe0767bfa/structure.ions.parmtop -c /Users/gbayarri/biobb_wf_amber/biobb_wf_amber/notebooks/md_setup/sandbox_f2bb6ded-6512-49d6-8e38-7c5fe0767bfa/sander.npt.rst -r /Users/gbayarri/biobb_wf_amber/biobb_wf_amber/notebooks/md_setup/sandbox_f2bb6ded-6512-49d6-8e38-7c5fe0767bfa/sander.free.rst -o /Users/gbayarri/biobb_wf_amber/biobb_wf_amber/notebooks/md_setup/sandbox_f2bb6ded-6512-49d6-8e38-7c5fe0767bfa/sander.free.log -x /Users/gbayarri/biobb_wf_amber/biobb_wf_amber/notebooks/md_setup/sandbox_f2bb6ded-6512-49d6-8e38-7c5fe0767bfa/sander.free.netcdf\n",
      "\n",
      "2025-07-31 16:01:52,942 [MainThread  ] [INFO ]  Executing: sander -O -i 778f63d2-292b-4b2d-8c07-5d17bed8810e/sander.mdin -p /Users/gbayarri...\n",
      "2025-07-31 16:01:52,944 [MainThread  ] [INFO ]  Exit code: 0\n",
      "2025-07-31 16:01:52,949 [MainThread  ] [INFO ]  Removed: ['/Users/gbayarri/biobb_wf_amber/biobb_wf_amber/notebooks/md_setup/sandbox_f2bb6ded-6512-49d6-8e38-7c5fe0767bfa', 'mdinfo', '778f63d2-292b-4b2d-8c07-5d17bed8810e']\n",
      "2025-07-31 16:01:52,950 [MainThread  ] [INFO ]  \n"
     ]
    },
    {
     "data": {
      "text/plain": [
       "0"
      ]
     },
     "execution_count": 33,
     "metadata": {},
     "output_type": "execute_result"
    }
   ],
   "source": [
    "# Import module\n",
    "from biobb_amber.sander.sander_mdrun import sander_mdrun\n",
    "\n",
    "# Create prop dict and inputs/outputs\n",
    "output_free_traj_path = 'sander.free.netcdf'\n",
    "output_free_rst_path = 'sander.free.rst'\n",
    "output_free_log_path = 'sander.free.log'\n",
    "\n",
    "prop = {\n",
    "    \"simulation_type\" : 'free',\n",
    "    \"mdin\" : { \n",
    "        'nstlim' : 2500, # Reducing the number of steps for the sake of time (5ps)\n",
    "        'ntwx' : 500  # Print coords to trajectory every 500 steps (1 ps)\n",
    "    }\n",
    "}\n",
    "\n",
    "# Create and launch bb\n",
    "sander_mdrun(input_top_path=output_ions_top_path,\n",
    "            input_crd_path=output_npt_rst_path,\n",
    "            output_traj_path=output_free_traj_path,\n",
    "            output_rst_path=output_free_rst_path,\n",
    "            output_log_path=output_free_log_path,\n",
    "            properties=prop)"
   ]
  },
  {
   "cell_type": "markdown",
   "metadata": {},
   "source": [
    "<a id=\"mdStep2\"></a>\n",
    "### Step 2: Checking free MD simulation results\n",
    "\n",
    "Checking results for the final step of the setup process, the **free MD run**. Plotting **Root Mean Square deviation (RMSd)** and **Radius of Gyration (Rgyr)** by time during the **free MD run** step. **RMSd** against the **experimental structure** (input structure of the pipeline) and against the **minimized and equilibrated structure** (output structure of the NPT equilibration step)."
   ]
  },
  {
   "cell_type": "code",
   "execution_count": 34,
   "metadata": {},
   "outputs": [
    {
     "name": "stdout",
     "output_type": "stream",
     "text": [
      "2025-07-31 16:01:52,971 [MainThread  ] [INFO ]  Module: biobb_analysis.ambertools.cpptraj_rms Version: 5.1.0\n",
      "2025-07-31 16:01:52,971 [MainThread  ] [INFO ]  /Users/gbayarri/biobb_wf_amber/biobb_wf_amber/notebooks/md_setup/sandbox_4bc36a01-73b9-4ef1-98a7-04ac094c3f0e directory successfully created\n",
      "2025-07-31 16:01:52,973 [MainThread  ] [INFO ]  Copy: structure.ions.parmtop to /Users/gbayarri/biobb_wf_amber/biobb_wf_amber/notebooks/md_setup/sandbox_4bc36a01-73b9-4ef1-98a7-04ac094c3f0e\n",
      "2025-07-31 16:01:52,975 [MainThread  ] [INFO ]  Copy: sander.free.netcdf to /Users/gbayarri/biobb_wf_amber/biobb_wf_amber/notebooks/md_setup/sandbox_4bc36a01-73b9-4ef1-98a7-04ac094c3f0e\n",
      "2025-07-31 16:01:52,976 [MainThread  ] [INFO ]  cpptraj -i d5e6b98f-242b-437e-aa4c-5e16b4ab3c3e/instructions.in\n",
      "\n",
      "2025-07-31 16:01:53,163 [MainThread  ] [INFO ]  Executing: cpptraj -i d5e6b98f-242b-437e-aa4c-5e16b4ab3c3e/instructions.in...\n",
      "2025-07-31 16:01:53,165 [MainThread  ] [INFO ]  Exit code: 0\n",
      "2025-07-31 16:01:53,165 [MainThread  ] [INFO ]  \n",
      "CPPTRAJ: Trajectory Analysis. V6.24.0 (AmberTools)\n",
      "    ___  ___  ___  ___\n",
      "     | \\/ | \\/ | \\/ | \n",
      "    _|_/\\_|_/\\_|_/\\_|_\n",
      "\n",
      "| Date/time: 07/31/25 16:01:53\n",
      "| Available memory: 2.696 GB\n",
      "\n",
      "INPUT: Reading input from 'd5e6b98f-242b-437e-aa4c-5e16b4ab3c3e/instructions.in'\n",
      "  [parm /Users/gbayarri/biobb_wf_amber/biobb_wf_amber/notebooks/md_setup/sandbox_4bc36a01-73b9-4ef1-98a7-04ac094c3f0e/structure.ions.parmtop]\n",
      "\tReading '/Users/gbayarri/biobb_wf_amber/biobb_wf_amber/notebooks/md_setup/sandbox_4bc36a01-73b9-4ef1-98a7-04ac094c3f0e/structure.ions.parmtop' as Amber Topology\n",
      "\tRadius Set: modified Bondi radii (mbondi)\n",
      "  [trajin /Users/gbayarri/biobb_wf_amber/biobb_wf_amber/notebooks/md_setup/sandbox_4bc36a01-73b9-4ef1-98a7-04ac094c3f0e/sander.free.netcdf 1 -1 1]\n",
      "\tReading '/Users/gbayarri/biobb_wf_amber/biobb_wf_amber/notebooks/md_setup/sandbox_4bc36a01-73b9-4ef1-98a7-04ac094c3f0e/sander.free.netcdf' as Amber NetCDF\n",
      "  [center !@H*,1H*,2H*,3H* origin]\n",
      "    CENTER: Centering coordinates using geometric center of atoms in mask (!@H*,1H*,2H*,3H*) to\n",
      "\tcoordinate origin.\n",
      "  [autoimage]\n",
      "    AUTOIMAGE: To box center based on center of mass, anchor is first molecule.\n",
      "  [rms first !@H*,1H*,2H*,3H*]\n",
      "    RMSD: (!@H*,1H*,2H*,3H*), reference is first frame (!@H*,1H*,2H*,3H*).\n",
      "\tBest-fit RMSD will be calculated, coords will be rotated and translated.\n",
      "  [strip :WAT,HOH,SOL,TIP3,TP3,SOD,CLA,Na+,Cl-,NA,CL,K+,K]\n",
      "    STRIP: Stripping atoms in mask [:WAT,HOH,SOL,TIP3,TP3,SOD,CLA,Na+,Cl-,NA,CL,K+,K]\n",
      "  [strip !@C,CA,N,O,C3',O3',C4',C5',O5',P]\n",
      "    STRIP: Stripping atoms in mask [!@C,CA,N,O,C3',O3',C4',C5',O5',P]\n",
      "  [rms first out /Users/gbayarri/biobb_wf_amber/biobb_wf_amber/notebooks/md_setup/sandbox_4bc36a01-73b9-4ef1-98a7-04ac094c3f0e/1aki_rms_first.dat]\n",
      "    RMSD: (*), reference is first frame (*).\n",
      "\tBest-fit RMSD will be calculated, coords will be rotated and translated.\n",
      "---------- RUN BEGIN -------------------------------------------------\n",
      "\n",
      "PARAMETER FILES (1 total):\n",
      " 0: structure.ions.parmtop, 18019 atoms, 5506 res, box: Truncated octahedron, 5378 mol, 5341 solvent\n",
      "\n",
      "INPUT TRAJECTORIES (1 total):\n",
      " 0: 'sander.free.netcdf' is a NetCDF (NetCDF3) AMBER trajectory with coordinates, time, box, Parm structure.ions.parmtop (Truncated octahedron box) (reading 5 of 5)\n",
      "  Coordinate processing will occur on 5 frames.\n",
      "\n",
      "BEGIN TRAJECTORY PROCESSING:\n",
      ".....................................................\n",
      "ACTION SETUP FOR PARM 'structure.ions.parmtop' (6 actions):\n",
      "  0: [center !@H*,1H*,2H*,3H* origin]\n",
      "\tMask [!@H*,1H*,2H*,3H*] corresponds to 6378 atoms.\n",
      "  1: [autoimage]\n",
      "\tOriginal box is truncated octahedron, turning on 'familiar'.\n",
      "\tUsing first molecule as anchor.\n",
      "\t5377 molecules are mobile.\n",
      "  2: [rms first !@H*,1H*,2H*,3H*]\n",
      "\tTarget mask: [!@H*,1H*,2H*,3H*](6378)\n",
      "\tReference topology: structure.ions.parmtop\n",
      "\tReference mask: [!@H*,1H*,2H*,3H*](6378)\n",
      "  3: [strip :WAT,HOH,SOL,TIP3,TP3,SOD,CLA,Na+,Cl-,NA,CL,K+,K]\n",
      "\tStripping 16059 atoms.\n",
      "\tStripped topology: 1960 atoms, 129 res, box: Truncated octahedron, 1 mol\n",
      "  4: [strip !@C,CA,N,O,C3',O3',C4',C5',O5',P]\n",
      "\tStripping 1444 atoms.\n",
      "\tStripped topology: 516 atoms, 129 res, box: Truncated octahedron, 1 mol\n",
      "  5: [rms first out /Users/gbayarri/biobb_wf_amber/biobb_wf_amber/notebooks/md_setup/sandbox_4bc36a01-73b9-4ef1-98a7-04ac094c3f0e/1aki_rms_first.dat]\n",
      "\tTarget mask: [*](516)\n",
      "\tReference topology: structure.ions.parmtop\n",
      "\tReference mask: [*](516)\n",
      "----- sander.free.netcdf (1-5, 1) -----\n",
      " 0% 25% 50% 75% 100% Complete.\n",
      "\n",
      "Read 5 frames and processed 5 frames.\n",
      "TIME: Avg. throughput= 819.4035 frames / second.\n",
      "\n",
      "ACTION OUTPUT:\n",
      "TIME: Analyses took 0.0000 seconds.\n",
      "\n",
      "DATASETS (2 total):\n",
      "\tRMSD_00001 \"RMSD_00001\" (double, rms), size is 5 (0.040 kB)\n",
      "\tRMSD_00002 \"RMSD_00002\" (double, rms), size is 5 (0.040 kB)\n",
      "    Total data set memory usage is at least 0.080 kB\n",
      "\n",
      "DATAFILES (1 total):\n",
      "  1aki_rms_first.dat (Standard Data File):  RMSD_00002\n",
      "\n",
      "RUN TIMING:\n",
      "TIME:\t\tInit               : 0.0001 s (  2.19%)\n",
      "TIME:\t\tTrajectory Process : 0.0061 s ( 92.76%)\n",
      "TIME:\t\tAction Post        : 0.0000 s (  0.02%)\n",
      "TIME:\t\tAnalysis           : 0.0000 s (  0.00%)\n",
      "TIME:\t\tData File Write    : 0.0002 s (  2.40%)\n",
      "TIME:\t\tOther              : 0.0002 s (  0.03%)\n",
      "TIME:\tRun Total 0.0066 s\n",
      "---------- RUN END ---------------------------------------------------\n",
      "TIME: Total execution time: 0.1185 seconds.\n",
      "--------------------------------------------------------------------------------\n",
      "To cite CPPTRAJ use:\n",
      "Daniel R. Roe and Thomas E. Cheatham, III, \"PTRAJ and CPPTRAJ: Software for\n",
      "  Processing and Analysis of Molecular Dynamics Trajectory Data\". J. Chem.\n",
      "  Theory Comput., 2013, 9 (7), pp 3084-3095.\n",
      "\n",
      "\n",
      "2025-07-31 16:01:53,168 [MainThread  ] [INFO ]  Removed: ['/Users/gbayarri/biobb_wf_amber/biobb_wf_amber/notebooks/md_setup/sandbox_4bc36a01-73b9-4ef1-98a7-04ac094c3f0e', 'd5e6b98f-242b-437e-aa4c-5e16b4ab3c3e']\n",
      "2025-07-31 16:01:53,169 [MainThread  ] [INFO ]  \n"
     ]
    },
    {
     "data": {
      "text/plain": [
       "0"
      ]
     },
     "execution_count": 34,
     "metadata": {},
     "output_type": "execute_result"
    }
   ],
   "source": [
    "# cpptraj_rms: Computing Root Mean Square deviation to analyse structural stability \n",
    "#              RMSd against minimized and equilibrated snapshot (backbone atoms)   \n",
    "\n",
    "# Import module\n",
    "from biobb_analysis.ambertools.cpptraj_rms import cpptraj_rms\n",
    "\n",
    "# Create prop dict and inputs/outputs\n",
    "output_rms_first = pdbCode+'_rms_first.dat'\n",
    "\n",
    "prop = {\n",
    "    'mask': 'backbone',\n",
    "    'reference': 'first'\n",
    "}\n",
    "\n",
    "# Create and launch bb\n",
    "cpptraj_rms(input_top_path=output_ions_top_path,\n",
    "            input_traj_path=output_free_traj_path,\n",
    "            output_cpptraj_path=output_rms_first,\n",
    "            properties=prop)"
   ]
  },
  {
   "cell_type": "code",
   "execution_count": 35,
   "metadata": {},
   "outputs": [
    {
     "name": "stdout",
     "output_type": "stream",
     "text": [
      "2025-07-31 16:01:53,178 [MainThread  ] [INFO ]  Module: biobb_analysis.ambertools.cpptraj_rms Version: 5.1.0\n",
      "2025-07-31 16:01:53,179 [MainThread  ] [INFO ]  /Users/gbayarri/biobb_wf_amber/biobb_wf_amber/notebooks/md_setup/sandbox_2107095b-ac0c-4d6c-b38d-81ec02967ab7 directory successfully created\n",
      "2025-07-31 16:01:53,181 [MainThread  ] [INFO ]  Copy: structure.ions.parmtop to /Users/gbayarri/biobb_wf_amber/biobb_wf_amber/notebooks/md_setup/sandbox_2107095b-ac0c-4d6c-b38d-81ec02967ab7\n",
      "2025-07-31 16:01:53,183 [MainThread  ] [INFO ]  Copy: sander.free.netcdf to /Users/gbayarri/biobb_wf_amber/biobb_wf_amber/notebooks/md_setup/sandbox_2107095b-ac0c-4d6c-b38d-81ec02967ab7\n",
      "2025-07-31 16:01:53,184 [MainThread  ] [INFO ]  Copy: 1aki.pdb to /Users/gbayarri/biobb_wf_amber/biobb_wf_amber/notebooks/md_setup/sandbox_2107095b-ac0c-4d6c-b38d-81ec02967ab7\n",
      "2025-07-31 16:01:53,185 [MainThread  ] [INFO ]  cpptraj -i 151b7746-19f3-492a-92c9-df4b7d2bbc3b/instructions.in\n",
      "\n",
      "2025-07-31 16:01:53,419 [MainThread  ] [INFO ]  Executing: cpptraj -i 151b7746-19f3-492a-92c9-df4b7d2bbc3b/instructions.in...\n",
      "2025-07-31 16:01:53,421 [MainThread  ] [INFO ]  Exit code: 0\n",
      "2025-07-31 16:01:53,421 [MainThread  ] [INFO ]  \n",
      "CPPTRAJ: Trajectory Analysis. V6.24.0 (AmberTools)\n",
      "    ___  ___  ___  ___\n",
      "     | \\/ | \\/ | \\/ | \n",
      "    _|_/\\_|_/\\_|_/\\_|_\n",
      "\n",
      "| Date/time: 07/31/25 16:01:53\n",
      "| Available memory: 2.668 GB\n",
      "\n",
      "INPUT: Reading input from '151b7746-19f3-492a-92c9-df4b7d2bbc3b/instructions.in'\n",
      "  [parm /Users/gbayarri/biobb_wf_amber/biobb_wf_amber/notebooks/md_setup/sandbox_2107095b-ac0c-4d6c-b38d-81ec02967ab7/structure.ions.parmtop]\n",
      "\tReading '/Users/gbayarri/biobb_wf_amber/biobb_wf_amber/notebooks/md_setup/sandbox_2107095b-ac0c-4d6c-b38d-81ec02967ab7/structure.ions.parmtop' as Amber Topology\n",
      "\tRadius Set: modified Bondi radii (mbondi)\n",
      "  [trajin /Users/gbayarri/biobb_wf_amber/biobb_wf_amber/notebooks/md_setup/sandbox_2107095b-ac0c-4d6c-b38d-81ec02967ab7/sander.free.netcdf 1 -1 1]\n",
      "\tReading '/Users/gbayarri/biobb_wf_amber/biobb_wf_amber/notebooks/md_setup/sandbox_2107095b-ac0c-4d6c-b38d-81ec02967ab7/sander.free.netcdf' as Amber NetCDF\n",
      "  [center !@H*,1H*,2H*,3H* origin]\n",
      "    CENTER: Centering coordinates using geometric center of atoms in mask (!@H*,1H*,2H*,3H*) to\n",
      "\tcoordinate origin.\n",
      "  [autoimage]\n",
      "    AUTOIMAGE: To box center based on center of mass, anchor is first molecule.\n",
      "  [rms first !@H*,1H*,2H*,3H*]\n",
      "    RMSD: (!@H*,1H*,2H*,3H*), reference is first frame (!@H*,1H*,2H*,3H*).\n",
      "\tBest-fit RMSD will be calculated, coords will be rotated and translated.\n",
      "  [strip :WAT,HOH,SOL,TIP3,TP3,SOD,CLA,Na+,Cl-,NA,CL,K+,K]\n",
      "    STRIP: Stripping atoms in mask [:WAT,HOH,SOL,TIP3,TP3,SOD,CLA,Na+,Cl-,NA,CL,K+,K]\n",
      "  [strip !@C,CA,N,O,C3',O3',C4',C5',O5',P]\n",
      "    STRIP: Stripping atoms in mask [!@C,CA,N,O,C3',O3',C4',C5',O5',P]\n",
      "  [parm /Users/gbayarri/biobb_wf_amber/biobb_wf_amber/notebooks/md_setup/sandbox_2107095b-ac0c-4d6c-b38d-81ec02967ab7/1aki.pdb noconect [exp]]\n",
      "\tReading '/Users/gbayarri/biobb_wf_amber/biobb_wf_amber/notebooks/md_setup/sandbox_2107095b-ac0c-4d6c-b38d-81ec02967ab7/1aki.pdb' as PDB File\n",
      "\tNot reading bond info from CONECT records.\n",
      "\tNot reading bond info from LINK records.\n",
      "\tDetermining bond info from distances.\n",
      "Warning: Determining bond length parameters from element types for '1aki.pdb'.\n",
      "  [reference /Users/gbayarri/biobb_wf_amber/biobb_wf_amber/notebooks/md_setup/sandbox_2107095b-ac0c-4d6c-b38d-81ec02967ab7/1aki.pdb !:WAT,HOH,SOL,TIP3,TP3,SOD,CLA,Na+,Cl-,NA,CL,K+,K parm [exp]]\n",
      "\tReading '/Users/gbayarri/biobb_wf_amber/biobb_wf_amber/notebooks/md_setup/sandbox_2107095b-ac0c-4d6c-b38d-81ec02967ab7/1aki.pdb' as PDB\n",
      "\tStripped ref parm: 1001 atoms, 129 res, box: None, 1 mol\n",
      "\tSetting active reference for distance-based masks: '1aki.pdb'\n",
      "Warning: Active reference has only 1001 atoms, parm 'structure.ions.parmtop' has 18019.\n",
      "Warning: Parm will only have reference coordinates for the first 1001 atoms (distance-based masks only).\n",
      "  [rms reference @C,CA,N,O,C3',O3',C4',C5',O5',P out /Users/gbayarri/biobb_wf_amber/biobb_wf_amber/notebooks/md_setup/sandbox_2107095b-ac0c-4d6c-b38d-81ec02967ab7/1aki_rms_exp.dat]\n",
      "    RMSD: (@C,CA,N,O,C3',O3',C4',C5',O5',P), reference is \"1aki.pdb:1\" (@C,CA,N,O,C3',O3',C4',C5',O5',P).\n",
      "\tBest-fit RMSD will be calculated, coords will be rotated and translated.\n",
      "---------- RUN BEGIN -------------------------------------------------\n",
      "\n",
      "PARAMETER FILES (2 total):\n",
      " 0: structure.ions.parmtop, 18019 atoms, 5506 res, box: Truncated octahedron, 5378 mol, 5341 solvent\n",
      " 1: [exp] 1aki.pdb, 1001 atoms, 129 res, box: None, 1 mol\n",
      "\n",
      "INPUT TRAJECTORIES (1 total):\n",
      " 0: 'sander.free.netcdf' is a NetCDF (NetCDF3) AMBER trajectory with coordinates, time, box, Parm structure.ions.parmtop (Truncated octahedron box) (reading 5 of 5)\n",
      "  Coordinate processing will occur on 5 frames.\n",
      "\n",
      "REFERENCE FRAMES (1 total):\n",
      "    0: 1aki.pdb:1\n",
      "\tActive reference frame for distance-based masks is '1aki.pdb:1'\n",
      "\n",
      "BEGIN TRAJECTORY PROCESSING:\n",
      ".....................................................\n",
      "ACTION SETUP FOR PARM 'structure.ions.parmtop' (6 actions):\n",
      "  0: [center !@H*,1H*,2H*,3H* origin]\n",
      "\tMask [!@H*,1H*,2H*,3H*] corresponds to 6378 atoms.\n",
      "  1: [autoimage]\n",
      "\tOriginal box is truncated octahedron, turning on 'familiar'.\n",
      "\tUsing first molecule as anchor.\n",
      "\t5377 molecules are mobile.\n",
      "  2: [rms first !@H*,1H*,2H*,3H*]\n",
      "\tTarget mask: [!@H*,1H*,2H*,3H*](6378)\n",
      "\tReference topology: structure.ions.parmtop\n",
      "\tReference mask: [!@H*,1H*,2H*,3H*](6378)\n",
      "  3: [strip :WAT,HOH,SOL,TIP3,TP3,SOD,CLA,Na+,Cl-,NA,CL,K+,K]\n",
      "\tStripping 16059 atoms.\n",
      "\tStripped topology: 1960 atoms, 129 res, box: Truncated octahedron, 1 mol\n",
      "  4: [strip !@C,CA,N,O,C3',O3',C4',C5',O5',P]\n",
      "\tStripping 1444 atoms.\n",
      "\tStripped topology: 516 atoms, 129 res, box: Truncated octahedron, 1 mol\n",
      "  5: [rms reference @C,CA,N,O,C3',O3',C4',C5',O5',P out /Users/gbayarri/biobb_wf_amber/biobb_wf_amber/notebooks/md_setup/sandbox_2107095b-ac0c-4d6c-b38d-81ec02967ab7/1aki_rms_exp.dat]\n",
      "\tTarget mask: [@C,CA,N,O,C3',O3',C4',C5',O5',P](516)\n",
      "\tReference topology: 1aki.pdb\n",
      "\tReference mask: [@C,CA,N,O,C3',O3',C4',C5',O5',P](516)\n",
      "----- sander.free.netcdf (1-5, 1) -----\n",
      " 0% 25% 50% 75% 100% Complete.\n",
      "\n",
      "Read 5 frames and processed 5 frames.\n",
      "TIME: Avg. throughput= 791.6403 frames / second.\n",
      "\n",
      "ACTION OUTPUT:\n",
      "TIME: Analyses took 0.0000 seconds.\n",
      "\n",
      "DATASETS (2 total):\n",
      "\tRMSD_00001 \"RMSD_00001\" (double, rms), size is 5 (0.040 kB)\n",
      "\tRMSD_00004 \"RMSD_00004\" (double, rms), size is 5 (0.040 kB)\n",
      "    Total data set memory usage is at least 0.080 kB\n",
      "\n",
      "DATAFILES (1 total):\n",
      "  1aki_rms_exp.dat (Standard Data File):  RMSD_00004\n",
      "\n",
      "RUN TIMING:\n",
      "TIME:\t\tInit               : 0.0000 s (  0.31%)\n",
      "TIME:\t\tTrajectory Process : 0.0063 s ( 93.97%)\n",
      "TIME:\t\tAction Post        : 0.0000 s (  0.01%)\n",
      "TIME:\t\tAnalysis           : 0.0000 s (  0.00%)\n",
      "TIME:\t\tData File Write    : 0.0002 s (  3.14%)\n",
      "TIME:\t\tOther              : 0.0002 s (  0.03%)\n",
      "TIME:\tRun Total 0.0067 s\n",
      "---------- RUN END ---------------------------------------------------\n",
      "TIME: Total execution time: 0.1782 seconds.\n",
      "--------------------------------------------------------------------------------\n",
      "To cite CPPTRAJ use:\n",
      "Daniel R. Roe and Thomas E. Cheatham, III, \"PTRAJ and CPPTRAJ: Software for\n",
      "  Processing and Analysis of Molecular Dynamics Trajectory Data\". J. Chem.\n",
      "  Theory Comput., 2013, 9 (7), pp 3084-3095.\n",
      "\n",
      "\n",
      "2025-07-31 16:01:53,423 [MainThread  ] [INFO ]  Removed: ['/Users/gbayarri/biobb_wf_amber/biobb_wf_amber/notebooks/md_setup/sandbox_2107095b-ac0c-4d6c-b38d-81ec02967ab7', '151b7746-19f3-492a-92c9-df4b7d2bbc3b']\n",
      "2025-07-31 16:01:53,424 [MainThread  ] [INFO ]  \n"
     ]
    },
    {
     "data": {
      "text/plain": [
       "0"
      ]
     },
     "execution_count": 35,
     "metadata": {},
     "output_type": "execute_result"
    }
   ],
   "source": [
    "# cpptraj_rms: Computing Root Mean Square deviation to analyse structural stability \n",
    "#              RMSd against experimental structure (backbone atoms)   \n",
    "\n",
    "# Import module\n",
    "from biobb_analysis.ambertools.cpptraj_rms import cpptraj_rms\n",
    "\n",
    "# Create prop dict and inputs/outputs\n",
    "output_rms_exp = pdbCode+'_rms_exp.dat'\n",
    "\n",
    "prop = {\n",
    "    'mask': 'backbone',\n",
    "    'reference': 'experimental'\n",
    "}\n",
    "\n",
    "# Create and launch bb\n",
    "cpptraj_rms(input_top_path=output_ions_top_path,\n",
    "            input_traj_path=output_free_traj_path,\n",
    "            output_cpptraj_path=output_rms_exp,\n",
    "            input_exp_path=downloaded_pdb, \n",
    "            properties=prop)"
   ]
  },
  {
   "cell_type": "code",
   "execution_count": 36,
   "metadata": {},
   "outputs": [
    {
     "data": {
      "application/vnd.plotly.v1+json": {
       "config": {
        "plotlyServerURL": "https://plot.ly"
       },
       "data": [
        {
         "name": "RMSd vs first",
         "type": "scatter",
         "x": [
          1,
          2,
          3,
          4,
          5
         ],
         "y": [
          0,
          0.5272,
          0.5226,
          0.5075,
          0.5229
         ]
        },
        {
         "name": "RMSd vs exp",
         "type": "scatter",
         "x": [
          1,
          2,
          3,
          4,
          5
         ],
         "y": [
          0.5442,
          0.6058,
          0.6216,
          0.5703,
          0.651
         ]
        }
       ],
       "layout": {
        "height": 600,
        "template": {
         "data": {
          "bar": [
           {
            "error_x": {
             "color": "#2a3f5f"
            },
            "error_y": {
             "color": "#2a3f5f"
            },
            "marker": {
             "line": {
              "color": "#E5ECF6",
              "width": 0.5
             },
             "pattern": {
              "fillmode": "overlay",
              "size": 10,
              "solidity": 0.2
             }
            },
            "type": "bar"
           }
          ],
          "barpolar": [
           {
            "marker": {
             "line": {
              "color": "#E5ECF6",
              "width": 0.5
             },
             "pattern": {
              "fillmode": "overlay",
              "size": 10,
              "solidity": 0.2
             }
            },
            "type": "barpolar"
           }
          ],
          "carpet": [
           {
            "aaxis": {
             "endlinecolor": "#2a3f5f",
             "gridcolor": "white",
             "linecolor": "white",
             "minorgridcolor": "white",
             "startlinecolor": "#2a3f5f"
            },
            "baxis": {
             "endlinecolor": "#2a3f5f",
             "gridcolor": "white",
             "linecolor": "white",
             "minorgridcolor": "white",
             "startlinecolor": "#2a3f5f"
            },
            "type": "carpet"
           }
          ],
          "choropleth": [
           {
            "colorbar": {
             "outlinewidth": 0,
             "ticks": ""
            },
            "type": "choropleth"
           }
          ],
          "contour": [
           {
            "colorbar": {
             "outlinewidth": 0,
             "ticks": ""
            },
            "colorscale": [
             [
              0,
              "#0d0887"
             ],
             [
              0.1111111111111111,
              "#46039f"
             ],
             [
              0.2222222222222222,
              "#7201a8"
             ],
             [
              0.3333333333333333,
              "#9c179e"
             ],
             [
              0.4444444444444444,
              "#bd3786"
             ],
             [
              0.5555555555555556,
              "#d8576b"
             ],
             [
              0.6666666666666666,
              "#ed7953"
             ],
             [
              0.7777777777777778,
              "#fb9f3a"
             ],
             [
              0.8888888888888888,
              "#fdca26"
             ],
             [
              1,
              "#f0f921"
             ]
            ],
            "type": "contour"
           }
          ],
          "contourcarpet": [
           {
            "colorbar": {
             "outlinewidth": 0,
             "ticks": ""
            },
            "type": "contourcarpet"
           }
          ],
          "heatmap": [
           {
            "colorbar": {
             "outlinewidth": 0,
             "ticks": ""
            },
            "colorscale": [
             [
              0,
              "#0d0887"
             ],
             [
              0.1111111111111111,
              "#46039f"
             ],
             [
              0.2222222222222222,
              "#7201a8"
             ],
             [
              0.3333333333333333,
              "#9c179e"
             ],
             [
              0.4444444444444444,
              "#bd3786"
             ],
             [
              0.5555555555555556,
              "#d8576b"
             ],
             [
              0.6666666666666666,
              "#ed7953"
             ],
             [
              0.7777777777777778,
              "#fb9f3a"
             ],
             [
              0.8888888888888888,
              "#fdca26"
             ],
             [
              1,
              "#f0f921"
             ]
            ],
            "type": "heatmap"
           }
          ],
          "histogram": [
           {
            "marker": {
             "pattern": {
              "fillmode": "overlay",
              "size": 10,
              "solidity": 0.2
             }
            },
            "type": "histogram"
           }
          ],
          "histogram2d": [
           {
            "colorbar": {
             "outlinewidth": 0,
             "ticks": ""
            },
            "colorscale": [
             [
              0,
              "#0d0887"
             ],
             [
              0.1111111111111111,
              "#46039f"
             ],
             [
              0.2222222222222222,
              "#7201a8"
             ],
             [
              0.3333333333333333,
              "#9c179e"
             ],
             [
              0.4444444444444444,
              "#bd3786"
             ],
             [
              0.5555555555555556,
              "#d8576b"
             ],
             [
              0.6666666666666666,
              "#ed7953"
             ],
             [
              0.7777777777777778,
              "#fb9f3a"
             ],
             [
              0.8888888888888888,
              "#fdca26"
             ],
             [
              1,
              "#f0f921"
             ]
            ],
            "type": "histogram2d"
           }
          ],
          "histogram2dcontour": [
           {
            "colorbar": {
             "outlinewidth": 0,
             "ticks": ""
            },
            "colorscale": [
             [
              0,
              "#0d0887"
             ],
             [
              0.1111111111111111,
              "#46039f"
             ],
             [
              0.2222222222222222,
              "#7201a8"
             ],
             [
              0.3333333333333333,
              "#9c179e"
             ],
             [
              0.4444444444444444,
              "#bd3786"
             ],
             [
              0.5555555555555556,
              "#d8576b"
             ],
             [
              0.6666666666666666,
              "#ed7953"
             ],
             [
              0.7777777777777778,
              "#fb9f3a"
             ],
             [
              0.8888888888888888,
              "#fdca26"
             ],
             [
              1,
              "#f0f921"
             ]
            ],
            "type": "histogram2dcontour"
           }
          ],
          "mesh3d": [
           {
            "colorbar": {
             "outlinewidth": 0,
             "ticks": ""
            },
            "type": "mesh3d"
           }
          ],
          "parcoords": [
           {
            "line": {
             "colorbar": {
              "outlinewidth": 0,
              "ticks": ""
             }
            },
            "type": "parcoords"
           }
          ],
          "pie": [
           {
            "automargin": true,
            "type": "pie"
           }
          ],
          "scatter": [
           {
            "fillpattern": {
             "fillmode": "overlay",
             "size": 10,
             "solidity": 0.2
            },
            "type": "scatter"
           }
          ],
          "scatter3d": [
           {
            "line": {
             "colorbar": {
              "outlinewidth": 0,
              "ticks": ""
             }
            },
            "marker": {
             "colorbar": {
              "outlinewidth": 0,
              "ticks": ""
             }
            },
            "type": "scatter3d"
           }
          ],
          "scattercarpet": [
           {
            "marker": {
             "colorbar": {
              "outlinewidth": 0,
              "ticks": ""
             }
            },
            "type": "scattercarpet"
           }
          ],
          "scattergeo": [
           {
            "marker": {
             "colorbar": {
              "outlinewidth": 0,
              "ticks": ""
             }
            },
            "type": "scattergeo"
           }
          ],
          "scattergl": [
           {
            "marker": {
             "colorbar": {
              "outlinewidth": 0,
              "ticks": ""
             }
            },
            "type": "scattergl"
           }
          ],
          "scattermap": [
           {
            "marker": {
             "colorbar": {
              "outlinewidth": 0,
              "ticks": ""
             }
            },
            "type": "scattermap"
           }
          ],
          "scattermapbox": [
           {
            "marker": {
             "colorbar": {
              "outlinewidth": 0,
              "ticks": ""
             }
            },
            "type": "scattermapbox"
           }
          ],
          "scatterpolar": [
           {
            "marker": {
             "colorbar": {
              "outlinewidth": 0,
              "ticks": ""
             }
            },
            "type": "scatterpolar"
           }
          ],
          "scatterpolargl": [
           {
            "marker": {
             "colorbar": {
              "outlinewidth": 0,
              "ticks": ""
             }
            },
            "type": "scatterpolargl"
           }
          ],
          "scatterternary": [
           {
            "marker": {
             "colorbar": {
              "outlinewidth": 0,
              "ticks": ""
             }
            },
            "type": "scatterternary"
           }
          ],
          "surface": [
           {
            "colorbar": {
             "outlinewidth": 0,
             "ticks": ""
            },
            "colorscale": [
             [
              0,
              "#0d0887"
             ],
             [
              0.1111111111111111,
              "#46039f"
             ],
             [
              0.2222222222222222,
              "#7201a8"
             ],
             [
              0.3333333333333333,
              "#9c179e"
             ],
             [
              0.4444444444444444,
              "#bd3786"
             ],
             [
              0.5555555555555556,
              "#d8576b"
             ],
             [
              0.6666666666666666,
              "#ed7953"
             ],
             [
              0.7777777777777778,
              "#fb9f3a"
             ],
             [
              0.8888888888888888,
              "#fdca26"
             ],
             [
              1,
              "#f0f921"
             ]
            ],
            "type": "surface"
           }
          ],
          "table": [
           {
            "cells": {
             "fill": {
              "color": "#EBF0F8"
             },
             "line": {
              "color": "white"
             }
            },
            "header": {
             "fill": {
              "color": "#C8D4E3"
             },
             "line": {
              "color": "white"
             }
            },
            "type": "table"
           }
          ]
         },
         "layout": {
          "annotationdefaults": {
           "arrowcolor": "#2a3f5f",
           "arrowhead": 0,
           "arrowwidth": 1
          },
          "autotypenumbers": "strict",
          "coloraxis": {
           "colorbar": {
            "outlinewidth": 0,
            "ticks": ""
           }
          },
          "colorscale": {
           "diverging": [
            [
             0,
             "#8e0152"
            ],
            [
             0.1,
             "#c51b7d"
            ],
            [
             0.2,
             "#de77ae"
            ],
            [
             0.3,
             "#f1b6da"
            ],
            [
             0.4,
             "#fde0ef"
            ],
            [
             0.5,
             "#f7f7f7"
            ],
            [
             0.6,
             "#e6f5d0"
            ],
            [
             0.7,
             "#b8e186"
            ],
            [
             0.8,
             "#7fbc41"
            ],
            [
             0.9,
             "#4d9221"
            ],
            [
             1,
             "#276419"
            ]
           ],
           "sequential": [
            [
             0,
             "#0d0887"
            ],
            [
             0.1111111111111111,
             "#46039f"
            ],
            [
             0.2222222222222222,
             "#7201a8"
            ],
            [
             0.3333333333333333,
             "#9c179e"
            ],
            [
             0.4444444444444444,
             "#bd3786"
            ],
            [
             0.5555555555555556,
             "#d8576b"
            ],
            [
             0.6666666666666666,
             "#ed7953"
            ],
            [
             0.7777777777777778,
             "#fb9f3a"
            ],
            [
             0.8888888888888888,
             "#fdca26"
            ],
            [
             1,
             "#f0f921"
            ]
           ],
           "sequentialminus": [
            [
             0,
             "#0d0887"
            ],
            [
             0.1111111111111111,
             "#46039f"
            ],
            [
             0.2222222222222222,
             "#7201a8"
            ],
            [
             0.3333333333333333,
             "#9c179e"
            ],
            [
             0.4444444444444444,
             "#bd3786"
            ],
            [
             0.5555555555555556,
             "#d8576b"
            ],
            [
             0.6666666666666666,
             "#ed7953"
            ],
            [
             0.7777777777777778,
             "#fb9f3a"
            ],
            [
             0.8888888888888888,
             "#fdca26"
            ],
            [
             1,
             "#f0f921"
            ]
           ]
          },
          "colorway": [
           "#636efa",
           "#EF553B",
           "#00cc96",
           "#ab63fa",
           "#FFA15A",
           "#19d3f3",
           "#FF6692",
           "#B6E880",
           "#FF97FF",
           "#FECB52"
          ],
          "font": {
           "color": "#2a3f5f"
          },
          "geo": {
           "bgcolor": "white",
           "lakecolor": "white",
           "landcolor": "#E5ECF6",
           "showlakes": true,
           "showland": true,
           "subunitcolor": "white"
          },
          "hoverlabel": {
           "align": "left"
          },
          "hovermode": "closest",
          "mapbox": {
           "style": "light"
          },
          "paper_bgcolor": "white",
          "plot_bgcolor": "#E5ECF6",
          "polar": {
           "angularaxis": {
            "gridcolor": "white",
            "linecolor": "white",
            "ticks": ""
           },
           "bgcolor": "#E5ECF6",
           "radialaxis": {
            "gridcolor": "white",
            "linecolor": "white",
            "ticks": ""
           }
          },
          "scene": {
           "xaxis": {
            "backgroundcolor": "#E5ECF6",
            "gridcolor": "white",
            "gridwidth": 2,
            "linecolor": "white",
            "showbackground": true,
            "ticks": "",
            "zerolinecolor": "white"
           },
           "yaxis": {
            "backgroundcolor": "#E5ECF6",
            "gridcolor": "white",
            "gridwidth": 2,
            "linecolor": "white",
            "showbackground": true,
            "ticks": "",
            "zerolinecolor": "white"
           },
           "zaxis": {
            "backgroundcolor": "#E5ECF6",
            "gridcolor": "white",
            "gridwidth": 2,
            "linecolor": "white",
            "showbackground": true,
            "ticks": "",
            "zerolinecolor": "white"
           }
          },
          "shapedefaults": {
           "line": {
            "color": "#2a3f5f"
           }
          },
          "ternary": {
           "aaxis": {
            "gridcolor": "white",
            "linecolor": "white",
            "ticks": ""
           },
           "baxis": {
            "gridcolor": "white",
            "linecolor": "white",
            "ticks": ""
           },
           "bgcolor": "#E5ECF6",
           "caxis": {
            "gridcolor": "white",
            "linecolor": "white",
            "ticks": ""
           }
          },
          "title": {
           "x": 0.05
          },
          "xaxis": {
           "automargin": true,
           "gridcolor": "white",
           "linecolor": "white",
           "ticks": "",
           "title": {
            "standoff": 15
           },
           "zerolinecolor": "white",
           "zerolinewidth": 2
          },
          "yaxis": {
           "automargin": true,
           "gridcolor": "white",
           "linecolor": "white",
           "ticks": "",
           "title": {
            "standoff": 15
           },
           "zerolinecolor": "white",
           "zerolinewidth": 2
          }
         }
        },
        "title": {
         "text": "RMSd during free MD Simulation"
        },
        "xaxis": {
         "title": {
          "text": "Time (ps)"
         }
        },
        "yaxis": {
         "title": {
          "text": "RMSd (Angstrom)"
         }
        }
       }
      }
     },
     "metadata": {},
     "output_type": "display_data"
    }
   ],
   "source": [
    "import plotly.graph_objs as go\n",
    "\n",
    "# Read RMS vs first snapshot data from file \n",
    "with open(output_rms_first, 'r') as rms_first_file:\n",
    "    x, y = zip(*[\n",
    "        (float(line.split()[0]), float(line.split()[1]))\n",
    "        for line in rms_first_file\n",
    "        if not line.startswith((\"#\", \"@\"))\n",
    "        if float(line.split()[1]) < 1000\n",
    "    ])\n",
    "\n",
    "# Read RMS vs experimental structure data from file \n",
    "with open(output_rms_exp, 'r') as rms_exp_file:\n",
    "    x2, y2 = zip(*[\n",
    "        (float(line.split()[0]), float(line.split()[1]))\n",
    "        for line in rms_exp_file\n",
    "        if not line.startswith((\"#\", \"@\"))\n",
    "        if float(line.split()[1]) < 1000\n",
    "    ])\n",
    "\n",
    "# Create a scatter plot\n",
    "fig = go.Figure(data=[go.Scatter(x=x, y=y, name = 'RMSd vs first'), go.Scatter(x=x, y=y2, name = 'RMSd vs exp')])\n",
    "\n",
    "# Update layout\n",
    "fig.update_layout(title=\"RMSd during free MD Simulation\",\n",
    "                  xaxis_title=\"Time (ps)\",\n",
    "                  yaxis_title=\"RMSd (Angstrom)\",\n",
    "                  height=600)\n",
    "\n",
    "# Show the figure (renderer changes for colab and jupyter)\n",
    "rend = 'colab' if 'google.colab' in sys.modules else ''\n",
    "fig.show(renderer=rend)\n"
   ]
  },
  {
   "cell_type": "code",
   "execution_count": 37,
   "metadata": {},
   "outputs": [
    {
     "name": "stdout",
     "output_type": "stream",
     "text": [
      "2025-07-31 16:01:53,442 [MainThread  ] [INFO ]  Module: biobb_analysis.ambertools.cpptraj_rgyr Version: 5.1.0\n",
      "2025-07-31 16:01:53,443 [MainThread  ] [INFO ]  /Users/gbayarri/biobb_wf_amber/biobb_wf_amber/notebooks/md_setup/sandbox_39c26716-b87d-4cf7-acb5-69d59aa5e666 directory successfully created\n",
      "2025-07-31 16:01:53,445 [MainThread  ] [INFO ]  Copy: structure.ions.parmtop to /Users/gbayarri/biobb_wf_amber/biobb_wf_amber/notebooks/md_setup/sandbox_39c26716-b87d-4cf7-acb5-69d59aa5e666\n",
      "2025-07-31 16:01:53,446 [MainThread  ] [INFO ]  Copy: sander.free.netcdf to /Users/gbayarri/biobb_wf_amber/biobb_wf_amber/notebooks/md_setup/sandbox_39c26716-b87d-4cf7-acb5-69d59aa5e666\n",
      "2025-07-31 16:01:53,447 [MainThread  ] [INFO ]  cpptraj -i 20fd01a2-70f0-4a70-8509-3dbd168cea45/instructions.in\n",
      "\n",
      "2025-07-31 16:01:53,646 [MainThread  ] [INFO ]  Executing: cpptraj -i 20fd01a2-70f0-4a70-8509-3dbd168cea45/instructions.in...\n",
      "2025-07-31 16:01:53,647 [MainThread  ] [INFO ]  Exit code: 0\n",
      "2025-07-31 16:01:53,648 [MainThread  ] [INFO ]  \n",
      "CPPTRAJ: Trajectory Analysis. V6.24.0 (AmberTools)\n",
      "    ___  ___  ___  ___\n",
      "     | \\/ | \\/ | \\/ | \n",
      "    _|_/\\_|_/\\_|_/\\_|_\n",
      "\n",
      "| Date/time: 07/31/25 16:01:53\n",
      "| Available memory: 2.668 GB\n",
      "\n",
      "INPUT: Reading input from '20fd01a2-70f0-4a70-8509-3dbd168cea45/instructions.in'\n",
      "  [parm /Users/gbayarri/biobb_wf_amber/biobb_wf_amber/notebooks/md_setup/sandbox_39c26716-b87d-4cf7-acb5-69d59aa5e666/structure.ions.parmtop]\n",
      "\tReading '/Users/gbayarri/biobb_wf_amber/biobb_wf_amber/notebooks/md_setup/sandbox_39c26716-b87d-4cf7-acb5-69d59aa5e666/structure.ions.parmtop' as Amber Topology\n",
      "\tRadius Set: modified Bondi radii (mbondi)\n",
      "  [trajin /Users/gbayarri/biobb_wf_amber/biobb_wf_amber/notebooks/md_setup/sandbox_39c26716-b87d-4cf7-acb5-69d59aa5e666/sander.free.netcdf 1 -1 1]\n",
      "\tReading '/Users/gbayarri/biobb_wf_amber/biobb_wf_amber/notebooks/md_setup/sandbox_39c26716-b87d-4cf7-acb5-69d59aa5e666/sander.free.netcdf' as Amber NetCDF\n",
      "  [center !@H*,1H*,2H*,3H* origin]\n",
      "    CENTER: Centering coordinates using geometric center of atoms in mask (!@H*,1H*,2H*,3H*) to\n",
      "\tcoordinate origin.\n",
      "  [autoimage]\n",
      "    AUTOIMAGE: To box center based on center of mass, anchor is first molecule.\n",
      "  [rms first !@H*,1H*,2H*,3H*]\n",
      "    RMSD: (!@H*,1H*,2H*,3H*), reference is first frame (!@H*,1H*,2H*,3H*).\n",
      "\tBest-fit RMSD will be calculated, coords will be rotated and translated.\n",
      "  [strip :WAT,HOH,SOL,TIP3,TP3,SOD,CLA,Na+,Cl-,NA,CL,K+,K]\n",
      "    STRIP: Stripping atoms in mask [:WAT,HOH,SOL,TIP3,TP3,SOD,CLA,Na+,Cl-,NA,CL,K+,K]\n",
      "  [strip !@C,CA,N,O,C3',O3',C4',C5',O5',P]\n",
      "    STRIP: Stripping atoms in mask [!@C,CA,N,O,C3',O3',C4',C5',O5',P]\n",
      "  [radgyr time 1 out /Users/gbayarri/biobb_wf_amber/biobb_wf_amber/notebooks/md_setup/sandbox_39c26716-b87d-4cf7-acb5-69d59aa5e666/1aki_rgyr.dat]\n",
      "    RADGYR: Calculating for atoms in mask *.\n",
      "---------- RUN BEGIN -------------------------------------------------\n",
      "\n",
      "PARAMETER FILES (1 total):\n",
      " 0: structure.ions.parmtop, 18019 atoms, 5506 res, box: Truncated octahedron, 5378 mol, 5341 solvent\n",
      "\n",
      "INPUT TRAJECTORIES (1 total):\n",
      " 0: 'sander.free.netcdf' is a NetCDF (NetCDF3) AMBER trajectory with coordinates, time, box, Parm structure.ions.parmtop (Truncated octahedron box) (reading 5 of 5)\n",
      "  Coordinate processing will occur on 5 frames.\n",
      "\n",
      "BEGIN TRAJECTORY PROCESSING:\n",
      ".....................................................\n",
      "ACTION SETUP FOR PARM 'structure.ions.parmtop' (6 actions):\n",
      "  0: [center !@H*,1H*,2H*,3H* origin]\n",
      "\tMask [!@H*,1H*,2H*,3H*] corresponds to 6378 atoms.\n",
      "  1: [autoimage]\n",
      "\tOriginal box is truncated octahedron, turning on 'familiar'.\n",
      "\tUsing first molecule as anchor.\n",
      "\t5377 molecules are mobile.\n",
      "  2: [rms first !@H*,1H*,2H*,3H*]\n",
      "\tTarget mask: [!@H*,1H*,2H*,3H*](6378)\n",
      "\tReference topology: structure.ions.parmtop\n",
      "\tReference mask: [!@H*,1H*,2H*,3H*](6378)\n",
      "  3: [strip :WAT,HOH,SOL,TIP3,TP3,SOD,CLA,Na+,Cl-,NA,CL,K+,K]\n",
      "\tStripping 16059 atoms.\n",
      "\tStripped topology: 1960 atoms, 129 res, box: Truncated octahedron, 1 mol\n",
      "  4: [strip !@C,CA,N,O,C3',O3',C4',C5',O5',P]\n",
      "\tStripping 1444 atoms.\n",
      "\tStripped topology: 516 atoms, 129 res, box: Truncated octahedron, 1 mol\n",
      "  5: [radgyr time 1 out /Users/gbayarri/biobb_wf_amber/biobb_wf_amber/notebooks/md_setup/sandbox_39c26716-b87d-4cf7-acb5-69d59aa5e666/1aki_rgyr.dat]\n",
      "\t* (516 atoms).\n",
      "----- sander.free.netcdf (1-5, 1) -----\n",
      " 0% 25% 50% 75% 100% Complete.\n",
      "\n",
      "Read 5 frames and processed 5 frames.\n",
      "TIME: Avg. throughput= 808.5382 frames / second.\n",
      "\n",
      "ACTION OUTPUT:\n",
      "TIME: Analyses took 0.0000 seconds.\n",
      "\n",
      "DATASETS (3 total):\n",
      "\tRMSD_00001 \"RMSD_00001\" (double, rms), size is 5 (0.040 kB)\n",
      "\tRoG_00002 \"RoG_00002\" (double), size is 5 (0.040 kB)\n",
      "\tRoG_00002[Max] \"RoG_00002[Max]\" (double), size is 5 (0.040 kB)\n",
      "    Total data set memory usage is at least 0.120 kB\n",
      "\n",
      "DATAFILES (1 total):\n",
      "  1aki_rgyr.dat (Standard Data File):  RoG_00002 RoG_00002[Max]\n",
      "\n",
      "RUN TIMING:\n",
      "TIME:\t\tInit               : 0.0000 s (  0.33%)\n",
      "TIME:\t\tTrajectory Process : 0.0062 s ( 93.32%)\n",
      "TIME:\t\tAction Post        : 0.0000 s (  0.05%)\n",
      "TIME:\t\tAnalysis           : 0.0000 s (  0.00%)\n",
      "TIME:\t\tData File Write    : 0.0002 s (  3.53%)\n",
      "TIME:\t\tOther              : 0.0002 s (  0.03%)\n",
      "TIME:\tRun Total 0.0066 s\n",
      "---------- RUN END ---------------------------------------------------\n",
      "TIME: Total execution time: 0.1276 seconds.\n",
      "--------------------------------------------------------------------------------\n",
      "To cite CPPTRAJ use:\n",
      "Daniel R. Roe and Thomas E. Cheatham, III, \"PTRAJ and CPPTRAJ: Software for\n",
      "  Processing and Analysis of Molecular Dynamics Trajectory Data\". J. Chem.\n",
      "  Theory Comput., 2013, 9 (7), pp 3084-3095.\n",
      "\n",
      "\n",
      "2025-07-31 16:01:53,650 [MainThread  ] [INFO ]  Removed: ['/Users/gbayarri/biobb_wf_amber/biobb_wf_amber/notebooks/md_setup/sandbox_39c26716-b87d-4cf7-acb5-69d59aa5e666', '20fd01a2-70f0-4a70-8509-3dbd168cea45']\n",
      "2025-07-31 16:01:53,651 [MainThread  ] [INFO ]  \n"
     ]
    },
    {
     "data": {
      "text/plain": [
       "0"
      ]
     },
     "execution_count": 37,
     "metadata": {},
     "output_type": "execute_result"
    }
   ],
   "source": [
    "# cpptraj_rgyr: Computing Radius of Gyration to measure the protein compactness during the free MD simulation \n",
    "\n",
    "# Import module\n",
    "from biobb_analysis.ambertools.cpptraj_rgyr import cpptraj_rgyr\n",
    "\n",
    "# Create prop dict and inputs/outputs\n",
    "output_rgyr = pdbCode+'_rgyr.dat'\n",
    "\n",
    "prop = {\n",
    "    'mask': 'backbone'\n",
    "}\n",
    "\n",
    "# Create and launch bb\n",
    "cpptraj_rgyr(input_top_path=output_ions_top_path,\n",
    "            input_traj_path=output_free_traj_path,\n",
    "            output_cpptraj_path=output_rgyr,\n",
    "            properties=prop)\n"
   ]
  },
  {
   "cell_type": "code",
   "execution_count": 38,
   "metadata": {},
   "outputs": [
    {
     "data": {
      "application/vnd.plotly.v1+json": {
       "config": {
        "plotlyServerURL": "https://plot.ly"
       },
       "data": [
        {
         "mode": "lines",
         "type": "scatter",
         "x": [
          1,
          2,
          3,
          4,
          5
         ],
         "y": [
          13.8194,
          13.9887,
          13.9824,
          13.9416,
          13.9135
         ]
        }
       ],
       "layout": {
        "height": 600,
        "template": {
         "data": {
          "bar": [
           {
            "error_x": {
             "color": "#2a3f5f"
            },
            "error_y": {
             "color": "#2a3f5f"
            },
            "marker": {
             "line": {
              "color": "#E5ECF6",
              "width": 0.5
             },
             "pattern": {
              "fillmode": "overlay",
              "size": 10,
              "solidity": 0.2
             }
            },
            "type": "bar"
           }
          ],
          "barpolar": [
           {
            "marker": {
             "line": {
              "color": "#E5ECF6",
              "width": 0.5
             },
             "pattern": {
              "fillmode": "overlay",
              "size": 10,
              "solidity": 0.2
             }
            },
            "type": "barpolar"
           }
          ],
          "carpet": [
           {
            "aaxis": {
             "endlinecolor": "#2a3f5f",
             "gridcolor": "white",
             "linecolor": "white",
             "minorgridcolor": "white",
             "startlinecolor": "#2a3f5f"
            },
            "baxis": {
             "endlinecolor": "#2a3f5f",
             "gridcolor": "white",
             "linecolor": "white",
             "minorgridcolor": "white",
             "startlinecolor": "#2a3f5f"
            },
            "type": "carpet"
           }
          ],
          "choropleth": [
           {
            "colorbar": {
             "outlinewidth": 0,
             "ticks": ""
            },
            "type": "choropleth"
           }
          ],
          "contour": [
           {
            "colorbar": {
             "outlinewidth": 0,
             "ticks": ""
            },
            "colorscale": [
             [
              0,
              "#0d0887"
             ],
             [
              0.1111111111111111,
              "#46039f"
             ],
             [
              0.2222222222222222,
              "#7201a8"
             ],
             [
              0.3333333333333333,
              "#9c179e"
             ],
             [
              0.4444444444444444,
              "#bd3786"
             ],
             [
              0.5555555555555556,
              "#d8576b"
             ],
             [
              0.6666666666666666,
              "#ed7953"
             ],
             [
              0.7777777777777778,
              "#fb9f3a"
             ],
             [
              0.8888888888888888,
              "#fdca26"
             ],
             [
              1,
              "#f0f921"
             ]
            ],
            "type": "contour"
           }
          ],
          "contourcarpet": [
           {
            "colorbar": {
             "outlinewidth": 0,
             "ticks": ""
            },
            "type": "contourcarpet"
           }
          ],
          "heatmap": [
           {
            "colorbar": {
             "outlinewidth": 0,
             "ticks": ""
            },
            "colorscale": [
             [
              0,
              "#0d0887"
             ],
             [
              0.1111111111111111,
              "#46039f"
             ],
             [
              0.2222222222222222,
              "#7201a8"
             ],
             [
              0.3333333333333333,
              "#9c179e"
             ],
             [
              0.4444444444444444,
              "#bd3786"
             ],
             [
              0.5555555555555556,
              "#d8576b"
             ],
             [
              0.6666666666666666,
              "#ed7953"
             ],
             [
              0.7777777777777778,
              "#fb9f3a"
             ],
             [
              0.8888888888888888,
              "#fdca26"
             ],
             [
              1,
              "#f0f921"
             ]
            ],
            "type": "heatmap"
           }
          ],
          "histogram": [
           {
            "marker": {
             "pattern": {
              "fillmode": "overlay",
              "size": 10,
              "solidity": 0.2
             }
            },
            "type": "histogram"
           }
          ],
          "histogram2d": [
           {
            "colorbar": {
             "outlinewidth": 0,
             "ticks": ""
            },
            "colorscale": [
             [
              0,
              "#0d0887"
             ],
             [
              0.1111111111111111,
              "#46039f"
             ],
             [
              0.2222222222222222,
              "#7201a8"
             ],
             [
              0.3333333333333333,
              "#9c179e"
             ],
             [
              0.4444444444444444,
              "#bd3786"
             ],
             [
              0.5555555555555556,
              "#d8576b"
             ],
             [
              0.6666666666666666,
              "#ed7953"
             ],
             [
              0.7777777777777778,
              "#fb9f3a"
             ],
             [
              0.8888888888888888,
              "#fdca26"
             ],
             [
              1,
              "#f0f921"
             ]
            ],
            "type": "histogram2d"
           }
          ],
          "histogram2dcontour": [
           {
            "colorbar": {
             "outlinewidth": 0,
             "ticks": ""
            },
            "colorscale": [
             [
              0,
              "#0d0887"
             ],
             [
              0.1111111111111111,
              "#46039f"
             ],
             [
              0.2222222222222222,
              "#7201a8"
             ],
             [
              0.3333333333333333,
              "#9c179e"
             ],
             [
              0.4444444444444444,
              "#bd3786"
             ],
             [
              0.5555555555555556,
              "#d8576b"
             ],
             [
              0.6666666666666666,
              "#ed7953"
             ],
             [
              0.7777777777777778,
              "#fb9f3a"
             ],
             [
              0.8888888888888888,
              "#fdca26"
             ],
             [
              1,
              "#f0f921"
             ]
            ],
            "type": "histogram2dcontour"
           }
          ],
          "mesh3d": [
           {
            "colorbar": {
             "outlinewidth": 0,
             "ticks": ""
            },
            "type": "mesh3d"
           }
          ],
          "parcoords": [
           {
            "line": {
             "colorbar": {
              "outlinewidth": 0,
              "ticks": ""
             }
            },
            "type": "parcoords"
           }
          ],
          "pie": [
           {
            "automargin": true,
            "type": "pie"
           }
          ],
          "scatter": [
           {
            "fillpattern": {
             "fillmode": "overlay",
             "size": 10,
             "solidity": 0.2
            },
            "type": "scatter"
           }
          ],
          "scatter3d": [
           {
            "line": {
             "colorbar": {
              "outlinewidth": 0,
              "ticks": ""
             }
            },
            "marker": {
             "colorbar": {
              "outlinewidth": 0,
              "ticks": ""
             }
            },
            "type": "scatter3d"
           }
          ],
          "scattercarpet": [
           {
            "marker": {
             "colorbar": {
              "outlinewidth": 0,
              "ticks": ""
             }
            },
            "type": "scattercarpet"
           }
          ],
          "scattergeo": [
           {
            "marker": {
             "colorbar": {
              "outlinewidth": 0,
              "ticks": ""
             }
            },
            "type": "scattergeo"
           }
          ],
          "scattergl": [
           {
            "marker": {
             "colorbar": {
              "outlinewidth": 0,
              "ticks": ""
             }
            },
            "type": "scattergl"
           }
          ],
          "scattermap": [
           {
            "marker": {
             "colorbar": {
              "outlinewidth": 0,
              "ticks": ""
             }
            },
            "type": "scattermap"
           }
          ],
          "scattermapbox": [
           {
            "marker": {
             "colorbar": {
              "outlinewidth": 0,
              "ticks": ""
             }
            },
            "type": "scattermapbox"
           }
          ],
          "scatterpolar": [
           {
            "marker": {
             "colorbar": {
              "outlinewidth": 0,
              "ticks": ""
             }
            },
            "type": "scatterpolar"
           }
          ],
          "scatterpolargl": [
           {
            "marker": {
             "colorbar": {
              "outlinewidth": 0,
              "ticks": ""
             }
            },
            "type": "scatterpolargl"
           }
          ],
          "scatterternary": [
           {
            "marker": {
             "colorbar": {
              "outlinewidth": 0,
              "ticks": ""
             }
            },
            "type": "scatterternary"
           }
          ],
          "surface": [
           {
            "colorbar": {
             "outlinewidth": 0,
             "ticks": ""
            },
            "colorscale": [
             [
              0,
              "#0d0887"
             ],
             [
              0.1111111111111111,
              "#46039f"
             ],
             [
              0.2222222222222222,
              "#7201a8"
             ],
             [
              0.3333333333333333,
              "#9c179e"
             ],
             [
              0.4444444444444444,
              "#bd3786"
             ],
             [
              0.5555555555555556,
              "#d8576b"
             ],
             [
              0.6666666666666666,
              "#ed7953"
             ],
             [
              0.7777777777777778,
              "#fb9f3a"
             ],
             [
              0.8888888888888888,
              "#fdca26"
             ],
             [
              1,
              "#f0f921"
             ]
            ],
            "type": "surface"
           }
          ],
          "table": [
           {
            "cells": {
             "fill": {
              "color": "#EBF0F8"
             },
             "line": {
              "color": "white"
             }
            },
            "header": {
             "fill": {
              "color": "#C8D4E3"
             },
             "line": {
              "color": "white"
             }
            },
            "type": "table"
           }
          ]
         },
         "layout": {
          "annotationdefaults": {
           "arrowcolor": "#2a3f5f",
           "arrowhead": 0,
           "arrowwidth": 1
          },
          "autotypenumbers": "strict",
          "coloraxis": {
           "colorbar": {
            "outlinewidth": 0,
            "ticks": ""
           }
          },
          "colorscale": {
           "diverging": [
            [
             0,
             "#8e0152"
            ],
            [
             0.1,
             "#c51b7d"
            ],
            [
             0.2,
             "#de77ae"
            ],
            [
             0.3,
             "#f1b6da"
            ],
            [
             0.4,
             "#fde0ef"
            ],
            [
             0.5,
             "#f7f7f7"
            ],
            [
             0.6,
             "#e6f5d0"
            ],
            [
             0.7,
             "#b8e186"
            ],
            [
             0.8,
             "#7fbc41"
            ],
            [
             0.9,
             "#4d9221"
            ],
            [
             1,
             "#276419"
            ]
           ],
           "sequential": [
            [
             0,
             "#0d0887"
            ],
            [
             0.1111111111111111,
             "#46039f"
            ],
            [
             0.2222222222222222,
             "#7201a8"
            ],
            [
             0.3333333333333333,
             "#9c179e"
            ],
            [
             0.4444444444444444,
             "#bd3786"
            ],
            [
             0.5555555555555556,
             "#d8576b"
            ],
            [
             0.6666666666666666,
             "#ed7953"
            ],
            [
             0.7777777777777778,
             "#fb9f3a"
            ],
            [
             0.8888888888888888,
             "#fdca26"
            ],
            [
             1,
             "#f0f921"
            ]
           ],
           "sequentialminus": [
            [
             0,
             "#0d0887"
            ],
            [
             0.1111111111111111,
             "#46039f"
            ],
            [
             0.2222222222222222,
             "#7201a8"
            ],
            [
             0.3333333333333333,
             "#9c179e"
            ],
            [
             0.4444444444444444,
             "#bd3786"
            ],
            [
             0.5555555555555556,
             "#d8576b"
            ],
            [
             0.6666666666666666,
             "#ed7953"
            ],
            [
             0.7777777777777778,
             "#fb9f3a"
            ],
            [
             0.8888888888888888,
             "#fdca26"
            ],
            [
             1,
             "#f0f921"
            ]
           ]
          },
          "colorway": [
           "#636efa",
           "#EF553B",
           "#00cc96",
           "#ab63fa",
           "#FFA15A",
           "#19d3f3",
           "#FF6692",
           "#B6E880",
           "#FF97FF",
           "#FECB52"
          ],
          "font": {
           "color": "#2a3f5f"
          },
          "geo": {
           "bgcolor": "white",
           "lakecolor": "white",
           "landcolor": "#E5ECF6",
           "showlakes": true,
           "showland": true,
           "subunitcolor": "white"
          },
          "hoverlabel": {
           "align": "left"
          },
          "hovermode": "closest",
          "mapbox": {
           "style": "light"
          },
          "paper_bgcolor": "white",
          "plot_bgcolor": "#E5ECF6",
          "polar": {
           "angularaxis": {
            "gridcolor": "white",
            "linecolor": "white",
            "ticks": ""
           },
           "bgcolor": "#E5ECF6",
           "radialaxis": {
            "gridcolor": "white",
            "linecolor": "white",
            "ticks": ""
           }
          },
          "scene": {
           "xaxis": {
            "backgroundcolor": "#E5ECF6",
            "gridcolor": "white",
            "gridwidth": 2,
            "linecolor": "white",
            "showbackground": true,
            "ticks": "",
            "zerolinecolor": "white"
           },
           "yaxis": {
            "backgroundcolor": "#E5ECF6",
            "gridcolor": "white",
            "gridwidth": 2,
            "linecolor": "white",
            "showbackground": true,
            "ticks": "",
            "zerolinecolor": "white"
           },
           "zaxis": {
            "backgroundcolor": "#E5ECF6",
            "gridcolor": "white",
            "gridwidth": 2,
            "linecolor": "white",
            "showbackground": true,
            "ticks": "",
            "zerolinecolor": "white"
           }
          },
          "shapedefaults": {
           "line": {
            "color": "#2a3f5f"
           }
          },
          "ternary": {
           "aaxis": {
            "gridcolor": "white",
            "linecolor": "white",
            "ticks": ""
           },
           "baxis": {
            "gridcolor": "white",
            "linecolor": "white",
            "ticks": ""
           },
           "bgcolor": "#E5ECF6",
           "caxis": {
            "gridcolor": "white",
            "linecolor": "white",
            "ticks": ""
           }
          },
          "title": {
           "x": 0.05
          },
          "xaxis": {
           "automargin": true,
           "gridcolor": "white",
           "linecolor": "white",
           "ticks": "",
           "title": {
            "standoff": 15
           },
           "zerolinecolor": "white",
           "zerolinewidth": 2
          },
          "yaxis": {
           "automargin": true,
           "gridcolor": "white",
           "linecolor": "white",
           "ticks": "",
           "title": {
            "standoff": 15
           },
           "zerolinecolor": "white",
           "zerolinewidth": 2
          }
         }
        },
        "title": {
         "text": "Radius of Gyration"
        },
        "xaxis": {
         "title": {
          "text": "Time (ps)"
         }
        },
        "yaxis": {
         "title": {
          "text": "Rgyr (Angstrom)"
         }
        }
       }
      }
     },
     "metadata": {},
     "output_type": "display_data"
    }
   ],
   "source": [
    "# Read Rgyr data from file \n",
    "import plotly.graph_objs as go\n",
    "\n",
    "with open(output_rgyr, 'r') as rgyr_file:\n",
    "    x, y = zip(*[\n",
    "        (float(line.split()[0]), float(line.split()[1]))\n",
    "        for line in rgyr_file\n",
    "        if not line.startswith((\"#\", \"@\"))\n",
    "        if float(line.split()[1]) < 1000\n",
    "    ])\n",
    "\n",
    "# Create a scatter plot\n",
    "fig = go.Figure(data=go.Scatter(x=x, y=y, mode='lines'))\n",
    "\n",
    "# Update layout\n",
    "fig.update_layout(title=\"Radius of Gyration\",\n",
    "                  xaxis_title=\"Time (ps)\",\n",
    "                  yaxis_title=\"Rgyr (Angstrom)\",\n",
    "                  height=600)\n",
    "\n",
    "# Show the figure (renderer changes for colab and jupyter)\n",
    "rend = 'colab' if 'google.colab' in sys.modules else ''\n",
    "fig.show(renderer=rend)"
   ]
  },
  {
   "cell_type": "markdown",
   "metadata": {},
   "source": [
    "<a id=\"post\"></a>\n",
    "***\n",
    "## Post-processing and Visualizing resulting 3D trajectory\n",
    "Post-processing and Visualizing the **protein system** MD setup **resulting trajectory** using **NGL**\n",
    "- [Step 1](#ppStep1): *Imaging* the resulting trajectory, **stripping out water molecules and ions** and **correcting periodicity issues**.\n",
    "- [Step 2](#ppStep3): Visualizing the *imaged* trajectory using the *dry* structure as a **topology**. \n",
    "***\n",
    "**Building Blocks** used:\n",
    " - [cpptraj_image](https://biobb-analysis.readthedocs.io/en/latest/ambertools.html#module-ambertools.cpptraj_image) from **biobb_analysis.cpptraj.cpptraj_image** \n",
    "***"
   ]
  },
  {
   "cell_type": "markdown",
   "metadata": {},
   "source": [
    "<a id=\"ppStep1\"></a>\n",
    "### Step 1: *Imaging* the resulting trajectory.\n",
    "Stripping out **water molecules and ions** and **correcting periodicity issues**  "
   ]
  },
  {
   "cell_type": "code",
   "execution_count": 39,
   "metadata": {},
   "outputs": [
    {
     "name": "stdout",
     "output_type": "stream",
     "text": [
      "2025-07-31 16:01:53,669 [MainThread  ] [INFO ]  Module: biobb_analysis.ambertools.cpptraj_image Version: 5.1.0\n",
      "2025-07-31 16:01:53,670 [MainThread  ] [INFO ]  /Users/gbayarri/biobb_wf_amber/biobb_wf_amber/notebooks/md_setup/sandbox_07936bf6-5da5-4c61-acd4-d85e1a6afbf3 directory successfully created\n",
      "2025-07-31 16:01:53,672 [MainThread  ] [INFO ]  Copy: structure.ions.parmtop to /Users/gbayarri/biobb_wf_amber/biobb_wf_amber/notebooks/md_setup/sandbox_07936bf6-5da5-4c61-acd4-d85e1a6afbf3\n",
      "2025-07-31 16:01:53,673 [MainThread  ] [INFO ]  Copy: sander.free.netcdf to /Users/gbayarri/biobb_wf_amber/biobb_wf_amber/notebooks/md_setup/sandbox_07936bf6-5da5-4c61-acd4-d85e1a6afbf3\n",
      "2025-07-31 16:01:53,674 [MainThread  ] [INFO ]  cpptraj -i fb59356f-a62e-4d57-a40a-347b435e50b2/instructions.in\n",
      "\n",
      "2025-07-31 16:01:53,845 [MainThread  ] [INFO ]  Executing: cpptraj -i fb59356f-a62e-4d57-a40a-347b435e50b2/instructions.in...\n",
      "2025-07-31 16:01:53,846 [MainThread  ] [INFO ]  Exit code: 0\n",
      "2025-07-31 16:01:53,847 [MainThread  ] [INFO ]  \n",
      "CPPTRAJ: Trajectory Analysis. V6.24.0 (AmberTools)\n",
      "    ___  ___  ___  ___\n",
      "     | \\/ | \\/ | \\/ | \n",
      "    _|_/\\_|_/\\_|_/\\_|_\n",
      "\n",
      "| Date/time: 07/31/25 16:01:53\n",
      "| Available memory: 2.668 GB\n",
      "\n",
      "INPUT: Reading input from 'fb59356f-a62e-4d57-a40a-347b435e50b2/instructions.in'\n",
      "  [parm /Users/gbayarri/biobb_wf_amber/biobb_wf_amber/notebooks/md_setup/sandbox_07936bf6-5da5-4c61-acd4-d85e1a6afbf3/structure.ions.parmtop]\n",
      "\tReading '/Users/gbayarri/biobb_wf_amber/biobb_wf_amber/notebooks/md_setup/sandbox_07936bf6-5da5-4c61-acd4-d85e1a6afbf3/structure.ions.parmtop' as Amber Topology\n",
      "\tRadius Set: modified Bondi radii (mbondi)\n",
      "  [trajin /Users/gbayarri/biobb_wf_amber/biobb_wf_amber/notebooks/md_setup/sandbox_07936bf6-5da5-4c61-acd4-d85e1a6afbf3/sander.free.netcdf 1 -1 1]\n",
      "\tReading '/Users/gbayarri/biobb_wf_amber/biobb_wf_amber/notebooks/md_setup/sandbox_07936bf6-5da5-4c61-acd4-d85e1a6afbf3/sander.free.netcdf' as Amber NetCDF\n",
      "  [center !@H*,1H*,2H*,3H* origin]\n",
      "    CENTER: Centering coordinates using geometric center of atoms in mask (!@H*,1H*,2H*,3H*) to\n",
      "\tcoordinate origin.\n",
      "  [autoimage]\n",
      "    AUTOIMAGE: To box center based on center of mass, anchor is first molecule.\n",
      "  [rms first !@H*,1H*,2H*,3H*]\n",
      "    RMSD: (!@H*,1H*,2H*,3H*), reference is first frame (!@H*,1H*,2H*,3H*).\n",
      "\tBest-fit RMSD will be calculated, coords will be rotated and translated.\n",
      "  [strip :WAT,HOH,SOL,TIP3,TP3,SOD,CLA,Na+,Cl-,NA,CL,K+,K]\n",
      "    STRIP: Stripping atoms in mask [:WAT,HOH,SOL,TIP3,TP3,SOD,CLA,Na+,Cl-,NA,CL,K+,K]\n",
      "  [trajout /Users/gbayarri/biobb_wf_amber/biobb_wf_amber/notebooks/md_setup/sandbox_07936bf6-5da5-4c61-acd4-d85e1a6afbf3/1aki_imaged_traj.trr trr]\n",
      "\tWriting '/Users/gbayarri/biobb_wf_amber/biobb_wf_amber/notebooks/md_setup/sandbox_07936bf6-5da5-4c61-acd4-d85e1a6afbf3/1aki_imaged_traj.trr' as Gromacs TRX\n",
      "---------- RUN BEGIN -------------------------------------------------\n",
      "\n",
      "PARAMETER FILES (1 total):\n",
      " 0: structure.ions.parmtop, 18019 atoms, 5506 res, box: Truncated octahedron, 5378 mol, 5341 solvent\n",
      "\n",
      "INPUT TRAJECTORIES (1 total):\n",
      " 0: 'sander.free.netcdf' is a NetCDF (NetCDF3) AMBER trajectory with coordinates, time, box, Parm structure.ions.parmtop (Truncated octahedron box) (reading 5 of 5)\n",
      "  Coordinate processing will occur on 5 frames.\n",
      "\n",
      "OUTPUT TRAJECTORIES (1 total):\n",
      "  '1aki_imaged_traj.trr' (5 frames) is a GROMACS TRR file, big-endian, single precision\n",
      "\n",
      "BEGIN TRAJECTORY PROCESSING:\n",
      ".....................................................\n",
      "ACTION SETUP FOR PARM 'structure.ions.parmtop' (4 actions):\n",
      "  0: [center !@H*,1H*,2H*,3H* origin]\n",
      "\tMask [!@H*,1H*,2H*,3H*] corresponds to 6378 atoms.\n",
      "  1: [autoimage]\n",
      "\tOriginal box is truncated octahedron, turning on 'familiar'.\n",
      "\tUsing first molecule as anchor.\n",
      "\t5377 molecules are mobile.\n",
      "  2: [rms first !@H*,1H*,2H*,3H*]\n",
      "\tTarget mask: [!@H*,1H*,2H*,3H*](6378)\n",
      "\tReference topology: structure.ions.parmtop\n",
      "\tReference mask: [!@H*,1H*,2H*,3H*](6378)\n",
      "  3: [strip :WAT,HOH,SOL,TIP3,TP3,SOD,CLA,Na+,Cl-,NA,CL,K+,K]\n",
      "\tStripping 16059 atoms.\n",
      "\tStripped topology: 1960 atoms, 129 res, box: Truncated octahedron, 1 mol\n",
      ".....................................................\n",
      "ACTIVE OUTPUT TRAJECTORIES (1):\n",
      "  /Users/gbayarri/biobb_wf_amber/biobb_wf_amber/notebooks/md_setup/sandbox_07936bf6-5da5-4c61-acd4-d85e1a6afbf3/1aki_imaged_traj.trr (coordinates, time, box)\n",
      "----- sander.free.netcdf (1-5, 1) -----\n",
      " 0% 25% 50% 75% 100% Complete.\n",
      "\n",
      "Read 5 frames and processed 5 frames.\n",
      "TIME: Avg. throughput= 721.9174 frames / second.\n",
      "\n",
      "ACTION OUTPUT:\n",
      "TIME: Analyses took 0.0000 seconds.\n",
      "\n",
      "DATASETS (1 total):\n",
      "\tRMSD_00001 \"RMSD_00001\" (double, rms), size is 5 (0.040 kB)\n",
      "    Total data set memory usage is at least 0.040 kB\n",
      "\n",
      "RUN TIMING:\n",
      "TIME:\t\tInit               : 0.0000 s (  0.35%)\n",
      "TIME:\t\tTrajectory Process : 0.0069 s ( 95.98%)\n",
      "TIME:\t\tAction Post        : 0.0000 s (  0.01%)\n",
      "TIME:\t\tAnalysis           : 0.0000 s (  0.00%)\n",
      "TIME:\t\tData File Write    : 0.0000 s (  0.18%)\n",
      "TIME:\t\tOther              : 0.0003 s (  0.03%)\n",
      "TIME:\tRun Total 0.0072 s\n",
      "---------- RUN END ---------------------------------------------------\n",
      "TIME: Total execution time: 0.1135 seconds.\n",
      "--------------------------------------------------------------------------------\n",
      "To cite CPPTRAJ use:\n",
      "Daniel R. Roe and Thomas E. Cheatham, III, \"PTRAJ and CPPTRAJ: Software for\n",
      "  Processing and Analysis of Molecular Dynamics Trajectory Data\". J. Chem.\n",
      "  Theory Comput., 2013, 9 (7), pp 3084-3095.\n",
      "\n",
      "\n",
      "2025-07-31 16:01:53,849 [MainThread  ] [INFO ]  Removed: ['/Users/gbayarri/biobb_wf_amber/biobb_wf_amber/notebooks/md_setup/sandbox_07936bf6-5da5-4c61-acd4-d85e1a6afbf3', 'fb59356f-a62e-4d57-a40a-347b435e50b2']\n",
      "2025-07-31 16:01:53,850 [MainThread  ] [INFO ]  \n"
     ]
    },
    {
     "data": {
      "text/plain": [
       "0"
      ]
     },
     "execution_count": 39,
     "metadata": {},
     "output_type": "execute_result"
    }
   ],
   "source": [
    "# cpptraj_image: \"Imaging\" the resulting trajectory\n",
    "#                Removing water molecules and ions from the resulting structure\n",
    "\n",
    "# Import module\n",
    "from biobb_analysis.ambertools.cpptraj_image import cpptraj_image\n",
    "\n",
    "# Create prop dict and inputs/outputs\n",
    "output_imaged_traj = pdbCode+'_imaged_traj.trr'\n",
    "\n",
    "prop = {\n",
    "    'mask': 'solute',\n",
    "    'format': 'trr'\n",
    "}\n",
    "\n",
    "# Create and launch bb\n",
    "cpptraj_image(input_top_path=output_ions_top_path,\n",
    "            input_traj_path=output_free_traj_path,\n",
    "            output_cpptraj_path=output_imaged_traj,\n",
    "            properties=prop)"
   ]
  },
  {
   "cell_type": "markdown",
   "metadata": {},
   "source": [
    "<a id=\"ppStep2\"></a>\n",
    "### Step 2: Visualizing the generated dehydrated trajectory.\n",
    "Using the **imaged trajectory** (output of the [Post-processing step 1](#ppStep1)) with the **dry structure** (output of the [Structure energy minimization - step 5](#minv)) as a topology."
   ]
  },
  {
   "cell_type": "code",
   "execution_count": 41,
   "metadata": {},
   "outputs": [
    {
     "data": {
      "application/vnd.jupyter.widget-view+json": {
       "model_id": "77b90e853ae949c9830eabaf71dfe273",
       "version_major": 2,
       "version_minor": 0
      },
      "text/plain": [
       "NGLWidget(max_frame=4)"
      ]
     },
     "metadata": {},
     "output_type": "display_data"
    }
   ],
   "source": [
    "# Show trajectory\n",
    "view = nglview.show_simpletraj(nglview.SimpletrajTrajectory(output_imaged_traj, output_ambpdb_path), gui=True)\n",
    "view"
   ]
  },
  {
   "cell_type": "markdown",
   "metadata": {
    "variables": {
     "output_free_rst_path": "<p><strong>NameError</strong>: name &#39;output_free_rst_path&#39; is not defined</p>\n",
     "output_free_traj_path": "<p><strong>NameError</strong>: name &#39;output_free_traj_path&#39; is not defined</p>\n",
     "output_ions_pdb_path": "<p><strong>NameError</strong>: name &#39;output_ions_pdb_path&#39; is not defined</p>\n",
     "output_ions_top_path": "<p><strong>NameError</strong>: name &#39;output_ions_top_path&#39; is not defined</p>\n",
     "output_rgyr": "<p><strong>NameError</strong>: name &#39;output_rgyr&#39; is not defined</p>\n",
     "output_rms_exp": "<p><strong>NameError</strong>: name &#39;output_rms_exp&#39; is not defined</p>\n",
     "output_rms_first": "<p><strong>NameError</strong>: name &#39;output_rms_first&#39; is not defined</p>\n"
    }
   },
   "source": [
    "<a id=\"output\"></a>\n",
    "## Output files\n",
    "\n",
    "Important **Output files** generated:\n",
    " - **output_ions_pdb_path** (structure.ions.pdb): **System structure** of the MD setup protocol. Structure generated during the MD setup and used in the MD simulation. With hydrogen atoms, solvent box and counterions.  \n",
    " - **output_free_traj_path** (sander.free.netcdf): **Final trajectory** of the MD setup protocol.\n",
    " - **output_free_rst_path** (sander.free.rst): **Final checkpoint file**, with information about the state of the simulation. It can be used to **restart** or **continue** a MD simulation.\n",
    " - **output_ions_top_path** (structure.ions.parmtop): **Final topology** of the MD system in AMBER Parm7 format.\n",
    "\n",
    "**Analysis** (MD setup check) output files generated:\n",
    " - **output_rms_first** (1aki_rms_first.dat): **Root Mean Square deviation (RMSd)** against **minimized and equilibrated structure** of the final **free MD run step**.\n",
    " - **output_rms_exp** (1aki_rms_exp.dat): **Root Mean Square deviation (RMSd)** against **experimental structure** of the final **free MD run step**.\n",
    " - **output_rgyr** (1aki_rgyr.dat): **Radius of Gyration** of the final **free MD run step** of the **setup pipeline**.\n",
    " "
   ]
  },
  {
   "cell_type": "markdown",
   "metadata": {},
   "source": [
    "***\n",
    "<a id=\"questions\"></a>\n",
    "\n",
    "## Questions & Comments\n",
    "\n",
    "Questions, issues, suggestions and comments are really welcome!\n",
    "\n",
    "* GitHub issues:\n",
    "    * [https://github.com/bioexcel/biobb](https://github.com/bioexcel/biobb)\n",
    "\n",
    "* BioExcel forum:\n",
    "    * [https://ask.bioexcel.eu/c/BioExcel-Building-Blocks-library](https://ask.bioexcel.eu/c/BioExcel-Building-Blocks-library)\n"
   ]
  }
 ],
 "metadata": {
  "kernelspec": {
   "display_name": "Python 3 (ipykernel)",
   "language": "python",
   "name": "python3"
  },
  "language_info": {
   "codemirror_mode": {
    "name": "ipython",
    "version": 3
   },
   "file_extension": ".py",
   "mimetype": "text/x-python",
   "name": "python",
   "nbconvert_exporter": "python",
   "pygments_lexer": "ipython3",
   "version": "3.12.11"
  },
  "vscode": {
   "interpreter": {
    "hash": "31f2aee4e71d21fbe5cf8b01ff0e069b9275f58929596ceb00d14d90e3e16cd6"
   }
  }
 },
 "nbformat": 4,
 "nbformat_minor": 4
}
